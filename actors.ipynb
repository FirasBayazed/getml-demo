{
 "cells": [
  {
   "cell_type": "markdown",
   "metadata": {},
   "source": [
    "# Actors\n",
    "\n",
    "\n",
    "In this tutorial, we demonstrate how getML can be applied in an e-commerce context. Using a dataset of about 400,000 orders, our goal is to predict whether an order will be cancelled.\n",
    "\n",
    "We also show that we can significantly improve our results by using getML's built-in hyperparameter tuning routines.\n",
    "\n",
    "Summary:\n",
    "\n",
    "- Prediction type: __Classification model__\n",
    "- Domain: __E-commerce__\n",
    "- Prediction target: __The gender of an actor__ \n",
    "- Population size: __817718__\n",
    "\n",
    "_Author: Dr. Patrick Urbanke_"
   ]
  },
  {
   "cell_type": "markdown",
   "metadata": {},
   "source": [
    " "
   ]
  },
  {
   "cell_type": "markdown",
   "metadata": {},
   "source": [
    "# Background\n",
    "\n",
    "The data set contains about 400,000 orders from a British online retailer. Each order consists of a product that has been ordered and a corresponding quantity. Several orders can be summarized onto a single invoice. The goal is to predict whether an order will be cancelled.\n",
    "\n",
    "Because the company mainly sells to other businesses, the cancellation rate is relatively low, namely 1.83%.\n",
    "\n",
    "The data set has been originally collected for this study:\n",
    "\n",
    "Daqing Chen, Sai Liang Sain, and Kun Guo, Data mining for the online retail industry: A case study of RFM model-based customer segmentation using data mining, Journal of Database Marketing and Customer Strategy Management, Vol. 19, No. 3, pp. 197-208, 2012 (Published online before print: 27 August 2012. doi: 10.1057/dbm.2012.17).\n",
    "\n",
    "It has been downloaded from the UCI Machine Learning Repository:\n",
    "\n",
    "Dua, D. and Graff, C. (2019). UCI Machine Learning Repository [http://archive.ics.uci.edu/ml]. Irvine, CA: University of California, School of Information and Computer Science."
   ]
  },
  {
   "cell_type": "markdown",
   "metadata": {},
   "source": [
    " "
   ]
  },
  {
   "cell_type": "markdown",
   "metadata": {},
   "source": [
    "### A web frontend for getML\n",
    "\n",
    "The getML monitor is a frontend built to support your work with getML. The getML monitor displays information such as the imported data frames, trained pipelines and allows easy data and feature exploration. You can launch the getML monitor [here](http://localhost:1709)."
   ]
  },
  {
   "cell_type": "markdown",
   "metadata": {},
   "source": [
    " "
   ]
  },
  {
   "cell_type": "markdown",
   "metadata": {},
   "source": [
    "### Where is this running?\n",
    "\n",
    "Your getML live session is running inside a docker container on [mybinder.org](https://mybinder.org/), a service built by the Jupyter community and funded by Google Cloud, OVH, GESIS Notebooks and the Turing Institute. As it is a free service, this session will shut down after 10 minutes of inactivity."
   ]
  },
  {
   "cell_type": "markdown",
   "metadata": {},
   "source": [
    " "
   ]
  },
  {
   "cell_type": "markdown",
   "metadata": {},
   "source": [
    "# Analysis"
   ]
  },
  {
   "cell_type": "markdown",
   "metadata": {},
   "source": [
    "Let's get started with the analysis and set up your session:"
   ]
  },
  {
   "cell_type": "code",
   "execution_count": 1,
   "metadata": {},
   "outputs": [
    {
     "name": "stdout",
     "output_type": "stream",
     "text": [
      "\n",
      "Connected to project 'actors'\n"
     ]
    }
   ],
   "source": [
    "import copy\n",
    "import os\n",
    "from urllib import request\n",
    "\n",
    "import numpy as np\n",
    "import pandas as pd\n",
    "from IPython.display import Image\n",
    "import matplotlib.pyplot as plt\n",
    "plt.style.use('seaborn')\n",
    "%matplotlib inline  \n",
    "\n",
    "from sklearn.feature_extraction.text import CountVectorizer\n",
    "\n",
    "import getml\n",
    "\n",
    "getml.engine.set_project('actors')"
   ]
  },
  {
   "cell_type": "markdown",
   "metadata": {},
   "source": [
    "Tuning is effective at improving our results, but it takes quite long, so we want to make it optional:"
   ]
  },
  {
   "cell_type": "markdown",
   "metadata": {},
   "source": [
    " "
   ]
  },
  {
   "cell_type": "markdown",
   "metadata": {},
   "source": [
    "## 1. Loading data"
   ]
  },
  {
   "cell_type": "markdown",
   "metadata": {},
   "source": [
    "### 1.1 Download from source\n",
    "\n",
    "We begin by downloading the data from the source file:"
   ]
  },
  {
   "cell_type": "code",
   "execution_count": 2,
   "metadata": {},
   "outputs": [
    {
     "data": {
      "text/plain": [
       "Connection(conn_id='default', dbname='imdb_ijs', dialect='mysql', \n",
       "           host='relational.fit.cvut.cz', port=3306)"
      ]
     },
     "execution_count": 2,
     "metadata": {},
     "output_type": "execute_result"
    }
   ],
   "source": [
    "conn = getml.database.connect_mariadb(\n",
    "    host=\"relational.fit.cvut.cz\",\n",
    "    dbname=\"imdb_ijs\",\n",
    "    port=3306,\n",
    "    user=\"guest\",\n",
    "    password=\"relational\"\n",
    ")\n",
    "\n",
    "conn"
   ]
  },
  {
   "cell_type": "code",
   "execution_count": 3,
   "metadata": {},
   "outputs": [],
   "source": [
    "def load_if_needed(name):\n",
    "    \"\"\"\n",
    "    Loads the data from the relational learning\n",
    "    repository, if the data frame has not already\n",
    "    been loaded.\n",
    "    \"\"\"\n",
    "    if not getml.data.exists(name):\n",
    "        data_frame = getml.data.DataFrame.from_db(\n",
    "            name=name,\n",
    "            table_name=name,\n",
    "            conn=conn\n",
    "        )\n",
    "        data_frame.save()\n",
    "    else:\n",
    "        data_frame = getml.data.load_data_frame(name)\n",
    "    return data_frame"
   ]
  },
  {
   "cell_type": "code",
   "execution_count": 4,
   "metadata": {},
   "outputs": [],
   "source": [
    "actors = load_if_needed(\"actors\")\n",
    "roles = load_if_needed(\"roles\")\n",
    "movies = load_if_needed(\"movies\")\n",
    "movies_genres = load_if_needed(\"movies_genres\")"
   ]
  },
  {
   "cell_type": "code",
   "execution_count": 5,
   "metadata": {},
   "outputs": [
    {
     "data": {
      "text/html": [
       "<table class=\"dataframe\"><thead><tr style=\"border-bottom:1pt solid LightGray;\"><th style=\"text-align: left;border-right:1pt solid LightGray;\">Name  </th><th style=\"text-align: right;\">id</th><th style=\"text-align: right;\">rownum</th><th style=\"text-align: right;\">target</th><th style=\"text-align: right;\">first_name</th><th style=\"text-align: right;\">last_name</th><th style=\"text-align: right;\">gender</th></tr><tr><th style=\"text-align: left;border-right:1pt solid LightGray;\">Role  </th><td style=\"text-align: right;\"><i>join_key</i></td><td style=\"text-align: right;\"><i>join_key</i></td><td style=\"text-align: right;\"><i>target</i></td><td style=\"text-align: right;\"><i>unused_string</i></td><td style=\"text-align: right;\"><i>unused_string</i></td><td style=\"text-align: right;\"><i>unused_string</i></td></tr></thead><tbody><tr style=\"border-top:1pt solid LightGray;\"><td style=\"border-right:1pt solid LightGray;\"><b>0</b></td><td>2</td><td>0</td><td>0</td><td>Michael</td><td>'babeepower' Viera</td><td>M</td></tr><tr><td style=\"border-right:1pt solid LightGray;\"><b>1</b></td><td>3</td><td>1</td><td>0</td><td>Eloy</td><td>'Chincheta'</td><td>M</td></tr><tr><td style=\"border-right:1pt solid LightGray;\"><b>2</b></td><td>4</td><td>2</td><td>0</td><td>Dieguito</td><td>'El Cigala'</td><td>M</td></tr><tr><td style=\"border-right:1pt solid LightGray;\"><b>3</b></td><td>5</td><td>3</td><td>0</td><td>Antonio</td><td>'El de Chipiona'</td><td>M</td></tr><tr><td style=\"border-right:1pt solid LightGray;\"><b>4</b></td><td>6</td><td>4</td><td>0</td><td>José</td><td>'El Francés'</td><td>M</td></tr><tr><td style=\"border-right:1pt solid LightGray;\"><b> </b></td><td>...</td><td>...</td><td>...</td><td>...</td><td>...</td><td>...</td></tr><tr><td style=\"border-right:1pt solid LightGray;\"><b>817713</b></td><td>845461</td><td>817713</td><td>1</td><td>Herdís</td><td>Þorvaldsdóttir</td><td>F</td></tr><tr><td style=\"border-right:1pt solid LightGray;\"><b>817714</b></td><td>845462</td><td>817714</td><td>1</td><td>Katla Margrét</td><td>Þorvaldsdóttir</td><td>F</td></tr><tr><td style=\"border-right:1pt solid LightGray;\"><b>817715</b></td><td>845463</td><td>817715</td><td>1</td><td>Lilja Nótt</td><td>Þórarinsdóttir</td><td>F</td></tr><tr><td style=\"border-right:1pt solid LightGray;\"><b>817716</b></td><td>845464</td><td>817716</td><td>1</td><td>Hólmfríður</td><td>Þórhallsdóttir</td><td>F</td></tr><tr><td style=\"border-right:1pt solid LightGray;\"><b>817717</b></td><td>845465</td><td>817717</td><td>1</td><td>Theódóra</td><td>Þórðardóttir</td><td>F</td></tr></tbody></table><br>817718 rows x 6 columns<br>memory usage: 46.77 MB<br>name: actors<br>type: getml.data.DataFrame<br>url: <a href=\"http://localhost:1709/#/getdataframe/actors/actors/\" target=\"_blank\">http://localhost:1709/#/getdataframe/actors/actors/</a>"
      ],
      "text/plain": [
       "Name           id     rownum   target      first_name            last_name          gender   \n",
       "Role     join_key   join_key   target   unused_string        unused_string   unused_string   \n",
       "0        2          0          0        Michael         'babeepower' Viera   M               \n",
       "1        3          1          0        Eloy            'Chincheta'          M               \n",
       "2        4          2          0        Dieguito        'El Cigala'          M               \n",
       "3        5          3          0        Antonio         'El de Chipiona'     M               \n",
       "4        6          4          0        José            'El Francés'         M               \n",
       "         ...        ...        ...      ...             ...                  ...             \n",
       "817713   845461     817713     1        Herdís          Þorvaldsdóttir       F               \n",
       "817714   845462     817714     1        Katla Margrét   Þorvaldsdóttir       F               \n",
       "817715   845463     817715     1        Lilja Nótt      Þórarinsdóttir       F               \n",
       "817716   845464     817716     1        Hólmfríður      Þórhallsdóttir       F               \n",
       "817717   845465     817717     1        Theódóra        Þórðardóttir         F               \n",
       "\n",
       "817718 rows x 6 columns\n",
       "memory usage: 46.77 MB\n",
       "name: actors\n",
       "type: getml.data.DataFrame\n",
       "url: http://localhost:1709/#/getdataframe/actors/actors/"
      ]
     },
     "execution_count": 5,
     "metadata": {},
     "output_type": "execute_result"
    }
   ],
   "source": [
    "actors"
   ]
  },
  {
   "cell_type": "code",
   "execution_count": 6,
   "metadata": {},
   "outputs": [
    {
     "data": {
      "text/html": [
       "<table class=\"dataframe\"><thead><tr style=\"border-bottom:1pt solid LightGray;\"><th style=\"text-align: left;border-right:1pt solid LightGray;\">Name   </th><th style=\"text-align: right;\">actor_id</th><th style=\"text-align: right;\">movie_id</th><th style=\"text-align: right;\">rownum</th><th style=\"text-align: right;\">role</th></tr><tr><th style=\"text-align: left;border-right:1pt solid LightGray;\">Role   </th><td style=\"text-align: right;\"><i>join_key</i></td><td style=\"text-align: right;\"><i>join_key</i></td><td style=\"text-align: right;\"><i>join_key</i></td><td style=\"text-align: right;\"><i>unused_string</i></td></tr></thead><tbody><tr style=\"border-top:1pt solid LightGray;\"><td style=\"border-right:1pt solid LightGray;\"><b>0</b></td><td>2</td><td>280088</td><td>0</td><td>Stevie</td></tr><tr><td style=\"border-right:1pt solid LightGray;\"><b>1</b></td><td>2</td><td>396232</td><td>1</td><td>Various/lyricist</td></tr><tr><td style=\"border-right:1pt solid LightGray;\"><b>2</b></td><td>3</td><td>376687</td><td>2</td><td>Gitano 1</td></tr><tr><td style=\"border-right:1pt solid LightGray;\"><b>3</b></td><td>4</td><td>336265</td><td>3</td><td>El Cigala</td></tr><tr><td style=\"border-right:1pt solid LightGray;\"><b>4</b></td><td>5</td><td>135644</td><td>4</td><td>Himself</td></tr><tr><td style=\"border-right:1pt solid LightGray;\"><b> </b></td><td>...</td><td>...</td><td>...</td><td>...</td></tr><tr><td style=\"border-right:1pt solid LightGray;\"><b>3431961</b></td><td>845461</td><td>137097</td><td>3431961</td><td>Kata</td></tr><tr><td style=\"border-right:1pt solid LightGray;\"><b>3431962</b></td><td>845462</td><td>208838</td><td>3431962</td><td>Magga</td></tr><tr><td style=\"border-right:1pt solid LightGray;\"><b>3431963</b></td><td>845463</td><td>870</td><td>3431963</td><td>Gunna</td></tr><tr><td style=\"border-right:1pt solid LightGray;\"><b>3431964</b></td><td>845464</td><td>378123</td><td>3431964</td><td>Gudrun</td></tr><tr><td style=\"border-right:1pt solid LightGray;\"><b>3431965</b></td><td>845465</td><td>378123</td><td>3431965</td><td></td></tr></tbody></table><br>3431966 rows x 4 columns<br>memory usage: 101.68 MB<br>name: roles<br>type: getml.data.DataFrame<br>url: <a href=\"http://localhost:1709/#/getdataframe/actors/roles/\" target=\"_blank\">http://localhost:1709/#/getdataframe/actors/roles/</a>"
      ],
      "text/plain": [
       "Name      actor_id   movie_id     rownum               role   \n",
       "Role      join_key   join_key   join_key      unused_string   \n",
       "0         2          280088     0          Stevie             \n",
       "1         2          396232     1          Various/lyricist   \n",
       "2         3          376687     2          Gitano 1           \n",
       "3         4          336265     3          El Cigala          \n",
       "4         5          135644     4          Himself            \n",
       "          ...        ...        ...        ...                \n",
       "3431961   845461     137097     3431961    Kata               \n",
       "3431962   845462     208838     3431962    Magga              \n",
       "3431963   845463     870        3431963    Gunna              \n",
       "3431964   845464     378123     3431964    Gudrun             \n",
       "3431965   845465     378123     3431965                       \n",
       "\n",
       "3431966 rows x 4 columns\n",
       "memory usage: 101.68 MB\n",
       "name: roles\n",
       "type: getml.data.DataFrame\n",
       "url: http://localhost:1709/#/getdataframe/actors/roles/"
      ]
     },
     "execution_count": 6,
     "metadata": {},
     "output_type": "execute_result"
    }
   ],
   "source": [
    "roles"
   ]
  },
  {
   "cell_type": "code",
   "execution_count": 7,
   "metadata": {},
   "outputs": [
    {
     "data": {
      "text/html": [
       "<table class=\"dataframe\"><thead><tr style=\"border-bottom:1pt solid LightGray;\"><th style=\"text-align: left;border-right:1pt solid LightGray;\">Name  </th><th style=\"text-align: right;\">id</th><th style=\"text-align: right;\">year</th><th style=\"text-align: right;\">rank</th><th style=\"text-align: right;\">name</th></tr><tr><th style=\"text-align: left;border-right:1pt solid LightGray;\">Role  </th><td style=\"text-align: right;\"><i>join_key</i></td><td style=\"text-align: right;\"><i>numerical</i></td><td style=\"text-align: right;\"><i>numerical</i></td><td style=\"text-align: right;\"><i>unused_string</i></td></tr></thead><tbody><tr style=\"border-top:1pt solid LightGray;\"><td style=\"border-right:1pt solid LightGray;\"><b>0</b></td><td>0</td><td>2002</td><td>nan</td><td>#28</td></tr><tr><td style=\"border-right:1pt solid LightGray;\"><b>1</b></td><td>1</td><td>2000</td><td>nan</td><td>#7 Train: An Immigrant Journey, The</td></tr><tr><td style=\"border-right:1pt solid LightGray;\"><b>2</b></td><td>2</td><td>1971</td><td>6.4</td><td>$</td></tr><tr><td style=\"border-right:1pt solid LightGray;\"><b>3</b></td><td>3</td><td>1913</td><td>nan</td><td>$1,000 Reward</td></tr><tr><td style=\"border-right:1pt solid LightGray;\"><b>4</b></td><td>4</td><td>1915</td><td>nan</td><td>$1,000 Reward</td></tr><tr><td style=\"border-right:1pt solid LightGray;\"><b> </b></td><td>...</td><td>...</td><td>...</td><td>...</td></tr><tr><td style=\"border-right:1pt solid LightGray;\"><b>388264</b></td><td>412316</td><td>1991</td><td>nan</td><td>\"zem blch krlu\"</td></tr><tr><td style=\"border-right:1pt solid LightGray;\"><b>388265</b></td><td>412317</td><td>1995</td><td>nan</td><td>\"rgammk\"</td></tr><tr><td style=\"border-right:1pt solid LightGray;\"><b>388266</b></td><td>412318</td><td>2002</td><td>nan</td><td>\"zgnm Leyla\"</td></tr><tr><td style=\"border-right:1pt solid LightGray;\"><b>388267</b></td><td>412319</td><td>1983</td><td>nan</td><td>\" Istanbul\"</td></tr><tr><td style=\"border-right:1pt solid LightGray;\"><b>388268</b></td><td>412320</td><td>1958</td><td>nan</td><td>\"sterreich\"</td></tr></tbody></table><br>388269 rows x 4 columns<br>memory usage: 18.37 MB<br>name: movies<br>type: getml.data.DataFrame<br>url: <a href=\"http://localhost:1709/#/getdataframe/actors/movies/\" target=\"_blank\">http://localhost:1709/#/getdataframe/actors/movies/</a>"
      ],
      "text/plain": [
       "Name           id        year        rank                                  name   \n",
       "Role     join_key   numerical   numerical                         unused_string   \n",
       "0        0          2002        nan         #28                                   \n",
       "1        1          2000        nan         #7 Train: An Immigrant Journey, The   \n",
       "2        2          1971        6.4         $                                     \n",
       "3        3          1913        nan         $1,000 Reward                         \n",
       "4        4          1915        nan         $1,000 Reward                         \n",
       "         ...        ...         ...         ...                                   \n",
       "388264   412316     1991        nan         \"zem blch krlu\"                       \n",
       "388265   412317     1995        nan         \"rgammk\"                              \n",
       "388266   412318     2002        nan         \"zgnm Leyla\"                          \n",
       "388267   412319     1983        nan         \" Istanbul\"                           \n",
       "388268   412320     1958        nan         \"sterreich\"                           \n",
       "\n",
       "388269 rows x 4 columns\n",
       "memory usage: 18.37 MB\n",
       "name: movies\n",
       "type: getml.data.DataFrame\n",
       "url: http://localhost:1709/#/getdataframe/actors/movies/"
      ]
     },
     "execution_count": 7,
     "metadata": {},
     "output_type": "execute_result"
    }
   ],
   "source": [
    "movies"
   ]
  },
  {
   "cell_type": "code",
   "execution_count": 8,
   "metadata": {},
   "outputs": [
    {
     "data": {
      "text/html": [
       "<table class=\"dataframe\"><thead><tr style=\"border-bottom:1pt solid LightGray;\"><th style=\"text-align: left;border-right:1pt solid LightGray;\">Name  </th><th style=\"text-align: right;\">movie_id</th><th style=\"text-align: right;\">genre</th></tr><tr><th style=\"text-align: left;border-right:1pt solid LightGray;\">Role  </th><td style=\"text-align: right;\"><i>join_key</i></td><td style=\"text-align: right;\"><i>categorical</i></td></tr></thead><tbody><tr style=\"border-top:1pt solid LightGray;\"><td style=\"border-right:1pt solid LightGray;\"><b>0</b></td><td>1</td><td>Documentary</td></tr><tr><td style=\"border-right:1pt solid LightGray;\"><b>1</b></td><td>1</td><td>Short</td></tr><tr><td style=\"border-right:1pt solid LightGray;\"><b>2</b></td><td>2</td><td>Comedy</td></tr><tr><td style=\"border-right:1pt solid LightGray;\"><b>3</b></td><td>2</td><td>Crime</td></tr><tr><td style=\"border-right:1pt solid LightGray;\"><b>4</b></td><td>5</td><td>Western</td></tr><tr><td style=\"border-right:1pt solid LightGray;\"><b> </b></td><td>...</td><td>...</td></tr><tr><td style=\"border-right:1pt solid LightGray;\"><b>395114</b></td><td>378612</td><td>Adventure</td></tr><tr><td style=\"border-right:1pt solid LightGray;\"><b>395115</b></td><td>378612</td><td>Drama</td></tr><tr><td style=\"border-right:1pt solid LightGray;\"><b>395116</b></td><td>378613</td><td>Comedy</td></tr><tr><td style=\"border-right:1pt solid LightGray;\"><b>395117</b></td><td>378613</td><td>Drama</td></tr><tr><td style=\"border-right:1pt solid LightGray;\"><b>395118</b></td><td>378614</td><td>Comedy</td></tr></tbody></table><br>395119 rows x 2 columns<br>memory usage: 3.16 MB<br>name: movies_genres<br>type: getml.data.DataFrame<br>url: <a href=\"http://localhost:1709/#/getdataframe/actors/movies_genres/\" target=\"_blank\">http://localhost:1709/#/getdataframe/actors/movies_genres/</a>"
      ],
      "text/plain": [
       "Name     movie_id         genre   \n",
       "Role     join_key   categorical   \n",
       "0        1          Documentary   \n",
       "1        1          Short         \n",
       "2        2          Comedy        \n",
       "3        2          Crime         \n",
       "4        5          Western       \n",
       "         ...        ...           \n",
       "395114   378612     Adventure     \n",
       "395115   378612     Drama         \n",
       "395116   378613     Comedy        \n",
       "395117   378613     Drama         \n",
       "395118   378614     Comedy        \n",
       "\n",
       "395119 rows x 2 columns\n",
       "memory usage: 3.16 MB\n",
       "name: movies_genres\n",
       "type: getml.data.DataFrame\n",
       "url: http://localhost:1709/#/getdataframe/actors/movies_genres/"
      ]
     },
     "execution_count": 8,
     "metadata": {},
     "output_type": "execute_result"
    }
   ],
   "source": [
    "movies_genres"
   ]
  },
  {
   "cell_type": "markdown",
   "metadata": {},
   "source": [
    " "
   ]
  },
  {
   "cell_type": "markdown",
   "metadata": {},
   "source": [
    "### 1.2 Prepare data for getML"
   ]
  },
  {
   "cell_type": "markdown",
   "metadata": {},
   "source": [
    " "
   ]
  },
  {
   "cell_type": "code",
   "execution_count": 9,
   "metadata": {},
   "outputs": [],
   "source": [
    "def fit_transform_count_vectorizer(text_fields):\n",
    "    count_vectorizer = CountVectorizer(min_df=11)\n",
    "    transformed = count_vectorizer.fit_transform(text_fields)\n",
    "    return count_vectorizer.inverse_transform(transformed)"
   ]
  },
  {
   "cell_type": "code",
   "execution_count": 10,
   "metadata": {},
   "outputs": [],
   "source": [
    "def make_data_frame(transformed_text_fields, df_name):\n",
    "    join_keys = []\n",
    "    indices = []\n",
    "    words = []\n",
    "    #\n",
    "    for i, trans in enumerate(transformed_text_fields):\n",
    "        join_keys += [i] * len(trans)\n",
    "        indices += range(len(trans.tolist()))\n",
    "        words += trans.tolist()\n",
    "    #\n",
    "    data_frame = pd.DataFrame()\n",
    "    data_frame[\"join_key\"] = join_keys\n",
    "    data_frame[\"index\"] = indices\n",
    "    data_frame[\"words\"] = words\n",
    "    #\n",
    "    return getml.data.DataFrame.from_pandas(data_frame, df_name)"
   ]
  },
  {
   "cell_type": "code",
   "execution_count": 11,
   "metadata": {},
   "outputs": [],
   "source": [
    "def process_text_fields(text_fields, df_name):\n",
    "    transformed_text_fields = fit_transform_count_vectorizer(text_fields)\n",
    "    return make_data_frame(transformed_text_fields, df_name)"
   ]
  },
  {
   "cell_type": "code",
   "execution_count": 12,
   "metadata": {},
   "outputs": [
    {
     "data": {
      "text/html": [
       "<table class=\"dataframe\"><thead><tr style=\"border-bottom:1pt solid LightGray;\"><th style=\"text-align: left;border-right:1pt solid LightGray;\">Name  </th><th style=\"text-align: right;\">join_key</th><th style=\"text-align: right;\">index</th><th style=\"text-align: right;\">words</th></tr><tr><th style=\"text-align: left;border-right:1pt solid LightGray;\">Role  </th><td style=\"text-align: right;\"><i>unused_float</i></td><td style=\"text-align: right;\"><i>unused_float</i></td><td style=\"text-align: right;\"><i>unused_string</i></td></tr></thead><tbody><tr style=\"border-top:1pt solid LightGray;\"><td style=\"border-right:1pt solid LightGray;\"><b>0</b></td><td>0</td><td>0</td><td>michael</td></tr><tr><td style=\"border-right:1pt solid LightGray;\"><b>1</b></td><td>1</td><td>0</td><td>eloy</td></tr><tr><td style=\"border-right:1pt solid LightGray;\"><b>2</b></td><td>3</td><td>0</td><td>antonio</td></tr><tr><td style=\"border-right:1pt solid LightGray;\"><b>3</b></td><td>4</td><td>0</td><td>josé</td></tr><tr><td style=\"border-right:1pt solid LightGray;\"><b>4</b></td><td>5</td><td>0</td><td>félix</td></tr><tr><td style=\"border-right:1pt solid LightGray;\"><b> </b></td><td>...</td><td>...</td><td>...</td></tr><tr><td style=\"border-right:1pt solid LightGray;\"><b>788097</b></td><td>817692</td><td>0</td><td>liliane</td></tr><tr><td style=\"border-right:1pt solid LightGray;\"><b>788098</b></td><td>817695</td><td>0</td><td>meral</td></tr><tr><td style=\"border-right:1pt solid LightGray;\"><b>788099</b></td><td>817703</td><td>0</td><td>fatma</td></tr><tr><td style=\"border-right:1pt solid LightGray;\"><b>788100</b></td><td>817704</td><td>0</td><td>ayten</td></tr><tr><td style=\"border-right:1pt solid LightGray;\"><b>788101</b></td><td>817705</td><td>0</td><td>irma</td></tr></tbody></table><br>788102 rows x 3 columns<br>memory usage: 23.86 MB<br>name: first_names<br>type: getml.data.DataFrame<br>url: <a href=\"http://localhost:1709/#/getdataframe/actors/first_names/\" target=\"_blank\">http://localhost:1709/#/getdataframe/actors/first_names/</a>"
      ],
      "text/plain": [
       "Name         join_key          index           words   \n",
       "Role     unused_float   unused_float   unused_string   \n",
       "0        0              0              michael         \n",
       "1        1              0              eloy            \n",
       "2        3              0              antonio         \n",
       "3        4              0              josé            \n",
       "4        5              0              félix           \n",
       "         ...            ...            ...             \n",
       "788097   817692         0              liliane         \n",
       "788098   817695         0              meral           \n",
       "788099   817703         0              fatma           \n",
       "788100   817704         0              ayten           \n",
       "788101   817705         0              irma            \n",
       "\n",
       "788102 rows x 3 columns\n",
       "memory usage: 23.86 MB\n",
       "name: first_names\n",
       "type: getml.data.DataFrame\n",
       "url: http://localhost:1709/#/getdataframe/actors/first_names/"
      ]
     },
     "execution_count": 12,
     "metadata": {},
     "output_type": "execute_result"
    }
   ],
   "source": [
    "first_names = actors.first_name.to_numpy()\n",
    "first_names = process_text_fields(first_names, \"first_names\")\n",
    "first_names"
   ]
  },
  {
   "cell_type": "code",
   "execution_count": 13,
   "metadata": {},
   "outputs": [
    {
     "data": {
      "text/html": [
       "<table class=\"dataframe\"><thead><tr style=\"border-bottom:1pt solid LightGray;\"><th style=\"text-align: left;border-right:1pt solid LightGray;\">Name   </th><th style=\"text-align: right;\">join_key</th><th style=\"text-align: right;\">index</th><th style=\"text-align: right;\">words</th></tr><tr><th style=\"text-align: left;border-right:1pt solid LightGray;\">Role   </th><td style=\"text-align: right;\"><i>unused_float</i></td><td style=\"text-align: right;\"><i>unused_float</i></td><td style=\"text-align: right;\"><i>unused_string</i></td></tr></thead><tbody><tr style=\"border-top:1pt solid LightGray;\"><td style=\"border-right:1pt solid LightGray;\"><b>0</b></td><td>0</td><td>0</td><td>stevie</td></tr><tr><td style=\"border-right:1pt solid LightGray;\"><b>1</b></td><td>1</td><td>0</td><td>lyricist</td></tr><tr><td style=\"border-right:1pt solid LightGray;\"><b>2</b></td><td>1</td><td>1</td><td>various</td></tr><tr><td style=\"border-right:1pt solid LightGray;\"><b>3</b></td><td>2</td><td>0</td><td>gitano</td></tr><tr><td style=\"border-right:1pt solid LightGray;\"><b>4</b></td><td>3</td><td>0</td><td>el</td></tr><tr><td style=\"border-right:1pt solid LightGray;\"><b> </b></td><td>...</td><td>...</td><td>...</td></tr><tr><td style=\"border-right:1pt solid LightGray;\"><b>4018929</b></td><td>3431945</td><td>0</td><td>1997</td></tr><tr><td style=\"border-right:1pt solid LightGray;\"><b>4018930</b></td><td>3431945</td><td>1</td><td>1996</td></tr><tr><td style=\"border-right:1pt solid LightGray;\"><b>4018931</b></td><td>3431958</td><td>0</td><td>lilja</td></tr><tr><td style=\"border-right:1pt solid LightGray;\"><b>4018932</b></td><td>3431961</td><td>0</td><td>kata</td></tr><tr><td style=\"border-right:1pt solid LightGray;\"><b>4018933</b></td><td>3431964</td><td>0</td><td>gudrun</td></tr></tbody></table><br>4018934 rows x 3 columns<br>memory usage: 122.72 MB<br>name: role<br>type: getml.data.DataFrame<br>url: <a href=\"http://localhost:1709/#/getdataframe/actors/role/\" target=\"_blank\">http://localhost:1709/#/getdataframe/actors/role/</a>"
      ],
      "text/plain": [
       "Name          join_key          index           words   \n",
       "Role      unused_float   unused_float   unused_string   \n",
       "0         0              0              stevie          \n",
       "1         1              0              lyricist        \n",
       "2         1              1              various         \n",
       "3         2              0              gitano          \n",
       "4         3              0              el              \n",
       "          ...            ...            ...             \n",
       "4018929   3431945        0              1997            \n",
       "4018930   3431945        1              1996            \n",
       "4018931   3431958        0              lilja           \n",
       "4018932   3431961        0              kata            \n",
       "4018933   3431964        0              gudrun          \n",
       "\n",
       "4018934 rows x 3 columns\n",
       "memory usage: 122.72 MB\n",
       "name: role\n",
       "type: getml.data.DataFrame\n",
       "url: http://localhost:1709/#/getdataframe/actors/role/"
      ]
     },
     "execution_count": 13,
     "metadata": {},
     "output_type": "execute_result"
    }
   ],
   "source": [
    "role = roles.role.to_numpy()\n",
    "role = process_text_fields(role, \"role\")\n",
    "role"
   ]
  },
  {
   "cell_type": "markdown",
   "metadata": {},
   "source": [
    "getML requires that we define *roles* for each of the columns."
   ]
  },
  {
   "cell_type": "code",
   "execution_count": 14,
   "metadata": {},
   "outputs": [],
   "source": [
    "actors[\"target\"] = (actors.gender == 'F').as_num()\n",
    "actors[\"rownum\"] = actors.rowid()"
   ]
  },
  {
   "cell_type": "code",
   "execution_count": 15,
   "metadata": {},
   "outputs": [],
   "source": [
    "actors.set_role([\"id\", \"rownum\"], getml.data.roles.join_key)\n",
    "actors.set_role(\"target\", getml.data.roles.target)"
   ]
  },
  {
   "cell_type": "code",
   "execution_count": 16,
   "metadata": {},
   "outputs": [],
   "source": [
    "roles[\"rownum\"] = roles.rowid()\n",
    "roles.set_role([\"actor_id\", \"movie_id\", \"rownum\"], getml.data.roles.join_key)"
   ]
  },
  {
   "cell_type": "code",
   "execution_count": 17,
   "metadata": {},
   "outputs": [],
   "source": [
    "movies.set_role(\"id\", getml.data.roles.join_key)\n",
    "movies.set_role([\"year\", \"rank\"], getml.data.roles.numerical)"
   ]
  },
  {
   "cell_type": "code",
   "execution_count": 18,
   "metadata": {},
   "outputs": [],
   "source": [
    "movies_genres.set_role(\"movie_id\", getml.data.roles.join_key)\n",
    "movies_genres.set_role(\"genre\", getml.data.roles.categorical)"
   ]
  },
  {
   "cell_type": "code",
   "execution_count": 19,
   "metadata": {},
   "outputs": [],
   "source": [
    "first_names.set_role(\"join_key\", getml.data.roles.join_key)\n",
    "first_names.set_role(\"index\", getml.data.roles.numerical)\n",
    "first_names.set_role(\"words\", getml.data.roles.categorical)"
   ]
  },
  {
   "cell_type": "code",
   "execution_count": 20,
   "metadata": {},
   "outputs": [],
   "source": [
    "role.set_role(\"join_key\", getml.data.roles.join_key)\n",
    "role.set_role(\"index\", getml.data.roles.numerical)\n",
    "role.set_role(\"words\", getml.data.roles.categorical)"
   ]
  },
  {
   "cell_type": "markdown",
   "metadata": {},
   "source": [
    "The *StockCode* is a 5-digit code that uniquely defines a product. It is hierarchical, meaning that every digit has a meaning. We want to make use of that, so we assign a unit to the stock code, which we can reference in our preprocessors."
   ]
  },
  {
   "cell_type": "markdown",
   "metadata": {},
   "source": [
    "Let's take a look at what we have done so far:"
   ]
  },
  {
   "cell_type": "code",
   "execution_count": 21,
   "metadata": {},
   "outputs": [],
   "source": [
    "random = actors.random()\n",
    "\n",
    "is_training = (random < 0.7)\n",
    "is_validation = (~is_training & (random < 0.85))\n",
    "is_test = (~is_training & ~is_validation)\n",
    "\n",
    "data_train = actors.where(\"data_train\", is_training)\n",
    "data_validation = actors.where(\"data_validation\", is_validation)\n",
    "data_test = actors.where(\"data_test\", is_test)"
   ]
  },
  {
   "cell_type": "markdown",
   "metadata": {},
   "source": [
    " "
   ]
  },
  {
   "cell_type": "markdown",
   "metadata": {},
   "source": [
    "## 2. Predictive modelling\n",
    "\n",
    "We loaded the data and defined the roles and units. Next, we create a getML pipeline for relational learning."
   ]
  },
  {
   "cell_type": "markdown",
   "metadata": {},
   "source": [
    "### 2.1 Define relational model\n",
    "\n",
    "To get started with relational learning, we need to specify the data model.\n",
    "\n",
    "In our case, there are two joins we are interested in: \n",
    "\n",
    "1) We want to take a look at all of the other orders on the same invoice.\n",
    "\n",
    "2) We want to check out how often a certain customer has cancelled orders in the past. Here, we limit ourselves to the last 90 days. To avoid data leaks, we set a horizon of one day."
   ]
  },
  {
   "cell_type": "code",
   "execution_count": 22,
   "metadata": {},
   "outputs": [
    {
     "data": {
      "text/html": [
       "<div style=\"height:200px;width:260px;position:relative;\"><div style=\"height:90px;width:150px;background-color:#6829c2;color:#ffffff;text-align:center;position:absolute;top:0px;left:500px;border-radius:5%;\"><div style=\"margin-top:65px;\">role</div></div><div style=\"height:48px;width:48px;border-style: solid;border-radius:10%;border-width:3px;border-color:#ffffff;position:absolute;top:10px;left:551px;\"></div><div style=\"height:48px;width:3px;background-color:#ffffff;position:absolute;top:10px;left:566.0px;\"\"\n",
       "    line += ></div><div style=\"height:48px;width:3px;background-color:#ffffff;position:absolute;top:10px;left:581.0px;\"\"\n",
       "    line += ></div><div style=\"height:3px;px;width:48px;background-color:#ffffff;position:absolute;top:25.0px;left:551px;\"></div><div style=\"height:3px;px;width:48px;background-color:#ffffff;position:absolute;top:40.0px;left:551px;\"></div><div style=\"height:90px;width:150px;background-color:#6829c2;color:#ffffff;text-align:center;position:absolute;top:110px;left:0px;border-radius:5%;\"><div style=\"margin-top:65px;\">movie_genres</div></div><div style=\"height:48px;width:48px;border-style: solid;border-radius:10%;border-width:3px;border-color:#ffffff;position:absolute;top:120px;left:51px;\"></div><div style=\"height:48px;width:3px;background-color:#ffffff;position:absolute;top:120px;left:66.0px;\"\"\n",
       "    line += ></div><div style=\"height:48px;width:3px;background-color:#ffffff;position:absolute;top:120px;left:81.0px;\"\"\n",
       "    line += ></div><div style=\"height:3px;px;width:48px;background-color:#ffffff;position:absolute;top:135.0px;left:51px;\"></div><div style=\"height:3px;px;width:48px;background-color:#ffffff;position:absolute;top:150.0px;left:51px;\"></div><div style=\"height:90px;width:150px;background-color:#6829c2;color:#ffffff;text-align:center;position:absolute;top:110px;left:500px;border-radius:5%;\"><div style=\"margin-top:65px;\">movies</div></div><div style=\"height:48px;width:48px;border-style: solid;border-radius:10%;border-width:3px;border-color:#ffffff;position:absolute;top:120px;left:551px;\"></div><div style=\"height:48px;width:3px;background-color:#ffffff;position:absolute;top:120px;left:566.0px;\"\"\n",
       "    line += ></div><div style=\"height:48px;width:3px;background-color:#ffffff;position:absolute;top:120px;left:581.0px;\"\"\n",
       "    line += ></div><div style=\"height:3px;px;width:48px;background-color:#ffffff;position:absolute;top:135.0px;left:551px;\"></div><div style=\"height:3px;px;width:48px;background-color:#ffffff;position:absolute;top:150.0px;left:551px;\"></div><div style=\"height:90px;width:150px;background-color:#6829c2;color:#ffffff;text-align:center;position:absolute;top:110px;left:1000px;border-radius:5%;\"><div style=\"margin-top:65px;\">roles</div></div><div style=\"height:48px;width:48px;border-style: solid;border-radius:10%;border-width:3px;border-color:#ffffff;position:absolute;top:120px;left:1051px;\"></div><div style=\"height:48px;width:3px;background-color:#ffffff;position:absolute;top:120px;left:1066.0px;\"\"\n",
       "    line += ></div><div style=\"height:48px;width:3px;background-color:#ffffff;position:absolute;top:120px;left:1081.0px;\"\"\n",
       "    line += ></div><div style=\"height:3px;px;width:48px;background-color:#ffffff;position:absolute;top:135.0px;left:1051px;\"></div><div style=\"height:3px;px;width:48px;background-color:#ffffff;position:absolute;top:150.0px;left:1051px;\"></div><div style=\"height:90px;width:150px;background-color:#6829c2;color:#ffffff;text-align:center;position:absolute;top:110px;left:1500px;border-radius:5%;\"><div style=\"margin-top:65px;\">actors</div></div><div style=\"height:48px;width:48px;border-style: solid;border-radius:10%;border-width:3px;border-color:#ffffff;position:absolute;top:120px;left:1551px;\"></div><div style=\"height:48px;width:3px;background-color:#ffffff;position:absolute;top:120px;left:1566.0px;\"\"\n",
       "    line += ></div><div style=\"height:48px;width:3px;background-color:#ffffff;position:absolute;top:120px;left:1581.0px;\"\"\n",
       "    line += ></div><div style=\"height:3px;px;width:48px;background-color:#ffffff;position:absolute;top:135.0px;left:1551px;\"></div><div style=\"height:3px;px;width:48px;background-color:#ffffff;position:absolute;top:150.0px;left:1551px;\"></div><div style=\"height:4px;width:348px;background-color:#808080;;color:#ffffff;text-align:center;position:absolute;top:153.0px;left:150px;border-radius:5%;\"></div><div style=\"height:-1.0px;width:4px;background-color:#808080;;;color:#ffffff;text-align:center;position:absolute;top:153.0px;left:498px;border-radius:5%;\"></div><div style=\" width: 0;height: 0;border-top: 7px solid transparent;border-left: 15px solid #808080;;border-bottom: 7px solid transparent;position:absolute;top:148.0px;left:488px;\"></div><div style=\"height:70px;width:150px;background-color:#6829c2;color:#ffffff;text-align:center;line-height: 1.0;display:table;position:absolute;top:120.0px;left:249.0px;border-radius:5%;\"><div style=\"display:table-cell;vertical-align:middle;font-size:10px;\">movie_id = id</div></div><div style=\"height:4px;width:423.0px;background-color:#808080;;color:#ffffff;text-align:center;position:absolute;top:43.0px;left:650px;border-radius:5%;\"></div><div style=\"height:64.0px;width:4px;background-color:#808080;;;color:#ffffff;text-align:center;position:absolute;top:43.0px;left:1073.0px;border-radius:5%;\"></div><div style=\" width: 0;height: 0;border-left: 7px solid transparent;border-right: 7px solid transparent;border-top: 14px solid #808080;; position:absolute;top:98px;left:1068.0px;\"></div><div style=\"height:70px;width:150px;background-color:#6829c2;color:#ffffff;text-align:center;line-height: 1.0;display:table;position:absolute;top:10.0px;left:749.0px;border-radius:5%;\"><div style=\"display:table-cell;vertical-align:middle;font-size:10px;\">join_key = rownum</div></div><div style=\"height:4px;width:348px;background-color:#808080;;color:#ffffff;text-align:center;position:absolute;top:153.0px;left:650px;border-radius:5%;\"></div><div style=\"height:-1.0px;width:4px;background-color:#808080;;;color:#ffffff;text-align:center;position:absolute;top:153.0px;left:998px;border-radius:5%;\"></div><div style=\" width: 0;height: 0;border-top: 7px solid transparent;border-left: 15px solid #808080;;border-bottom: 7px solid transparent;position:absolute;top:148.0px;left:988px;\"></div><div style=\"height:70px;width:150px;background-color:#6829c2;color:#ffffff;text-align:center;line-height: 1.0;display:table;position:absolute;top:120.0px;left:749.0px;border-radius:5%;\"><div style=\"display:table-cell;vertical-align:middle;font-size:10px;\">id = movie_id<br>Relationship: many-to-one</div></div><div style=\"height:4px;width:348px;background-color:#808080;;color:#ffffff;text-align:center;position:absolute;top:153.0px;left:1150px;border-radius:5%;\"></div><div style=\"height:-1.0px;width:4px;background-color:#808080;;;color:#ffffff;text-align:center;position:absolute;top:153.0px;left:1498px;border-radius:5%;\"></div><div style=\" width: 0;height: 0;border-top: 7px solid transparent;border-left: 15px solid #808080;;border-bottom: 7px solid transparent;position:absolute;top:148.0px;left:1488px;\"></div><div style=\"height:70px;width:150px;background-color:#6829c2;color:#ffffff;text-align:center;line-height: 1.0;display:table;position:absolute;top:120.0px;left:1249.0px;border-radius:5%;\"><div style=\"display:table-cell;vertical-align:middle;font-size:10px;\">actor_id = id</div></div></div>"
      ],
      "text/plain": [
       "placeholder   other placeholder   allow lagged targets   horizon   join keys used   ...   \n",
       "actors        roles               False                  0.0       id               ...   \n",
       "roles         role                False                  0.0       rownum           ...   \n",
       "roles         movies              False                  0.0       movie_id         ...   \n",
       "movies        movie_genres        False                  0.0       id               ...   \n",
       "\n",
       "\n",
       "\n",
       "other join keys used   other time stamps used   relationship   time stamps used   \n",
       "actor_id                                        many-to-many                      \n",
       "join_key                                        many-to-many                      \n",
       "id                                              many-to-one                       \n",
       "movie_id                                        many-to-many                      \n",
       "\n",
       "\n",
       "\n",
       "other join keys used   upper time stamps used   \n",
       "actor_id                                        \n",
       "join_key                                        \n",
       "id                                              \n",
       "movie_id                                        "
      ]
     },
     "execution_count": 22,
     "metadata": {},
     "output_type": "execute_result"
    }
   ],
   "source": [
    "actors_ph = getml.data.Placeholder('actors')\n",
    "first_names_ph = getml.data.Placeholder('first_names')\n",
    "roles_ph = getml.data.Placeholder('roles')\n",
    "role_ph = getml.data.Placeholder('role')\n",
    "movies_ph = getml.data.Placeholder('movies')\n",
    "movie_genres_ph = getml.data.Placeholder('movie_genres')\n",
    "\n",
    "#actors_ph.join(\n",
    "#    first_names_ph,\n",
    "#    join_key='rownum',\n",
    "#    other_join_key='join_key'\n",
    "#)\n",
    "\n",
    "actors_ph.join(\n",
    "    roles_ph,\n",
    "    join_key='id',\n",
    "    other_join_key='actor_id'\n",
    ")\n",
    "\n",
    "roles_ph.join(\n",
    "    role_ph,\n",
    "    join_key='rownum',\n",
    "    other_join_key='join_key'\n",
    ")\n",
    "\n",
    "roles_ph.join(\n",
    "    movies_ph,\n",
    "    join_key='movie_id',\n",
    "    other_join_key='id',\n",
    "    relationship=getml.data.relationship.many_to_one\n",
    ")\n",
    "\n",
    "movies_ph.join(\n",
    "    movie_genres_ph,\n",
    "    join_key='id',\n",
    "    other_join_key='movie_id'\n",
    ")\n",
    "\n",
    "actors_ph"
   ]
  },
  {
   "cell_type": "markdown",
   "metadata": {},
   "source": [
    " "
   ]
  },
  {
   "cell_type": "markdown",
   "metadata": {},
   "source": [
    "### 2.2 getML pipeline"
   ]
  },
  {
   "cell_type": "markdown",
   "metadata": {},
   "source": [
    "<!-- #### 2.1.1  -->\n",
    "__Set-up the feature learner & predictor__"
   ]
  },
  {
   "cell_type": "markdown",
   "metadata": {},
   "source": [
    "We have mentioned that the *StockCode* is a hierarchical code. To make use of that fact, we use getML's substring preprocessor, extracting the first digit, the first two digits etc. Since we have assigned the unit *code* to the *StockCode*, the preprocessors know which column they should be applied to."
   ]
  },
  {
   "cell_type": "code",
   "execution_count": 36,
   "metadata": {},
   "outputs": [],
   "source": [
    "relboost = getml.feature_learning.RelboostModel(\n",
    "    num_features=30,\n",
    "    num_subfeatures=10,\n",
    "    loss_function=getml.feature_learning.loss_functions.CrossEntropyLoss,\n",
    "    seed=4367,\n",
    "    num_threads=1\n",
    ")\n",
    "\n",
    "predictor = getml.predictors.XGBoostClassifier()"
   ]
  },
  {
   "cell_type": "markdown",
   "metadata": {},
   "source": [
    "__Build the pipeline__"
   ]
  },
  {
   "cell_type": "code",
   "execution_count": 37,
   "metadata": {},
   "outputs": [],
   "source": [
    "pipe = getml.pipeline.Pipeline(\n",
    "    tags=['relboost'],\n",
    "    population=actors_ph,\n",
    "    peripheral=[roles_ph, movies_ph, movie_genres_ph, first_names_ph, role_ph],\n",
    "    feature_learners=[relboost],\n",
    "    predictors=[predictor]\n",
    ")"
   ]
  },
  {
   "cell_type": "markdown",
   "metadata": {},
   "source": [
    " "
   ]
  },
  {
   "cell_type": "markdown",
   "metadata": {},
   "source": [
    "### 2.3 Model training"
   ]
  },
  {
   "cell_type": "code",
   "execution_count": 25,
   "metadata": {},
   "outputs": [
    {
     "name": "stdout",
     "output_type": "stream",
     "text": [
      "Checking data model...\n"
     ]
    },
    {
     "name": "stderr",
     "output_type": "stream",
     "text": [
      "INFO [MIGHT TAKE LONG]: The number of unique entries in column 'words' in  data frame 'role' is 30324. This might take a long time to fit. You should consider setting its role to unused_string or using it for comparison only (you can do the latter by setting a unit that contains 'comparison only').\n",
      "INFO [JOIN KEYS NOT FOUND]: When joining the composite data frame 'roles'-'movies' that has been created by many-to-one joins or one-to-one joins and  data frame 'role' over 'rownum' and 'join_key', there are no corresponding entries for 32.398544% of entries in 'rownum' in 'the composite data frame 'roles'-'movies' that has been created by many-to-one joins or one-to-one joins'. You might want to double-check your join keys.\n",
      "INFO [JOIN KEYS NOT FOUND]: When joining the composite data frame 'roles'-'movies' that has been created by many-to-one joins or one-to-one joins and  data frame 'movie_genres' over 'id' and 'movie_id', there are no corresponding entries for 26.899421% of entries in 'id' in 'the composite data frame 'roles'-'movies' that has been created by many-to-one joins or one-to-one joins'. You might want to double-check your join keys.\n"
     ]
    }
   ],
   "source": [
    "pipe.check(data_train, {\"roles\": roles, \"movies\": movies, \"movie_genres\": movies_genres, \"first_names\": first_names, \"role\": role})"
   ]
  },
  {
   "cell_type": "code",
   "execution_count": 38,
   "metadata": {},
   "outputs": [
    {
     "name": "stdout",
     "output_type": "stream",
     "text": [
      "Checking data model...\n"
     ]
    },
    {
     "name": "stderr",
     "output_type": "stream",
     "text": [
      "INFO [MIGHT TAKE LONG]: The number of unique entries in column 'words' in  data frame 'role' is 30324. This might take a long time to fit. You should consider setting its role to unused_string or using it for comparison only (you can do the latter by setting a unit that contains 'comparison only').\n",
      "INFO [JOIN KEYS NOT FOUND]: When joining the composite data frame 'roles'-'movies' that has been created by many-to-one joins or one-to-one joins and  data frame 'role' over 'rownum' and 'join_key', there are no corresponding entries for 32.398544% of entries in 'rownum' in 'the composite data frame 'roles'-'movies' that has been created by many-to-one joins or one-to-one joins'. You might want to double-check your join keys.\n",
      "INFO [JOIN KEYS NOT FOUND]: When joining the composite data frame 'roles'-'movies' that has been created by many-to-one joins or one-to-one joins and  data frame 'movie_genres' over 'id' and 'movie_id', there are no corresponding entries for 26.899421% of entries in 'id' in 'the composite data frame 'roles'-'movies' that has been created by many-to-one joins or one-to-one joins'. You might want to double-check your join keys.\n"
     ]
    },
    {
     "name": "stdout",
     "output_type": "stream",
     "text": [
      "\n",
      "Relboost: Training subfeatures...\n",
      "[========================================] 100%\n",
      "\n",
      "Relboost: Training subfeatures...\n",
      "[========================================] 100%\n",
      "\n",
      "Relboost: Building subfeatures...\n",
      "[========================================] 100%\n",
      "\n",
      "Relboost: Building subfeatures...\n",
      "[========================================] 100%\n",
      "\n",
      "Relboost: Training features...\n",
      "[========================================] 100%\n",
      "\n",
      "Relboost: Building subfeatures...\n",
      "[========================================] 100%\n",
      "\n",
      "Relboost: Building subfeatures...\n",
      "[========================================] 100%\n",
      "\n",
      "Relboost: Building features...\n",
      "[========================================] 100%\n",
      "\n",
      "XGBoost: Training as predictor...\n",
      "[========================================] 100%\n",
      "\n",
      "Trained pipeline.\n",
      "Time taken: 0h:35m:19.841068\n",
      "\n"
     ]
    },
    {
     "data": {
      "text/html": [
       "<pre>Pipeline(preprocessors=[], feature_learners=['RelboostModel'], <br>         feature_selectors=[], include_categorical=False, <br>         peripheral=['roles', 'movies', 'movie_genres', 'first_names', 'role'], <br>         population='actors', predictors=['XGBoostClassifier'], <br>         tags=['relboost'], share_selected_features=0.5)</pre><br><pre>url: <a href=\"http://localhost:1709/#/getpipeline/actors/H69V39/0/\" target=\"_blank\">http://localhost:1709/#/getpipeline/actors/H69V39/0/</a></pre>"
      ],
      "text/plain": [
       "Pipeline(preprocessors=[], feature_learners=['RelboostModel'], \n",
       "         feature_selectors=[], include_categorical=False, \n",
       "         peripheral=['roles', 'movies', 'movie_genres', 'first_names', 'role'], \n",
       "         population='actors', predictors=['XGBoostClassifier'], \n",
       "         tags=['relboost'], share_selected_features=0.5)\n",
       "\n",
       "url: http://localhost:1709/#/getpipeline/actors/H69V39/0/"
      ]
     },
     "execution_count": 38,
     "metadata": {},
     "output_type": "execute_result"
    }
   ],
   "source": [
    "pipe.fit(data_train, {\"roles\": roles, \"movies\": movies, \"movie_genres\": movies_genres, \"first_names\": first_names, \"role\": role})"
   ]
  },
  {
   "cell_type": "markdown",
   "metadata": {},
   "source": [
    " "
   ]
  },
  {
   "cell_type": "markdown",
   "metadata": {},
   "source": [
    "### 2.4 Model evaluation"
   ]
  },
  {
   "cell_type": "code",
   "execution_count": 39,
   "metadata": {
    "lines_to_next_cell": 0
   },
   "outputs": [
    {
     "name": "stdout",
     "output_type": "stream",
     "text": [
      "\n",
      "Relboost: Building subfeatures...\n",
      "[========================================] 100%\n",
      "\n",
      "Relboost: Building subfeatures...\n",
      "[========================================] 100%\n",
      "\n",
      "Relboost: Building features...\n",
      "[========================================] 100%\n",
      "\n",
      "\n",
      "Relboost: Building subfeatures...\n",
      "[========================================] 100%\n",
      "\n",
      "Relboost: Building subfeatures...\n",
      "[========================================] 100%\n",
      "\n",
      "Relboost: Building features...\n",
      "[========================================] 100%\n",
      "\n"
     ]
    },
    {
     "data": {
      "text/html": [
       "<table class=\"dataframe\"><thead><tr style=\"border-bottom:1pt solid LightGray;\"><th style=\"text-align: left;border-right:1pt solid LightGray;\"> </th><th style=\"text-align: right;\">date time          </th><th style=\"text-align: right;\">set used  </th><th style=\"text-align: right;\">target</th><th style=\"text-align: right;\">accuracy</th><th style=\"text-align: right;\">     auc</th><th style=\"text-align: right;\">cross entropy</th></tr></thead><tbody><tr style=\"border-top:1pt solid LightGray;\"><td style=\"border-right:1pt solid LightGray;\"><b>0</b></td><td>2020-12-22 14:02:09</td><td>data_test </td><td>target</td><td> 0.83685</td><td> 0.91073</td><td>      0.33438</td></tr><tr><td style=\"border-right:1pt solid LightGray;\"><b>1</b></td><td>2020-12-22 14:01:37</td><td>data_train</td><td>target</td><td> 0.83801</td><td> 0.91199</td><td>      0.33191</td></tr></tbody></table>"
      ],
      "text/plain": [
       "    date time             set used     target   accuracy        auc   cross entropy\n",
       "0   2020-12-22 14:02:09   data_test    target    0.83685    0.91073         0.33438\n",
       "1   2020-12-22 14:01:37   data_train   target    0.83801    0.91199         0.33191"
      ]
     },
     "execution_count": 39,
     "metadata": {},
     "output_type": "execute_result"
    }
   ],
   "source": [
    "in_sample = pipe.score(data_train, {\"roles\": roles, \"movies\": movies, \"movie_genres\": movies_genres, \"first_names\": first_names, \"role\": role})\n",
    "\n",
    "out_of_sample = pipe.score(data_test, {\"roles\": roles, \"movies\": movies, \"movie_genres\": movies_genres, \"first_names\": first_names, \"role\": role})\n",
    "\n",
    "pipe.scores"
   ]
  },
  {
   "cell_type": "markdown",
   "metadata": {},
   "source": [
    " "
   ]
  },
  {
   "cell_type": "markdown",
   "metadata": {},
   "source": [
    "### 2.6 Studying features"
   ]
  },
  {
   "cell_type": "markdown",
   "metadata": {},
   "source": [
    "__Feature correlations__\n",
    "\n",
    "We want to analyze how the features are correlated with the target variable."
   ]
  },
  {
   "cell_type": "code",
   "execution_count": 40,
   "metadata": {},
   "outputs": [
    {
     "data": {
      "image/png": "[encoded data removed]",
      "text/plain": [
       "<Figure size 1440x720 with 1 Axes>"
      ]
     },
     "metadata": {
      "needs_background": "light"
     },
     "output_type": "display_data"
    }
   ],
   "source": [
    "names, correlations = pipe.features.correlations()\n",
    "\n",
    "plt.subplots(figsize=(20, 10))\n",
    "\n",
    "plt.bar(names, correlations, color='#6829c2')\n",
    "\n",
    "plt.title('Feature Correlations')\n",
    "plt.xlabel('Features')\n",
    "plt.ylabel('Correlations')\n",
    "plt.xticks(rotation='vertical')\n",
    "plt.show()"
   ]
  },
  {
   "cell_type": "code",
   "execution_count": 41,
   "metadata": {},
   "outputs": [],
   "source": [
    "pipe.features.to_sql().save(\"features.sql\")"
   ]
  },
  {
   "cell_type": "markdown",
   "metadata": {},
   "source": [
    " "
   ]
  },
  {
   "cell_type": "markdown",
   "metadata": {},
   "source": [
    "__Feature importances__\n",
    " \n",
    "Feature importances are calculated by analyzing the improvement in predictive accuracy on each node of the trees in the XGBoost predictor. They are then normalized, so that all importances add up to 100%."
   ]
  },
  {
   "cell_type": "code",
   "execution_count": 42,
   "metadata": {
    "lines_to_next_cell": 0
   },
   "outputs": [
    {
     "data": {
      "image/png": "[encoded data removed]",
      "text/plain": [
       "<Figure size 1440x720 with 1 Axes>"
      ]
     },
     "metadata": {
      "needs_background": "light"
     },
     "output_type": "display_data"
    }
   ],
   "source": [
    "names, importances = pipe.features.importances()\n",
    "\n",
    "plt.subplots(figsize=(20, 10))\n",
    "\n",
    "plt.bar(names, importances, color='#6829c2')\n",
    "\n",
    "plt.title('Feature Importances')\n",
    "plt.xlabel('Features')\n",
    "plt.ylabel('Importances')\n",
    "plt.xticks(rotation='vertical')\n",
    "plt.show()\n",
    "\n",
    "most_important = names[0]"
   ]
  },
  {
   "cell_type": "markdown",
   "metadata": {},
   "source": [
    "  "
   ]
  },
  {
   "cell_type": "markdown",
   "metadata": {},
   "source": [
    "__Column importances__\n",
    "\n",
    "Because getML uses relational learning, we can apply the principles we used to calculate the feature importances to individual columns as well.\n",
    "\n",
    "As we can see, the *StockCode* contributes about 50% of the predictive accuracy."
   ]
  },
  {
   "cell_type": "code",
   "execution_count": 43,
   "metadata": {},
   "outputs": [
    {
     "data": {
      "image/png": "[encoded data removed]",
      "text/plain": [
       "<Figure size 1440x720 with 1 Axes>"
      ]
     },
     "metadata": {
      "needs_background": "light"
     },
     "output_type": "display_data"
    }
   ],
   "source": [
    "names, importances = pipe.columns.importances()\n",
    "\n",
    "plt.subplots(figsize=(20, 10))\n",
    "\n",
    "plt.bar(names, importances, color='#6829c2')\n",
    "\n",
    "plt.title('Columns importances')\n",
    "plt.xlabel('Columns')\n",
    "plt.ylabel('Importances')\n",
    "plt.xticks(rotation='vertical')\n",
    "plt.show()\n",
    "\n",
    "most_important = names[0]"
   ]
  },
  {
   "cell_type": "markdown",
   "metadata": {},
   "source": [
    " "
   ]
  },
  {
   "cell_type": "markdown",
   "metadata": {},
   "source": [
    "__Transpiling the learned features__\n",
    "\n",
    "We can also transpile the learned features to SQLite3 code. We want to show the two most important features. That is why we call the `.features.importances().` method again. The names that are returned are already sorted by importance."
   ]
  },
  {
   "cell_type": "markdown",
   "metadata": {},
   "source": [
    " "
   ]
  },
  {
   "cell_type": "code",
   "execution_count": 44,
   "metadata": {},
   "outputs": [
    {
     "data": {
      "text/markdown": [
       "```sql\n",
       "DROP TABLE IF EXISTS \"FEATURE_1_9\";\n",
       "\n",
       "CREATE TABLE \"FEATURE_1_9\" AS\n",
       "SELECT AVG( \n",
       "    CASE\n",
       "        WHEN ( COALESCE( f_1_1_1.\"feature_1_1_1\", 0.0 ) > 0.976750 ) AND ( COALESCE( f_1_1_4.\"feature_1_1_4\", 0.0 ) > -0.770013 ) AND ( COALESCE( f_1_1_6.\"feature_1_1_6\", 0.0 ) > 0.095614 ) THEN 0.2104404335969828\n",
       "        WHEN ( COALESCE( f_1_1_1.\"feature_1_1_1\", 0.0 ) > 0.976750 ) AND ( COALESCE( f_1_1_4.\"feature_1_1_4\", 0.0 ) > -0.770013 ) AND ( COALESCE( f_1_1_6.\"feature_1_1_6\", 0.0 ) <= 0.095614 ) THEN -0.7784494012686878\n",
       "        WHEN ( COALESCE( f_1_1_1.\"feature_1_1_1\", 0.0 ) > 0.976750 ) AND ( COALESCE( f_1_1_4.\"feature_1_1_4\", 0.0 ) <= -0.770013 ) AND ( COALESCE( f_1_1_9.\"feature_1_1_9\", 0.0 ) > 1.381433 ) THEN 0.383579657941867\n",
       "        WHEN ( COALESCE( f_1_1_1.\"feature_1_1_1\", 0.0 ) > 0.976750 ) AND ( COALESCE( f_1_1_4.\"feature_1_1_4\", 0.0 ) <= -0.770013 ) AND ( COALESCE( f_1_1_9.\"feature_1_1_9\", 0.0 ) <= 1.381433 ) THEN -2.134672649623828\n",
       "        WHEN ( COALESCE( f_1_1_1.\"feature_1_1_1\", 0.0 ) <= 0.976750 ) AND ( COALESCE( f_1_1_2.\"feature_1_1_2\", 0.0 ) > -0.078755 ) AND ( COALESCE( f_1_1_10.\"feature_1_1_10\", 0.0 ) > 0.568261 ) THEN -0.4115234651978266\n",
       "        WHEN ( COALESCE( f_1_1_1.\"feature_1_1_1\", 0.0 ) <= 0.976750 ) AND ( COALESCE( f_1_1_2.\"feature_1_1_2\", 0.0 ) > -0.078755 ) AND ( COALESCE( f_1_1_10.\"feature_1_1_10\", 0.0 ) <= 0.568261 ) THEN -1.44451696728863\n",
       "        WHEN ( COALESCE( f_1_1_1.\"feature_1_1_1\", 0.0 ) <= 0.976750 ) AND ( COALESCE( f_1_1_2.\"feature_1_1_2\", 0.0 ) <= -0.078755 ) AND ( COALESCE( f_1_1_3.\"feature_1_1_3\", 0.0 ) > -0.190297 ) THEN -1.854305518514725\n",
       "        WHEN ( COALESCE( f_1_1_1.\"feature_1_1_1\", 0.0 ) <= 0.976750 ) AND ( COALESCE( f_1_1_2.\"feature_1_1_2\", 0.0 ) <= -0.078755 ) AND ( COALESCE( f_1_1_3.\"feature_1_1_3\", 0.0 ) <= -0.190297 ) THEN -2.644727722737677\n",
       "        ELSE NULL\n",
       "    END\n",
       ") AS \"feature_1_9\",\n",
       "     t1.rowid AS \"rownum\"\n",
       "FROM \"actors\" t1\n",
       "LEFT JOIN \"roles\" t2\n",
       "ON t1.\"id\" = t2.\"actor_id\"\n",
       "LEFT JOIN \"movies\" t3\n",
       "ON t2.\"movie_id\" = t3.\"id\"\n",
       "LEFT JOIN \"FEATURE_1_1_1\" f_1_1_1\n",
       "ON t2.rowid = f_1_1_1.\"rownum\"\n",
       "LEFT JOIN \"FEATURE_1_1_2\" f_1_1_2\n",
       "ON t2.rowid = f_1_1_2.\"rownum\"\n",
       "LEFT JOIN \"FEATURE_1_1_3\" f_1_1_3\n",
       "ON t2.rowid = f_1_1_3.\"rownum\"\n",
       "LEFT JOIN \"FEATURE_1_1_4\" f_1_1_4\n",
       "ON t2.rowid = f_1_1_4.\"rownum\"\n",
       "LEFT JOIN \"FEATURE_1_1_6\" f_1_1_6\n",
       "ON t2.rowid = f_1_1_6.\"rownum\"\n",
       "LEFT JOIN \"FEATURE_1_1_9\" f_1_1_9\n",
       "ON t2.rowid = f_1_1_9.\"rownum\"\n",
       "LEFT JOIN \"FEATURE_1_1_10\" f_1_1_10\n",
       "ON t2.rowid = f_1_1_10.\"rownum\"\n",
       "GROUP BY t1.rowid;\n",
       "```"
      ],
      "text/plain": [
       "DROP TABLE IF EXISTS \"FEATURE_1_9\";\n",
       "\n",
       "CREATE TABLE \"FEATURE_1_9\" AS\n",
       "SELECT AVG( \n",
       "    CASE\n",
       "        WHEN ( COALESCE( f_1_1_1.\"feature_1_1_1\", 0.0 ) > 0.976750 ) AND ( COALESCE( f_1_1_4.\"feature_1_1_4\", 0.0 ) > -0.770013 ) AND ( COALESCE( f_1_1_6.\"feature_1_1_6\", 0.0 ) > 0.095614 ) THEN 0.2104404335969828\n",
       "        WHEN ( COALESCE( f_1_1_1.\"feature_1_1_1\", 0.0 ) > 0.976750 ) AND ( COALESCE( f_1_1_4.\"feature_1_1_4\", 0.0 ) > -0.770013 ) AND ( COALESCE( f_1_1_6.\"feature_1_1_6\", 0.0 ) <= 0.095614 ) THEN -0.7784494012686878\n",
       "        WHEN ( COALESCE( f_1_1_1.\"feature_1_1_1\", 0.0 ) > 0.976750 ) AND ( COALESCE( f_1_1_4.\"feature_1_1_4\", 0.0 ) <= -0.770013 ) AND ( COALESCE( f_1_1_9.\"feature_1_1_9\", 0.0 ) > 1.381433 ) THEN 0.383579657941867\n",
       "        WHEN ( COALESCE( f_1_1_1.\"feature_1_1_1\", 0.0 ) > 0.976750 ) AND ( COALESCE( f_1_1_4.\"feature_1_1_4\", 0.0 ) <= -0.770013 ) AND ( COALESCE( f_1_1_9.\"feature_1_1_9\", 0.0 ) <= 1.381433 ) THEN -2.134672649623828\n",
       "        WHEN ( COALESCE( f_1_1_1.\"feature_1_1_1\", 0.0 ) <= 0.976750 ) AND ( COALESCE( f_1_1_2.\"feature_1_1_2\", 0.0 ) > -0.078755 ) AND ( COALESCE( f_1_1_10.\"feature_1_1_10\", 0.0 ) > 0.568261 ) THEN -0.4115234651978266\n",
       "        WHEN ( COALESCE( f_1_1_1.\"feature_1_1_1\", 0.0 ) <= 0.976750 ) AND ( COALESCE( f_1_1_2.\"feature_1_1_2\", 0.0 ) > -0.078755 ) AND ( COALESCE( f_1_1_10.\"feature_1_1_10\", 0.0 ) <= 0.568261 ) THEN -1.44451696728863\n",
       "        WHEN ( COALESCE( f_1_1_1.\"feature_1_1_1\", 0.0 ) <= 0.976750 ) AND ( COALESCE( f_1_1_2.\"feature_1_1_2\", 0.0 ) <= -0.078755 ) AND ( COALESCE( f_1_1_3.\"feature_1_1_3\", 0.0 ) > -0.190297 ) THEN -1.854305518514725\n",
       "        WHEN ( COALESCE( f_1_1_1.\"feature_1_1_1\", 0.0 ) <= 0.976750 ) AND ( COALESCE( f_1_1_2.\"feature_1_1_2\", 0.0 ) <= -0.078755 ) AND ( COALESCE( f_1_1_3.\"feature_1_1_3\", 0.0 ) <= -0.190297 ) THEN -2.644727722737677\n",
       "        ELSE NULL\n",
       "    END\n",
       ") AS \"feature_1_9\",\n",
       "     t1.rowid AS \"rownum\"\n",
       "FROM \"actors\" t1\n",
       "LEFT JOIN \"roles\" t2\n",
       "ON t1.\"id\" = t2.\"actor_id\"\n",
       "LEFT JOIN \"movies\" t3\n",
       "ON t2.\"movie_id\" = t3.\"id\"\n",
       "LEFT JOIN \"FEATURE_1_1_1\" f_1_1_1\n",
       "ON t2.rowid = f_1_1_1.\"rownum\"\n",
       "LEFT JOIN \"FEATURE_1_1_2\" f_1_1_2\n",
       "ON t2.rowid = f_1_1_2.\"rownum\"\n",
       "LEFT JOIN \"FEATURE_1_1_3\" f_1_1_3\n",
       "ON t2.rowid = f_1_1_3.\"rownum\"\n",
       "LEFT JOIN \"FEATURE_1_1_4\" f_1_1_4\n",
       "ON t2.rowid = f_1_1_4.\"rownum\"\n",
       "LEFT JOIN \"FEATURE_1_1_6\" f_1_1_6\n",
       "ON t2.rowid = f_1_1_6.\"rownum\"\n",
       "LEFT JOIN \"FEATURE_1_1_9\" f_1_1_9\n",
       "ON t2.rowid = f_1_1_9.\"rownum\"\n",
       "LEFT JOIN \"FEATURE_1_1_10\" f_1_1_10\n",
       "ON t2.rowid = f_1_1_10.\"rownum\"\n",
       "GROUP BY t1.rowid;"
      ]
     },
     "execution_count": 44,
     "metadata": {},
     "output_type": "execute_result"
    }
   ],
   "source": [
    "names, _ = pipe.features.importances()\n",
    "\n",
    "pipe.features.to_sql()[names[0]]"
   ]
  },
  {
   "cell_type": "code",
   "execution_count": 45,
   "metadata": {},
   "outputs": [
    {
     "data": {
      "text/markdown": [
       "```sql\n",
       "DROP TABLE IF EXISTS \"FEATURE_1_3\";\n",
       "\n",
       "CREATE TABLE \"FEATURE_1_3\" AS\n",
       "SELECT AVG( \n",
       "    CASE\n",
       "        WHEN ( COALESCE( f_1_1_3.\"feature_1_1_3\", 0.0 ) > 0.412141 ) AND ( COALESCE( f_1_1_1.\"feature_1_1_1\", 0.0 ) > 0.975704 ) AND ( COALESCE( f_1_1_8.\"feature_1_1_8\", 0.0 ) > 0.174344 ) THEN 2.318667207226012\n",
       "        WHEN ( COALESCE( f_1_1_3.\"feature_1_1_3\", 0.0 ) > 0.412141 ) AND ( COALESCE( f_1_1_1.\"feature_1_1_1\", 0.0 ) > 0.975704 ) AND ( COALESCE( f_1_1_8.\"feature_1_1_8\", 0.0 ) <= 0.174344 ) THEN 1.361466629794482\n",
       "        WHEN ( COALESCE( f_1_1_3.\"feature_1_1_3\", 0.0 ) > 0.412141 ) AND ( COALESCE( f_1_1_1.\"feature_1_1_1\", 0.0 ) <= 0.975704 ) AND ( COALESCE( f_1_1_2.\"feature_1_1_2\", 0.0 ) > 0.049104 ) THEN 1.254297881205396\n",
       "        WHEN ( COALESCE( f_1_1_3.\"feature_1_1_3\", 0.0 ) > 0.412141 ) AND ( COALESCE( f_1_1_1.\"feature_1_1_1\", 0.0 ) <= 0.975704 ) AND ( COALESCE( f_1_1_2.\"feature_1_1_2\", 0.0 ) <= 0.049104 ) THEN -0.37801025983078\n",
       "        WHEN ( COALESCE( f_1_1_3.\"feature_1_1_3\", 0.0 ) <= 0.412141 ) AND ( COALESCE( f_1_1_6.\"feature_1_1_6\", 0.0 ) > -0.072895 ) AND ( COALESCE( f_1_1_5.\"feature_1_1_5\", 0.0 ) > 1.357579 ) THEN 1.705829352700627\n",
       "        WHEN ( COALESCE( f_1_1_3.\"feature_1_1_3\", 0.0 ) <= 0.412141 ) AND ( COALESCE( f_1_1_6.\"feature_1_1_6\", 0.0 ) > -0.072895 ) AND ( COALESCE( f_1_1_5.\"feature_1_1_5\", 0.0 ) <= 1.357579 ) THEN -0.05686232172955295\n",
       "        WHEN ( COALESCE( f_1_1_3.\"feature_1_1_3\", 0.0 ) <= 0.412141 ) AND ( COALESCE( f_1_1_6.\"feature_1_1_6\", 0.0 ) <= -0.072895 ) AND ( COALESCE( f_1_1_2.\"feature_1_1_2\", 0.0 ) > -0.178800 ) THEN -0.6310083244835683\n",
       "        WHEN ( COALESCE( f_1_1_3.\"feature_1_1_3\", 0.0 ) <= 0.412141 ) AND ( COALESCE( f_1_1_6.\"feature_1_1_6\", 0.0 ) <= -0.072895 ) AND ( COALESCE( f_1_1_2.\"feature_1_1_2\", 0.0 ) <= -0.178800 ) THEN -1.481887259024015\n",
       "        ELSE NULL\n",
       "    END\n",
       ") AS \"feature_1_3\",\n",
       "     t1.rowid AS \"rownum\"\n",
       "FROM \"actors\" t1\n",
       "LEFT JOIN \"roles\" t2\n",
       "ON t1.\"id\" = t2.\"actor_id\"\n",
       "LEFT JOIN \"movies\" t3\n",
       "ON t2.\"movie_id\" = t3.\"id\"\n",
       "LEFT JOIN \"FEATURE_1_1_1\" f_1_1_1\n",
       "ON t2.rowid = f_1_1_1.\"rownum\"\n",
       "LEFT JOIN \"FEATURE_1_1_2\" f_1_1_2\n",
       "ON t2.rowid = f_1_1_2.\"rownum\"\n",
       "LEFT JOIN \"FEATURE_1_1_3\" f_1_1_3\n",
       "ON t2.rowid = f_1_1_3.\"rownum\"\n",
       "LEFT JOIN \"FEATURE_1_1_5\" f_1_1_5\n",
       "ON t2.rowid = f_1_1_5.\"rownum\"\n",
       "LEFT JOIN \"FEATURE_1_1_6\" f_1_1_6\n",
       "ON t2.rowid = f_1_1_6.\"rownum\"\n",
       "LEFT JOIN \"FEATURE_1_1_8\" f_1_1_8\n",
       "ON t2.rowid = f_1_1_8.\"rownum\"\n",
       "GROUP BY t1.rowid;\n",
       "```"
      ],
      "text/plain": [
       "DROP TABLE IF EXISTS \"FEATURE_1_3\";\n",
       "\n",
       "CREATE TABLE \"FEATURE_1_3\" AS\n",
       "SELECT AVG( \n",
       "    CASE\n",
       "        WHEN ( COALESCE( f_1_1_3.\"feature_1_1_3\", 0.0 ) > 0.412141 ) AND ( COALESCE( f_1_1_1.\"feature_1_1_1\", 0.0 ) > 0.975704 ) AND ( COALESCE( f_1_1_8.\"feature_1_1_8\", 0.0 ) > 0.174344 ) THEN 2.318667207226012\n",
       "        WHEN ( COALESCE( f_1_1_3.\"feature_1_1_3\", 0.0 ) > 0.412141 ) AND ( COALESCE( f_1_1_1.\"feature_1_1_1\", 0.0 ) > 0.975704 ) AND ( COALESCE( f_1_1_8.\"feature_1_1_8\", 0.0 ) <= 0.174344 ) THEN 1.361466629794482\n",
       "        WHEN ( COALESCE( f_1_1_3.\"feature_1_1_3\", 0.0 ) > 0.412141 ) AND ( COALESCE( f_1_1_1.\"feature_1_1_1\", 0.0 ) <= 0.975704 ) AND ( COALESCE( f_1_1_2.\"feature_1_1_2\", 0.0 ) > 0.049104 ) THEN 1.254297881205396\n",
       "        WHEN ( COALESCE( f_1_1_3.\"feature_1_1_3\", 0.0 ) > 0.412141 ) AND ( COALESCE( f_1_1_1.\"feature_1_1_1\", 0.0 ) <= 0.975704 ) AND ( COALESCE( f_1_1_2.\"feature_1_1_2\", 0.0 ) <= 0.049104 ) THEN -0.37801025983078\n",
       "        WHEN ( COALESCE( f_1_1_3.\"feature_1_1_3\", 0.0 ) <= 0.412141 ) AND ( COALESCE( f_1_1_6.\"feature_1_1_6\", 0.0 ) > -0.072895 ) AND ( COALESCE( f_1_1_5.\"feature_1_1_5\", 0.0 ) > 1.357579 ) THEN 1.705829352700627\n",
       "        WHEN ( COALESCE( f_1_1_3.\"feature_1_1_3\", 0.0 ) <= 0.412141 ) AND ( COALESCE( f_1_1_6.\"feature_1_1_6\", 0.0 ) > -0.072895 ) AND ( COALESCE( f_1_1_5.\"feature_1_1_5\", 0.0 ) <= 1.357579 ) THEN -0.05686232172955295\n",
       "        WHEN ( COALESCE( f_1_1_3.\"feature_1_1_3\", 0.0 ) <= 0.412141 ) AND ( COALESCE( f_1_1_6.\"feature_1_1_6\", 0.0 ) <= -0.072895 ) AND ( COALESCE( f_1_1_2.\"feature_1_1_2\", 0.0 ) > -0.178800 ) THEN -0.6310083244835683\n",
       "        WHEN ( COALESCE( f_1_1_3.\"feature_1_1_3\", 0.0 ) <= 0.412141 ) AND ( COALESCE( f_1_1_6.\"feature_1_1_6\", 0.0 ) <= -0.072895 ) AND ( COALESCE( f_1_1_2.\"feature_1_1_2\", 0.0 ) <= -0.178800 ) THEN -1.481887259024015\n",
       "        ELSE NULL\n",
       "    END\n",
       ") AS \"feature_1_3\",\n",
       "     t1.rowid AS \"rownum\"\n",
       "FROM \"actors\" t1\n",
       "LEFT JOIN \"roles\" t2\n",
       "ON t1.\"id\" = t2.\"actor_id\"\n",
       "LEFT JOIN \"movies\" t3\n",
       "ON t2.\"movie_id\" = t3.\"id\"\n",
       "LEFT JOIN \"FEATURE_1_1_1\" f_1_1_1\n",
       "ON t2.rowid = f_1_1_1.\"rownum\"\n",
       "LEFT JOIN \"FEATURE_1_1_2\" f_1_1_2\n",
       "ON t2.rowid = f_1_1_2.\"rownum\"\n",
       "LEFT JOIN \"FEATURE_1_1_3\" f_1_1_3\n",
       "ON t2.rowid = f_1_1_3.\"rownum\"\n",
       "LEFT JOIN \"FEATURE_1_1_5\" f_1_1_5\n",
       "ON t2.rowid = f_1_1_5.\"rownum\"\n",
       "LEFT JOIN \"FEATURE_1_1_6\" f_1_1_6\n",
       "ON t2.rowid = f_1_1_6.\"rownum\"\n",
       "LEFT JOIN \"FEATURE_1_1_8\" f_1_1_8\n",
       "ON t2.rowid = f_1_1_8.\"rownum\"\n",
       "GROUP BY t1.rowid;"
      ]
     },
     "execution_count": 45,
     "metadata": {},
     "output_type": "execute_result"
    }
   ],
   "source": [
    "names, _ = pipe.features.importances()\n",
    "\n",
    "pipe.features.to_sql()[names[1]]"
   ]
  },
  {
   "cell_type": "markdown",
   "metadata": {},
   "source": [
    " "
   ]
  },
  {
   "cell_type": "markdown",
   "metadata": {},
   "source": [
    "## 3. Conclusion\n",
    "\n",
    "In this notebook we have demonstrated how getML can be applied to an e-commerce setting. In particular, we have seen how results can be improved using the built-in hyperparamater tuning routines."
   ]
  },
  {
   "cell_type": "markdown",
   "metadata": {},
   "source": [
    " "
   ]
  },
  {
   "cell_type": "markdown",
   "metadata": {},
   "source": [
    "# Next Steps\n",
    "\n",
    "This tutorial went through the basics of applying getML to relational data. If you want to learn more about getML, here are some additional tutorials and articles that will help you:\n",
    "\n",
    "__Tutorials:__\n",
    "* [Loan default prediction: Introduction to relational learning](loans_demo.ipynb)\n",
    "* [Occupancy detection: A multivariate time series example](occupancy_demo.ipynb)  \n",
    "* [Expenditure categorization: Why relational learning matters](consumer_expenditures_demo.ipynb)\n",
    "* [Disease lethality prediction: Feature engineering and the curse of dimensionality](atherosclerosis_demo.ipynb)\n",
    "* [Traffic volume prediction: Feature engineering on multivariate time series](interstate94_demo.ipynb)\n",
    "* [Air pollution prediction: Why feature learning outperforms brute-force approaches](air_pollution_demo.ipynb) \n",
    "\n",
    "\n",
    "__User Guides__ (from our [documentation](https://docs.getml.com/latest/)):\n",
    "* [Feature learning with Multirel](https://docs.getml.com/latest/user_guide/feature_engineering/feature_engineering.html#multirel)\n",
    "* [Feature learning with Relboost](https://docs.getml.com/latest/user_guide/feature_engineering/feature_engineering.html#relboost)\n"
   ]
  },
  {
   "cell_type": "markdown",
   "metadata": {},
   "source": [
    " "
   ]
  },
  {
   "cell_type": "markdown",
   "metadata": {},
   "source": [
    "# Get in contact\n",
    "\n",
    "If you have any question schedule a [call with Alex](https://go.getml.com/meetings/alexander-uhlig/getml-demo), the co-founder of getML, or write us an [email](team@getml.com). Prefer a private demo of getML? Just contact us to make an appointment."
   ]
  },
  {
   "cell_type": "markdown",
   "metadata": {},
   "source": [
    " "
   ]
  }
 ],
 "metadata": {
  "jupytext": {
   "encoding": "# -*- coding: utf-8 -*-",
   "formats": "ipynb,py:percent,md"
  },
  "kernelspec": {
   "display_name": "Python 3",
   "language": "python",
   "name": "python3"
  },
  "language_info": {
   "codemirror_mode": {
    "name": "ipython",
    "version": 3
   },
   "file_extension": ".py",
   "mimetype": "text/x-python",
   "name": "python",
   "nbconvert_exporter": "python",
   "pygments_lexer": "ipython3",
   "version": "3.7.2"
  },
  "toc": {
   "base_numbering": 1,
   "nav_menu": {},
   "number_sections": false,
   "sideBar": true,
   "skip_h1_title": false,
   "title_cell": "Table of Contents",
   "title_sidebar": "Contents",
   "toc_cell": false,
   "toc_position": {},
   "toc_section_display": true,
   "toc_window_display": true
  }
 },
 "nbformat": 4,
 "nbformat_minor": 4
}
