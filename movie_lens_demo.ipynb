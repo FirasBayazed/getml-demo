{
 "cells": [
  {
   "cell_type": "markdown",
   "metadata": {},
   "source": [
    "# MovieLens - Predicting a users's gender based on the movies they have watched\n",
    "\n",
    "...\n",
    "\n",
    "Summary:\n",
    "\n",
    "- Prediction type: __Classification model__\n",
    "- Domain: __Entertainment__\n",
    "- Prediction target: __The gender of a user__ \n",
    "- Population size: __6039__\n",
    "\n",
    "_Author: Dr. Patrick Urbanke_"
   ]
  },
  {
   "cell_type": "markdown",
   "metadata": {},
   "source": [
    " "
   ]
  },
  {
   "cell_type": "markdown",
   "metadata": {},
   "source": [
    "# Background\n",
    "\n",
    "...\n",
    "\n",
    "It has been downloaded from the [CTU Prague relational learning repository](https://relational.fit.cvut.cz/dataset/MovieLens) (Motl and Schulte, 2015)."
   ]
  },
  {
   "cell_type": "markdown",
   "metadata": {},
   "source": [
    " "
   ]
  },
  {
   "cell_type": "markdown",
   "metadata": {},
   "source": [
    "### A web frontend for getML\n",
    "\n",
    "The getML monitor is a frontend built to support your work with getML. The getML monitor displays information such as the imported data frames, trained pipelines and allows easy data and feature exploration. You can launch the getML monitor [here](http://localhost:1709)."
   ]
  },
  {
   "cell_type": "markdown",
   "metadata": {},
   "source": [
    " "
   ]
  },
  {
   "cell_type": "markdown",
   "metadata": {},
   "source": [
    "### Where is this running?\n",
    "\n",
    "Your getML live session is running inside a docker container on [mybinder.org](https://mybinder.org/), a service built by the Jupyter community and funded by Google Cloud, OVH, GESIS Notebooks and the Turing Institute. As it is a free service, this session will shut down after 10 minutes of inactivity."
   ]
  },
  {
   "cell_type": "markdown",
   "metadata": {},
   "source": [
    " "
   ]
  },
  {
   "cell_type": "markdown",
   "metadata": {},
   "source": [
    "# Analysis"
   ]
  },
  {
   "cell_type": "markdown",
   "metadata": {},
   "source": [
    "Let's get started with the analysis and set up your session:"
   ]
  },
  {
   "cell_type": "code",
   "execution_count": 1,
   "metadata": {},
   "outputs": [
    {
     "name": "stdout",
     "output_type": "stream",
     "text": [
      "\n",
      "Connected to project 'MovieLens'\n"
     ]
    }
   ],
   "source": [
    "import copy\n",
    "import os\n",
    "from urllib import request\n",
    "\n",
    "import numpy as np\n",
    "import pandas as pd\n",
    "from IPython.display import Image\n",
    "import matplotlib.pyplot as plt\n",
    "plt.style.use('seaborn')\n",
    "%matplotlib inline  \n",
    "\n",
    "from sklearn.feature_extraction.text import CountVectorizer\n",
    "\n",
    "import getml\n",
    "\n",
    "getml.engine.set_project('MovieLens')"
   ]
  },
  {
   "cell_type": "markdown",
   "metadata": {},
   "source": [
    "Tuning is effective at improving our results, but it takes quite long, so we want to make it optional:"
   ]
  },
  {
   "cell_type": "code",
   "execution_count": 2,
   "metadata": {},
   "outputs": [],
   "source": [
    "USE_FINE_TUNED = False"
   ]
  },
  {
   "cell_type": "markdown",
   "metadata": {},
   "source": [
    " "
   ]
  },
  {
   "cell_type": "markdown",
   "metadata": {},
   "source": [
    "## 1. Loading data"
   ]
  },
  {
   "cell_type": "markdown",
   "metadata": {},
   "source": [
    "### 1.1 Download from source\n",
    "\n",
    "We begin by downloading the data from the source file:"
   ]
  },
  {
   "cell_type": "code",
   "execution_count": 3,
   "metadata": {},
   "outputs": [
    {
     "data": {
      "text/plain": [
       "Connection(conn_id='default', dbname='imdb_MovieLens', dialect='mysql', \n",
       "           host='relational.fit.cvut.cz', port=3306)"
      ]
     },
     "execution_count": 3,
     "metadata": {},
     "output_type": "execute_result"
    }
   ],
   "source": [
    "conn = getml.database.connect_mariadb(\n",
    "    host=\"relational.fit.cvut.cz\",\n",
    "    dbname=\"imdb_MovieLens\",\n",
    "    port=3306,\n",
    "    user=\"guest\",\n",
    "    password=\"relational\"\n",
    ")\n",
    "\n",
    "conn"
   ]
  },
  {
   "cell_type": "code",
   "execution_count": 4,
   "metadata": {},
   "outputs": [],
   "source": [
    "def load_if_needed(name):\n",
    "    \"\"\"\n",
    "    Loads the data from the relational learning\n",
    "    repository, if the data frame has not already\n",
    "    been loaded.\n",
    "    \"\"\"\n",
    "    if not getml.data.exists(name):\n",
    "        data_frame = getml.data.DataFrame.from_db(\n",
    "            name=name,\n",
    "            table_name=name,\n",
    "            conn=conn\n",
    "        )\n",
    "        data_frame.save()\n",
    "    else:\n",
    "        data_frame = getml.data.load_data_frame(name)\n",
    "    return data_frame"
   ]
  },
  {
   "cell_type": "code",
   "execution_count": 5,
   "metadata": {},
   "outputs": [],
   "source": [
    "users = load_if_needed(\"users\")\n",
    "u2base = load_if_needed(\"u2base\")\n",
    "movies = load_if_needed(\"movies\")\n",
    "movies2directors = load_if_needed(\"movies2directors\")\n",
    "directors = load_if_needed(\"directors\")\n",
    "movies2actors = load_if_needed(\"movies2actors\")\n",
    "actors = load_if_needed(\"actors\")"
   ]
  },
  {
   "cell_type": "markdown",
   "metadata": {},
   "source": [
    " "
   ]
  },
  {
   "cell_type": "markdown",
   "metadata": {},
   "source": [
    "### 1.2 Prepare data for getML"
   ]
  },
  {
   "cell_type": "markdown",
   "metadata": {},
   "source": [
    "getML requires that we define *roles* for each of the columns."
   ]
  },
  {
   "cell_type": "code",
   "execution_count": 6,
   "metadata": {},
   "outputs": [],
   "source": [
    "users[\"target\"] = (users.u_gender == 'F')"
   ]
  },
  {
   "cell_type": "code",
   "execution_count": 7,
   "metadata": {},
   "outputs": [
    {
     "data": {
      "text/html": [
       "<table class=\"dataframe\"><thead><tr style=\"border-bottom:1pt solid LightGray;\"><th style=\"text-align: left;border-right:1pt solid LightGray;\">Name</th><th style=\"text-align: right;\">userid</th><th style=\"text-align: right;\">target</th><th style=\"text-align: right;\">occupation</th><th style=\"text-align: right;\">age</th><th style=\"text-align: right;\">u_gender</th></tr><tr><th style=\"text-align: left;border-right:1pt solid LightGray;\">Role</th><td style=\"text-align: right;\"><i>join_key</i></td><td style=\"text-align: right;\"><i>target</i></td><td style=\"text-align: right;\"><i>categorical</i></td><td style=\"text-align: right;\"><i>numerical</i></td><td style=\"text-align: right;\"><i>unused_string</i></td></tr></thead><tbody><tr style=\"border-top:1pt solid LightGray;\"><td style=\"border-right:1pt solid LightGray;\"><b>0</b></td><td>1</td><td>1</td><td>2</td><td>1</td><td>F</td></tr><tr><td style=\"border-right:1pt solid LightGray;\"><b>1</b></td><td>51</td><td>1</td><td>2</td><td>1</td><td>F</td></tr><tr><td style=\"border-right:1pt solid LightGray;\"><b>2</b></td><td>75</td><td>1</td><td>2</td><td>1</td><td>F</td></tr><tr><td style=\"border-right:1pt solid LightGray;\"><b>3</b></td><td>86</td><td>1</td><td>2</td><td>1</td><td>F</td></tr><tr><td style=\"border-right:1pt solid LightGray;\"><b>4</b></td><td>99</td><td>1</td><td>2</td><td>1</td><td>F</td></tr><tr><td style=\"border-right:1pt solid LightGray;\"><b> </b></td><td>...</td><td>...</td><td>...</td><td>...</td><td>...</td></tr><tr><td style=\"border-right:1pt solid LightGray;\"><b>6034</b></td><td>5658</td><td>0</td><td>5</td><td>56</td><td>M</td></tr><tr><td style=\"border-right:1pt solid LightGray;\"><b>6035</b></td><td>5669</td><td>0</td><td>5</td><td>56</td><td>M</td></tr><tr><td style=\"border-right:1pt solid LightGray;\"><b>6036</b></td><td>5703</td><td>0</td><td>5</td><td>56</td><td>M</td></tr><tr><td style=\"border-right:1pt solid LightGray;\"><b>6037</b></td><td>5948</td><td>0</td><td>5</td><td>56</td><td>M</td></tr><tr><td style=\"border-right:1pt solid LightGray;\"><b>6038</b></td><td>5980</td><td>0</td><td>5</td><td>56</td><td>M</td></tr></tbody></table><br>6039 rows x 5 columns<br>memory usage: 0.21 MB<br>name: users<br>type: getml.data.DataFrame<br>url: <a href=\"http://localhost:1709/#/getdataframe/MovieLens/users/\" target=\"_blank\">http://localhost:1709/#/getdataframe/MovieLens/users/</a>"
      ],
      "text/plain": [
       "Name     userid   target    occupation         age        u_gender   \n",
       "Role   join_key   target   categorical   numerical   unused_string   \n",
       "0      1          1        2             1           F               \n",
       "1      51         1        2             1           F               \n",
       "2      75         1        2             1           F               \n",
       "3      86         1        2             1           F               \n",
       "4      99         1        2             1           F               \n",
       "       ...        ...      ...           ...         ...             \n",
       "6034   5658       0        5             56          M               \n",
       "6035   5669       0        5             56          M               \n",
       "6036   5703       0        5             56          M               \n",
       "6037   5948       0        5             56          M               \n",
       "6038   5980       0        5             56          M               \n",
       "\n",
       "6039 rows x 5 columns\n",
       "memory usage: 0.21 MB\n",
       "name: users\n",
       "type: getml.data.DataFrame\n",
       "url: http://localhost:1709/#/getdataframe/MovieLens/users/"
      ]
     },
     "execution_count": 7,
     "metadata": {},
     "output_type": "execute_result"
    }
   ],
   "source": [
    "users.set_role(\"userid\", getml.data.roles.join_key)\n",
    "users.set_role(\"age\", getml.data.roles.numerical)\n",
    "users.set_role(\"occupation\", getml.data.roles.categorical)\n",
    "users.set_role(\"target\", getml.data.roles.target)\n",
    "\n",
    "users.save()"
   ]
  },
  {
   "cell_type": "code",
   "execution_count": 8,
   "metadata": {},
   "outputs": [
    {
     "data": {
      "text/html": [
       "<table class=\"dataframe\"><thead><tr style=\"border-bottom:1pt solid LightGray;\"><th style=\"text-align: left;border-right:1pt solid LightGray;\">Name  </th><th style=\"text-align: right;\">userid</th><th style=\"text-align: right;\">movieid</th><th style=\"text-align: right;\">rating</th></tr><tr><th style=\"text-align: left;border-right:1pt solid LightGray;\">Role  </th><td style=\"text-align: right;\"><i>join_key</i></td><td style=\"text-align: right;\"><i>join_key</i></td><td style=\"text-align: right;\"><i>numerical</i></td></tr></thead><tbody><tr style=\"border-top:1pt solid LightGray;\"><td style=\"border-right:1pt solid LightGray;\"><b>0</b></td><td>2</td><td>1964242</td><td>1</td></tr><tr><td style=\"border-right:1pt solid LightGray;\"><b>1</b></td><td>2</td><td>2219779</td><td>1</td></tr><tr><td style=\"border-right:1pt solid LightGray;\"><b>2</b></td><td>3</td><td>1856939</td><td>1</td></tr><tr><td style=\"border-right:1pt solid LightGray;\"><b>3</b></td><td>4</td><td>2273044</td><td>1</td></tr><tr><td style=\"border-right:1pt solid LightGray;\"><b>4</b></td><td>5</td><td>1681655</td><td>1</td></tr><tr><td style=\"border-right:1pt solid LightGray;\"><b> </b></td><td>...</td><td>...</td><td>...</td></tr><tr><td style=\"border-right:1pt solid LightGray;\"><b>996154</b></td><td>6040</td><td>2560616</td><td>5</td></tr><tr><td style=\"border-right:1pt solid LightGray;\"><b>996155</b></td><td>6040</td><td>2564194</td><td>5</td></tr><tr><td style=\"border-right:1pt solid LightGray;\"><b>996156</b></td><td>6040</td><td>2581228</td><td>5</td></tr><tr><td style=\"border-right:1pt solid LightGray;\"><b>996157</b></td><td>6040</td><td>2581428</td><td>5</td></tr><tr><td style=\"border-right:1pt solid LightGray;\"><b>996158</b></td><td>6040</td><td>2593112</td><td>5</td></tr></tbody></table><br>996159 rows x 3 columns<br>memory usage: 15.94 MB<br>name: u2base<br>type: getml.data.DataFrame<br>url: <a href=\"http://localhost:1709/#/getdataframe/MovieLens/u2base/\" target=\"_blank\">http://localhost:1709/#/getdataframe/MovieLens/u2base/</a>"
      ],
      "text/plain": [
       "Name       userid    movieid      rating   \n",
       "Role     join_key   join_key   numerical   \n",
       "0        2          1964242    1           \n",
       "1        2          2219779    1           \n",
       "2        3          1856939    1           \n",
       "3        4          2273044    1           \n",
       "4        5          1681655    1           \n",
       "         ...        ...        ...         \n",
       "996154   6040       2560616    5           \n",
       "996155   6040       2564194    5           \n",
       "996156   6040       2581228    5           \n",
       "996157   6040       2581428    5           \n",
       "996158   6040       2593112    5           \n",
       "\n",
       "996159 rows x 3 columns\n",
       "memory usage: 15.94 MB\n",
       "name: u2base\n",
       "type: getml.data.DataFrame\n",
       "url: http://localhost:1709/#/getdataframe/MovieLens/u2base/"
      ]
     },
     "execution_count": 8,
     "metadata": {},
     "output_type": "execute_result"
    }
   ],
   "source": [
    "u2base.set_role([\"userid\", \"movieid\"], getml.data.roles.join_key)\n",
    "u2base.set_role(\"rating\", getml.data.roles.numerical)\n",
    "\n",
    "u2base.save()"
   ]
  },
  {
   "cell_type": "code",
   "execution_count": 9,
   "metadata": {},
   "outputs": [
    {
     "data": {
      "text/html": [
       "<table class=\"dataframe\"><thead><tr style=\"border-bottom:1pt solid LightGray;\"><th style=\"text-align: left;border-right:1pt solid LightGray;\">Name</th><th style=\"text-align: right;\">movieid</th><th style=\"text-align: right;\">isEnglish</th><th style=\"text-align: right;\">country</th><th style=\"text-align: right;\">year</th><th style=\"text-align: right;\">runningtime</th></tr><tr><th style=\"text-align: left;border-right:1pt solid LightGray;\">Role</th><td style=\"text-align: right;\"><i>join_key</i></td><td style=\"text-align: right;\"><i>categorical</i></td><td style=\"text-align: right;\"><i>categorical</i></td><td style=\"text-align: right;\"><i>numerical</i></td><td style=\"text-align: right;\"><i>numerical</i></td></tr></thead><tbody><tr style=\"border-top:1pt solid LightGray;\"><td style=\"border-right:1pt solid LightGray;\"><b>0</b></td><td>1672052</td><td>T</td><td>other</td><td>3</td><td>2</td></tr><tr><td style=\"border-right:1pt solid LightGray;\"><b>1</b></td><td>1672111</td><td>T</td><td>other</td><td>4</td><td>2</td></tr><tr><td style=\"border-right:1pt solid LightGray;\"><b>2</b></td><td>1672580</td><td>T</td><td>USA</td><td>4</td><td>3</td></tr><tr><td style=\"border-right:1pt solid LightGray;\"><b>3</b></td><td>1672716</td><td>T</td><td>USA</td><td>4</td><td>2</td></tr><tr><td style=\"border-right:1pt solid LightGray;\"><b>4</b></td><td>1672946</td><td>T</td><td>USA</td><td>4</td><td>0</td></tr><tr><td style=\"border-right:1pt solid LightGray;\"><b> </b></td><td>...</td><td>...</td><td>...</td><td>...</td><td>...</td></tr><tr><td style=\"border-right:1pt solid LightGray;\"><b>3827</b></td><td>2591814</td><td>T</td><td>other</td><td>4</td><td>2</td></tr><tr><td style=\"border-right:1pt solid LightGray;\"><b>3828</b></td><td>2592334</td><td>T</td><td>USA</td><td>4</td><td>2</td></tr><tr><td style=\"border-right:1pt solid LightGray;\"><b>3829</b></td><td>2592963</td><td>F</td><td>France</td><td>2</td><td>2</td></tr><tr><td style=\"border-right:1pt solid LightGray;\"><b>3830</b></td><td>2593112</td><td>T</td><td>USA</td><td>4</td><td>1</td></tr><tr><td style=\"border-right:1pt solid LightGray;\"><b>3831</b></td><td>2593313</td><td>F</td><td>other</td><td>4</td><td>3</td></tr></tbody></table><br>3832 rows x 5 columns<br>memory usage: 0.11 MB<br>name: movies<br>type: getml.data.DataFrame<br>url: <a href=\"http://localhost:1709/#/getdataframe/MovieLens/movies/\" target=\"_blank\">http://localhost:1709/#/getdataframe/MovieLens/movies/</a>"
      ],
      "text/plain": [
       "Name    movieid     isEnglish       country        year   runningtime   \n",
       "Role   join_key   categorical   categorical   numerical     numerical   \n",
       "0      1672052    T             other         3           2             \n",
       "1      1672111    T             other         4           2             \n",
       "2      1672580    T             USA           4           3             \n",
       "3      1672716    T             USA           4           2             \n",
       "4      1672946    T             USA           4           0             \n",
       "       ...        ...           ...           ...         ...           \n",
       "3827   2591814    T             other         4           2             \n",
       "3828   2592334    T             USA           4           2             \n",
       "3829   2592963    F             France        2           2             \n",
       "3830   2593112    T             USA           4           1             \n",
       "3831   2593313    F             other         4           3             \n",
       "\n",
       "3832 rows x 5 columns\n",
       "memory usage: 0.11 MB\n",
       "name: movies\n",
       "type: getml.data.DataFrame\n",
       "url: http://localhost:1709/#/getdataframe/MovieLens/movies/"
      ]
     },
     "execution_count": 9,
     "metadata": {},
     "output_type": "execute_result"
    }
   ],
   "source": [
    "movies.set_role(\"movieid\", getml.data.roles.join_key)\n",
    "movies.set_role([\"year\", \"runningtime\"], getml.data.roles.numerical)\n",
    "movies.set_role([\"isEnglish\", \"country\"], getml.data.roles.categorical)\n",
    "\n",
    "movies.save()"
   ]
  },
  {
   "cell_type": "code",
   "execution_count": 10,
   "metadata": {},
   "outputs": [
    {
     "data": {
      "text/html": [
       "<table class=\"dataframe\"><thead><tr style=\"border-bottom:1pt solid LightGray;\"><th style=\"text-align: left;border-right:1pt solid LightGray;\">Name</th><th style=\"text-align: right;\">movieid</th><th style=\"text-align: right;\">directorid</th><th style=\"text-align: right;\">genre</th></tr><tr><th style=\"text-align: left;border-right:1pt solid LightGray;\">Role</th><td style=\"text-align: right;\"><i>join_key</i></td><td style=\"text-align: right;\"><i>join_key</i></td><td style=\"text-align: right;\"><i>categorical</i></td></tr></thead><tbody><tr style=\"border-top:1pt solid LightGray;\"><td style=\"border-right:1pt solid LightGray;\"><b>0</b></td><td>1672111</td><td>54934</td><td>Action</td></tr><tr><td style=\"border-right:1pt solid LightGray;\"><b>1</b></td><td>1672946</td><td>188940</td><td>Action</td></tr><tr><td style=\"border-right:1pt solid LightGray;\"><b>2</b></td><td>1679461</td><td>179783</td><td>Action</td></tr><tr><td style=\"border-right:1pt solid LightGray;\"><b>3</b></td><td>1691387</td><td>291700</td><td>Action</td></tr><tr><td style=\"border-right:1pt solid LightGray;\"><b>4</b></td><td>1693305</td><td>14663</td><td>Action</td></tr><tr><td style=\"border-right:1pt solid LightGray;\"><b> </b></td><td>...</td><td>...</td><td>...</td></tr><tr><td style=\"border-right:1pt solid LightGray;\"><b>4136</b></td><td>2570825</td><td>265215</td><td>Other</td></tr><tr><td style=\"border-right:1pt solid LightGray;\"><b>4137</b></td><td>2572478</td><td>149311</td><td>Other</td></tr><tr><td style=\"border-right:1pt solid LightGray;\"><b>4138</b></td><td>2577062</td><td>304827</td><td>Other</td></tr><tr><td style=\"border-right:1pt solid LightGray;\"><b>4139</b></td><td>2590181</td><td>270707</td><td>Other</td></tr><tr><td style=\"border-right:1pt solid LightGray;\"><b>4140</b></td><td>2591814</td><td>57348</td><td>Other</td></tr></tbody></table><br>4141 rows x 3 columns<br>memory usage: 0.05 MB<br>name: movies2directors<br>type: getml.data.DataFrame<br>url: <a href=\"http://localhost:1709/#/getdataframe/MovieLens/movies2directors/\" target=\"_blank\">http://localhost:1709/#/getdataframe/MovieLens/movies2directors/</a>"
      ],
      "text/plain": [
       "Name    movieid   directorid         genre   \n",
       "Role   join_key     join_key   categorical   \n",
       "0      1672111    54934        Action        \n",
       "1      1672946    188940       Action        \n",
       "2      1679461    179783       Action        \n",
       "3      1691387    291700       Action        \n",
       "4      1693305    14663        Action        \n",
       "       ...        ...          ...           \n",
       "4136   2570825    265215       Other         \n",
       "4137   2572478    149311       Other         \n",
       "4138   2577062    304827       Other         \n",
       "4139   2590181    270707       Other         \n",
       "4140   2591814    57348        Other         \n",
       "\n",
       "4141 rows x 3 columns\n",
       "memory usage: 0.05 MB\n",
       "name: movies2directors\n",
       "type: getml.data.DataFrame\n",
       "url: http://localhost:1709/#/getdataframe/MovieLens/movies2directors/"
      ]
     },
     "execution_count": 10,
     "metadata": {},
     "output_type": "execute_result"
    }
   ],
   "source": [
    "movies2directors.set_role([\"movieid\", \"directorid\"], getml.data.roles.join_key)\n",
    "movies2directors.set_role( \"genre\", getml.data.roles.categorical)\n",
    "\n",
    "movies2directors.save()"
   ]
  },
  {
   "cell_type": "code",
   "execution_count": 11,
   "metadata": {},
   "outputs": [
    {
     "data": {
      "text/html": [
       "<table class=\"dataframe\"><thead><tr style=\"border-bottom:1pt solid LightGray;\"><th style=\"text-align: left;border-right:1pt solid LightGray;\">Name</th><th style=\"text-align: right;\">directorid</th><th style=\"text-align: right;\">d_quality</th><th style=\"text-align: right;\">avg_revenue</th></tr><tr><th style=\"text-align: left;border-right:1pt solid LightGray;\">Role</th><td style=\"text-align: right;\"><i>join_key</i></td><td style=\"text-align: right;\"><i>numerical</i></td><td style=\"text-align: right;\"><i>numerical</i></td></tr></thead><tbody><tr style=\"border-top:1pt solid LightGray;\"><td style=\"border-right:1pt solid LightGray;\"><b>0</b></td><td>67</td><td>4</td><td>1</td></tr><tr><td style=\"border-right:1pt solid LightGray;\"><b>1</b></td><td>92</td><td>2</td><td>3</td></tr><tr><td style=\"border-right:1pt solid LightGray;\"><b>2</b></td><td>284</td><td>4</td><td>0</td></tr><tr><td style=\"border-right:1pt solid LightGray;\"><b>3</b></td><td>708</td><td>4</td><td>1</td></tr><tr><td style=\"border-right:1pt solid LightGray;\"><b>4</b></td><td>746</td><td>4</td><td>4</td></tr><tr><td style=\"border-right:1pt solid LightGray;\"><b> </b></td><td>...</td><td>...</td><td>...</td></tr><tr><td style=\"border-right:1pt solid LightGray;\"><b>2196</b></td><td>305962</td><td>4</td><td>4</td></tr><tr><td style=\"border-right:1pt solid LightGray;\"><b>2197</b></td><td>305978</td><td>4</td><td>2</td></tr><tr><td style=\"border-right:1pt solid LightGray;\"><b>2198</b></td><td>306168</td><td>3</td><td>2</td></tr><tr><td style=\"border-right:1pt solid LightGray;\"><b>2199</b></td><td>306343</td><td>4</td><td>1</td></tr><tr><td style=\"border-right:1pt solid LightGray;\"><b>2200</b></td><td>306351</td><td>4</td><td>1</td></tr></tbody></table><br>2201 rows x 3 columns<br>memory usage: 0.04 MB<br>name: directors<br>type: getml.data.DataFrame<br>url: <a href=\"http://localhost:1709/#/getdataframe/MovieLens/directors/\" target=\"_blank\">http://localhost:1709/#/getdataframe/MovieLens/directors/</a>"
      ],
      "text/plain": [
       "Name   directorid   d_quality   avg_revenue   \n",
       "Role     join_key   numerical     numerical   \n",
       "0      67           4           1             \n",
       "1      92           2           3             \n",
       "2      284          4           0             \n",
       "3      708          4           1             \n",
       "4      746          4           4             \n",
       "       ...          ...         ...           \n",
       "2196   305962       4           4             \n",
       "2197   305978       4           2             \n",
       "2198   306168       3           2             \n",
       "2199   306343       4           1             \n",
       "2200   306351       4           1             \n",
       "\n",
       "2201 rows x 3 columns\n",
       "memory usage: 0.04 MB\n",
       "name: directors\n",
       "type: getml.data.DataFrame\n",
       "url: http://localhost:1709/#/getdataframe/MovieLens/directors/"
      ]
     },
     "execution_count": 11,
     "metadata": {},
     "output_type": "execute_result"
    }
   ],
   "source": [
    "directors.set_role(\"directorid\", getml.data.roles.join_key)\n",
    "directors.set_role([\"d_quality\", \"avg_revenue\"], getml.data.roles.numerical)\n",
    "\n",
    "directors.save()"
   ]
  },
  {
   "cell_type": "code",
   "execution_count": 12,
   "metadata": {},
   "outputs": [
    {
     "data": {
      "text/html": [
       "<table class=\"dataframe\"><thead><tr style=\"border-bottom:1pt solid LightGray;\"><th style=\"text-align: left;border-right:1pt solid LightGray;\">Name  </th><th style=\"text-align: right;\">movieid</th><th style=\"text-align: right;\">actorid</th><th style=\"text-align: right;\">cast_num</th></tr><tr><th style=\"text-align: left;border-right:1pt solid LightGray;\">Role  </th><td style=\"text-align: right;\"><i>join_key</i></td><td style=\"text-align: right;\"><i>join_key</i></td><td style=\"text-align: right;\"><i>numerical</i></td></tr></thead><tbody><tr style=\"border-top:1pt solid LightGray;\"><td style=\"border-right:1pt solid LightGray;\"><b>0</b></td><td>1672580</td><td>981535</td><td>0</td></tr><tr><td style=\"border-right:1pt solid LightGray;\"><b>1</b></td><td>1672946</td><td>1094968</td><td>0</td></tr><tr><td style=\"border-right:1pt solid LightGray;\"><b>2</b></td><td>1673647</td><td>149985</td><td>0</td></tr><tr><td style=\"border-right:1pt solid LightGray;\"><b>3</b></td><td>1673647</td><td>261595</td><td>0</td></tr><tr><td style=\"border-right:1pt solid LightGray;\"><b>4</b></td><td>1673647</td><td>781357</td><td>0</td></tr><tr><td style=\"border-right:1pt solid LightGray;\"><b> </b></td><td>...</td><td>...</td><td>...</td></tr><tr><td style=\"border-right:1pt solid LightGray;\"><b>138344</b></td><td>2593313</td><td>947005</td><td>3</td></tr><tr><td style=\"border-right:1pt solid LightGray;\"><b>138345</b></td><td>2593313</td><td>1090590</td><td>3</td></tr><tr><td style=\"border-right:1pt solid LightGray;\"><b>138346</b></td><td>2593313</td><td>1347419</td><td>3</td></tr><tr><td style=\"border-right:1pt solid LightGray;\"><b>138347</b></td><td>2593313</td><td>2099917</td><td>3</td></tr><tr><td style=\"border-right:1pt solid LightGray;\"><b>138348</b></td><td>2593313</td><td>2633550</td><td>3</td></tr></tbody></table><br>138349 rows x 3 columns<br>memory usage: 2.21 MB<br>name: movies2actors<br>type: getml.data.DataFrame<br>url: <a href=\"http://localhost:1709/#/getdataframe/MovieLens/movies2actors/\" target=\"_blank\">http://localhost:1709/#/getdataframe/MovieLens/movies2actors/</a>"
      ],
      "text/plain": [
       "Name      movieid    actorid    cast_num   \n",
       "Role     join_key   join_key   numerical   \n",
       "0        1672580    981535     0           \n",
       "1        1672946    1094968    0           \n",
       "2        1673647    149985     0           \n",
       "3        1673647    261595     0           \n",
       "4        1673647    781357     0           \n",
       "         ...        ...        ...         \n",
       "138344   2593313    947005     3           \n",
       "138345   2593313    1090590    3           \n",
       "138346   2593313    1347419    3           \n",
       "138347   2593313    2099917    3           \n",
       "138348   2593313    2633550    3           \n",
       "\n",
       "138349 rows x 3 columns\n",
       "memory usage: 2.21 MB\n",
       "name: movies2actors\n",
       "type: getml.data.DataFrame\n",
       "url: http://localhost:1709/#/getdataframe/MovieLens/movies2actors/"
      ]
     },
     "execution_count": 12,
     "metadata": {},
     "output_type": "execute_result"
    }
   ],
   "source": [
    "movies2actors.set_role([\"movieid\", \"actorid\"], getml.data.roles.join_key)\n",
    "movies2actors.set_role( \"cast_num\", getml.data.roles.numerical)\n",
    "\n",
    "movies2actors.save()"
   ]
  },
  {
   "cell_type": "code",
   "execution_count": 13,
   "metadata": {},
   "outputs": [
    {
     "data": {
      "text/html": [
       "<table class=\"dataframe\"><thead><tr style=\"border-bottom:1pt solid LightGray;\"><th style=\"text-align: left;border-right:1pt solid LightGray;\">Name </th><th style=\"text-align: right;\">actorid</th><th style=\"text-align: right;\">a_gender</th><th style=\"text-align: right;\">a_quality</th></tr><tr><th style=\"text-align: left;border-right:1pt solid LightGray;\">Role </th><td style=\"text-align: right;\"><i>join_key</i></td><td style=\"text-align: right;\"><i>categorical</i></td><td style=\"text-align: right;\"><i>numerical</i></td></tr></thead><tbody><tr style=\"border-top:1pt solid LightGray;\"><td style=\"border-right:1pt solid LightGray;\"><b>0</b></td><td>4</td><td>M</td><td>4</td></tr><tr><td style=\"border-right:1pt solid LightGray;\"><b>1</b></td><td>16</td><td>M</td><td>0</td></tr><tr><td style=\"border-right:1pt solid LightGray;\"><b>2</b></td><td>28</td><td>M</td><td>4</td></tr><tr><td style=\"border-right:1pt solid LightGray;\"><b>3</b></td><td>566</td><td>M</td><td>4</td></tr><tr><td style=\"border-right:1pt solid LightGray;\"><b>4</b></td><td>580</td><td>M</td><td>4</td></tr><tr><td style=\"border-right:1pt solid LightGray;\"><b> </b></td><td>...</td><td>...</td><td>...</td></tr><tr><td style=\"border-right:1pt solid LightGray;\"><b>98685</b></td><td>2749162</td><td>F</td><td>3</td></tr><tr><td style=\"border-right:1pt solid LightGray;\"><b>98686</b></td><td>2749168</td><td>F</td><td>3</td></tr><tr><td style=\"border-right:1pt solid LightGray;\"><b>98687</b></td><td>2749204</td><td>F</td><td>3</td></tr><tr><td style=\"border-right:1pt solid LightGray;\"><b>98688</b></td><td>2749377</td><td>F</td><td>4</td></tr><tr><td style=\"border-right:1pt solid LightGray;\"><b>98689</b></td><td>2749386</td><td>F</td><td>4</td></tr></tbody></table><br>98690 rows x 3 columns<br>memory usage: 1.58 MB<br>name: actors<br>type: getml.data.DataFrame<br>url: <a href=\"http://localhost:1709/#/getdataframe/MovieLens/actors/\" target=\"_blank\">http://localhost:1709/#/getdataframe/MovieLens/actors/</a>"
      ],
      "text/plain": [
       "Name     actorid      a_gender   a_quality   \n",
       "Role    join_key   categorical   numerical   \n",
       "0       4          M             4           \n",
       "1       16         M             0           \n",
       "2       28         M             4           \n",
       "3       566        M             4           \n",
       "4       580        M             4           \n",
       "        ...        ...           ...         \n",
       "98685   2749162    F             3           \n",
       "98686   2749168    F             3           \n",
       "98687   2749204    F             3           \n",
       "98688   2749377    F             4           \n",
       "98689   2749386    F             4           \n",
       "\n",
       "98690 rows x 3 columns\n",
       "memory usage: 1.58 MB\n",
       "name: actors\n",
       "type: getml.data.DataFrame\n",
       "url: http://localhost:1709/#/getdataframe/MovieLens/actors/"
      ]
     },
     "execution_count": 13,
     "metadata": {},
     "output_type": "execute_result"
    }
   ],
   "source": [
    "actors.set_role(\"actorid\", getml.data.roles.join_key)\n",
    "actors.set_role(\"a_quality\", getml.data.roles.numerical)\n",
    "actors.set_role(\"a_gender\", getml.data.roles.categorical)\n",
    "\n",
    "actors.save()"
   ]
  },
  {
   "cell_type": "code",
   "execution_count": 50,
   "metadata": {},
   "outputs": [
    {
     "data": {
      "text/html": [
       "<table class=\"dataframe\"><thead><tr style=\"border-bottom:1pt solid LightGray;\"><th style=\"text-align: left;border-right:1pt solid LightGray;\">Name</th><th style=\"text-align: right;\">movieid</th><th style=\"text-align: right;\">avg_cast_num</th><th style=\"text-align: right;\">avg_a_quality</th><th style=\"text-align: right;\">sum_a_quality</th><th style=\"text-align: right;\">share_female</th><th style=\"text-align: right;\">num_female</th><th style=\"text-align: right;\">weighted_sum</th><th style=\"text-align: right;\">count_actors</th><th style=\"text-align: right;\">weighted_share_female</th></tr><tr><th style=\"text-align: left;border-right:1pt solid LightGray;\">Role</th><td style=\"text-align: right;\"><i>join_key</i></td><td style=\"text-align: right;\"><i>unused_float</i></td><td style=\"text-align: right;\"><i>unused_float</i></td><td style=\"text-align: right;\"><i>unused_float</i></td><td style=\"text-align: right;\"><i>unused_float</i></td><td style=\"text-align: right;\"><i>unused_float</i></td><td style=\"text-align: right;\"><i>unused_float</i></td><td style=\"text-align: right;\"><i>unused_float</i></td><td style=\"text-align: right;\"><i>unused_float</i></td></tr></thead><tbody><tr style=\"border-top:1pt solid LightGray;\"><td style=\"border-right:1pt solid LightGray;\"><b>0</b></td><td>2593313</td><td>2.13793</td><td>3.86207</td><td>112</td><td>0.517241</td><td>15</td><td>57</td><td>29</td><td>0.508929</td></tr><tr><td style=\"border-right:1pt solid LightGray;\"><b>1</b></td><td>2593112</td><td>2.4186</td><td>3.95349</td><td>170</td><td>0.232558</td><td>10</td><td>39</td><td>43</td><td>0.229412</td></tr><tr><td style=\"border-right:1pt solid LightGray;\"><b>2</b></td><td>2592963</td><td>1.5</td><td>4</td><td>40</td><td>0.2</td><td>2</td><td>8</td><td>10</td><td>0.2</td></tr><tr><td style=\"border-right:1pt solid LightGray;\"><b>3</b></td><td>2592334</td><td>2.30556</td><td>3.19444</td><td>115</td><td>0.194444</td><td>7</td><td>22</td><td>36</td><td>0.191304</td></tr><tr><td style=\"border-right:1pt solid LightGray;\"><b>4</b></td><td>2591814</td><td>1.70588</td><td>3.64706</td><td>62</td><td>0.235294</td><td>4</td><td>14</td><td>17</td><td>0.225806</td></tr><tr><td style=\"border-right:1pt solid LightGray;\"><b> </b></td><td>...</td><td>...</td><td>...</td><td>...</td><td>...</td><td>...</td><td>...</td><td>...</td><td>...</td></tr><tr><td style=\"border-right:1pt solid LightGray;\"><b>3793</b></td><td>2561802</td><td>2.32432</td><td>3.86486</td><td>143</td><td>0.27027</td><td>10</td><td>40</td><td>37</td><td>0.27972</td></tr><tr><td style=\"border-right:1pt solid LightGray;\"><b>3794</b></td><td>2562193</td><td>2.07407</td><td>3.44444</td><td>93</td><td>0.444444</td><td>12</td><td>41</td><td>27</td><td>0.44086</td></tr><tr><td style=\"border-right:1pt solid LightGray;\"><b>3795</b></td><td>2562411</td><td>1.70588</td><td>3.41176</td><td>58</td><td>0.529412</td><td>9</td><td>30</td><td>17</td><td>0.517241</td></tr><tr><td style=\"border-right:1pt solid LightGray;\"><b>3796</b></td><td>2562421</td><td>1.72222</td><td>3.88889</td><td>70</td><td>0.388889</td><td>7</td><td>27</td><td>18</td><td>0.385714</td></tr><tr><td style=\"border-right:1pt solid LightGray;\"><b>3797</b></td><td>2562503</td><td>1</td><td>3</td><td>6</td><td>0.5</td><td>1</td><td>3</td><td>2</td><td>0.5</td></tr></tbody></table><br>3798 rows x 9 columns<br>memory usage: 0.26 MB<br>name: movies2actors_movies<br>type: getml.data.DataFrame<br>url: <a href=\"http://localhost:1709/#/getdataframe/MovieLens/movies2actors_movies/\" target=\"_blank\">http://localhost:1709/#/getdataframe/MovieLens/movies2actors_movies/</a>"
      ],
      "text/plain": [
       "Name    movieid   avg_cast_num   avg_a_quality   share_female   ...     num_female   weighted_sum   \n",
       "Role   join_key   unused_float    unused_float   unused_float   ...   unused_float   unused_float   \n",
       "0      2593313    2.13793        3.86207         0.517241       ...   15             57             \n",
       "1      2593112    2.4186         3.95349         0.232558       ...   10             39             \n",
       "2      2592963    1.5            4               0.2            ...   2              8              \n",
       "3      2592334    2.30556        3.19444         0.194444       ...   7              22             \n",
       "4      2591814    1.70588        3.64706         0.235294       ...   4              14             \n",
       "       ...        ...            ...             ...            ...   ...            ...            \n",
       "3793   2561802    2.32432        3.86486         0.27027        ...   10             40             \n",
       "3794   2562193    2.07407        3.44444         0.444444       ...   12             41             \n",
       "3795   2562411    1.70588        3.41176         0.529412       ...   9              30             \n",
       "3796   2562421    1.72222        3.88889         0.388889       ...   7              27             \n",
       "3797   2562503    1              3               0.5            ...   1              3              \n",
       "\n",
       "\n",
       "\n",
       "Name   count_actors   weighted_share_female   \n",
       "Role   unused_float            unused_float   \n",
       "0      29             0.508929                \n",
       "1      43             0.229412                \n",
       "2      10             0.2                     \n",
       "3      36             0.191304                \n",
       "4      17             0.225806                \n",
       "       ...            ...                     \n",
       "3793   37             0.27972                 \n",
       "3794   27             0.44086                 \n",
       "3795   17             0.517241                \n",
       "3796   18             0.385714                \n",
       "3797   2              0.5                     \n",
       "\n",
       "3798 rows x 9 columns\n",
       "memory usage: 0.26 MB\n",
       "name: movies2actors_movies\n",
       "type: getml.data.DataFrame\n",
       "url: http://localhost:1709/#/getdataframe/MovieLens/movies2actors_movies/"
      ]
     },
     "execution_count": 50,
     "metadata": {},
     "output_type": "execute_result"
    }
   ],
   "source": [
    "movies2actors_movies = movies2actors.join(\n",
    "    \"movies2actors_movies\",\n",
    "    other=actors,\n",
    "    join_key=\"actorid\"\n",
    ")\n",
    "\n",
    "movies2actors_movies = movies2actors_movies.group_by(\n",
    "    name=\"movies2actors_movies\",\n",
    "    key=\"movieid\",\n",
    "    aggregations=[\n",
    "        movies2actors_movies.cast_num.avg(alias=\"avg_cast_num\"),\n",
    "        movies2actors_movies.a_quality.avg(alias=\"avg_a_quality\"),\n",
    "        movies2actors_movies.a_quality.sum(alias=\"sum_a_quality\"),\n",
    "        (movies2actors_movies.a_gender == 'F').as_num().avg(alias=\"share_female\"),\n",
    "        (movies2actors_movies.a_gender == 'F').as_num().sum(alias=\"num_female\"),\n",
    "        ((movies2actors_movies.a_gender == 'F').as_num() * movies2actors_movies.a_quality).sum(alias=\"weighted_sum\"),\n",
    "        movies2actors_movies.a_gender.count(alias=\"count_actors\")\n",
    "    ]\n",
    ")\n",
    "\n",
    "movies2actors_movies[\"weighted_share_female\"] = movies2actors_movies.weighted_sum / movies2actors_movies.sum_a_quality\n",
    "\n",
    "movies2actors_movies"
   ]
  },
  {
   "cell_type": "code",
   "execution_count": 51,
   "metadata": {},
   "outputs": [
    {
     "data": {
      "text/html": [
       "<table class=\"dataframe\"><thead><tr style=\"border-bottom:1pt solid LightGray;\"><th style=\"text-align: left;border-right:1pt solid LightGray;\">Name</th><th style=\"text-align: right;\">movieid</th><th style=\"text-align: right;\">avg_cast_num</th><th style=\"text-align: right;\">avg_a_quality</th><th style=\"text-align: right;\">sum_a_quality</th><th style=\"text-align: right;\">share_female</th><th style=\"text-align: right;\">num_female</th><th style=\"text-align: right;\">weighted_sum</th><th style=\"text-align: right;\">count_actors</th><th style=\"text-align: right;\">weighted_share_female</th></tr><tr><th style=\"text-align: left;border-right:1pt solid LightGray;\">Role</th><td style=\"text-align: right;\"><i>join_key</i></td><td style=\"text-align: right;\"><i>numerical</i></td><td style=\"text-align: right;\"><i>numerical</i></td><td style=\"text-align: right;\"><i>numerical</i></td><td style=\"text-align: right;\"><i>numerical</i></td><td style=\"text-align: right;\"><i>numerical</i></td><td style=\"text-align: right;\"><i>numerical</i></td><td style=\"text-align: right;\"><i>numerical</i></td><td style=\"text-align: right;\"><i>numerical</i></td></tr></thead><tbody><tr style=\"border-top:1pt solid LightGray;\"><td style=\"border-right:1pt solid LightGray;\"><b>0</b></td><td>2593313</td><td>2.13793</td><td>3.86207</td><td>112</td><td>0.517241</td><td>15</td><td>57</td><td>29</td><td>0.508929</td></tr><tr><td style=\"border-right:1pt solid LightGray;\"><b>1</b></td><td>2593112</td><td>2.4186</td><td>3.95349</td><td>170</td><td>0.232558</td><td>10</td><td>39</td><td>43</td><td>0.229412</td></tr><tr><td style=\"border-right:1pt solid LightGray;\"><b>2</b></td><td>2592963</td><td>1.5</td><td>4</td><td>40</td><td>0.2</td><td>2</td><td>8</td><td>10</td><td>0.2</td></tr><tr><td style=\"border-right:1pt solid LightGray;\"><b>3</b></td><td>2592334</td><td>2.30556</td><td>3.19444</td><td>115</td><td>0.194444</td><td>7</td><td>22</td><td>36</td><td>0.191304</td></tr><tr><td style=\"border-right:1pt solid LightGray;\"><b>4</b></td><td>2591814</td><td>1.70588</td><td>3.64706</td><td>62</td><td>0.235294</td><td>4</td><td>14</td><td>17</td><td>0.225806</td></tr><tr><td style=\"border-right:1pt solid LightGray;\"><b> </b></td><td>...</td><td>...</td><td>...</td><td>...</td><td>...</td><td>...</td><td>...</td><td>...</td><td>...</td></tr><tr><td style=\"border-right:1pt solid LightGray;\"><b>3793</b></td><td>2561802</td><td>2.32432</td><td>3.86486</td><td>143</td><td>0.27027</td><td>10</td><td>40</td><td>37</td><td>0.27972</td></tr><tr><td style=\"border-right:1pt solid LightGray;\"><b>3794</b></td><td>2562193</td><td>2.07407</td><td>3.44444</td><td>93</td><td>0.444444</td><td>12</td><td>41</td><td>27</td><td>0.44086</td></tr><tr><td style=\"border-right:1pt solid LightGray;\"><b>3795</b></td><td>2562411</td><td>1.70588</td><td>3.41176</td><td>58</td><td>0.529412</td><td>9</td><td>30</td><td>17</td><td>0.517241</td></tr><tr><td style=\"border-right:1pt solid LightGray;\"><b>3796</b></td><td>2562421</td><td>1.72222</td><td>3.88889</td><td>70</td><td>0.388889</td><td>7</td><td>27</td><td>18</td><td>0.385714</td></tr><tr><td style=\"border-right:1pt solid LightGray;\"><b>3797</b></td><td>2562503</td><td>1</td><td>3</td><td>6</td><td>0.5</td><td>1</td><td>3</td><td>2</td><td>0.5</td></tr></tbody></table><br>3798 rows x 9 columns<br>memory usage: 0.26 MB<br>name: movies2actors_movies<br>type: getml.data.DataFrame<br>url: <a href=\"http://localhost:1709/#/getdataframe/MovieLens/movies2actors_movies/\" target=\"_blank\">http://localhost:1709/#/getdataframe/MovieLens/movies2actors_movies/</a>"
      ],
      "text/plain": [
       "Name    movieid   avg_cast_num   avg_a_quality   share_female   ...   num_female   weighted_sum   \n",
       "Role   join_key      numerical       numerical      numerical   ...    numerical      numerical   \n",
       "0      2593313    2.13793        3.86207         0.517241       ...   15           57             \n",
       "1      2593112    2.4186         3.95349         0.232558       ...   10           39             \n",
       "2      2592963    1.5            4               0.2            ...   2            8              \n",
       "3      2592334    2.30556        3.19444         0.194444       ...   7            22             \n",
       "4      2591814    1.70588        3.64706         0.235294       ...   4            14             \n",
       "       ...        ...            ...             ...            ...   ...          ...            \n",
       "3793   2561802    2.32432        3.86486         0.27027        ...   10           40             \n",
       "3794   2562193    2.07407        3.44444         0.444444       ...   12           41             \n",
       "3795   2562411    1.70588        3.41176         0.529412       ...   9            30             \n",
       "3796   2562421    1.72222        3.88889         0.388889       ...   7            27             \n",
       "3797   2562503    1              3               0.5            ...   1            3              \n",
       "\n",
       "\n",
       "\n",
       "Name   count_actors   weighted_share_female   \n",
       "Role      numerical               numerical   \n",
       "0      29             0.508929                \n",
       "1      43             0.229412                \n",
       "2      10             0.2                     \n",
       "3      36             0.191304                \n",
       "4      17             0.225806                \n",
       "       ...            ...                     \n",
       "3793   37             0.27972                 \n",
       "3794   27             0.44086                 \n",
       "3795   17             0.517241                \n",
       "3796   18             0.385714                \n",
       "3797   2              0.5                     \n",
       "\n",
       "3798 rows x 9 columns\n",
       "memory usage: 0.26 MB\n",
       "name: movies2actors_movies\n",
       "type: getml.data.DataFrame\n",
       "url: http://localhost:1709/#/getdataframe/MovieLens/movies2actors_movies/"
      ]
     },
     "execution_count": 51,
     "metadata": {},
     "output_type": "execute_result"
    }
   ],
   "source": [
    "movies2actors_movies.set_role(movies2actors_movies.unused_float_names, getml.data.roles.numerical)\n",
    "\n",
    "movies2actors_movies.save()"
   ]
  },
  {
   "cell_type": "markdown",
   "metadata": {},
   "source": [
    "We need to separate our data set into a training, testing and validation set:"
   ]
  },
  {
   "cell_type": "code",
   "execution_count": 16,
   "metadata": {},
   "outputs": [],
   "source": [
    "random = users.random()\n",
    "\n",
    "is_training = (random < 0.75)\n",
    "is_test = ~is_training\n",
    "\n",
    "data_train = users.where(\"data_train\", is_training)\n",
    "data_test = users.where(\"data_test\", is_test)"
   ]
  },
  {
   "cell_type": "markdown",
   "metadata": {},
   "source": [
    " "
   ]
  },
  {
   "cell_type": "markdown",
   "metadata": {},
   "source": [
    "## 2. Predictive modelling\n",
    "\n",
    "We loaded the data and defined the roles and units. Next, we create a getML pipeline for relational learning."
   ]
  },
  {
   "cell_type": "markdown",
   "metadata": {},
   "source": [
    "### 2.1 Define relational model\n",
    "\n",
    "To get started with relational learning, we need to specify the data model."
   ]
  },
  {
   "cell_type": "code",
   "execution_count": 17,
   "metadata": {},
   "outputs": [
    {
     "data": {
      "text/html": [
       "<div style=\"height:100px;width:1660px;position:relative;\"><svg height=\"90\" width=\"1650\"><rect y=\"0\" x=\"0\" rx=\"10\" ry=\"10\" width=\"150\" height=\"90\" style=\"fill:#6829c2;stroke-width:0;\" /><text y=\"73.8\"\" x=\"75.0\" dominant-baseline=\"middle\" text-anchor=\"middle\" fill=\"white\">movies2actors_movies</text><rect x=\"51\" y=\"10\" rx=\"4\" ry=\"4\" width=\"48\" height=\"48\" style=\" fill:#6829c2;stroke:#ffffff;stroke-width:3;\" /><line x1=\"67.0\" y1=\"10\" x2=\"67.0\" y2=\"58\" style=\"stroke:white;stroke-width:3\" /><line x1=\"83.0\" y1=\"10\" x2=\"83.0\" y2=\"58\" style=\"stroke:white;stroke-width:3\" /><line x1=\"51\" y1=\"26.0\" x2=\"99\" y2=\"26.0\" style=\"stroke:white;stroke-width:3\" /><line x1=\"51\" y1=\"42.0\" x2=\"99\" y2=\"42.0\" style=\"stroke:white;stroke-width:3\" /><rect y=\"0\" x=\"500\" rx=\"10\" ry=\"10\" width=\"150\" height=\"90\" style=\"fill:#6829c2;stroke-width:0;\" /><text y=\"73.8\"\" x=\"575.0\" dominant-baseline=\"middle\" text-anchor=\"middle\" fill=\"white\">movies</text><rect x=\"551\" y=\"10\" rx=\"4\" ry=\"4\" width=\"48\" height=\"48\" style=\" fill:#6829c2;stroke:#ffffff;stroke-width:3;\" /><line x1=\"567.0\" y1=\"10\" x2=\"567.0\" y2=\"58\" style=\"stroke:white;stroke-width:3\" /><line x1=\"583.0\" y1=\"10\" x2=\"583.0\" y2=\"58\" style=\"stroke:white;stroke-width:3\" /><line x1=\"551\" y1=\"26.0\" x2=\"599\" y2=\"26.0\" style=\"stroke:white;stroke-width:3\" /><line x1=\"551\" y1=\"42.0\" x2=\"599\" y2=\"42.0\" style=\"stroke:white;stroke-width:3\" /><rect y=\"0\" x=\"1000\" rx=\"10\" ry=\"10\" width=\"150\" height=\"90\" style=\"fill:#6829c2;stroke-width:0;\" /><text y=\"73.8\"\" x=\"1075.0\" dominant-baseline=\"middle\" text-anchor=\"middle\" fill=\"white\">u2base</text><rect x=\"1051\" y=\"10\" rx=\"4\" ry=\"4\" width=\"48\" height=\"48\" style=\" fill:#6829c2;stroke:#ffffff;stroke-width:3;\" /><line x1=\"1067.0\" y1=\"10\" x2=\"1067.0\" y2=\"58\" style=\"stroke:white;stroke-width:3\" /><line x1=\"1083.0\" y1=\"10\" x2=\"1083.0\" y2=\"58\" style=\"stroke:white;stroke-width:3\" /><line x1=\"1051\" y1=\"26.0\" x2=\"1099\" y2=\"26.0\" style=\"stroke:white;stroke-width:3\" /><line x1=\"1051\" y1=\"42.0\" x2=\"1099\" y2=\"42.0\" style=\"stroke:white;stroke-width:3\" /><rect y=\"0\" x=\"1500\" rx=\"10\" ry=\"10\" width=\"150\" height=\"90\" style=\"fill:#6829c2;stroke-width:0;\" /><text y=\"73.8\"\" x=\"1575.0\" dominant-baseline=\"middle\" text-anchor=\"middle\" fill=\"white\">users</text><rect x=\"1551\" y=\"10\" rx=\"4\" ry=\"4\" width=\"48\" height=\"48\" style=\" fill:#6829c2;stroke:#ffffff;stroke-width:3;\" /><line x1=\"1567.0\" y1=\"10\" x2=\"1567.0\" y2=\"58\" style=\"stroke:white;stroke-width:3\" /><line x1=\"1583.0\" y1=\"10\" x2=\"1583.0\" y2=\"58\" style=\"stroke:white;stroke-width:3\" /><line x1=\"1551\" y1=\"26.0\" x2=\"1599\" y2=\"26.0\" style=\"stroke:white;stroke-width:3\" /><line x1=\"1551\" y1=\"42.0\" x2=\"1599\" y2=\"42.0\" style=\"stroke:white;stroke-width:3\" /><line x1=\"150\" y1=\"43.0\" x2=\"490\" y2=\"43.0\" style=\"stroke:#808080;;stroke-width:4\" /><polygon points=\"500, 43.0 490, 37.0 490, 49.0 \" style=\"fill:#808080;;stroke-width:0;\" /><rect y=\"10.0\" x=\"249.0\" rx=\"10\" ry=\"10\" width=\"150\" height=\"70\" style=\"fill:#6829c2;stroke-width:0;\" /><text dominant-baseline=\"middle\" text-anchor=\"middle\" fill=\"white\"><tspan y=\"40.0\"\" x=\"324.0\" font-size=\"7pt\" >movieid = movieid</tspan><tspan y=\"50.0\"\" x=\"324.0\" font-size=\"7pt\" >Relationship: many-to-one</tspan></text><line x1=\"650\" y1=\"43.0\" x2=\"990\" y2=\"43.0\" style=\"stroke:#808080;;stroke-width:4\" /><polygon points=\"1000, 43.0 990, 37.0 990, 49.0 \" style=\"fill:#808080;;stroke-width:0;\" /><rect y=\"10.0\" x=\"749.0\" rx=\"10\" ry=\"10\" width=\"150\" height=\"70\" style=\"fill:#6829c2;stroke-width:0;\" /><text dominant-baseline=\"middle\" text-anchor=\"middle\" fill=\"white\"><tspan y=\"40.0\"\" x=\"824.0\" font-size=\"7pt\" >movieid = movieid</tspan><tspan y=\"50.0\"\" x=\"824.0\" font-size=\"7pt\" >Relationship: many-to-one</tspan></text><line x1=\"1150\" y1=\"43.0\" x2=\"1490\" y2=\"43.0\" style=\"stroke:#808080;;stroke-width:4\" /><polygon points=\"1500, 43.0 1490, 37.0 1490, 49.0 \" style=\"fill:#808080;;stroke-width:0;\" /><rect y=\"10.0\" x=\"1249.0\" rx=\"10\" ry=\"10\" width=\"150\" height=\"70\" style=\"fill:#6829c2;stroke-width:0;\" /><text dominant-baseline=\"middle\" text-anchor=\"middle\" fill=\"white\"><tspan y=\"45.0\"\" x=\"1324.0\" font-size=\"7pt\" >userid = userid</tspan></text></svg></div>"
      ],
      "text/plain": [
       "placeholder      other placeholder   allow lagged targets   horizon   join keys used   ...   \n",
       "users         u2base                 False                  0.0       userid           ...   \n",
       "u2base        movies                 False                  0.0       movieid          ...   \n",
       "movies        movies2actors_movies   False                  0.0       movieid          ...   \n",
       "\n",
       "\n",
       "\n",
       "other join keys used   other time stamps used   relationship   time stamps used   \n",
       "userid                                          many-to-many                      \n",
       "movieid                                         many-to-one                       \n",
       "movieid                                         many-to-one                       \n",
       "\n",
       "\n",
       "\n",
       "other join keys used   upper time stamps used   \n",
       "userid                                          \n",
       "movieid                                         \n",
       "movieid                                         "
      ]
     },
     "execution_count": 17,
     "metadata": {},
     "output_type": "execute_result"
    }
   ],
   "source": [
    "users_ph = getml.data.Placeholder('users')\n",
    "u2base_ph = getml.data.Placeholder('u2base')\n",
    "movies_ph = getml.data.Placeholder('movies')\n",
    "movies2directors_ph = getml.data.Placeholder('movies2directors')\n",
    "directors_ph = getml.data.Placeholder('directors')\n",
    "movies2actors_movies_ph = getml.data.Placeholder('movies2actors_movies')\n",
    "\n",
    "users_ph.join(\n",
    "    u2base_ph,\n",
    "    join_key='userid'\n",
    ")\n",
    "\n",
    "u2base_ph.join(\n",
    "    movies_ph,\n",
    "    join_key='movieid',\n",
    "    relationship=getml.data.relationship.many_to_one\n",
    ")\n",
    "\n",
    "#movies_ph.join(\n",
    "#    movies2directors_ph,\n",
    "#    join_key='movieid'\n",
    "#)\n",
    "\n",
    "movies2directors_ph.join(\n",
    "    directors_ph,\n",
    "    join_key='directorid',\n",
    "    relationship=getml.data.relationship.many_to_one\n",
    ")\n",
    "\n",
    "movies_ph.join(\n",
    "    movies2actors_movies_ph,\n",
    "    join_key='movieid',\n",
    "    relationship=getml.data.relationship.many_to_one\n",
    ")\n",
    "\n",
    "users_ph"
   ]
  },
  {
   "cell_type": "markdown",
   "metadata": {},
   "source": [
    " "
   ]
  },
  {
   "cell_type": "markdown",
   "metadata": {},
   "source": [
    "### 2.2 getML pipeline"
   ]
  },
  {
   "cell_type": "markdown",
   "metadata": {},
   "source": [
    "<!-- #### 2.1.1  -->\n",
    "__Set-up the feature learner & predictor__"
   ]
  },
  {
   "cell_type": "markdown",
   "metadata": {},
   "source": [
    "We can either use the relboost default parameters or some more fine-tuned parameters. Fine-tuning these parameters in this way can increase our predictive accuracy to 85%, but the training time increases to over 4 hours. We therefore assume that we want to use the default parameters."
   ]
  },
  {
   "cell_type": "code",
   "execution_count": 52,
   "metadata": {},
   "outputs": [],
   "source": [
    "relboost = getml.feature_learning.RelMTModel(\n",
    "    num_features=10,\n",
    "    num_subfeatures=5,\n",
    "    loss_function=getml.feature_learning.loss_functions.CrossEntropyLoss,\n",
    "    seed=4367,\n",
    "    num_threads=1\n",
    ")\n",
    "\n",
    "predictor = getml.predictors.XGBoostClassifier()"
   ]
  },
  {
   "cell_type": "markdown",
   "metadata": {},
   "source": [
    "__Build the pipeline__"
   ]
  },
  {
   "cell_type": "code",
   "execution_count": 56,
   "metadata": {},
   "outputs": [],
   "source": [
    "peripheral_ph = [\n",
    "    u2base_ph, \n",
    "    movies_ph, \n",
    "    movies2directors_ph, \n",
    "    directors_ph, \n",
    "    movies2actors_movies_ph\n",
    "]\n",
    "\n",
    "pipe = getml.pipeline.Pipeline(\n",
    "    tags=['relmt'],\n",
    "    population=users_ph,\n",
    "    peripheral=peripheral_ph,\n",
    "    feature_learners=[relboost],\n",
    "    #feature_selectors=[feature_selector],\n",
    "    predictors=[predictor]\n",
    ")"
   ]
  },
  {
   "cell_type": "markdown",
   "metadata": {},
   "source": [
    " "
   ]
  },
  {
   "cell_type": "markdown",
   "metadata": {},
   "source": [
    "### 2.3 Model training"
   ]
  },
  {
   "cell_type": "code",
   "execution_count": 20,
   "metadata": {},
   "outputs": [],
   "source": [
    "peripheral = {\n",
    "    \"u2base\": u2base, \n",
    "    \"movies\": movies, \n",
    "    \"movies2directors\": movies2directors,\n",
    "    \"directors\": directors,\n",
    "    \"movies2actors_movies\": movies2actors_movies\n",
    "}"
   ]
  },
  {
   "cell_type": "code",
   "execution_count": 21,
   "metadata": {},
   "outputs": [
    {
     "name": "stdout",
     "output_type": "stream",
     "text": [
      "Checking data model...\n",
      "OK.\n"
     ]
    }
   ],
   "source": [
    "pipe.check(data_train, peripheral)"
   ]
  },
  {
   "cell_type": "code",
   "execution_count": 57,
   "metadata": {},
   "outputs": [
    {
     "name": "stdout",
     "output_type": "stream",
     "text": [
      "Checking data model...\n",
      "OK.\n",
      "\n",
      "Retrieving features (because a similar feature learner has already been fitted)...\n",
      "[========================================] 100%\n",
      "\n",
      "RelMT: Building features...\n",
      "[========================================] 100%\n",
      "\n",
      "Trained pipeline.\n",
      "Time taken: 0h:0m:2.599881\n",
      "\n"
     ]
    },
    {
     "data": {
      "text/html": [
       "<pre>Pipeline(preprocessors=[], feature_learners=['RelMTModel'], <br>         feature_selectors=[], include_categorical=False, <br>         peripheral=['u2base', 'movies', 'movies2directors', 'directors', 'movies2actors_movies'], <br>         population='users', predictors=['XGBoostClassifier'], tags=['relmt'], <br>         share_selected_features=0.5)</pre><br><pre>url: <a href=\"http://localhost:1709/#/getpipeline/MovieLens/TNJEyg/0/\" target=\"_blank\">http://localhost:1709/#/getpipeline/MovieLens/TNJEyg/0/</a></pre>"
      ],
      "text/plain": [
       "Pipeline(preprocessors=[], feature_learners=['RelMTModel'], \n",
       "         feature_selectors=[], include_categorical=False, \n",
       "         peripheral=['u2base', 'movies', 'movies2directors', 'directors', 'movies2actors_movies'], \n",
       "         population='users', predictors=['XGBoostClassifier'], tags=['relmt'], \n",
       "         share_selected_features=0.5)\n",
       "\n",
       "url: http://localhost:1709/#/getpipeline/MovieLens/TNJEyg/0/"
      ]
     },
     "execution_count": 57,
     "metadata": {},
     "output_type": "execute_result"
    }
   ],
   "source": [
    "pipe.fit(data_train, peripheral)"
   ]
  },
  {
   "cell_type": "markdown",
   "metadata": {},
   "source": [
    " "
   ]
  },
  {
   "cell_type": "markdown",
   "metadata": {},
   "source": [
    "### 2.4 Model evaluation"
   ]
  },
  {
   "cell_type": "code",
   "execution_count": 58,
   "metadata": {
    "lines_to_next_cell": 0
   },
   "outputs": [
    {
     "name": "stdout",
     "output_type": "stream",
     "text": [
      "\n",
      "RelMT: Building features...\n",
      "[========================================] 100%\n",
      "\n"
     ]
    },
    {
     "data": {
      "text/html": [
       "<table class=\"dataframe\"><thead><tr style=\"border-bottom:1pt solid LightGray;\"><th style=\"text-align: left;border-right:1pt solid LightGray;\"> </th><th style=\"text-align: right;\">date time          </th><th style=\"text-align: right;\">set used  </th><th style=\"text-align: right;\">target</th><th style=\"text-align: right;\">accuracy</th><th style=\"text-align: right;\">     auc</th><th style=\"text-align: right;\">cross entropy</th></tr></thead><tbody><tr style=\"border-top:1pt solid LightGray;\"><td style=\"border-right:1pt solid LightGray;\"><b>0</b></td><td>2021-01-06 00:37:13</td><td>data_train</td><td>target</td><td> 0.83790</td><td> 0.89227</td><td>      0.36563</td></tr><tr><td style=\"border-right:1pt solid LightGray;\"><b>1</b></td><td>2021-01-06 00:37:18</td><td>data_test </td><td>target</td><td> 0.80079</td><td> 0.83221</td><td>      0.44207</td></tr></tbody></table>"
      ],
      "text/plain": [
       "    date time             set used     target   accuracy        auc   cross entropy\n",
       "0   2021-01-06 00:37:13   data_train   target    0.83790    0.89227         0.36563\n",
       "1   2021-01-06 00:37:18   data_test    target    0.80079    0.83221         0.44207"
      ]
     },
     "execution_count": 58,
     "metadata": {},
     "output_type": "execute_result"
    }
   ],
   "source": [
    "pipe.score(data_test, peripheral)"
   ]
  },
  {
   "cell_type": "markdown",
   "metadata": {},
   "source": [
    " "
   ]
  },
  {
   "cell_type": "markdown",
   "metadata": {},
   "source": [
    "### 2.6 Studying features"
   ]
  },
  {
   "cell_type": "markdown",
   "metadata": {},
   "source": [
    "__Feature correlations__\n",
    "\n",
    "We want to analyze how the features are correlated with the target variable."
   ]
  },
  {
   "cell_type": "code",
   "execution_count": 24,
   "metadata": {},
   "outputs": [
    {
     "data": {
      "image/png": "[encoded data removed]",
      "text/plain": [
       "<Figure size 1440x720 with 1 Axes>"
      ]
     },
     "metadata": {
      "needs_background": "light"
     },
     "output_type": "display_data"
    }
   ],
   "source": [
    "names, correlations = pipe.features.correlations()\n",
    "\n",
    "plt.subplots(figsize=(20, 10))\n",
    "\n",
    "plt.bar(names, correlations, color='#6829c2')\n",
    "\n",
    "plt.title('Feature Correlations')\n",
    "plt.xlabel('Features')\n",
    "plt.ylabel('Correlations')\n",
    "plt.xticks(rotation='vertical')\n",
    "plt.show()"
   ]
  },
  {
   "cell_type": "code",
   "execution_count": 25,
   "metadata": {},
   "outputs": [
    {
     "data": {
      "text/markdown": [
       "```sql\n",
       "DROP TABLE IF EXISTS \"FEATURE_1_2\";\n",
       "\n",
       "CREATE TABLE \"FEATURE_1_2\" AS\n",
       "SELECT AVG( \n",
       "    CASE\n",
       "        WHEN ( t4.\"share_female\" > 0.381295 ) AND ( t4.\"AVG_cast_num\" > 2.336732 ) THEN COALESCE( t1.\"age\" - 30.71256038647343, 0.0 ) * -0.1640299362326539 + COALESCE( t2.\"rating\" - 3.573428476587708, 0.0 ) * 3.63063700446265 + COALESCE( t3.\"year\" - 3.634615265667814, 0.0 ) * -4.003393040761372 + COALESCE( t3.\"runningtime\" - 2.316290155312222, 0.0 ) * 1.843260118449555 + COALESCE( t4.\"num_female\" - 12.47199823513524, 0.0 ) * 0.5678403348865059 + COALESCE( t4.\"COUNT_actors\" - 43.92090890535088, 0.0 ) * -0.6507091016752605 + COALESCE( t4.\"AVG_cast_num\" - 2.174432172040184, 0.0 ) * 42.21754547528068 + COALESCE( t4.\"AVG_a_quality\" - 3.585857796748144, 0.0 ) * -4.751761317888637 + COALESCE( t4.\"share_female\" - 0.2845349121667481, 0.0 ) * -16.67709862228532 + 2.0897064768174999e-02\n",
       "        WHEN ( t4.\"share_female\" > 0.381295 ) AND ( t4.\"AVG_cast_num\" <= 2.336732 OR t4.\"AVG_cast_num\" IS NULL ) THEN COALESCE( t1.\"age\" - 30.71256038647343, 0.0 ) * -0.08789574061165577 + COALESCE( t2.\"rating\" - 3.573428476587708, 0.0 ) * 0.1123071435585898 + COALESCE( t3.\"year\" - 3.634615265667814, 0.0 ) * -2.519298571306062 + COALESCE( t3.\"runningtime\" - 2.316290155312222, 0.0 ) * 3.100743682674741 + COALESCE( t4.\"num_female\" - 12.47199823513524, 0.0 ) * 0.384146433327175 + COALESCE( t4.\"COUNT_actors\" - 43.92090890535088, 0.0 ) * -0.2570369573406673 + COALESCE( t4.\"AVG_cast_num\" - 2.174432172040184, 0.0 ) * -4.894825566399654 + COALESCE( t4.\"AVG_a_quality\" - 3.585857796748144, 0.0 ) * 1.705966037423575 + COALESCE( t4.\"share_female\" - 0.2845349121667481, 0.0 ) * -23.16192420158488 + 1.2014972103599706e-02\n",
       "        WHEN ( t4.\"share_female\" <= 0.381295 OR t4.\"share_female\" IS NULL ) AND ( t4.\"COUNT_actors\" > 75.000000 ) THEN COALESCE( t1.\"age\" - 30.71256038647343, 0.0 ) * 0.06822522772047232 + COALESCE( t2.\"rating\" - 3.573428476587708, 0.0 ) * 0.2740718972362705 + COALESCE( t3.\"year\" - 3.634615265667814, 0.0 ) * -4.500351649334385 + COALESCE( t3.\"runningtime\" - 2.316290155312222, 0.0 ) * 9.486814766315385 + COALESCE( t4.\"num_female\" - 12.47199823513524, 0.0 ) * 0.2105348674114316 + COALESCE( t4.\"COUNT_actors\" - 43.92090890535088, 0.0 ) * -0.1096448607941439 + COALESCE( t4.\"AVG_cast_num\" - 2.174432172040184, 0.0 ) * -3.973459930615083 + COALESCE( t4.\"AVG_a_quality\" - 3.585857796748144, 0.0 ) * 3.197558808200108 + COALESCE( t4.\"share_female\" - 0.2845349121667481, 0.0 ) * 15.45354763362947 + -1.8342370206178040e-02\n",
       "        WHEN ( t4.\"share_female\" <= 0.381295 OR t4.\"share_female\" IS NULL ) AND ( t4.\"COUNT_actors\" <= 75.000000 OR t4.\"COUNT_actors\" IS NULL ) THEN COALESCE( t1.\"age\" - 30.71256038647343, 0.0 ) * 0.01856235930965308 + COALESCE( t2.\"rating\" - 3.573428476587708, 0.0 ) * -0.4524474923247442 + COALESCE( t3.\"year\" - 3.634615265667814, 0.0 ) * 0.6955614237954107 + COALESCE( t3.\"runningtime\" - 2.316290155312222, 0.0 ) * -0.06870092208719955 + COALESCE( t4.\"num_female\" - 12.47199823513524, 0.0 ) * 0.02534104864847198 + COALESCE( t4.\"COUNT_actors\" - 43.92090890535088, 0.0 ) * 0.02435536120432719 + COALESCE( t4.\"AVG_cast_num\" - 2.174432172040184, 0.0 ) * -1.976922202041517 + COALESCE( t4.\"AVG_a_quality\" - 3.585857796748144, 0.0 ) * 0.4932388751627604 + COALESCE( t4.\"share_female\" - 0.2845349121667481, 0.0 ) * 12.80047232844098 + -5.1692061616123832e-03\n",
       "        ELSE NULL\n",
       "    END\n",
       ") AS \"feature_1_2\",\n",
       "     t1.rowid AS \"rownum\"\n",
       "FROM \"users\" t1\n",
       "LEFT JOIN \"u2base\" t2\n",
       "ON t1.\"userid\" = t2.\"userid\"\n",
       "LEFT JOIN \"movies\" t3\n",
       "ON t2.\"movieid\" = t3.\"movieid\"\n",
       "LEFT JOIN \"movies2actors_movies\" t4\n",
       "ON t3.\"movieid\" = t4.\"movieid\"\n",
       "GROUP BY t1.rowid;\n",
       "\n",
       "\n",
       "DROP TABLE IF EXISTS \"FEATURES\";\n",
       "\n",
       "CREATE TABLE \"FEATURES\" AS\n",
       "SELECT        CAST( COALESCE( f_1_2.\"feature_1_2\", 0.0 ) AS REAL ) AS \"feature_1_2\",\n",
       "CAST( t1.\"target\" AS REAL ) AS \"target_1__target\"\n",
       "FROM \"users\" t1\n",
       "LEFT JOIN \"FEATURE_1_2\" f_1_2\n",
       "ON t1.rowid = f_1_2.\"rownum\"\n",
       "ORDER BY t1.rowid;\n",
       "\n",
       "DROP TABLE IF EXISTS \"FEATURE_1_2\";\n",
       "\n",
       "```"
      ],
      "text/plain": [
       "DROP TABLE IF EXISTS \"FEATURE_1_2\";\n",
       "\n",
       "CREATE TABLE \"FEATURE_1_2\" AS\n",
       "SELECT AVG( \n",
       "    CASE\n",
       "        WHEN ( t4.\"share_female\" > 0.381295 ) AND ( t4.\"AVG_cast_num\" > 2.336732 ) THEN COALESCE( t1.\"age\" - 30.71256038647343, 0.0 ) * -0.1640299362326539 + COALESCE( t2.\"rating\" - 3.573428476587708, 0.0 ) * 3.63063700446265 + COALESCE( t3.\"year\" - 3.634615265667814, 0.0 ) * -4.003393040761372 + COALESCE( t3.\"runningtime\" - 2.316290155312222, 0.0 ) * 1.843260118449555 + COALESCE( t4.\"num_female\" - 12.47199823513524, 0.0 ) * 0.5678403348865059 + COALESCE( t4.\"COUNT_actors\" - 43.92090890535088, 0.0 ) * -0.6507091016752605 + COALESCE( t4.\"AVG_cast_num\" - 2.174432172040184, 0.0 ) * 42.21754547528068 + COALESCE( t4.\"AVG_a_quality\" - 3.585857796748144, 0.0 ) * -4.751761317888637 + COALESCE( t4.\"share_female\" - 0.2845349121667481, 0.0 ) * -16.67709862228532 + 2.0897064768174999e-02\n",
       "        WHEN ( t4.\"share_female\" > 0.381295 ) AND ( t4.\"AVG_cast_num\" <= 2.336732 OR t4.\"AVG_cast_num\" IS NULL ) THEN COALESCE( t1.\"age\" - 30.71256038647343, 0.0 ) * -0.08789574061165577 + COALESCE( t2.\"rating\" - 3.573428476587708, 0.0 ) * 0.1123071435585898 + COALESCE( t3.\"year\" - 3.634615265667814, 0.0 ) * -2.519298571306062 + COALESCE( t3.\"runningtime\" - 2.316290155312222, 0.0 ) * 3.100743682674741 + COALESCE( t4.\"num_female\" - 12.47199823513524, 0.0 ) * 0.384146433327175 + COALESCE( t4.\"COUNT_actors\" - 43.92090890535088, 0.0 ) * -0.2570369573406673 + COALESCE( t4.\"AVG_cast_num\" - 2.174432172040184, 0.0 ) * -4.894825566399654 + COALESCE( t4.\"AVG_a_quality\" - 3.585857796748144, 0.0 ) * 1.705966037423575 + COALESCE( t4.\"share_female\" - 0.2845349121667481, 0.0 ) * -23.16192420158488 + 1.2014972103599706e-02\n",
       "        WHEN ( t4.\"share_female\" <= 0.381295 OR t4.\"share_female\" IS NULL ) AND ( t4.\"COUNT_actors\" > 75.000000 ) THEN COALESCE( t1.\"age\" - 30.71256038647343, 0.0 ) * 0.06822522772047232 + COALESCE( t2.\"rating\" - 3.573428476587708, 0.0 ) * 0.2740718972362705 + COALESCE( t3.\"year\" - 3.634615265667814, 0.0 ) * -4.500351649334385 + COALESCE( t3.\"runningtime\" - 2.316290155312222, 0.0 ) * 9.486814766315385 + COALESCE( t4.\"num_female\" - 12.47199823513524, 0.0 ) * 0.2105348674114316 + COALESCE( t4.\"COUNT_actors\" - 43.92090890535088, 0.0 ) * -0.1096448607941439 + COALESCE( t4.\"AVG_cast_num\" - 2.174432172040184, 0.0 ) * -3.973459930615083 + COALESCE( t4.\"AVG_a_quality\" - 3.585857796748144, 0.0 ) * 3.197558808200108 + COALESCE( t4.\"share_female\" - 0.2845349121667481, 0.0 ) * 15.45354763362947 + -1.8342370206178040e-02\n",
       "        WHEN ( t4.\"share_female\" <= 0.381295 OR t4.\"share_female\" IS NULL ) AND ( t4.\"COUNT_actors\" <= 75.000000 OR t4.\"COUNT_actors\" IS NULL ) THEN COALESCE( t1.\"age\" - 30.71256038647343, 0.0 ) * 0.01856235930965308 + COALESCE( t2.\"rating\" - 3.573428476587708, 0.0 ) * -0.4524474923247442 + COALESCE( t3.\"year\" - 3.634615265667814, 0.0 ) * 0.6955614237954107 + COALESCE( t3.\"runningtime\" - 2.316290155312222, 0.0 ) * -0.06870092208719955 + COALESCE( t4.\"num_female\" - 12.47199823513524, 0.0 ) * 0.02534104864847198 + COALESCE( t4.\"COUNT_actors\" - 43.92090890535088, 0.0 ) * 0.02435536120432719 + COALESCE( t4.\"AVG_cast_num\" - 2.174432172040184, 0.0 ) * -1.976922202041517 + COALESCE( t4.\"AVG_a_quality\" - 3.585857796748144, 0.0 ) * 0.4932388751627604 + COALESCE( t4.\"share_female\" - 0.2845349121667481, 0.0 ) * 12.80047232844098 + -5.1692061616123832e-03\n",
       "        ELSE NULL\n",
       "    END\n",
       ") AS \"feature_1_2\",\n",
       "     t1.rowid AS \"rownum\"\n",
       "FROM \"users\" t1\n",
       "LEFT JOIN \"u2base\" t2\n",
       "ON t1.\"userid\" = t2.\"userid\"\n",
       "LEFT JOIN \"movies\" t3\n",
       "ON t2.\"movieid\" = t3.\"movieid\"\n",
       "LEFT JOIN \"movies2actors_movies\" t4\n",
       "ON t3.\"movieid\" = t4.\"movieid\"\n",
       "GROUP BY t1.rowid;\n",
       "\n",
       "\n",
       "DROP TABLE IF EXISTS \"FEATURES\";\n",
       "\n",
       "CREATE TABLE \"FEATURES\" AS\n",
       "SELECT        CAST( COALESCE( f_1_2.\"feature_1_2\", 0.0 ) AS REAL ) AS \"feature_1_2\",\n",
       "CAST( t1.\"target\" AS REAL ) AS \"target_1__target\"\n",
       "FROM \"users\" t1\n",
       "LEFT JOIN \"FEATURE_1_2\" f_1_2\n",
       "ON t1.rowid = f_1_2.\"rownum\"\n",
       "ORDER BY t1.rowid;\n",
       "\n",
       "DROP TABLE IF EXISTS \"FEATURE_1_2\";"
      ]
     },
     "execution_count": 25,
     "metadata": {},
     "output_type": "execute_result"
    }
   ],
   "source": [
    "pipe.features.to_sql()"
   ]
  },
  {
   "cell_type": "markdown",
   "metadata": {},
   "source": [
    " "
   ]
  },
  {
   "cell_type": "markdown",
   "metadata": {},
   "source": [
    "__Feature importances__\n",
    " \n",
    "Feature importances are calculated by analyzing the improvement in predictive accuracy on each node of the trees in the XGBoost predictor. They are then normalized, so that all importances add up to 100%."
   ]
  },
  {
   "cell_type": "code",
   "execution_count": 26,
   "metadata": {
    "lines_to_next_cell": 0
   },
   "outputs": [
    {
     "data": {
      "image/png": "[encoded data removed]",
      "text/plain": [
       "<Figure size 1440x720 with 1 Axes>"
      ]
     },
     "metadata": {
      "needs_background": "light"
     },
     "output_type": "display_data"
    }
   ],
   "source": [
    "names, importances = pipe.features.importances()\n",
    "\n",
    "plt.subplots(figsize=(20, 10))\n",
    "\n",
    "plt.bar(names, importances, color='#6829c2')\n",
    "\n",
    "plt.title('Feature Importances')\n",
    "plt.xlabel('Features')\n",
    "plt.ylabel('Importances')\n",
    "plt.xticks(rotation='vertical')\n",
    "plt.show()\n",
    "\n",
    "most_important = names[0]"
   ]
  },
  {
   "cell_type": "markdown",
   "metadata": {},
   "source": [
    "  "
   ]
  },
  {
   "cell_type": "markdown",
   "metadata": {},
   "source": [
    "__Column importances__\n",
    "\n",
    "Because getML uses relational learning, we can apply the principles we used to calculate the feature importances to individual columns as well.\n",
    "\n",
    "As we can see, most of the predictive accuracy is drawn from the roles played by the actors. This suggests that the text fields contained in this relational database have a higher impact on predictive accuracy than for most other data sets."
   ]
  },
  {
   "cell_type": "code",
   "execution_count": 27,
   "metadata": {},
   "outputs": [
    {
     "data": {
      "image/png": "[encoded data removed]",
      "text/plain": [
       "<Figure size 1440x720 with 1 Axes>"
      ]
     },
     "metadata": {
      "needs_background": "light"
     },
     "output_type": "display_data"
    }
   ],
   "source": [
    "names, importances = pipe.columns.importances()\n",
    "\n",
    "plt.subplots(figsize=(20, 10))\n",
    "\n",
    "plt.bar(names, importances, color='#6829c2')\n",
    "\n",
    "plt.title('Columns importances')\n",
    "plt.xlabel('Columns')\n",
    "plt.ylabel('Importances')\n",
    "plt.xticks(rotation='vertical')\n",
    "plt.show()\n",
    "\n",
    "most_important = names[0]"
   ]
  },
  {
   "cell_type": "markdown",
   "metadata": {},
   "source": [
    " "
   ]
  },
  {
   "cell_type": "markdown",
   "metadata": {},
   "source": [
    "__Transpiling the learned features__\n",
    "\n",
    "We can also transpile the learned features to SQLite3 code. We want to show the two most important features. That is why we call the `.features.importances().` method again. The names that are returned are already sorted by importance."
   ]
  },
  {
   "cell_type": "markdown",
   "metadata": {},
   "source": [
    " "
   ]
  },
  {
   "cell_type": "code",
   "execution_count": 28,
   "metadata": {},
   "outputs": [
    {
     "data": {
      "text/markdown": [
       "```sql\n",
       "DROP TABLE IF EXISTS \"FEATURE_1_2\";\n",
       "\n",
       "CREATE TABLE \"FEATURE_1_2\" AS\n",
       "SELECT AVG( \n",
       "    CASE\n",
       "        WHEN ( t4.\"share_female\" > 0.381295 ) AND ( t4.\"AVG_cast_num\" > 2.336732 ) THEN COALESCE( t1.\"age\" - 30.71256038647343, 0.0 ) * -0.1640299362326539 + COALESCE( t2.\"rating\" - 3.573428476587708, 0.0 ) * 3.63063700446265 + COALESCE( t3.\"year\" - 3.634615265667814, 0.0 ) * -4.003393040761372 + COALESCE( t3.\"runningtime\" - 2.316290155312222, 0.0 ) * 1.843260118449555 + COALESCE( t4.\"num_female\" - 12.47199823513524, 0.0 ) * 0.5678403348865059 + COALESCE( t4.\"COUNT_actors\" - 43.92090890535088, 0.0 ) * -0.6507091016752605 + COALESCE( t4.\"AVG_cast_num\" - 2.174432172040184, 0.0 ) * 42.21754547528068 + COALESCE( t4.\"AVG_a_quality\" - 3.585857796748144, 0.0 ) * -4.751761317888637 + COALESCE( t4.\"share_female\" - 0.2845349121667481, 0.0 ) * -16.67709862228532 + 2.0897064768174999e-02\n",
       "        WHEN ( t4.\"share_female\" > 0.381295 ) AND ( t4.\"AVG_cast_num\" <= 2.336732 OR t4.\"AVG_cast_num\" IS NULL ) THEN COALESCE( t1.\"age\" - 30.71256038647343, 0.0 ) * -0.08789574061165577 + COALESCE( t2.\"rating\" - 3.573428476587708, 0.0 ) * 0.1123071435585898 + COALESCE( t3.\"year\" - 3.634615265667814, 0.0 ) * -2.519298571306062 + COALESCE( t3.\"runningtime\" - 2.316290155312222, 0.0 ) * 3.100743682674741 + COALESCE( t4.\"num_female\" - 12.47199823513524, 0.0 ) * 0.384146433327175 + COALESCE( t4.\"COUNT_actors\" - 43.92090890535088, 0.0 ) * -0.2570369573406673 + COALESCE( t4.\"AVG_cast_num\" - 2.174432172040184, 0.0 ) * -4.894825566399654 + COALESCE( t4.\"AVG_a_quality\" - 3.585857796748144, 0.0 ) * 1.705966037423575 + COALESCE( t4.\"share_female\" - 0.2845349121667481, 0.0 ) * -23.16192420158488 + 1.2014972103599706e-02\n",
       "        WHEN ( t4.\"share_female\" <= 0.381295 OR t4.\"share_female\" IS NULL ) AND ( t4.\"COUNT_actors\" > 75.000000 ) THEN COALESCE( t1.\"age\" - 30.71256038647343, 0.0 ) * 0.06822522772047232 + COALESCE( t2.\"rating\" - 3.573428476587708, 0.0 ) * 0.2740718972362705 + COALESCE( t3.\"year\" - 3.634615265667814, 0.0 ) * -4.500351649334385 + COALESCE( t3.\"runningtime\" - 2.316290155312222, 0.0 ) * 9.486814766315385 + COALESCE( t4.\"num_female\" - 12.47199823513524, 0.0 ) * 0.2105348674114316 + COALESCE( t4.\"COUNT_actors\" - 43.92090890535088, 0.0 ) * -0.1096448607941439 + COALESCE( t4.\"AVG_cast_num\" - 2.174432172040184, 0.0 ) * -3.973459930615083 + COALESCE( t4.\"AVG_a_quality\" - 3.585857796748144, 0.0 ) * 3.197558808200108 + COALESCE( t4.\"share_female\" - 0.2845349121667481, 0.0 ) * 15.45354763362947 + -1.8342370206178040e-02\n",
       "        WHEN ( t4.\"share_female\" <= 0.381295 OR t4.\"share_female\" IS NULL ) AND ( t4.\"COUNT_actors\" <= 75.000000 OR t4.\"COUNT_actors\" IS NULL ) THEN COALESCE( t1.\"age\" - 30.71256038647343, 0.0 ) * 0.01856235930965308 + COALESCE( t2.\"rating\" - 3.573428476587708, 0.0 ) * -0.4524474923247442 + COALESCE( t3.\"year\" - 3.634615265667814, 0.0 ) * 0.6955614237954107 + COALESCE( t3.\"runningtime\" - 2.316290155312222, 0.0 ) * -0.06870092208719955 + COALESCE( t4.\"num_female\" - 12.47199823513524, 0.0 ) * 0.02534104864847198 + COALESCE( t4.\"COUNT_actors\" - 43.92090890535088, 0.0 ) * 0.02435536120432719 + COALESCE( t4.\"AVG_cast_num\" - 2.174432172040184, 0.0 ) * -1.976922202041517 + COALESCE( t4.\"AVG_a_quality\" - 3.585857796748144, 0.0 ) * 0.4932388751627604 + COALESCE( t4.\"share_female\" - 0.2845349121667481, 0.0 ) * 12.80047232844098 + -5.1692061616123832e-03\n",
       "        ELSE NULL\n",
       "    END\n",
       ") AS \"feature_1_2\",\n",
       "     t1.rowid AS \"rownum\"\n",
       "FROM \"users\" t1\n",
       "LEFT JOIN \"u2base\" t2\n",
       "ON t1.\"userid\" = t2.\"userid\"\n",
       "LEFT JOIN \"movies\" t3\n",
       "ON t2.\"movieid\" = t3.\"movieid\"\n",
       "LEFT JOIN \"movies2actors_movies\" t4\n",
       "ON t3.\"movieid\" = t4.\"movieid\"\n",
       "GROUP BY t1.rowid;\n",
       "\n",
       "\n",
       "DROP TABLE IF EXISTS \"FEATURES\";\n",
       "\n",
       "CREATE TABLE \"FEATURES\" AS\n",
       "SELECT        CAST( COALESCE( f_1_2.\"feature_1_2\", 0.0 ) AS REAL ) AS \"feature_1_2\",\n",
       "CAST( t1.\"target\" AS REAL ) AS \"target_1__target\"\n",
       "FROM \"users\" t1\n",
       "LEFT JOIN \"FEATURE_1_2\" f_1_2\n",
       "ON t1.rowid = f_1_2.\"rownum\"\n",
       "ORDER BY t1.rowid;\n",
       "\n",
       "DROP TABLE IF EXISTS \"FEATURE_1_2\";\n",
       "\n",
       "```"
      ],
      "text/plain": [
       "DROP TABLE IF EXISTS \"FEATURE_1_2\";\n",
       "\n",
       "CREATE TABLE \"FEATURE_1_2\" AS\n",
       "SELECT AVG( \n",
       "    CASE\n",
       "        WHEN ( t4.\"share_female\" > 0.381295 ) AND ( t4.\"AVG_cast_num\" > 2.336732 ) THEN COALESCE( t1.\"age\" - 30.71256038647343, 0.0 ) * -0.1640299362326539 + COALESCE( t2.\"rating\" - 3.573428476587708, 0.0 ) * 3.63063700446265 + COALESCE( t3.\"year\" - 3.634615265667814, 0.0 ) * -4.003393040761372 + COALESCE( t3.\"runningtime\" - 2.316290155312222, 0.0 ) * 1.843260118449555 + COALESCE( t4.\"num_female\" - 12.47199823513524, 0.0 ) * 0.5678403348865059 + COALESCE( t4.\"COUNT_actors\" - 43.92090890535088, 0.0 ) * -0.6507091016752605 + COALESCE( t4.\"AVG_cast_num\" - 2.174432172040184, 0.0 ) * 42.21754547528068 + COALESCE( t4.\"AVG_a_quality\" - 3.585857796748144, 0.0 ) * -4.751761317888637 + COALESCE( t4.\"share_female\" - 0.2845349121667481, 0.0 ) * -16.67709862228532 + 2.0897064768174999e-02\n",
       "        WHEN ( t4.\"share_female\" > 0.381295 ) AND ( t4.\"AVG_cast_num\" <= 2.336732 OR t4.\"AVG_cast_num\" IS NULL ) THEN COALESCE( t1.\"age\" - 30.71256038647343, 0.0 ) * -0.08789574061165577 + COALESCE( t2.\"rating\" - 3.573428476587708, 0.0 ) * 0.1123071435585898 + COALESCE( t3.\"year\" - 3.634615265667814, 0.0 ) * -2.519298571306062 + COALESCE( t3.\"runningtime\" - 2.316290155312222, 0.0 ) * 3.100743682674741 + COALESCE( t4.\"num_female\" - 12.47199823513524, 0.0 ) * 0.384146433327175 + COALESCE( t4.\"COUNT_actors\" - 43.92090890535088, 0.0 ) * -0.2570369573406673 + COALESCE( t4.\"AVG_cast_num\" - 2.174432172040184, 0.0 ) * -4.894825566399654 + COALESCE( t4.\"AVG_a_quality\" - 3.585857796748144, 0.0 ) * 1.705966037423575 + COALESCE( t4.\"share_female\" - 0.2845349121667481, 0.0 ) * -23.16192420158488 + 1.2014972103599706e-02\n",
       "        WHEN ( t4.\"share_female\" <= 0.381295 OR t4.\"share_female\" IS NULL ) AND ( t4.\"COUNT_actors\" > 75.000000 ) THEN COALESCE( t1.\"age\" - 30.71256038647343, 0.0 ) * 0.06822522772047232 + COALESCE( t2.\"rating\" - 3.573428476587708, 0.0 ) * 0.2740718972362705 + COALESCE( t3.\"year\" - 3.634615265667814, 0.0 ) * -4.500351649334385 + COALESCE( t3.\"runningtime\" - 2.316290155312222, 0.0 ) * 9.486814766315385 + COALESCE( t4.\"num_female\" - 12.47199823513524, 0.0 ) * 0.2105348674114316 + COALESCE( t4.\"COUNT_actors\" - 43.92090890535088, 0.0 ) * -0.1096448607941439 + COALESCE( t4.\"AVG_cast_num\" - 2.174432172040184, 0.0 ) * -3.973459930615083 + COALESCE( t4.\"AVG_a_quality\" - 3.585857796748144, 0.0 ) * 3.197558808200108 + COALESCE( t4.\"share_female\" - 0.2845349121667481, 0.0 ) * 15.45354763362947 + -1.8342370206178040e-02\n",
       "        WHEN ( t4.\"share_female\" <= 0.381295 OR t4.\"share_female\" IS NULL ) AND ( t4.\"COUNT_actors\" <= 75.000000 OR t4.\"COUNT_actors\" IS NULL ) THEN COALESCE( t1.\"age\" - 30.71256038647343, 0.0 ) * 0.01856235930965308 + COALESCE( t2.\"rating\" - 3.573428476587708, 0.0 ) * -0.4524474923247442 + COALESCE( t3.\"year\" - 3.634615265667814, 0.0 ) * 0.6955614237954107 + COALESCE( t3.\"runningtime\" - 2.316290155312222, 0.0 ) * -0.06870092208719955 + COALESCE( t4.\"num_female\" - 12.47199823513524, 0.0 ) * 0.02534104864847198 + COALESCE( t4.\"COUNT_actors\" - 43.92090890535088, 0.0 ) * 0.02435536120432719 + COALESCE( t4.\"AVG_cast_num\" - 2.174432172040184, 0.0 ) * -1.976922202041517 + COALESCE( t4.\"AVG_a_quality\" - 3.585857796748144, 0.0 ) * 0.4932388751627604 + COALESCE( t4.\"share_female\" - 0.2845349121667481, 0.0 ) * 12.80047232844098 + -5.1692061616123832e-03\n",
       "        ELSE NULL\n",
       "    END\n",
       ") AS \"feature_1_2\",\n",
       "     t1.rowid AS \"rownum\"\n",
       "FROM \"users\" t1\n",
       "LEFT JOIN \"u2base\" t2\n",
       "ON t1.\"userid\" = t2.\"userid\"\n",
       "LEFT JOIN \"movies\" t3\n",
       "ON t2.\"movieid\" = t3.\"movieid\"\n",
       "LEFT JOIN \"movies2actors_movies\" t4\n",
       "ON t3.\"movieid\" = t4.\"movieid\"\n",
       "GROUP BY t1.rowid;\n",
       "\n",
       "\n",
       "DROP TABLE IF EXISTS \"FEATURES\";\n",
       "\n",
       "CREATE TABLE \"FEATURES\" AS\n",
       "SELECT        CAST( COALESCE( f_1_2.\"feature_1_2\", 0.0 ) AS REAL ) AS \"feature_1_2\",\n",
       "CAST( t1.\"target\" AS REAL ) AS \"target_1__target\"\n",
       "FROM \"users\" t1\n",
       "LEFT JOIN \"FEATURE_1_2\" f_1_2\n",
       "ON t1.rowid = f_1_2.\"rownum\"\n",
       "ORDER BY t1.rowid;\n",
       "\n",
       "DROP TABLE IF EXISTS \"FEATURE_1_2\";"
      ]
     },
     "execution_count": 28,
     "metadata": {},
     "output_type": "execute_result"
    }
   ],
   "source": [
    "names, _ = pipe.features.importances()\n",
    "\n",
    "pipe.features.to_sql()"
   ]
  },
  {
   "cell_type": "code",
   "execution_count": 29,
   "metadata": {},
   "outputs": [
    {
     "ename": "IndexError",
     "evalue": "index 1 is out of bounds for axis 0 with size 1",
     "output_type": "error",
     "traceback": [
      "\u001b[0;31m---------------------------------------------------------------------------\u001b[0m",
      "\u001b[0;31mIndexError\u001b[0m                                Traceback (most recent call last)",
      "\u001b[0;32m<ipython-input-29-80681b4b36d7>\u001b[0m in \u001b[0;36m<module>\u001b[0;34m()\u001b[0m\n\u001b[1;32m      1\u001b[0m \u001b[0mnames\u001b[0m\u001b[0;34m,\u001b[0m \u001b[0m_\u001b[0m \u001b[0;34m=\u001b[0m \u001b[0mpipe\u001b[0m\u001b[0;34m.\u001b[0m\u001b[0mfeatures\u001b[0m\u001b[0;34m.\u001b[0m\u001b[0mimportances\u001b[0m\u001b[0;34m(\u001b[0m\u001b[0;34m)\u001b[0m\u001b[0;34m\u001b[0m\u001b[0;34m\u001b[0m\u001b[0m\n\u001b[1;32m      2\u001b[0m \u001b[0;34m\u001b[0m\u001b[0m\n\u001b[0;32m----> 3\u001b[0;31m \u001b[0mpipe\u001b[0m\u001b[0;34m.\u001b[0m\u001b[0mfeatures\u001b[0m\u001b[0;34m.\u001b[0m\u001b[0mto_sql\u001b[0m\u001b[0;34m(\u001b[0m\u001b[0;34m)\u001b[0m\u001b[0;34m[\u001b[0m\u001b[0mnames\u001b[0m\u001b[0;34m[\u001b[0m\u001b[0;36m1\u001b[0m\u001b[0;34m]\u001b[0m\u001b[0;34m]\u001b[0m\u001b[0;34m\u001b[0m\u001b[0;34m\u001b[0m\u001b[0m\n\u001b[0m",
      "\u001b[0;31mIndexError\u001b[0m: index 1 is out of bounds for axis 0 with size 1"
     ]
    }
   ],
   "source": [
    "names, _ = pipe.features.importances()\n",
    "\n",
    "pipe.features.to_sql()[names[1]]"
   ]
  },
  {
   "cell_type": "markdown",
   "metadata": {},
   "source": [
    " "
   ]
  },
  {
   "cell_type": "markdown",
   "metadata": {},
   "source": [
    "### 2.7 Benchmarks"
   ]
  },
  {
   "cell_type": "markdown",
   "metadata": {},
   "source": [
    "## 3. Conclusion\n",
    "\n",
    "In this notebook we have demonstrated how getML can be applied to text fields. We have demonstrated the our  approach outperforms state-of-the-art relational learning algorithms on the IMdb dataset."
   ]
  },
  {
   "cell_type": "markdown",
   "metadata": {},
   "source": [
    " "
   ]
  },
  {
   "cell_type": "markdown",
   "metadata": {},
   "source": [
    "## Citations\n",
    "\n",
    "Motl, Jan, and Oliver Schulte. \"The CTU prague relational learning repository.\" arXiv preprint arXiv:1511.03086 (2015).\n",
    "    \n",
    "Neville, Jennifer, and David Jensen. \"Relational dependency networks.\" Journal of Machine Learning Research 8.Mar (2007): 653-692.\n",
    "    \n",
    "Neville, Jennifer, and David Jensen. \"Collective classification with relational dependency networks.\" Workshop on Multi-Relational Data Mining (MRDM-2003). 2003.\n",
    "    \n",
    "Neville, Jennifer, et al. \"Learning relational probability trees.\" Proceedings of the Ninth ACM SIGKDD international conference on Knowledge discovery and data mining. 2003.\n",
    "    \n",
    "Perovšek, Matic, et al. \"Wordification: Propositionalization by unfolding relational data into bags of words.\" Expert Systems with Applications 42.17-18 (2015): 6442-6456."
   ]
  },
  {
   "cell_type": "markdown",
   "metadata": {},
   "source": [
    " "
   ]
  },
  {
   "cell_type": "markdown",
   "metadata": {},
   "source": [
    "# Next Steps\n",
    "\n",
    "This tutorial went through the basics of applying getML to relational data. If you want to learn more about getML, here are some additional tutorials and articles that will help you:\n",
    "\n",
    "__Tutorials:__\n",
    "* [Loan default prediction: Introduction to relational learning](loans_demo.ipynb)\n",
    "* [Occupancy detection: A multivariate time series example](occupancy_demo.ipynb)  \n",
    "* [Expenditure categorization: Why relational learning matters](consumer_expenditures_demo.ipynb)\n",
    "* [Disease lethality prediction: Feature engineering and the curse of dimensionality](atherosclerosis_demo.ipynb)\n",
    "* [Traffic volume prediction: Feature engineering on multivariate time series](interstate94_demo.ipynb)\n",
    "* [Air pollution prediction: Why feature learning outperforms brute-force approaches](air_pollution_demo.ipynb) \n",
    "\n",
    "\n",
    "__User Guides__ (from our [documentation](https://docs.getml.com/latest/)):\n",
    "* [Feature learning with Multirel](https://docs.getml.com/latest/user_guide/feature_engineering/feature_engineering.html#multirel)\n",
    "* [Feature learning with Relboost](https://docs.getml.com/latest/user_guide/feature_engineering/feature_engineering.html#relboost)\n"
   ]
  },
  {
   "cell_type": "markdown",
   "metadata": {},
   "source": [
    " "
   ]
  },
  {
   "cell_type": "markdown",
   "metadata": {},
   "source": [
    "# Get in contact\n",
    "\n",
    "If you have any question schedule a [call with Alex](https://go.getml.com/meetings/alexander-uhlig/getml-demo), the co-founder of getML, or write us an [email](team@getml.com). Prefer a private demo of getML? Just contact us to make an appointment."
   ]
  },
  {
   "cell_type": "markdown",
   "metadata": {},
   "source": [
    " "
   ]
  }
 ],
 "metadata": {
  "jupytext": {
   "encoding": "# -*- coding: utf-8 -*-",
   "formats": "ipynb,py:percent,md"
  },
  "kernelspec": {
   "display_name": "Python 3",
   "language": "python",
   "name": "python3"
  },
  "language_info": {
   "codemirror_mode": {
    "name": "ipython",
    "version": 3
   },
   "file_extension": ".py",
   "mimetype": "text/x-python",
   "name": "python",
   "nbconvert_exporter": "python",
   "pygments_lexer": "ipython3",
   "version": "3.7.2"
  },
  "toc": {
   "base_numbering": 1,
   "nav_menu": {},
   "number_sections": false,
   "sideBar": true,
   "skip_h1_title": false,
   "title_cell": "Table of Contents",
   "title_sidebar": "Contents",
   "toc_cell": false,
   "toc_position": {},
   "toc_section_display": true,
   "toc_window_display": true
  }
 },
 "nbformat": 4,
 "nbformat_minor": 4
}
