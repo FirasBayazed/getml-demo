{
 "cells": [
  {
   "cell_type": "markdown",
   "metadata": {},
   "source": [
    "# MovieLens - Predicting a user's gender based on the movies they have watched\n",
    "\n",
    "...\n",
    "\n",
    "Summary:\n",
    "\n",
    "- Prediction type: __Classification model__\n",
    "- Domain: __Entertainment__\n",
    "- Prediction target: __The gender of a user__ \n",
    "- Population size: __6039__\n",
    "\n",
    "_Author: Dr. Patrick Urbanke_"
   ]
  },
  {
   "cell_type": "markdown",
   "metadata": {},
   "source": [
    " "
   ]
  },
  {
   "cell_type": "markdown",
   "metadata": {},
   "source": [
    "# Background\n",
    "\n",
    "...\n",
    "\n",
    "It has been downloaded from the [CTU Prague relational learning repository](https://relational.fit.cvut.cz/dataset/MovieLens) (Motl and Schulte, 2015)."
   ]
  },
  {
   "cell_type": "markdown",
   "metadata": {},
   "source": [
    " "
   ]
  },
  {
   "cell_type": "markdown",
   "metadata": {},
   "source": [
    "### A web frontend for getML\n",
    "\n",
    "The getML monitor is a frontend built to support your work with getML. The getML monitor displays information such as the imported data frames, trained pipelines and allows easy data and feature exploration. You can launch the getML monitor [here](http://localhost:1709)."
   ]
  },
  {
   "cell_type": "markdown",
   "metadata": {},
   "source": [
    " "
   ]
  },
  {
   "cell_type": "markdown",
   "metadata": {},
   "source": [
    "### Where is this running?\n",
    "\n",
    "Your getML live session is running inside a docker container on [mybinder.org](https://mybinder.org/), a service built by the Jupyter community and funded by Google Cloud, OVH, GESIS Notebooks and the Turing Institute. As it is a free service, this session will shut down after 10 minutes of inactivity."
   ]
  },
  {
   "cell_type": "markdown",
   "metadata": {},
   "source": [
    " "
   ]
  },
  {
   "cell_type": "markdown",
   "metadata": {},
   "source": [
    "# Analysis"
   ]
  },
  {
   "cell_type": "markdown",
   "metadata": {},
   "source": [
    "Let's get started with the analysis and set up your session:"
   ]
  },
  {
   "cell_type": "code",
   "execution_count": 1,
   "metadata": {},
   "outputs": [
    {
     "name": "stdout",
     "output_type": "stream",
     "text": [
      "\n",
      "Connected to project 'MovieLens'\n"
     ]
    }
   ],
   "source": [
    "import copy\n",
    "import os\n",
    "from urllib import request\n",
    "\n",
    "import numpy as np\n",
    "import pandas as pd\n",
    "from IPython.display import Image\n",
    "import matplotlib.pyplot as plt\n",
    "plt.style.use('seaborn')\n",
    "%matplotlib inline  \n",
    "\n",
    "from sklearn.feature_extraction.text import CountVectorizer\n",
    "\n",
    "import getml\n",
    "\n",
    "getml.engine.set_project('MovieLens')"
   ]
  },
  {
   "cell_type": "markdown",
   "metadata": {},
   "source": [
    "Tuning is effective at improving our results, but it takes quite long, so we want to make it optional:"
   ]
  },
  {
   "cell_type": "code",
   "execution_count": 2,
   "metadata": {},
   "outputs": [],
   "source": [
    "USE_FINE_TUNED = False"
   ]
  },
  {
   "cell_type": "markdown",
   "metadata": {},
   "source": [
    " "
   ]
  },
  {
   "cell_type": "markdown",
   "metadata": {},
   "source": [
    "## 1. Loading data"
   ]
  },
  {
   "cell_type": "markdown",
   "metadata": {},
   "source": [
    "### 1.1 Download from source\n",
    "\n",
    "We begin by downloading the data from the source file:"
   ]
  },
  {
   "cell_type": "code",
   "execution_count": 3,
   "metadata": {},
   "outputs": [
    {
     "data": {
      "text/plain": [
       "Connection(conn_id='default', dbname='imdb_MovieLens', dialect='mysql', \n",
       "           host='relational.fit.cvut.cz', port=3306)"
      ]
     },
     "execution_count": 3,
     "metadata": {},
     "output_type": "execute_result"
    }
   ],
   "source": [
    "conn = getml.database.connect_mariadb(\n",
    "    host=\"relational.fit.cvut.cz\",\n",
    "    dbname=\"imdb_MovieLens\",\n",
    "    port=3306,\n",
    "    user=\"guest\",\n",
    "    password=\"relational\"\n",
    ")\n",
    "\n",
    "conn"
   ]
  },
  {
   "cell_type": "code",
   "execution_count": 4,
   "metadata": {},
   "outputs": [],
   "source": [
    "def load_if_needed(name):\n",
    "    \"\"\"\n",
    "    Loads the data from the relational learning\n",
    "    repository, if the data frame has not already\n",
    "    been loaded.\n",
    "    \"\"\"\n",
    "    if not getml.data.exists(name):\n",
    "        data_frame = getml.data.DataFrame.from_db(\n",
    "            name=name,\n",
    "            table_name=name,\n",
    "            conn=conn\n",
    "        )\n",
    "        data_frame.save()\n",
    "    else:\n",
    "        data_frame = getml.data.load_data_frame(name)\n",
    "    return data_frame"
   ]
  },
  {
   "cell_type": "code",
   "execution_count": 5,
   "metadata": {},
   "outputs": [],
   "source": [
    "users = load_if_needed(\"users\")\n",
    "u2base = load_if_needed(\"u2base\")\n",
    "movies = load_if_needed(\"movies\")\n",
    "movies2directors = load_if_needed(\"movies2directors\")\n",
    "directors = load_if_needed(\"directors\")\n",
    "movies2actors = load_if_needed(\"movies2actors\")\n",
    "actors = load_if_needed(\"actors\")"
   ]
  },
  {
   "cell_type": "markdown",
   "metadata": {},
   "source": [
    " "
   ]
  },
  {
   "cell_type": "markdown",
   "metadata": {},
   "source": [
    "### 1.2 Prepare data for getML"
   ]
  },
  {
   "cell_type": "markdown",
   "metadata": {},
   "source": [
    "getML requires that we define *roles* for each of the columns."
   ]
  },
  {
   "cell_type": "code",
   "execution_count": 6,
   "metadata": {},
   "outputs": [],
   "source": [
    "users[\"target\"] = (users.u_gender == 'F')"
   ]
  },
  {
   "cell_type": "code",
   "execution_count": 7,
   "metadata": {},
   "outputs": [
    {
     "data": {
      "text/html": [
       "<table class=\"dataframe\"><thead><tr style=\"border-bottom:1pt solid LightGray;\"><th style=\"text-align: left;border-right:1pt solid LightGray;\">Name</th><th style=\"text-align: right;\">userid</th><th style=\"text-align: right;\">target</th><th style=\"text-align: right;\">occupation</th><th style=\"text-align: right;\">age</th><th style=\"text-align: right;\">u_gender</th></tr><tr><th style=\"text-align: left;border-right:1pt solid LightGray;\">Role</th><td style=\"text-align: right;\"><i>join_key</i></td><td style=\"text-align: right;\"><i>target</i></td><td style=\"text-align: right;\"><i>categorical</i></td><td style=\"text-align: right;\"><i>numerical</i></td><td style=\"text-align: right;\"><i>unused_string</i></td></tr></thead><tbody><tr style=\"border-top:1pt solid LightGray;\"><td style=\"border-right:1pt solid LightGray;\"><b>0</b></td><td>1</td><td>1</td><td>2</td><td>1</td><td>F</td></tr><tr><td style=\"border-right:1pt solid LightGray;\"><b>1</b></td><td>51</td><td>1</td><td>2</td><td>1</td><td>F</td></tr><tr><td style=\"border-right:1pt solid LightGray;\"><b>2</b></td><td>75</td><td>1</td><td>2</td><td>1</td><td>F</td></tr><tr><td style=\"border-right:1pt solid LightGray;\"><b>3</b></td><td>86</td><td>1</td><td>2</td><td>1</td><td>F</td></tr><tr><td style=\"border-right:1pt solid LightGray;\"><b>4</b></td><td>99</td><td>1</td><td>2</td><td>1</td><td>F</td></tr><tr><td style=\"border-right:1pt solid LightGray;\"><b> </b></td><td>...</td><td>...</td><td>...</td><td>...</td><td>...</td></tr><tr><td style=\"border-right:1pt solid LightGray;\"><b>6034</b></td><td>5658</td><td>0</td><td>5</td><td>56</td><td>M</td></tr><tr><td style=\"border-right:1pt solid LightGray;\"><b>6035</b></td><td>5669</td><td>0</td><td>5</td><td>56</td><td>M</td></tr><tr><td style=\"border-right:1pt solid LightGray;\"><b>6036</b></td><td>5703</td><td>0</td><td>5</td><td>56</td><td>M</td></tr><tr><td style=\"border-right:1pt solid LightGray;\"><b>6037</b></td><td>5948</td><td>0</td><td>5</td><td>56</td><td>M</td></tr><tr><td style=\"border-right:1pt solid LightGray;\"><b>6038</b></td><td>5980</td><td>0</td><td>5</td><td>56</td><td>M</td></tr></tbody></table><br>6039 rows x 5 columns<br>memory usage: 0.21 MB<br>name: users<br>type: getml.data.DataFrame<br>url: <a href=\"http://localhost:1709/#/getdataframe/MovieLens/users/\" target=\"_blank\">http://localhost:1709/#/getdataframe/MovieLens/users/</a>"
      ],
      "text/plain": [
       "Name     userid   target    occupation         age        u_gender   \n",
       "Role   join_key   target   categorical   numerical   unused_string   \n",
       "0      1          1        2             1           F               \n",
       "1      51         1        2             1           F               \n",
       "2      75         1        2             1           F               \n",
       "3      86         1        2             1           F               \n",
       "4      99         1        2             1           F               \n",
       "       ...        ...      ...           ...         ...             \n",
       "6034   5658       0        5             56          M               \n",
       "6035   5669       0        5             56          M               \n",
       "6036   5703       0        5             56          M               \n",
       "6037   5948       0        5             56          M               \n",
       "6038   5980       0        5             56          M               \n",
       "\n",
       "6039 rows x 5 columns\n",
       "memory usage: 0.21 MB\n",
       "name: users\n",
       "type: getml.data.DataFrame\n",
       "url: http://localhost:1709/#/getdataframe/MovieLens/users/"
      ]
     },
     "execution_count": 7,
     "metadata": {},
     "output_type": "execute_result"
    }
   ],
   "source": [
    "users.set_role(\"userid\", getml.data.roles.join_key)\n",
    "users.set_role(\"age\", getml.data.roles.numerical)\n",
    "users.set_role(\"occupation\", getml.data.roles.categorical)\n",
    "users.set_role(\"target\", getml.data.roles.target)\n",
    "\n",
    "users.save()"
   ]
  },
  {
   "cell_type": "code",
   "execution_count": 8,
   "metadata": {},
   "outputs": [
    {
     "data": {
      "text/html": [
       "<table class=\"dataframe\"><thead><tr style=\"border-bottom:1pt solid LightGray;\"><th style=\"text-align: left;border-right:1pt solid LightGray;\">Name  </th><th style=\"text-align: right;\">userid</th><th style=\"text-align: right;\">movieid</th><th style=\"text-align: right;\">rating</th></tr><tr><th style=\"text-align: left;border-right:1pt solid LightGray;\">Role  </th><td style=\"text-align: right;\"><i>join_key</i></td><td style=\"text-align: right;\"><i>join_key</i></td><td style=\"text-align: right;\"><i>numerical</i></td></tr></thead><tbody><tr style=\"border-top:1pt solid LightGray;\"><td style=\"border-right:1pt solid LightGray;\"><b>0</b></td><td>2</td><td>1964242</td><td>1</td></tr><tr><td style=\"border-right:1pt solid LightGray;\"><b>1</b></td><td>2</td><td>2219779</td><td>1</td></tr><tr><td style=\"border-right:1pt solid LightGray;\"><b>2</b></td><td>3</td><td>1856939</td><td>1</td></tr><tr><td style=\"border-right:1pt solid LightGray;\"><b>3</b></td><td>4</td><td>2273044</td><td>1</td></tr><tr><td style=\"border-right:1pt solid LightGray;\"><b>4</b></td><td>5</td><td>1681655</td><td>1</td></tr><tr><td style=\"border-right:1pt solid LightGray;\"><b> </b></td><td>...</td><td>...</td><td>...</td></tr><tr><td style=\"border-right:1pt solid LightGray;\"><b>996154</b></td><td>6040</td><td>2560616</td><td>5</td></tr><tr><td style=\"border-right:1pt solid LightGray;\"><b>996155</b></td><td>6040</td><td>2564194</td><td>5</td></tr><tr><td style=\"border-right:1pt solid LightGray;\"><b>996156</b></td><td>6040</td><td>2581228</td><td>5</td></tr><tr><td style=\"border-right:1pt solid LightGray;\"><b>996157</b></td><td>6040</td><td>2581428</td><td>5</td></tr><tr><td style=\"border-right:1pt solid LightGray;\"><b>996158</b></td><td>6040</td><td>2593112</td><td>5</td></tr></tbody></table><br>996159 rows x 3 columns<br>memory usage: 15.94 MB<br>name: u2base<br>type: getml.data.DataFrame<br>url: <a href=\"http://localhost:1709/#/getdataframe/MovieLens/u2base/\" target=\"_blank\">http://localhost:1709/#/getdataframe/MovieLens/u2base/</a>"
      ],
      "text/plain": [
       "Name       userid    movieid      rating   \n",
       "Role     join_key   join_key   numerical   \n",
       "0        2          1964242    1           \n",
       "1        2          2219779    1           \n",
       "2        3          1856939    1           \n",
       "3        4          2273044    1           \n",
       "4        5          1681655    1           \n",
       "         ...        ...        ...         \n",
       "996154   6040       2560616    5           \n",
       "996155   6040       2564194    5           \n",
       "996156   6040       2581228    5           \n",
       "996157   6040       2581428    5           \n",
       "996158   6040       2593112    5           \n",
       "\n",
       "996159 rows x 3 columns\n",
       "memory usage: 15.94 MB\n",
       "name: u2base\n",
       "type: getml.data.DataFrame\n",
       "url: http://localhost:1709/#/getdataframe/MovieLens/u2base/"
      ]
     },
     "execution_count": 8,
     "metadata": {},
     "output_type": "execute_result"
    }
   ],
   "source": [
    "u2base.set_role([\"userid\", \"movieid\"], getml.data.roles.join_key)\n",
    "u2base.set_role(\"rating\", getml.data.roles.numerical)\n",
    "\n",
    "u2base.save()"
   ]
  },
  {
   "cell_type": "code",
   "execution_count": 9,
   "metadata": {},
   "outputs": [
    {
     "data": {
      "text/html": [
       "<table class=\"dataframe\"><thead><tr style=\"border-bottom:1pt solid LightGray;\"><th style=\"text-align: left;border-right:1pt solid LightGray;\">Name</th><th style=\"text-align: right;\">movieid</th><th style=\"text-align: right;\">isEnglish</th><th style=\"text-align: right;\">country</th><th style=\"text-align: right;\">year</th><th style=\"text-align: right;\">runningtime</th></tr><tr><th style=\"text-align: left;border-right:1pt solid LightGray;\">Role</th><td style=\"text-align: right;\"><i>join_key</i></td><td style=\"text-align: right;\"><i>categorical</i></td><td style=\"text-align: right;\"><i>categorical</i></td><td style=\"text-align: right;\"><i>numerical</i></td><td style=\"text-align: right;\"><i>numerical</i></td></tr></thead><tbody><tr style=\"border-top:1pt solid LightGray;\"><td style=\"border-right:1pt solid LightGray;\"><b>0</b></td><td>1672052</td><td>T</td><td>other</td><td>3</td><td>2</td></tr><tr><td style=\"border-right:1pt solid LightGray;\"><b>1</b></td><td>1672111</td><td>T</td><td>other</td><td>4</td><td>2</td></tr><tr><td style=\"border-right:1pt solid LightGray;\"><b>2</b></td><td>1672580</td><td>T</td><td>USA</td><td>4</td><td>3</td></tr><tr><td style=\"border-right:1pt solid LightGray;\"><b>3</b></td><td>1672716</td><td>T</td><td>USA</td><td>4</td><td>2</td></tr><tr><td style=\"border-right:1pt solid LightGray;\"><b>4</b></td><td>1672946</td><td>T</td><td>USA</td><td>4</td><td>0</td></tr><tr><td style=\"border-right:1pt solid LightGray;\"><b> </b></td><td>...</td><td>...</td><td>...</td><td>...</td><td>...</td></tr><tr><td style=\"border-right:1pt solid LightGray;\"><b>3827</b></td><td>2591814</td><td>T</td><td>other</td><td>4</td><td>2</td></tr><tr><td style=\"border-right:1pt solid LightGray;\"><b>3828</b></td><td>2592334</td><td>T</td><td>USA</td><td>4</td><td>2</td></tr><tr><td style=\"border-right:1pt solid LightGray;\"><b>3829</b></td><td>2592963</td><td>F</td><td>France</td><td>2</td><td>2</td></tr><tr><td style=\"border-right:1pt solid LightGray;\"><b>3830</b></td><td>2593112</td><td>T</td><td>USA</td><td>4</td><td>1</td></tr><tr><td style=\"border-right:1pt solid LightGray;\"><b>3831</b></td><td>2593313</td><td>F</td><td>other</td><td>4</td><td>3</td></tr></tbody></table><br>3832 rows x 5 columns<br>memory usage: 0.11 MB<br>name: movies<br>type: getml.data.DataFrame<br>url: <a href=\"http://localhost:1709/#/getdataframe/MovieLens/movies/\" target=\"_blank\">http://localhost:1709/#/getdataframe/MovieLens/movies/</a>"
      ],
      "text/plain": [
       "Name    movieid     isEnglish       country        year   runningtime   \n",
       "Role   join_key   categorical   categorical   numerical     numerical   \n",
       "0      1672052    T             other         3           2             \n",
       "1      1672111    T             other         4           2             \n",
       "2      1672580    T             USA           4           3             \n",
       "3      1672716    T             USA           4           2             \n",
       "4      1672946    T             USA           4           0             \n",
       "       ...        ...           ...           ...         ...           \n",
       "3827   2591814    T             other         4           2             \n",
       "3828   2592334    T             USA           4           2             \n",
       "3829   2592963    F             France        2           2             \n",
       "3830   2593112    T             USA           4           1             \n",
       "3831   2593313    F             other         4           3             \n",
       "\n",
       "3832 rows x 5 columns\n",
       "memory usage: 0.11 MB\n",
       "name: movies\n",
       "type: getml.data.DataFrame\n",
       "url: http://localhost:1709/#/getdataframe/MovieLens/movies/"
      ]
     },
     "execution_count": 9,
     "metadata": {},
     "output_type": "execute_result"
    }
   ],
   "source": [
    "movies.set_role(\"movieid\", getml.data.roles.join_key)\n",
    "movies.set_role([\"year\", \"runningtime\"], getml.data.roles.numerical)\n",
    "movies.set_role([\"isEnglish\", \"country\"], getml.data.roles.categorical)\n",
    "\n",
    "movies.save()"
   ]
  },
  {
   "cell_type": "code",
   "execution_count": 10,
   "metadata": {},
   "outputs": [
    {
     "data": {
      "text/html": [
       "<table class=\"dataframe\"><thead><tr style=\"border-bottom:1pt solid LightGray;\"><th style=\"text-align: left;border-right:1pt solid LightGray;\">Name</th><th style=\"text-align: right;\">movieid</th><th style=\"text-align: right;\">directorid</th><th style=\"text-align: right;\">genre</th></tr><tr><th style=\"text-align: left;border-right:1pt solid LightGray;\">Role</th><td style=\"text-align: right;\"><i>join_key</i></td><td style=\"text-align: right;\"><i>join_key</i></td><td style=\"text-align: right;\"><i>categorical</i></td></tr></thead><tbody><tr style=\"border-top:1pt solid LightGray;\"><td style=\"border-right:1pt solid LightGray;\"><b>0</b></td><td>1672111</td><td>54934</td><td>Action</td></tr><tr><td style=\"border-right:1pt solid LightGray;\"><b>1</b></td><td>1672946</td><td>188940</td><td>Action</td></tr><tr><td style=\"border-right:1pt solid LightGray;\"><b>2</b></td><td>1679461</td><td>179783</td><td>Action</td></tr><tr><td style=\"border-right:1pt solid LightGray;\"><b>3</b></td><td>1691387</td><td>291700</td><td>Action</td></tr><tr><td style=\"border-right:1pt solid LightGray;\"><b>4</b></td><td>1693305</td><td>14663</td><td>Action</td></tr><tr><td style=\"border-right:1pt solid LightGray;\"><b> </b></td><td>...</td><td>...</td><td>...</td></tr><tr><td style=\"border-right:1pt solid LightGray;\"><b>4136</b></td><td>2570825</td><td>265215</td><td>Other</td></tr><tr><td style=\"border-right:1pt solid LightGray;\"><b>4137</b></td><td>2572478</td><td>149311</td><td>Other</td></tr><tr><td style=\"border-right:1pt solid LightGray;\"><b>4138</b></td><td>2577062</td><td>304827</td><td>Other</td></tr><tr><td style=\"border-right:1pt solid LightGray;\"><b>4139</b></td><td>2590181</td><td>270707</td><td>Other</td></tr><tr><td style=\"border-right:1pt solid LightGray;\"><b>4140</b></td><td>2591814</td><td>57348</td><td>Other</td></tr></tbody></table><br>4141 rows x 3 columns<br>memory usage: 0.05 MB<br>name: movies2directors<br>type: getml.data.DataFrame<br>url: <a href=\"http://localhost:1709/#/getdataframe/MovieLens/movies2directors/\" target=\"_blank\">http://localhost:1709/#/getdataframe/MovieLens/movies2directors/</a>"
      ],
      "text/plain": [
       "Name    movieid   directorid         genre   \n",
       "Role   join_key     join_key   categorical   \n",
       "0      1672111    54934        Action        \n",
       "1      1672946    188940       Action        \n",
       "2      1679461    179783       Action        \n",
       "3      1691387    291700       Action        \n",
       "4      1693305    14663        Action        \n",
       "       ...        ...          ...           \n",
       "4136   2570825    265215       Other         \n",
       "4137   2572478    149311       Other         \n",
       "4138   2577062    304827       Other         \n",
       "4139   2590181    270707       Other         \n",
       "4140   2591814    57348        Other         \n",
       "\n",
       "4141 rows x 3 columns\n",
       "memory usage: 0.05 MB\n",
       "name: movies2directors\n",
       "type: getml.data.DataFrame\n",
       "url: http://localhost:1709/#/getdataframe/MovieLens/movies2directors/"
      ]
     },
     "execution_count": 10,
     "metadata": {},
     "output_type": "execute_result"
    }
   ],
   "source": [
    "movies2directors.set_role([\"movieid\", \"directorid\"], getml.data.roles.join_key)\n",
    "movies2directors.set_role( \"genre\", getml.data.roles.categorical)\n",
    "\n",
    "movies2directors.save()"
   ]
  },
  {
   "cell_type": "code",
   "execution_count": 11,
   "metadata": {},
   "outputs": [
    {
     "data": {
      "text/html": [
       "<table class=\"dataframe\"><thead><tr style=\"border-bottom:1pt solid LightGray;\"><th style=\"text-align: left;border-right:1pt solid LightGray;\">Name</th><th style=\"text-align: right;\">directorid</th><th style=\"text-align: right;\">d_quality</th><th style=\"text-align: right;\">avg_revenue</th></tr><tr><th style=\"text-align: left;border-right:1pt solid LightGray;\">Role</th><td style=\"text-align: right;\"><i>join_key</i></td><td style=\"text-align: right;\"><i>numerical</i></td><td style=\"text-align: right;\"><i>numerical</i></td></tr></thead><tbody><tr style=\"border-top:1pt solid LightGray;\"><td style=\"border-right:1pt solid LightGray;\"><b>0</b></td><td>67</td><td>4</td><td>1</td></tr><tr><td style=\"border-right:1pt solid LightGray;\"><b>1</b></td><td>92</td><td>2</td><td>3</td></tr><tr><td style=\"border-right:1pt solid LightGray;\"><b>2</b></td><td>284</td><td>4</td><td>0</td></tr><tr><td style=\"border-right:1pt solid LightGray;\"><b>3</b></td><td>708</td><td>4</td><td>1</td></tr><tr><td style=\"border-right:1pt solid LightGray;\"><b>4</b></td><td>746</td><td>4</td><td>4</td></tr><tr><td style=\"border-right:1pt solid LightGray;\"><b> </b></td><td>...</td><td>...</td><td>...</td></tr><tr><td style=\"border-right:1pt solid LightGray;\"><b>2196</b></td><td>305962</td><td>4</td><td>4</td></tr><tr><td style=\"border-right:1pt solid LightGray;\"><b>2197</b></td><td>305978</td><td>4</td><td>2</td></tr><tr><td style=\"border-right:1pt solid LightGray;\"><b>2198</b></td><td>306168</td><td>3</td><td>2</td></tr><tr><td style=\"border-right:1pt solid LightGray;\"><b>2199</b></td><td>306343</td><td>4</td><td>1</td></tr><tr><td style=\"border-right:1pt solid LightGray;\"><b>2200</b></td><td>306351</td><td>4</td><td>1</td></tr></tbody></table><br>2201 rows x 3 columns<br>memory usage: 0.04 MB<br>name: directors<br>type: getml.data.DataFrame<br>url: <a href=\"http://localhost:1709/#/getdataframe/MovieLens/directors/\" target=\"_blank\">http://localhost:1709/#/getdataframe/MovieLens/directors/</a>"
      ],
      "text/plain": [
       "Name   directorid   d_quality   avg_revenue   \n",
       "Role     join_key   numerical     numerical   \n",
       "0      67           4           1             \n",
       "1      92           2           3             \n",
       "2      284          4           0             \n",
       "3      708          4           1             \n",
       "4      746          4           4             \n",
       "       ...          ...         ...           \n",
       "2196   305962       4           4             \n",
       "2197   305978       4           2             \n",
       "2198   306168       3           2             \n",
       "2199   306343       4           1             \n",
       "2200   306351       4           1             \n",
       "\n",
       "2201 rows x 3 columns\n",
       "memory usage: 0.04 MB\n",
       "name: directors\n",
       "type: getml.data.DataFrame\n",
       "url: http://localhost:1709/#/getdataframe/MovieLens/directors/"
      ]
     },
     "execution_count": 11,
     "metadata": {},
     "output_type": "execute_result"
    }
   ],
   "source": [
    "directors.set_role(\"directorid\", getml.data.roles.join_key)\n",
    "directors.set_role([\"d_quality\", \"avg_revenue\"], getml.data.roles.numerical)\n",
    "\n",
    "directors.save()"
   ]
  },
  {
   "cell_type": "code",
   "execution_count": 12,
   "metadata": {},
   "outputs": [
    {
     "data": {
      "text/html": [
       "<table class=\"dataframe\"><thead><tr style=\"border-bottom:1pt solid LightGray;\"><th style=\"text-align: left;border-right:1pt solid LightGray;\">Name  </th><th style=\"text-align: right;\">movieid</th><th style=\"text-align: right;\">actorid</th><th style=\"text-align: right;\">cast_num</th></tr><tr><th style=\"text-align: left;border-right:1pt solid LightGray;\">Role  </th><td style=\"text-align: right;\"><i>join_key</i></td><td style=\"text-align: right;\"><i>join_key</i></td><td style=\"text-align: right;\"><i>numerical</i></td></tr></thead><tbody><tr style=\"border-top:1pt solid LightGray;\"><td style=\"border-right:1pt solid LightGray;\"><b>0</b></td><td>1672580</td><td>981535</td><td>0</td></tr><tr><td style=\"border-right:1pt solid LightGray;\"><b>1</b></td><td>1672946</td><td>1094968</td><td>0</td></tr><tr><td style=\"border-right:1pt solid LightGray;\"><b>2</b></td><td>1673647</td><td>149985</td><td>0</td></tr><tr><td style=\"border-right:1pt solid LightGray;\"><b>3</b></td><td>1673647</td><td>261595</td><td>0</td></tr><tr><td style=\"border-right:1pt solid LightGray;\"><b>4</b></td><td>1673647</td><td>781357</td><td>0</td></tr><tr><td style=\"border-right:1pt solid LightGray;\"><b> </b></td><td>...</td><td>...</td><td>...</td></tr><tr><td style=\"border-right:1pt solid LightGray;\"><b>138344</b></td><td>2593313</td><td>947005</td><td>3</td></tr><tr><td style=\"border-right:1pt solid LightGray;\"><b>138345</b></td><td>2593313</td><td>1090590</td><td>3</td></tr><tr><td style=\"border-right:1pt solid LightGray;\"><b>138346</b></td><td>2593313</td><td>1347419</td><td>3</td></tr><tr><td style=\"border-right:1pt solid LightGray;\"><b>138347</b></td><td>2593313</td><td>2099917</td><td>3</td></tr><tr><td style=\"border-right:1pt solid LightGray;\"><b>138348</b></td><td>2593313</td><td>2633550</td><td>3</td></tr></tbody></table><br>138349 rows x 3 columns<br>memory usage: 2.21 MB<br>name: movies2actors<br>type: getml.data.DataFrame<br>url: <a href=\"http://localhost:1709/#/getdataframe/MovieLens/movies2actors/\" target=\"_blank\">http://localhost:1709/#/getdataframe/MovieLens/movies2actors/</a>"
      ],
      "text/plain": [
       "Name      movieid    actorid    cast_num   \n",
       "Role     join_key   join_key   numerical   \n",
       "0        1672580    981535     0           \n",
       "1        1672946    1094968    0           \n",
       "2        1673647    149985     0           \n",
       "3        1673647    261595     0           \n",
       "4        1673647    781357     0           \n",
       "         ...        ...        ...         \n",
       "138344   2593313    947005     3           \n",
       "138345   2593313    1090590    3           \n",
       "138346   2593313    1347419    3           \n",
       "138347   2593313    2099917    3           \n",
       "138348   2593313    2633550    3           \n",
       "\n",
       "138349 rows x 3 columns\n",
       "memory usage: 2.21 MB\n",
       "name: movies2actors\n",
       "type: getml.data.DataFrame\n",
       "url: http://localhost:1709/#/getdataframe/MovieLens/movies2actors/"
      ]
     },
     "execution_count": 12,
     "metadata": {},
     "output_type": "execute_result"
    }
   ],
   "source": [
    "movies2actors.set_role([\"movieid\", \"actorid\"], getml.data.roles.join_key)\n",
    "movies2actors.set_role( \"cast_num\", getml.data.roles.numerical)\n",
    "\n",
    "movies2actors.save()"
   ]
  },
  {
   "cell_type": "code",
   "execution_count": 13,
   "metadata": {},
   "outputs": [
    {
     "data": {
      "text/html": [
       "<table class=\"dataframe\"><thead><tr style=\"border-bottom:1pt solid LightGray;\"><th style=\"text-align: left;border-right:1pt solid LightGray;\">Name </th><th style=\"text-align: right;\">actorid</th><th style=\"text-align: right;\">a_gender</th><th style=\"text-align: right;\">a_quality</th></tr><tr><th style=\"text-align: left;border-right:1pt solid LightGray;\">Role </th><td style=\"text-align: right;\"><i>join_key</i></td><td style=\"text-align: right;\"><i>categorical</i></td><td style=\"text-align: right;\"><i>numerical</i></td></tr></thead><tbody><tr style=\"border-top:1pt solid LightGray;\"><td style=\"border-right:1pt solid LightGray;\"><b>0</b></td><td>4</td><td>M</td><td>4</td></tr><tr><td style=\"border-right:1pt solid LightGray;\"><b>1</b></td><td>16</td><td>M</td><td>0</td></tr><tr><td style=\"border-right:1pt solid LightGray;\"><b>2</b></td><td>28</td><td>M</td><td>4</td></tr><tr><td style=\"border-right:1pt solid LightGray;\"><b>3</b></td><td>566</td><td>M</td><td>4</td></tr><tr><td style=\"border-right:1pt solid LightGray;\"><b>4</b></td><td>580</td><td>M</td><td>4</td></tr><tr><td style=\"border-right:1pt solid LightGray;\"><b> </b></td><td>...</td><td>...</td><td>...</td></tr><tr><td style=\"border-right:1pt solid LightGray;\"><b>98685</b></td><td>2749162</td><td>F</td><td>3</td></tr><tr><td style=\"border-right:1pt solid LightGray;\"><b>98686</b></td><td>2749168</td><td>F</td><td>3</td></tr><tr><td style=\"border-right:1pt solid LightGray;\"><b>98687</b></td><td>2749204</td><td>F</td><td>3</td></tr><tr><td style=\"border-right:1pt solid LightGray;\"><b>98688</b></td><td>2749377</td><td>F</td><td>4</td></tr><tr><td style=\"border-right:1pt solid LightGray;\"><b>98689</b></td><td>2749386</td><td>F</td><td>4</td></tr></tbody></table><br>98690 rows x 3 columns<br>memory usage: 1.58 MB<br>name: actors<br>type: getml.data.DataFrame<br>url: <a href=\"http://localhost:1709/#/getdataframe/MovieLens/actors/\" target=\"_blank\">http://localhost:1709/#/getdataframe/MovieLens/actors/</a>"
      ],
      "text/plain": [
       "Name     actorid      a_gender   a_quality   \n",
       "Role    join_key   categorical   numerical   \n",
       "0       4          M             4           \n",
       "1       16         M             0           \n",
       "2       28         M             4           \n",
       "3       566        M             4           \n",
       "4       580        M             4           \n",
       "        ...        ...           ...         \n",
       "98685   2749162    F             3           \n",
       "98686   2749168    F             3           \n",
       "98687   2749204    F             3           \n",
       "98688   2749377    F             4           \n",
       "98689   2749386    F             4           \n",
       "\n",
       "98690 rows x 3 columns\n",
       "memory usage: 1.58 MB\n",
       "name: actors\n",
       "type: getml.data.DataFrame\n",
       "url: http://localhost:1709/#/getdataframe/MovieLens/actors/"
      ]
     },
     "execution_count": 13,
     "metadata": {},
     "output_type": "execute_result"
    }
   ],
   "source": [
    "actors.set_role(\"actorid\", getml.data.roles.join_key)\n",
    "actors.set_role(\"a_quality\", getml.data.roles.numerical)\n",
    "actors.set_role(\"a_gender\", getml.data.roles.categorical)\n",
    "\n",
    "actors.save()"
   ]
  },
  {
   "cell_type": "markdown",
   "metadata": {},
   "source": [
    "We need to separate our data set into a training, testing and validation set:"
   ]
  },
  {
   "cell_type": "code",
   "execution_count": 14,
   "metadata": {},
   "outputs": [],
   "source": [
    "random = users.random()\n",
    "\n",
    "is_training = (random < 0.75)\n",
    "is_test = ~is_training\n",
    "\n",
    "data_train = users.where(\"data_train\", is_training)\n",
    "data_test = users.where(\"data_test\", is_test)"
   ]
  },
  {
   "cell_type": "markdown",
   "metadata": {},
   "source": [
    " "
   ]
  },
  {
   "cell_type": "markdown",
   "metadata": {},
   "source": [
    "## 2. Predictive modelling\n",
    "\n",
    "We loaded the data and defined the roles and units. Next, we create a getML pipeline for relational learning."
   ]
  },
  {
   "cell_type": "markdown",
   "metadata": {},
   "source": [
    "### 2.1 Define relational model\n",
    "\n",
    "To get started with relational learning, we need to specify the data model."
   ]
  },
  {
   "cell_type": "code",
   "execution_count": 15,
   "metadata": {},
   "outputs": [
    {
     "data": {
      "text/html": [
       "<div style=\"height:210px;width:2160px;position:relative;\"><svg height=\"200\" width=\"2150\"><rect y=\"0\" x=\"0\" rx=\"10\" ry=\"10\" width=\"150\" height=\"90\" style=\"fill:#6829c2;stroke-width:0;\" /><text y=\"73.8\"\" x=\"75.0\" dominant-baseline=\"middle\" text-anchor=\"middle\" fill=\"white\">directors</text><rect x=\"51\" y=\"10\" rx=\"4\" ry=\"4\" width=\"48\" height=\"48\" style=\" fill:#6829c2;stroke:#ffffff;stroke-width:3;\" /><line x1=\"67.0\" y1=\"10\" x2=\"67.0\" y2=\"58\" style=\"stroke:white;stroke-width:3\" /><line x1=\"83.0\" y1=\"10\" x2=\"83.0\" y2=\"58\" style=\"stroke:white;stroke-width:3\" /><line x1=\"51\" y1=\"26.0\" x2=\"99\" y2=\"26.0\" style=\"stroke:white;stroke-width:3\" /><line x1=\"51\" y1=\"42.0\" x2=\"99\" y2=\"42.0\" style=\"stroke:white;stroke-width:3\" /><rect y=\"0\" x=\"500\" rx=\"10\" ry=\"10\" width=\"150\" height=\"90\" style=\"fill:#6829c2;stroke-width:0;\" /><text y=\"73.8\"\" x=\"575.0\" dominant-baseline=\"middle\" text-anchor=\"middle\" fill=\"white\">movies2directors</text><rect x=\"551\" y=\"10\" rx=\"4\" ry=\"4\" width=\"48\" height=\"48\" style=\" fill:#6829c2;stroke:#ffffff;stroke-width:3;\" /><line x1=\"567.0\" y1=\"10\" x2=\"567.0\" y2=\"58\" style=\"stroke:white;stroke-width:3\" /><line x1=\"583.0\" y1=\"10\" x2=\"583.0\" y2=\"58\" style=\"stroke:white;stroke-width:3\" /><line x1=\"551\" y1=\"26.0\" x2=\"599\" y2=\"26.0\" style=\"stroke:white;stroke-width:3\" /><line x1=\"551\" y1=\"42.0\" x2=\"599\" y2=\"42.0\" style=\"stroke:white;stroke-width:3\" /><rect y=\"110\" x=\"0\" rx=\"10\" ry=\"10\" width=\"150\" height=\"90\" style=\"fill:#6829c2;stroke-width:0;\" /><text y=\"183.8\"\" x=\"75.0\" dominant-baseline=\"middle\" text-anchor=\"middle\" fill=\"white\">actors</text><rect x=\"51\" y=\"120\" rx=\"4\" ry=\"4\" width=\"48\" height=\"48\" style=\" fill:#6829c2;stroke:#ffffff;stroke-width:3;\" /><line x1=\"67.0\" y1=\"120\" x2=\"67.0\" y2=\"168\" style=\"stroke:white;stroke-width:3\" /><line x1=\"83.0\" y1=\"120\" x2=\"83.0\" y2=\"168\" style=\"stroke:white;stroke-width:3\" /><line x1=\"51\" y1=\"136.0\" x2=\"99\" y2=\"136.0\" style=\"stroke:white;stroke-width:3\" /><line x1=\"51\" y1=\"152.0\" x2=\"99\" y2=\"152.0\" style=\"stroke:white;stroke-width:3\" /><rect y=\"110\" x=\"500\" rx=\"10\" ry=\"10\" width=\"150\" height=\"90\" style=\"fill:#6829c2;stroke-width:0;\" /><text y=\"183.8\"\" x=\"575.0\" dominant-baseline=\"middle\" text-anchor=\"middle\" fill=\"white\">movies2actors</text><rect x=\"551\" y=\"120\" rx=\"4\" ry=\"4\" width=\"48\" height=\"48\" style=\" fill:#6829c2;stroke:#ffffff;stroke-width:3;\" /><line x1=\"567.0\" y1=\"120\" x2=\"567.0\" y2=\"168\" style=\"stroke:white;stroke-width:3\" /><line x1=\"583.0\" y1=\"120\" x2=\"583.0\" y2=\"168\" style=\"stroke:white;stroke-width:3\" /><line x1=\"551\" y1=\"136.0\" x2=\"599\" y2=\"136.0\" style=\"stroke:white;stroke-width:3\" /><line x1=\"551\" y1=\"152.0\" x2=\"599\" y2=\"152.0\" style=\"stroke:white;stroke-width:3\" /><rect y=\"110\" x=\"1000\" rx=\"10\" ry=\"10\" width=\"150\" height=\"90\" style=\"fill:#6829c2;stroke-width:0;\" /><text y=\"183.8\"\" x=\"1075.0\" dominant-baseline=\"middle\" text-anchor=\"middle\" fill=\"white\">movies</text><rect x=\"1051\" y=\"120\" rx=\"4\" ry=\"4\" width=\"48\" height=\"48\" style=\" fill:#6829c2;stroke:#ffffff;stroke-width:3;\" /><line x1=\"1067.0\" y1=\"120\" x2=\"1067.0\" y2=\"168\" style=\"stroke:white;stroke-width:3\" /><line x1=\"1083.0\" y1=\"120\" x2=\"1083.0\" y2=\"168\" style=\"stroke:white;stroke-width:3\" /><line x1=\"1051\" y1=\"136.0\" x2=\"1099\" y2=\"136.0\" style=\"stroke:white;stroke-width:3\" /><line x1=\"1051\" y1=\"152.0\" x2=\"1099\" y2=\"152.0\" style=\"stroke:white;stroke-width:3\" /><rect y=\"110\" x=\"1500\" rx=\"10\" ry=\"10\" width=\"150\" height=\"90\" style=\"fill:#6829c2;stroke-width:0;\" /><text y=\"183.8\"\" x=\"1575.0\" dominant-baseline=\"middle\" text-anchor=\"middle\" fill=\"white\">u2base</text><rect x=\"1551\" y=\"120\" rx=\"4\" ry=\"4\" width=\"48\" height=\"48\" style=\" fill:#6829c2;stroke:#ffffff;stroke-width:3;\" /><line x1=\"1567.0\" y1=\"120\" x2=\"1567.0\" y2=\"168\" style=\"stroke:white;stroke-width:3\" /><line x1=\"1583.0\" y1=\"120\" x2=\"1583.0\" y2=\"168\" style=\"stroke:white;stroke-width:3\" /><line x1=\"1551\" y1=\"136.0\" x2=\"1599\" y2=\"136.0\" style=\"stroke:white;stroke-width:3\" /><line x1=\"1551\" y1=\"152.0\" x2=\"1599\" y2=\"152.0\" style=\"stroke:white;stroke-width:3\" /><rect y=\"110\" x=\"2000\" rx=\"10\" ry=\"10\" width=\"150\" height=\"90\" style=\"fill:#6829c2;stroke-width:0;\" /><text y=\"183.8\"\" x=\"2075.0\" dominant-baseline=\"middle\" text-anchor=\"middle\" fill=\"white\">users</text><rect x=\"2051\" y=\"120\" rx=\"4\" ry=\"4\" width=\"48\" height=\"48\" style=\" fill:#6829c2;stroke:#ffffff;stroke-width:3;\" /><line x1=\"2067.0\" y1=\"120\" x2=\"2067.0\" y2=\"168\" style=\"stroke:white;stroke-width:3\" /><line x1=\"2083.0\" y1=\"120\" x2=\"2083.0\" y2=\"168\" style=\"stroke:white;stroke-width:3\" /><line x1=\"2051\" y1=\"136.0\" x2=\"2099\" y2=\"136.0\" style=\"stroke:white;stroke-width:3\" /><line x1=\"2051\" y1=\"152.0\" x2=\"2099\" y2=\"152.0\" style=\"stroke:white;stroke-width:3\" /><line x1=\"150\" y1=\"43.0\" x2=\"490\" y2=\"43.0\" style=\"stroke:#808080;;stroke-width:4\" /><polygon points=\"500, 43.0 490, 37.0 490, 49.0 \" style=\"fill:#808080;;stroke-width:0;\" /><rect y=\"10.0\" x=\"249.0\" rx=\"10\" ry=\"10\" width=\"150\" height=\"70\" style=\"fill:#6829c2;stroke-width:0;\" /><text dominant-baseline=\"middle\" text-anchor=\"middle\" fill=\"white\"><tspan y=\"40.0\"\" x=\"324.0\" font-size=\"7pt\" >directorid = directorid</tspan><tspan y=\"50.0\"\" x=\"324.0\" font-size=\"7pt\" >Relationship: many-to-one</tspan></text><line x1=\"150\" y1=\"153.0\" x2=\"490\" y2=\"153.0\" style=\"stroke:#808080;;stroke-width:4\" /><polygon points=\"500, 153.0 490, 147.0 490, 159.0 \" style=\"fill:#808080;;stroke-width:0;\" /><rect y=\"120.0\" x=\"249.0\" rx=\"10\" ry=\"10\" width=\"150\" height=\"70\" style=\"fill:#6829c2;stroke-width:0;\" /><text dominant-baseline=\"middle\" text-anchor=\"middle\" fill=\"white\"><tspan y=\"150.0\"\" x=\"324.0\" font-size=\"7pt\" >actorid = actorid</tspan><tspan y=\"160.0\"\" x=\"324.0\" font-size=\"7pt\" >Relationship: many-to-one</tspan></text><line x1=\"650\" y1=\"43.0\" x2=\"1073.0\" y2=\"43.0\" style=\"stroke:#808080;;stroke-width:4\" /><line x1=\"1073.0\" y1=\"41.0\" x2=\"1073.0\" y2=\"100\" style=\"stroke:#808080;;stroke-width:4\" /><polygon points=\"1073.0, 110 1067.0, 100 1079.0, 100 \" style=\"fill:#808080;;stroke-width:0;\" /><rect y=\"10.0\" x=\"749.0\" rx=\"10\" ry=\"10\" width=\"150\" height=\"70\" style=\"fill:#6829c2;stroke-width:0;\" /><text dominant-baseline=\"middle\" text-anchor=\"middle\" fill=\"white\"><tspan y=\"45.0\"\" x=\"824.0\" font-size=\"7pt\" >movieid = movieid</tspan></text><line x1=\"650\" y1=\"153.0\" x2=\"990\" y2=\"153.0\" style=\"stroke:#808080;;stroke-width:4\" /><polygon points=\"1000, 153.0 990, 147.0 990, 159.0 \" style=\"fill:#808080;;stroke-width:0;\" /><rect y=\"120.0\" x=\"749.0\" rx=\"10\" ry=\"10\" width=\"150\" height=\"70\" style=\"fill:#6829c2;stroke-width:0;\" /><text dominant-baseline=\"middle\" text-anchor=\"middle\" fill=\"white\"><tspan y=\"155.0\"\" x=\"824.0\" font-size=\"7pt\" >movieid = movieid</tspan></text><line x1=\"1150\" y1=\"153.0\" x2=\"1490\" y2=\"153.0\" style=\"stroke:#808080;;stroke-width:4\" /><polygon points=\"1500, 153.0 1490, 147.0 1490, 159.0 \" style=\"fill:#808080;;stroke-width:0;\" /><rect y=\"120.0\" x=\"1249.0\" rx=\"10\" ry=\"10\" width=\"150\" height=\"70\" style=\"fill:#6829c2;stroke-width:0;\" /><text dominant-baseline=\"middle\" text-anchor=\"middle\" fill=\"white\"><tspan y=\"150.0\"\" x=\"1324.0\" font-size=\"7pt\" >movieid = movieid</tspan><tspan y=\"160.0\"\" x=\"1324.0\" font-size=\"7pt\" >Relationship: many-to-one</tspan></text><line x1=\"1650\" y1=\"153.0\" x2=\"1990\" y2=\"153.0\" style=\"stroke:#808080;;stroke-width:4\" /><polygon points=\"2000, 153.0 1990, 147.0 1990, 159.0 \" style=\"fill:#808080;;stroke-width:0;\" /><rect y=\"120.0\" x=\"1749.0\" rx=\"10\" ry=\"10\" width=\"150\" height=\"70\" style=\"fill:#6829c2;stroke-width:0;\" /><text dominant-baseline=\"middle\" text-anchor=\"middle\" fill=\"white\"><tspan y=\"155.0\"\" x=\"1824.0\" font-size=\"7pt\" >userid = userid</tspan></text></svg></div>"
      ],
      "text/plain": [
       "     placeholder   other placeholder   allow lagged targets   horizon   join keys used   memory   \n",
       "users              u2base              False                  0.0       userid           0.0      \n",
       "u2base             movies              False                  0.0       movieid          0.0      \n",
       "movies             movies2directors    False                  0.0       movieid          0.0      \n",
       "movies             movies2actors       False                  0.0       movieid          0.0      \n",
       "movies2directors   directors           False                  0.0       directorid       0.0      \n",
       "movies2actors      actors              False                  0.0       actorid          0.0      \n",
       "\n",
       "\n",
       "\n",
       "other join keys used   other time stamps used   relationship   time stamps used   \n",
       "userid                                          many-to-many                      \n",
       "movieid                                         many-to-one                       \n",
       "movieid                                         many-to-many                      \n",
       "movieid                                         many-to-many                      \n",
       "directorid                                      many-to-one                       \n",
       "actorid                                         many-to-one                       \n",
       "\n",
       "\n",
       "\n",
       "other join keys used   upper time stamps used   \n",
       "userid                                          \n",
       "movieid                                         \n",
       "movieid                                         \n",
       "movieid                                         \n",
       "directorid                                      \n",
       "actorid                                         "
      ]
     },
     "execution_count": 15,
     "metadata": {},
     "output_type": "execute_result"
    }
   ],
   "source": [
    "users_ph = getml.data.Placeholder('users')\n",
    "u2base_ph = getml.data.Placeholder('u2base')\n",
    "movies_ph = getml.data.Placeholder('movies')\n",
    "movies2directors_ph = getml.data.Placeholder('movies2directors')\n",
    "directors_ph = getml.data.Placeholder('directors')\n",
    "movies2actors_ph = getml.data.Placeholder('movies2actors')\n",
    "actors_ph = getml.data.Placeholder('actors')\n",
    "\n",
    "users_ph.join(\n",
    "    u2base_ph,\n",
    "    join_key='userid'\n",
    ")\n",
    "\n",
    "u2base_ph.join(\n",
    "    movies_ph,\n",
    "    join_key='movieid',\n",
    "    relationship=getml.data.relationship.many_to_one\n",
    ")\n",
    "\n",
    "movies_ph.join(\n",
    "    movies2directors_ph,\n",
    "    join_key='movieid'\n",
    ")\n",
    "\n",
    "movies2directors_ph.join(\n",
    "    directors_ph,\n",
    "    join_key='directorid',\n",
    "    relationship=getml.data.relationship.many_to_one\n",
    ")\n",
    "\n",
    "movies_ph.join(\n",
    "    movies2actors_ph,\n",
    "    join_key='movieid'\n",
    ")\n",
    "\n",
    "movies2actors_ph.join(\n",
    "    actors_ph,\n",
    "    join_key='actorid',\n",
    "    relationship=getml.data.relationship.many_to_one\n",
    ")\n",
    "\n",
    "users_ph"
   ]
  },
  {
   "cell_type": "markdown",
   "metadata": {},
   "source": [
    " "
   ]
  },
  {
   "cell_type": "markdown",
   "metadata": {},
   "source": [
    "### 2.2 getML pipeline"
   ]
  },
  {
   "cell_type": "markdown",
   "metadata": {},
   "source": [
    "<!-- #### 2.1.1  -->\n",
    "__Set-up the feature learner & predictor__"
   ]
  },
  {
   "cell_type": "markdown",
   "metadata": {},
   "source": [
    "We can either use the relboost default parameters or some more fine-tuned parameters. Fine-tuning these parameters in this way can increase our predictive accuracy to 85%, but the training time increases to over 4 hours. We therefore assume that we want to use the default parameters."
   ]
  },
  {
   "cell_type": "code",
   "execution_count": 16,
   "metadata": {},
   "outputs": [],
   "source": [
    "fast_prop = getml.feature_learning.FastPropModel(\n",
    "    loss_function=getml.feature_learning.loss_functions.CrossEntropyLoss,\n",
    "    n_most_frequent=3\n",
    ")\n",
    "\n",
    "predictor = getml.predictors.XGBoostClassifier()"
   ]
  },
  {
   "cell_type": "markdown",
   "metadata": {},
   "source": [
    "__Build the pipeline__"
   ]
  },
  {
   "cell_type": "code",
   "execution_count": 17,
   "metadata": {},
   "outputs": [],
   "source": [
    "peripheral_ph = [\n",
    "    u2base_ph, \n",
    "    movies_ph, \n",
    "    movies2directors_ph, \n",
    "    directors_ph, \n",
    "    movies2actors_ph,\n",
    "    actors_ph\n",
    "]\n",
    "\n",
    "pipe = getml.pipeline.Pipeline(\n",
    "    tags=['FastProp'],\n",
    "    population=users_ph,\n",
    "    peripheral=peripheral_ph,\n",
    "    feature_learners=[fast_prop],\n",
    "    predictors=[predictor]\n",
    ")"
   ]
  },
  {
   "cell_type": "markdown",
   "metadata": {},
   "source": [
    " "
   ]
  },
  {
   "cell_type": "markdown",
   "metadata": {},
   "source": [
    "### 2.3 Model training"
   ]
  },
  {
   "cell_type": "code",
   "execution_count": 18,
   "metadata": {},
   "outputs": [],
   "source": [
    "peripheral = {\n",
    "    \"u2base\": u2base, \n",
    "    \"movies\": movies, \n",
    "    \"movies2directors\": movies2directors,\n",
    "    \"directors\": directors,\n",
    "    \"movies2actors\": movies2actors,\n",
    "    \"actors\": actors\n",
    "}"
   ]
  },
  {
   "cell_type": "code",
   "execution_count": 19,
   "metadata": {},
   "outputs": [
    {
     "name": "stdout",
     "output_type": "stream",
     "text": [
      "Checking data model...\n"
     ]
    },
    {
     "name": "stderr",
     "output_type": "stream",
     "text": [
      "INFO [JOIN KEYS NOT FOUND]: When joining the composite data frame 'u2base'-'movies' that has been created by many-to-one joins or one-to-one joins and the composite data frame 'movies2directors'-'directors' that has been created by many-to-one joins or one-to-one joins over 'movieid' and 'movieid', there are no corresponding entries for 0.159513% of entries in 'movieid' in 'the composite data frame 'u2base'-'movies' that has been created by many-to-one joins or one-to-one joins'. You might want to double-check your join keys.\n",
      "INFO [MIGHT TAKE LONG]: There are 43873711 matches between the composite data frame 'u2base'-'movies' that has been created by many-to-one joins or one-to-one joins and the composite data frame 'movies2actors'-'actors' that has been created by many-to-one joins or one-to-one joins when joined over 'movieid' and 'movieid'. This pipeline might take a very long time to fit. You should consider imposing a narrower limit on the scope of this join by reducing the memory (the period of time until the feature learner 'forgets' historical data). You can reduce the memory by setting the appropriate parameter in the .join(...)-method of the Placeholder. Please note that a memory of 0.0 means that the time series will not forget any past data.\n",
      "INFO [JOIN KEYS NOT FOUND]: When joining the composite data frame 'u2base'-'movies' that has been created by many-to-one joins or one-to-one joins and the composite data frame 'movies2actors'-'actors' that has been created by many-to-one joins or one-to-one joins over 'movieid' and 'movieid', there are no corresponding entries for 0.340408% of entries in 'movieid' in 'the composite data frame 'u2base'-'movies' that has been created by many-to-one joins or one-to-one joins'. You might want to double-check your join keys.\n"
     ]
    }
   ],
   "source": [
    "pipe.check(data_train, peripheral)"
   ]
  },
  {
   "cell_type": "code",
   "execution_count": 20,
   "metadata": {},
   "outputs": [
    {
     "name": "stdout",
     "output_type": "stream",
     "text": [
      "Checking data model...\n"
     ]
    },
    {
     "name": "stderr",
     "output_type": "stream",
     "text": [
      "INFO [JOIN KEYS NOT FOUND]: When joining the composite data frame 'u2base'-'movies' that has been created by many-to-one joins or one-to-one joins and the composite data frame 'movies2directors'-'directors' that has been created by many-to-one joins or one-to-one joins over 'movieid' and 'movieid', there are no corresponding entries for 0.159513% of entries in 'movieid' in 'the composite data frame 'u2base'-'movies' that has been created by many-to-one joins or one-to-one joins'. You might want to double-check your join keys.\n",
      "INFO [MIGHT TAKE LONG]: There are 43873711 matches between the composite data frame 'u2base'-'movies' that has been created by many-to-one joins or one-to-one joins and the composite data frame 'movies2actors'-'actors' that has been created by many-to-one joins or one-to-one joins when joined over 'movieid' and 'movieid'. This pipeline might take a very long time to fit. You should consider imposing a narrower limit on the scope of this join by reducing the memory (the period of time until the feature learner 'forgets' historical data). You can reduce the memory by setting the appropriate parameter in the .join(...)-method of the Placeholder. Please note that a memory of 0.0 means that the time series will not forget any past data.\n",
      "INFO [JOIN KEYS NOT FOUND]: When joining the composite data frame 'u2base'-'movies' that has been created by many-to-one joins or one-to-one joins and the composite data frame 'movies2actors'-'actors' that has been created by many-to-one joins or one-to-one joins over 'movieid' and 'movieid', there are no corresponding entries for 0.340408% of entries in 'movieid' in 'the composite data frame 'u2base'-'movies' that has been created by many-to-one joins or one-to-one joins'. You might want to double-check your join keys.\n"
     ]
    },
    {
     "name": "stdout",
     "output_type": "stream",
     "text": [
      "\n",
      "FastProp: Trying 7773 features...\n",
      "[========================================] 100%\n",
      "\n",
      "FastProp: Building features...\n",
      "[========================================] 100%\n",
      "\n",
      "FastProp: Building features...\n",
      "[========================================] 100%\n",
      "\n",
      "XGBoost: Training as predictor...\n",
      "[========================================] 100%\n",
      "\n",
      "Trained pipeline.\n",
      "Time taken: 0h:14m:1.646866\n",
      "\n"
     ]
    },
    {
     "data": {
      "text/html": [
       "<pre>Pipeline(preprocessors=[], feature_learners=['FastPropModel'], <br>         feature_selectors=[], include_categorical=False, <br>         peripheral=['u2base', 'movies', 'movies2directors', 'directors', 'movies2actors', 'actors'], <br>         population='users', predictors=['XGBoostClassifier'], <br>         tags=['FastProp'], share_selected_features=0.5)</pre><br><pre>url: <a href=\"http://localhost:1709/#/getpipeline/MovieLens/V6Hg89/0/\" target=\"_blank\">http://localhost:1709/#/getpipeline/MovieLens/V6Hg89/0/</a></pre>"
      ],
      "text/plain": [
       "Pipeline(preprocessors=[], feature_learners=['FastPropModel'], \n",
       "         feature_selectors=[], include_categorical=False, \n",
       "         peripheral=['u2base', 'movies', 'movies2directors', 'directors', 'movies2actors', 'actors'], \n",
       "         population='users', predictors=['XGBoostClassifier'], \n",
       "         tags=['FastProp'], share_selected_features=0.5)\n",
       "\n",
       "url: http://localhost:1709/#/getpipeline/MovieLens/V6Hg89/0/"
      ]
     },
     "execution_count": 20,
     "metadata": {},
     "output_type": "execute_result"
    }
   ],
   "source": [
    "pipe.fit(data_train, peripheral)"
   ]
  },
  {
   "cell_type": "markdown",
   "metadata": {},
   "source": [
    " "
   ]
  },
  {
   "cell_type": "markdown",
   "metadata": {},
   "source": [
    "### 2.4 Model evaluation"
   ]
  },
  {
   "cell_type": "code",
   "execution_count": 21,
   "metadata": {
    "lines_to_next_cell": 0
   },
   "outputs": [
    {
     "name": "stdout",
     "output_type": "stream",
     "text": [
      "\n",
      "FastProp: Building features...\n",
      "[========================================] 100%\n",
      "\n",
      "FastProp: Building features...\n",
      "[========================================] 100%\n",
      "\n"
     ]
    },
    {
     "data": {
      "text/html": [
       "<table class=\"dataframe\"><thead><tr style=\"border-bottom:1pt solid LightGray;\"><th style=\"text-align: left;border-right:1pt solid LightGray;\"> </th><th style=\"text-align: right;\">date time          </th><th style=\"text-align: right;\">set used  </th><th style=\"text-align: right;\">target</th><th style=\"text-align: right;\">accuracy</th><th style=\"text-align: right;\">     auc</th><th style=\"text-align: right;\">cross entropy</th></tr></thead><tbody><tr style=\"border-top:1pt solid LightGray;\"><td style=\"border-right:1pt solid LightGray;\"><b>0</b></td><td>2021-02-21 14:51:09</td><td>data_train</td><td>target</td><td> 0.81272</td><td> 0.86834</td><td>      0.41461</td></tr><tr><td style=\"border-right:1pt solid LightGray;\"><b>1</b></td><td>2021-02-21 14:54:05</td><td>data_test </td><td>target</td><td> 0.77167</td><td> 0.77909</td><td>      0.48689</td></tr></tbody></table>"
      ],
      "text/plain": [
       "    date time             set used     target   accuracy        auc   cross entropy\n",
       "0   2021-02-21 14:51:09   data_train   target    0.81272    0.86834         0.41461\n",
       "1   2021-02-21 14:54:05   data_test    target    0.77167    0.77909         0.48689"
      ]
     },
     "execution_count": 21,
     "metadata": {},
     "output_type": "execute_result"
    }
   ],
   "source": [
    "pipe.score(data_test, peripheral)"
   ]
  },
  {
   "cell_type": "markdown",
   "metadata": {},
   "source": [
    " "
   ]
  },
  {
   "cell_type": "markdown",
   "metadata": {},
   "source": [
    "### 2.6 Studying features"
   ]
  },
  {
   "cell_type": "markdown",
   "metadata": {},
   "source": [
    "__Feature correlations__\n",
    "\n",
    "We want to analyze how the features are correlated with the target variable."
   ]
  },
  {
   "cell_type": "code",
   "execution_count": null,
   "metadata": {},
   "outputs": [],
   "source": [
    "names, correlations = pipe.features.correlations()\n",
    "\n",
    "plt.subplots(figsize=(20, 10))\n",
    "\n",
    "plt.bar(names, correlations, color='#6829c2')\n",
    "\n",
    "plt.title('Feature Correlations')\n",
    "plt.xlabel('Features')\n",
    "plt.ylabel('Correlations')\n",
    "plt.xticks(rotation='vertical')\n",
    "plt.show()"
   ]
  },
  {
   "cell_type": "code",
   "execution_count": null,
   "metadata": {},
   "outputs": [],
   "source": [
    "pipe.features.to_sql()"
   ]
  },
  {
   "cell_type": "markdown",
   "metadata": {},
   "source": [
    " "
   ]
  },
  {
   "cell_type": "markdown",
   "metadata": {},
   "source": [
    "__Feature importances__\n",
    " \n",
    "Feature importances are calculated by analyzing the improvement in predictive accuracy on each node of the trees in the XGBoost predictor. They are then normalized, so that all importances add up to 100%."
   ]
  },
  {
   "cell_type": "code",
   "execution_count": null,
   "metadata": {
    "lines_to_next_cell": 0
   },
   "outputs": [],
   "source": [
    "names, importances = pipe.features.importances()\n",
    "\n",
    "plt.subplots(figsize=(20, 10))\n",
    "\n",
    "plt.bar(names, importances, color='#6829c2')\n",
    "\n",
    "plt.title('Feature Importances')\n",
    "plt.xlabel('Features')\n",
    "plt.ylabel('Importances')\n",
    "plt.xticks(rotation='vertical')\n",
    "plt.show()\n",
    "\n",
    "most_important = names[0]"
   ]
  },
  {
   "cell_type": "markdown",
   "metadata": {},
   "source": [
    "  "
   ]
  },
  {
   "cell_type": "markdown",
   "metadata": {},
   "source": [
    "__Column importances__\n",
    "\n",
    "Because getML uses relational learning, we can apply the principles we used to calculate the feature importances to individual columns as well.\n",
    "\n",
    "As we can see, most of the predictive accuracy is drawn from the roles played by the actors. This suggests that the text fields contained in this relational database have a higher impact on predictive accuracy than for most other data sets."
   ]
  },
  {
   "cell_type": "code",
   "execution_count": null,
   "metadata": {},
   "outputs": [],
   "source": [
    "names, importances = pipe.columns.importances()\n",
    "\n",
    "plt.subplots(figsize=(20, 10))\n",
    "\n",
    "plt.bar(names, importances, color='#6829c2')\n",
    "\n",
    "plt.title('Columns importances')\n",
    "plt.xlabel('Columns')\n",
    "plt.ylabel('Importances')\n",
    "plt.xticks(rotation='vertical')\n",
    "plt.show()\n",
    "\n",
    "most_important = names[0]"
   ]
  },
  {
   "cell_type": "markdown",
   "metadata": {},
   "source": [
    " "
   ]
  },
  {
   "cell_type": "markdown",
   "metadata": {},
   "source": [
    "__Transpiling the learned features__\n",
    "\n",
    "We can also transpile the learned features to SQLite3 code. We want to show the two most important features. That is why we call the `.features.importances().` method again. The names that are returned are already sorted by importance."
   ]
  },
  {
   "cell_type": "markdown",
   "metadata": {},
   "source": [
    " "
   ]
  },
  {
   "cell_type": "code",
   "execution_count": null,
   "metadata": {},
   "outputs": [],
   "source": [
    "names, _ = pipe.features.importances()\n",
    "\n",
    "pipe.features.to_sql()"
   ]
  },
  {
   "cell_type": "code",
   "execution_count": null,
   "metadata": {},
   "outputs": [],
   "source": [
    "names, _ = pipe.features.importances()\n",
    "\n",
    "pipe.features.to_sql()[names[1]]"
   ]
  },
  {
   "cell_type": "markdown",
   "metadata": {},
   "source": [
    " "
   ]
  },
  {
   "cell_type": "markdown",
   "metadata": {},
   "source": [
    "### 2.7 Benchmarks"
   ]
  },
  {
   "cell_type": "markdown",
   "metadata": {},
   "source": [
    "## 3. Conclusion\n",
    "\n",
    "In this notebook we have demonstrated how getML can be applied to text fields. We have demonstrated the our  approach outperforms state-of-the-art relational learning algorithms on the IMdb dataset."
   ]
  },
  {
   "cell_type": "markdown",
   "metadata": {},
   "source": [
    " "
   ]
  },
  {
   "cell_type": "markdown",
   "metadata": {},
   "source": [
    "## Citations\n",
    "\n",
    "Motl, Jan, and Oliver Schulte. \"The CTU prague relational learning repository.\" arXiv preprint arXiv:1511.03086 (2015).\n",
    "    \n",
    "Neville, Jennifer, and David Jensen. \"Relational dependency networks.\" Journal of Machine Learning Research 8.Mar (2007): 653-692.\n",
    "    \n",
    "Neville, Jennifer, and David Jensen. \"Collective classification with relational dependency networks.\" Workshop on Multi-Relational Data Mining (MRDM-2003). 2003.\n",
    "    \n",
    "Neville, Jennifer, et al. \"Learning relational probability trees.\" Proceedings of the Ninth ACM SIGKDD international conference on Knowledge discovery and data mining. 2003.\n",
    "    \n",
    "Perovšek, Matic, et al. \"Wordification: Propositionalization by unfolding relational data into bags of words.\" Expert Systems with Applications 42.17-18 (2015): 6442-6456."
   ]
  },
  {
   "cell_type": "markdown",
   "metadata": {},
   "source": [
    " "
   ]
  },
  {
   "cell_type": "markdown",
   "metadata": {},
   "source": [
    "# Next Steps\n",
    "\n",
    "This tutorial went through the basics of applying getML to relational data. If you want to learn more about getML, here are some additional tutorials and articles that will help you:\n",
    "\n",
    "__Tutorials:__\n",
    "* [Loan default prediction: Introduction to relational learning](loans_demo.ipynb)\n",
    "* [Occupancy detection: A multivariate time series example](occupancy_demo.ipynb)  \n",
    "* [Expenditure categorization: Why relational learning matters](consumer_expenditures_demo.ipynb)\n",
    "* [Disease lethality prediction: Feature engineering and the curse of dimensionality](atherosclerosis_demo.ipynb)\n",
    "* [Traffic volume prediction: Feature engineering on multivariate time series](interstate94_demo.ipynb)\n",
    "* [Air pollution prediction: Why feature learning outperforms brute-force approaches](air_pollution_demo.ipynb) \n",
    "\n",
    "\n",
    "__User Guides__ (from our [documentation](https://docs.getml.com/latest/)):\n",
    "* [Feature learning with Multirel](https://docs.getml.com/latest/user_guide/feature_engineering/feature_engineering.html#multirel)\n",
    "* [Feature learning with Relboost](https://docs.getml.com/latest/user_guide/feature_engineering/feature_engineering.html#relboost)\n"
   ]
  },
  {
   "cell_type": "markdown",
   "metadata": {},
   "source": [
    " "
   ]
  },
  {
   "cell_type": "markdown",
   "metadata": {},
   "source": [
    "# Get in contact\n",
    "\n",
    "If you have any question schedule a [call with Alex](https://go.getml.com/meetings/alexander-uhlig/getml-demo), the co-founder of getML, or write us an [email](team@getml.com). Prefer a private demo of getML? Just contact us to make an appointment."
   ]
  },
  {
   "cell_type": "markdown",
   "metadata": {},
   "source": [
    " "
   ]
  }
 ],
 "metadata": {
  "jupytext": {
   "encoding": "# -*- coding: utf-8 -*-",
   "formats": "ipynb,py:percent,md"
  },
  "kernelspec": {
   "display_name": "Python 3",
   "language": "python",
   "name": "python3"
  },
  "language_info": {
   "codemirror_mode": {
    "name": "ipython",
    "version": 3
   },
   "file_extension": ".py",
   "mimetype": "text/x-python",
   "name": "python",
   "nbconvert_exporter": "python",
   "pygments_lexer": "ipython3",
   "version": "3.8.5"
  },
  "toc": {
   "base_numbering": 1,
   "nav_menu": {},
   "number_sections": false,
   "sideBar": true,
   "skip_h1_title": false,
   "title_cell": "Table of Contents",
   "title_sidebar": "Contents",
   "toc_cell": false,
   "toc_position": {},
   "toc_section_display": true,
   "toc_window_display": true
  }
 },
 "nbformat": 4,
 "nbformat_minor": 4
}
