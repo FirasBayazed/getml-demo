{
 "cells": [
  {
   "cell_type": "markdown",
   "metadata": {},
   "source": [
    "# Disease lethality prediction\n",
    "\n",
    "#### __Feature engineering and the curse of dimensionality__\n",
    "\n",
    "The purpose of this notebook is to discuss how automated **feature engineering on relational data with many columns** work. We discuss why feature engineering on such data is **particularly challenging** and what we can do to overcome these problems.\n",
    "\n",
    "Summary:\n",
    "\n",
    "- Prediction type: __Binary classification__\n",
    "- Domain: __Health__\n",
    "- Prediction target: __Mortality in patients with atherosclerosis__ \n",
    "- Source data: __146 columns over 2 Tables, 22 MB__\n",
    "- Population size: __28433__\n",
    "\n",
    "_Author: Dr. Patrick Urbanke_"
   ]
  },
  {
   "cell_type": "markdown",
   "metadata": {},
   "source": [
    " "
   ]
  },
  {
   "cell_type": "markdown",
   "metadata": {},
   "source": [
    "#### __The problem__\n",
    "\n",
    "When we engineer features from relational data, we usually write something like this:\n",
    "\n",
    "```sql\n",
    "SELECT SOME_AGGREGATION(t2.some_column)\n",
    "FROM some_table t1\n",
    "LEFT JOIN some_other_table t2\n",
    "ON join_key\n",
    "WHERE some_other_column (some condition)\n",
    "GROUP BY join_key;\n",
    "```\n",
    "\n",
    "Think about that for a second.\n",
    "\n",
    "Every column that we have can either be **aggregated** (like *some_column*) or it can be **used for our conditions** (like *some_other_column*). That means if we have *n* columns to aggregate, we can potentially build conditions for *n* other columns. In other words, the **computational complexity is n^2 in the number of columns**.\n",
    "\n",
    "Note that this problem occurs **regardless of whether you automate feature engineering or you do it by hand**. The size of the search space is n^2 in the number of columns in either case, unless you can rule something out a-priori.\n",
    "\n",
    "\n"
   ]
  },
  {
   "cell_type": "markdown",
   "metadata": {},
   "source": [
    " "
   ]
  },
  {
   "cell_type": "markdown",
   "metadata": {},
   "source": [
    "#### __The solution__\n",
    "\n",
    "So when we have relational data sets with many columns, **what do we do**? The answer is to **write different features**. Specifically, suppose we had features like this:\n",
    "\n",
    "```sql\n",
    "SELECT SOME_AGGREGATION(\n",
    "    CASE WHEN some_condition THEN weight1\n",
    "    CASE WHEN some_other_condition THEN weight2\n",
    "    END\n",
    ")\n",
    "FROM some_table t1\n",
    "LEFT JOIN some_other_table t2\n",
    "ON join_key\n",
    "GROUP BY join_key;\n",
    "```\n",
    "\n",
    "*weight1* and *weight2* are **learnable weights**. An algorithm that generates features like this can **only use columns for conditions** - it is **not allowed to aggregate columns**.\n",
    "\n",
    "That means the **computational complexity is linear instead of quadratic**. For data sets with a large number of columns this can make all the difference in the world. For instance, if you have 100 columns the **size of the search space of the second approach is only 1%** of the size of the search space of the first one.\n",
    "\n"
   ]
  },
  {
   "cell_type": "markdown",
   "metadata": {},
   "source": [
    " "
   ]
  },
  {
   "cell_type": "markdown",
   "metadata": {},
   "source": [
    "#### __Background__\n",
    "\n",
    "To illustrate the problem of dimensionality in predictive analytics on relational data, we use the STULONG 1 dataset. It is a longitudinal study of atherosclerosis patients.\n",
    "\n",
    "One of its defining features is that it contains many columns, which makes it a good candidate to illustrate the problem discussed in this notebook.\n",
    "\n",
    "The are some academic studies related to this dataset:\n",
    "\n",
    "* https://www.researchgate.net/publication/228572841_Mining_episode_rules_in_STULONG_dataset\n",
    "* http://citeseerx.ist.psu.edu/viewdoc/download?doi=10.1.1.83.4764&rep=rep1&type=pdf\n",
    "\n",
    "The way these studies handle the large number of columns in the data set is to divide the columns into subgroups and then handling each subgroup separately. Even though this is one way to overcome the curse of dimensionality, it is not a very satisfying approach. We would like to be able to handle a large number of columns at once.\n",
    "\n",
    "\n",
    "#### __Dataset__\n",
    "\n",
    "The STULONG 1 dataset is publicly available and can be downloaded the [the CTU Prague Relational Learning Repository](https://relational.fit.cvut.cz/dataset/Atherosclerosis).\n",
    "\n"
   ]
  },
  {
   "cell_type": "markdown",
   "metadata": {},
   "source": [
    " "
   ]
  },
  {
   "cell_type": "markdown",
   "metadata": {},
   "source": [
    "# The analysis"
   ]
  },
  {
   "cell_type": "markdown",
   "metadata": {},
   "source": [
    "Let's get started with the analysis and set-up your session:"
   ]
  },
  {
   "cell_type": "code",
   "execution_count": 67,
   "metadata": {},
   "outputs": [
    {
     "name": "stdout",
     "output_type": "stream",
     "text": [
      "getML API version: 0.12.0-datasets.3\n",
      "\n",
      "Loading existing project 'atherosclerosis'\n"
     ]
    }
   ],
   "source": [
    "import os\n",
    "import numpy as np\n",
    "import pandas as pd\n",
    "from IPython.display import Image, Markdown\n",
    "import matplotlib.pyplot as plt\n",
    "plt.style.use('seaborn')\n",
    "%matplotlib inline  \n",
    "\n",
    "import getml\n",
    "\n",
    "print(f\"getML API version: {getml.__version__}\\n\")\n",
    "\n",
    "getml.engine.set_project('atherosclerosis')"
   ]
  },
  {
   "cell_type": "markdown",
   "metadata": {},
   "source": [
    " "
   ]
  },
  {
   "cell_type": "markdown",
   "metadata": {},
   "source": [
    "## 1. Loading data\n"
   ]
  },
  {
   "cell_type": "markdown",
   "metadata": {},
   "source": [
    "### 1.1 Download from source\n",
    "\n",
    "Downloading the raw data and convert it into a prediction ready format takes time. To get to the getML model building as fast as possible, we prepared the data for you and excluded the code from this notebook. It is made available in the example notebook featuring the full analysis."
   ]
  },
  {
   "cell_type": "code",
   "execution_count": 130,
   "metadata": {},
   "outputs": [],
   "source": [
    "data = getml.datasets.load_atherosclerosis(roles=True)\n",
    "population_70, population_15_1, population_15_2, contr = data.values()\n",
    "population_training = population_70\n",
    "population_testing = getml.data.concat(\"population_testing\", [population_15_1, population_15_2])"
   ]
  },
  {
   "cell_type": "markdown",
   "metadata": {},
   "source": [
    " "
   ]
  },
  {
   "cell_type": "markdown",
   "metadata": {},
   "source": [
    "### 1.2 Prepare data for getML\n",
    "\n",
    "The `getml.datasets.load_atherosclerosis` method took care of the entire data lifting:\n",
    "* Downloads csv's from our servers in python\n",
    "* Converts csv's to getML [DataFrames]()\n",
    "* Sets [roles]() to columns inside getML DataFrames"
   ]
  },
  {
   "cell_type": "markdown",
   "metadata": {},
   "source": [
    " "
   ]
  },
  {
   "cell_type": "markdown",
   "metadata": {},
   "source": [
    "__Data visualization__\n",
    "\n",
    "The original data (image below) model is condensed into 2 tables: \n",
    "\n",
    "* A population table *population_{train/test/validate}*, based on `death` table\n",
    "* A peripheral table: `contr`."
   ]
  },
  {
   "cell_type": "markdown",
   "metadata": {},
   "source": [
    " "
   ]
  },
  {
   "cell_type": "markdown",
   "metadata": {},
   "source": [
    "__Death:__ population table\n",
    "* ..."
   ]
  },
  {
   "cell_type": "code",
   "execution_count": 132,
   "metadata": {},
   "outputs": [
    {
     "data": {
      "text/html": [
       "<table class=\"dataframe\"><thead><tr style=\"border-bottom:1pt solid LightGray;\"><th style=\"text-align: left;border-right:1pt solid LightGray;\">Name </th><th style=\"text-align: right;\">REFERENCE_DATE</th><th style=\"text-align: right;\">ENTRY_DATE</th><th style=\"text-align: right;\">ICO</th><th style=\"text-align: right;\">TARGET</th><th style=\"text-align: right;\">KONSKUP</th><th style=\"text-align: right;\">STAV</th><th style=\"text-align: right;\">VZDELANI</th><th style=\"text-align: right;\">ZODPOV</th><th style=\"text-align: right;\">TELAKTZA</th><th style=\"text-align: right;\">AKTPOZAM</th><th style=\"text-align: right;\">DOPRAVA</th><th style=\"text-align: right;\">DOPRATRV</th><th style=\"text-align: right;\">ALKOHOL</th><th style=\"text-align: right;\">BOLHR</th><th style=\"text-align: right;\">BOLDK</th><th style=\"text-align: right;\">DUSNOST</th><th style=\"text-align: right;\">RARISK</th><th style=\"text-align: right;\">OBEZRISK</th><th style=\"text-align: right;\">KOURRISK</th><th style=\"text-align: right;\">HTRISK</th><th style=\"text-align: right;\">CHOLRISK</th><th style=\"text-align: right;\">MOC</th><th style=\"text-align: right;\">AGE</th><th style=\"text-align: right;\">PARTICIPATION</th><th style=\"text-align: right;\">VYSKA</th><th style=\"text-align: right;\">VAHA</th><th style=\"text-align: right;\">SYST1</th><th style=\"text-align: right;\">DIAST1</th><th style=\"text-align: right;\">SYST2</th><th style=\"text-align: right;\">DIAST2</th><th style=\"text-align: right;\">TRIC</th><th style=\"text-align: right;\">SUBSC</th><th style=\"text-align: right;\">CHLST</th><th style=\"text-align: right;\">TRIGL</th><th style=\"text-align: right;\">KOURENI</th><th style=\"text-align: right;\">DOBAKOUR</th><th style=\"text-align: right;\">BYVKURAK</th><th style=\"text-align: right;\">PIVOMN</th><th style=\"text-align: right;\">VINOMN</th><th style=\"text-align: right;\">LIHMN</th><th style=\"text-align: right;\">KAVA</th><th style=\"text-align: right;\">CAJ</th><th style=\"text-align: right;\">CUKR</th><th style=\"text-align: right;\">Unnamed: 0_x</th><th style=\"text-align: right;\">ROKNAR</th><th style=\"text-align: right;\">ROKVSTUP</th><th style=\"text-align: right;\">MESVSTUP</th><th style=\"text-align: right;\">PIVO7</th><th style=\"text-align: right;\">PIVO10</th><th style=\"text-align: right;\">PIVO12</th><th style=\"text-align: right;\">VINO</th><th style=\"text-align: right;\">LIHOV</th><th style=\"text-align: right;\">IM</th><th style=\"text-align: right;\">IML</th><th style=\"text-align: right;\">HT</th><th style=\"text-align: right;\">HTD</th><th style=\"text-align: right;\">HTL</th><th style=\"text-align: right;\">ICT</th><th style=\"text-align: right;\">ICTL</th><th style=\"text-align: right;\">DIABET</th><th style=\"text-align: right;\">DIABD</th><th style=\"text-align: right;\">DIABL</th><th style=\"text-align: right;\">HYPLIP</th><th style=\"text-align: right;\">HYPLD</th><th style=\"text-align: right;\">HYPLL</th><th style=\"text-align: right;\">IMTRV</th><th style=\"text-align: right;\">HTTRV</th><th style=\"text-align: right;\">ICTTRV</th><th style=\"text-align: right;\">DIABTRV</th><th style=\"text-align: right;\">HYPLTRV</th><th style=\"text-align: right;\">Unnamed: 0_y</th><th style=\"text-align: right;\">DENUMR</th><th style=\"text-align: right;\">MESUMR</th><th style=\"text-align: right;\">ROKUMR</th><th style=\"text-align: right;\">PRICUMR</th><th style=\"text-align: right;\">DUMMY</th><th style=\"text-align: right;\">YEAR</th><th style=\"text-align: right;\">DEATH_DATE</th></tr><tr><th style=\"text-align: left;border-right:1pt solid LightGray;\">Role </th><td style=\"text-align: right;\"><i>time_stamp</i></td><td style=\"text-align: right;\"><i>time_stamp</i></td><td style=\"text-align: right;\"><i>join_key</i></td><td style=\"text-align: right;\"><i>target</i></td><td style=\"text-align: right;\"><i>categorical</i></td><td style=\"text-align: right;\"><i>categorical</i></td><td style=\"text-align: right;\"><i>categorical</i></td><td style=\"text-align: right;\"><i>categorical</i></td><td style=\"text-align: right;\"><i>categorical</i></td><td style=\"text-align: right;\"><i>categorical</i></td><td style=\"text-align: right;\"><i>categorical</i></td><td style=\"text-align: right;\"><i>categorical</i></td><td style=\"text-align: right;\"><i>categorical</i></td><td style=\"text-align: right;\"><i>categorical</i></td><td style=\"text-align: right;\"><i>categorical</i></td><td style=\"text-align: right;\"><i>categorical</i></td><td style=\"text-align: right;\"><i>categorical</i></td><td style=\"text-align: right;\"><i>categorical</i></td><td style=\"text-align: right;\"><i>categorical</i></td><td style=\"text-align: right;\"><i>categorical</i></td><td style=\"text-align: right;\"><i>categorical</i></td><td style=\"text-align: right;\"><i>categorical</i></td><td style=\"text-align: right;\"><i>numerical</i></td><td style=\"text-align: right;\"><i>numerical</i></td><td style=\"text-align: right;\"><i>numerical</i></td><td style=\"text-align: right;\"><i>numerical</i></td><td style=\"text-align: right;\"><i>numerical</i></td><td style=\"text-align: right;\"><i>numerical</i></td><td style=\"text-align: right;\"><i>numerical</i></td><td style=\"text-align: right;\"><i>numerical</i></td><td style=\"text-align: right;\"><i>numerical</i></td><td style=\"text-align: right;\"><i>numerical</i></td><td style=\"text-align: right;\"><i>numerical</i></td><td style=\"text-align: right;\"><i>numerical</i></td><td style=\"text-align: right;\"><i>numerical</i></td><td style=\"text-align: right;\"><i>numerical</i></td><td style=\"text-align: right;\"><i>numerical</i></td><td style=\"text-align: right;\"><i>numerical</i></td><td style=\"text-align: right;\"><i>numerical</i></td><td style=\"text-align: right;\"><i>numerical</i></td><td style=\"text-align: right;\"><i>numerical</i></td><td style=\"text-align: right;\"><i>numerical</i></td><td style=\"text-align: right;\"><i>numerical</i></td><td style=\"text-align: right;\"><i>unused_float</i></td><td style=\"text-align: right;\"><i>unused_float</i></td><td style=\"text-align: right;\"><i>unused_float</i></td><td style=\"text-align: right;\"><i>unused_float</i></td><td style=\"text-align: right;\"><i>unused_float</i></td><td style=\"text-align: right;\"><i>unused_float</i></td><td style=\"text-align: right;\"><i>unused_float</i></td><td style=\"text-align: right;\"><i>unused_float</i></td><td style=\"text-align: right;\"><i>unused_float</i></td><td style=\"text-align: right;\"><i>unused_float</i></td><td style=\"text-align: right;\"><i>unused_float</i></td><td style=\"text-align: right;\"><i>unused_float</i></td><td style=\"text-align: right;\"><i>unused_float</i></td><td style=\"text-align: right;\"><i>unused_float</i></td><td style=\"text-align: right;\"><i>unused_float</i></td><td style=\"text-align: right;\"><i>unused_float</i></td><td style=\"text-align: right;\"><i>unused_float</i></td><td style=\"text-align: right;\"><i>unused_float</i></td><td style=\"text-align: right;\"><i>unused_float</i></td><td style=\"text-align: right;\"><i>unused_float</i></td><td style=\"text-align: right;\"><i>unused_float</i></td><td style=\"text-align: right;\"><i>unused_float</i></td><td style=\"text-align: right;\"><i>unused_float</i></td><td style=\"text-align: right;\"><i>unused_float</i></td><td style=\"text-align: right;\"><i>unused_float</i></td><td style=\"text-align: right;\"><i>unused_float</i></td><td style=\"text-align: right;\"><i>unused_float</i></td><td style=\"text-align: right;\"><i>unused_float</i></td><td style=\"text-align: right;\"><i>unused_float</i></td><td style=\"text-align: right;\"><i>unused_float</i></td><td style=\"text-align: right;\"><i>unused_float</i></td><td style=\"text-align: right;\"><i>unused_float</i></td><td style=\"text-align: right;\"><i>unused_float</i></td><td style=\"text-align: right;\"><i>unused_float</i></td><td style=\"text-align: right;\"><i>unused_string</i></td></tr><tr><th style=\"text-align: left;border-right:1pt solid LightGray;\">Unit </th><td style=\"text-align: right;\"><i>time stamp, comparison only</i></td><td style=\"text-align: right;\"><i>time stamp, comparison only</i></td><td style=\"text-align: right;\"><i></i></td><td style=\"text-align: right;\"><i></i></td><td style=\"text-align: right;\"><i></i></td><td style=\"text-align: right;\"><i></i></td><td style=\"text-align: right;\"><i></i></td><td style=\"text-align: right;\"><i></i></td><td style=\"text-align: right;\"><i></i></td><td style=\"text-align: right;\"><i></i></td><td style=\"text-align: right;\"><i></i></td><td style=\"text-align: right;\"><i></i></td><td style=\"text-align: right;\"><i></i></td><td style=\"text-align: right;\"><i></i></td><td style=\"text-align: right;\"><i></i></td><td style=\"text-align: right;\"><i></i></td><td style=\"text-align: right;\"><i></i></td><td style=\"text-align: right;\"><i></i></td><td style=\"text-align: right;\"><i></i></td><td style=\"text-align: right;\"><i></i></td><td style=\"text-align: right;\"><i></i></td><td style=\"text-align: right;\"><i></i></td><td style=\"text-align: right;\"><i></i></td><td style=\"text-align: right;\"><i></i></td><td style=\"text-align: right;\"><i></i></td><td style=\"text-align: right;\"><i></i></td><td style=\"text-align: right;\"><i></i></td><td style=\"text-align: right;\"><i></i></td><td style=\"text-align: right;\"><i></i></td><td style=\"text-align: right;\"><i></i></td><td style=\"text-align: right;\"><i></i></td><td style=\"text-align: right;\"><i></i></td><td style=\"text-align: right;\"><i></i></td><td style=\"text-align: right;\"><i></i></td><td style=\"text-align: right;\"><i></i></td><td style=\"text-align: right;\"><i></i></td><td style=\"text-align: right;\"><i></i></td><td style=\"text-align: right;\"><i></i></td><td style=\"text-align: right;\"><i></i></td><td style=\"text-align: right;\"><i></i></td><td style=\"text-align: right;\"><i></i></td><td style=\"text-align: right;\"><i></i></td><td style=\"text-align: right;\"><i></i></td><td style=\"text-align: right;\"><i></i></td><td style=\"text-align: right;\"><i></i></td><td style=\"text-align: right;\"><i></i></td><td style=\"text-align: right;\"><i></i></td><td style=\"text-align: right;\"><i></i></td><td style=\"text-align: right;\"><i></i></td><td style=\"text-align: right;\"><i></i></td><td style=\"text-align: right;\"><i></i></td><td style=\"text-align: right;\"><i></i></td><td style=\"text-align: right;\"><i></i></td><td style=\"text-align: right;\"><i></i></td><td style=\"text-align: right;\"><i></i></td><td style=\"text-align: right;\"><i></i></td><td style=\"text-align: right;\"><i></i></td><td style=\"text-align: right;\"><i></i></td><td style=\"text-align: right;\"><i></i></td><td style=\"text-align: right;\"><i></i></td><td style=\"text-align: right;\"><i></i></td><td style=\"text-align: right;\"><i></i></td><td style=\"text-align: right;\"><i></i></td><td style=\"text-align: right;\"><i></i></td><td style=\"text-align: right;\"><i></i></td><td style=\"text-align: right;\"><i></i></td><td style=\"text-align: right;\"><i></i></td><td style=\"text-align: right;\"><i></i></td><td style=\"text-align: right;\"><i></i></td><td style=\"text-align: right;\"><i></i></td><td style=\"text-align: right;\"><i></i></td><td style=\"text-align: right;\"><i></i></td><td style=\"text-align: right;\"><i></i></td><td style=\"text-align: right;\"><i></i></td><td style=\"text-align: right;\"><i></i></td><td style=\"text-align: right;\"><i></i></td><td style=\"text-align: right;\"><i></i></td><td style=\"text-align: right;\"><i></i></td></tr></thead><tbody><tr style=\"border-top:1pt solid LightGray;\"><td style=\"border-right:1pt solid LightGray;\"><b>0</b></td><td>1989-01-01T00:00:00.000000Z</td><td>1977-02-01T00:00:00.000000Z</td><td>20343</td><td>0</td><td>6</td><td>1</td><td>2</td><td>2</td><td>1</td><td>2</td><td>3</td><td>6</td><td>2</td><td>1</td><td>1</td><td>1</td><td>0</td><td>0</td><td>0</td><td>0</td><td>1</td><td>1</td><td>62</td><td>-1888</td><td>172</td><td>74</td><td>150</td><td>90</td><td>150</td><td>95</td><td>10</td><td>32</td><td>300</td><td>240</td><td>5</td><td>9</td><td>12</td><td>2</td><td>4</td><td>7</td><td>2</td><td>5</td><td>2</td><td>1335</td><td>27</td><td>1977</td><td>2</td><td>nan</td><td>9</td><td>nan</td><td>nan</td><td>nan</td><td>2</td><td>nan</td><td>2</td><td>nan</td><td>nan</td><td>2</td><td>nan</td><td>2</td><td>nan</td><td>nan</td><td>2</td><td>nan</td><td>nan</td><td>nan</td><td>nan</td><td>nan</td><td>nan</td><td>nan</td><td>nan</td><td>nan</td><td>nan</td><td>nan</td><td>nan</td><td>1</td><td>1989</td><td>nan</td></tr><tr><td style=\"border-right:1pt solid LightGray;\"><b>1</b></td><td>1991-01-01T00:00:00.000000Z</td><td>1977-04-01T00:00:00.000000Z</td><td>10628</td><td>0</td><td>3</td><td>1</td><td>4</td><td>3</td><td>1</td><td>2</td><td>9</td><td>9</td><td>2</td><td>2</td><td>1</td><td>1</td><td>0</td><td>0</td><td>0</td><td>1</td><td>1</td><td>1</td><td>63</td><td>-1886</td><td>180</td><td>84</td><td>160</td><td>95</td><td>160</td><td>95</td><td>8</td><td>21</td><td>374</td><td>155</td><td>2</td><td>7</td><td>12</td><td>2</td><td>5</td><td>8</td><td>2</td><td>5</td><td>3</td><td>625</td><td>28</td><td>1977</td><td>4</td><td>nan</td><td>9</td><td>nan</td><td>11</td><td>12</td><td>2</td><td>nan</td><td>2</td><td>nan</td><td>nan</td><td>2</td><td>nan</td><td>2</td><td>nan</td><td>nan</td><td>2</td><td>nan</td><td>nan</td><td>nan</td><td>nan</td><td>nan</td><td>nan</td><td>nan</td><td>nan</td><td>nan</td><td>nan</td><td>nan</td><td>nan</td><td>1</td><td>1991</td><td>nan</td></tr><tr><td style=\"border-right:1pt solid LightGray;\"><b>2</b></td><td>1994-01-01T00:00:00.000000Z</td><td>1977-04-01T00:00:00.000000Z</td><td>10039</td><td>0</td><td>4</td><td>1</td><td>2</td><td>3</td><td>4</td><td>1</td><td>3</td><td>5</td><td>2</td><td>2</td><td>1</td><td>1</td><td>1</td><td>1</td><td>0</td><td>0</td><td>1</td><td>1</td><td>60</td><td>-1883</td><td>180</td><td>92</td><td>120</td><td>80</td><td>120</td><td>75</td><td>9</td><td>26</td><td>280</td><td>143</td><td>3</td><td>7</td><td>12</td><td>2</td><td>5</td><td>7</td><td>2</td><td>5</td><td>3</td><td>38</td><td>34</td><td>1977</td><td>4</td><td>nan</td><td>9</td><td>nan</td><td>11</td><td>nan</td><td>2</td><td>nan</td><td>2</td><td>nan</td><td>nan</td><td>2</td><td>nan</td><td>2</td><td>nan</td><td>nan</td><td>6</td><td>nan</td><td>nan</td><td>nan</td><td>nan</td><td>nan</td><td>nan</td><td>nan</td><td>nan</td><td>nan</td><td>nan</td><td>nan</td><td>nan</td><td>1</td><td>1994</td><td>nan</td></tr><tr><td style=\"border-right:1pt solid LightGray;\"><b>3</b></td><td>1987-01-01T00:00:00.000000Z</td><td>1976-10-01T00:00:00.000000Z</td><td>20211</td><td>0</td><td>6</td><td>1</td><td>3</td><td>3</td><td>1</td><td>2</td><td>1</td><td>5</td><td>2</td><td>2</td><td>1</td><td>1</td><td>1</td><td>0</td><td>0</td><td>0</td><td>0</td><td>1</td><td>59</td><td>-1889</td><td>170</td><td>79</td><td>140</td><td>90</td><td>145</td><td>90</td><td>4</td><td>6</td><td>196</td><td>nan</td><td>1</td><td>nan</td><td>nan</td><td>2</td><td>5</td><td>8</td><td>2</td><td>4</td><td>1</td><td>1203</td><td>28</td><td>1976</td><td>10</td><td>nan</td><td>9</td><td>nan</td><td>11</td><td>12</td><td>2</td><td>nan</td><td>2</td><td>nan</td><td>nan</td><td>2</td><td>nan</td><td>2</td><td>nan</td><td>nan</td><td>2</td><td>nan</td><td>nan</td><td>nan</td><td>nan</td><td>nan</td><td>nan</td><td>nan</td><td>nan</td><td>nan</td><td>nan</td><td>nan</td><td>nan</td><td>1</td><td>1987</td><td>nan</td></tr><tr><td style=\"border-right:1pt solid LightGray;\"><b>4</b></td><td>1987-01-01T00:00:00.000000Z</td><td>1977-09-01T00:00:00.000000Z</td><td>10952</td><td>0</td><td>3</td><td>1</td><td>2</td><td>3</td><td>4</td><td>2</td><td>1</td><td>5</td><td>3</td><td>1</td><td>1</td><td>1</td><td>0</td><td>0</td><td>1</td><td>1</td><td>0</td><td>1</td><td>53</td><td>-1890</td><td>182</td><td>82</td><td>140</td><td>95</td><td>140</td><td>95</td><td>6</td><td>13</td><td>242</td><td>65</td><td>4</td><td>10</td><td>nan</td><td>2</td><td>4</td><td>8</td><td>2</td><td>4</td><td>1</td><td>948</td><td>34</td><td>1977</td><td>9</td><td>nan</td><td>9</td><td>nan</td><td>nan</td><td>12</td><td>2</td><td>nan</td><td>2</td><td>nan</td><td>nan</td><td>2</td><td>nan</td><td>2</td><td>nan</td><td>nan</td><td>6</td><td>nan</td><td>nan</td><td>nan</td><td>nan</td><td>nan</td><td>nan</td><td>nan</td><td>300</td><td>1</td><td>11</td><td>1996</td><td>5</td><td>1</td><td>1987</td><td>1996-11-01</td></tr><tr><td style=\"border-right:1pt solid LightGray;\"><b> </b></td><td>...</td><td>...</td><td>...</td><td>...</td><td>...</td><td>...</td><td>...</td><td>...</td><td>...</td><td>...</td><td>...</td><td>...</td><td>...</td><td>...</td><td>...</td><td>...</td><td>...</td><td>...</td><td>...</td><td>...</td><td>...</td><td>...</td><td>...</td><td>...</td><td>...</td><td>...</td><td>...</td><td>...</td><td>...</td><td>...</td><td>...</td><td>...</td><td>...</td><td>...</td><td>...</td><td>...</td><td>...</td><td>...</td><td>...</td><td>...</td><td>...</td><td>...</td><td>...</td><td>...</td><td>...</td><td>...</td><td>...</td><td>...</td><td>...</td><td>...</td><td>...</td><td>...</td><td>...</td><td>...</td><td>...</td><td>...</td><td>...</td><td>...</td><td>...</td><td>...</td><td>...</td><td>...</td><td>...</td><td>...</td><td>...</td><td>...</td><td>...</td><td>...</td><td>...</td><td>...</td><td>...</td><td>...</td><td>...</td><td>...</td><td>...</td><td>...</td><td>...</td><td>...</td></tr><tr><td style=\"border-right:1pt solid LightGray;\"><b>19898</b></td><td>1980-01-01T00:00:00.000000Z</td><td>1977-04-01T00:00:00.000000Z</td><td>10047</td><td>0</td><td>4</td><td>1</td><td>2</td><td>1</td><td>1</td><td>2</td><td>3</td><td>5</td><td>3</td><td>1</td><td>1</td><td>1</td><td>0</td><td>0</td><td>0</td><td>1</td><td>1</td><td>1</td><td>46</td><td>-1897</td><td>177</td><td>87</td><td>130</td><td>90</td><td>150</td><td>100</td><td>11</td><td>31</td><td>327</td><td>157</td><td>1</td><td>nan</td><td>nan</td><td>2</td><td>6</td><td>7</td><td>2</td><td>5</td><td>8</td><td>46</td><td>34</td><td>1977</td><td>4</td><td>nan</td><td>nan</td><td>10</td><td>11</td><td>nan</td><td>2</td><td>nan</td><td>2</td><td>nan</td><td>nan</td><td>2</td><td>nan</td><td>2</td><td>nan</td><td>nan</td><td>6</td><td>nan</td><td>nan</td><td>nan</td><td>nan</td><td>nan</td><td>nan</td><td>nan</td><td>nan</td><td>nan</td><td>nan</td><td>nan</td><td>nan</td><td>1</td><td>1980</td><td>nan</td></tr><tr><td style=\"border-right:1pt solid LightGray;\"><b>19899</b></td><td>1981-01-01T00:00:00.000000Z</td><td>1977-03-01T00:00:00.000000Z</td><td>30037</td><td>0</td><td>5</td><td>1</td><td>3</td><td>2</td><td>1</td><td>1</td><td>3</td><td>6</td><td>2</td><td>3</td><td>1</td><td>2</td><td>1</td><td>0</td><td>1</td><td>1</td><td>0</td><td>1</td><td>47</td><td>-1896</td><td>165</td><td>74</td><td>115</td><td>75</td><td>115</td><td>75</td><td>8</td><td>20</td><td>233</td><td>541</td><td>5</td><td>9</td><td>nan</td><td>1</td><td>4</td><td>9</td><td>2</td><td>4</td><td>8</td><td>1390</td><td>34</td><td>1977</td><td>3</td><td>nan</td><td>nan</td><td>nan</td><td>nan</td><td>12</td><td>2</td><td>nan</td><td>1</td><td>6</td><td>4</td><td>2</td><td>nan</td><td>2</td><td>nan</td><td>nan</td><td>6</td><td>nan</td><td>nan</td><td>nan</td><td>15</td><td>nan</td><td>nan</td><td>nan</td><td>nan</td><td>nan</td><td>nan</td><td>nan</td><td>nan</td><td>1</td><td>1981</td><td>nan</td></tr><tr><td style=\"border-right:1pt solid LightGray;\"><b>19900</b></td><td>1990-01-01T00:00:00.000000Z</td><td>1976-11-01T00:00:00.000000Z</td><td>10830</td><td>0</td><td>3</td><td>1</td><td>2</td><td>3</td><td>1</td><td>2</td><td>1</td><td>5</td><td>2</td><td>1</td><td>1</td><td>1</td><td>0</td><td>0</td><td>0</td><td>1</td><td>0</td><td>1</td><td>61</td><td>-1886</td><td>175</td><td>78</td><td>130</td><td>90</td><td>130</td><td>95</td><td>9</td><td>20</td><td>224</td><td>nan</td><td>1</td><td>nan</td><td>nan</td><td>2</td><td>5</td><td>7</td><td>1</td><td>6</td><td>0</td><td>826</td><td>29</td><td>1976</td><td>11</td><td>nan</td><td>9</td><td>nan</td><td>11</td><td>nan</td><td>2</td><td>nan</td><td>1</td><td>6</td><td>6</td><td>2</td><td>nan</td><td>2</td><td>nan</td><td>nan</td><td>2</td><td>nan</td><td>nan</td><td>nan</td><td>15</td><td>nan</td><td>nan</td><td>nan</td><td>nan</td><td>nan</td><td>nan</td><td>nan</td><td>nan</td><td>1</td><td>1990</td><td>nan</td></tr><tr><td style=\"border-right:1pt solid LightGray;\"><b>19901</b></td><td>1983-01-01T00:00:00.000000Z</td><td>1978-05-01T00:00:00.000000Z</td><td>10645</td><td>0</td><td>3</td><td>1</td><td>3</td><td>6</td><td>1</td><td>2</td><td>1</td><td>5</td><td>3</td><td>2</td><td>1</td><td>2</td><td>1</td><td>0</td><td>0</td><td>0</td><td>1</td><td>1</td><td>56</td><td>-1895</td><td>172</td><td>74</td><td>130</td><td>85</td><td>130</td><td>80</td><td>17</td><td>32</td><td>265</td><td>79</td><td>4</td><td>9</td><td>12</td><td>2</td><td>4</td><td>7</td><td>7</td><td>7</td><td>nan</td><td>642</td><td>27</td><td>1978</td><td>5</td><td>nan</td><td>9</td><td>nan</td><td>nan</td><td>nan</td><td>2</td><td>nan</td><td>2</td><td>nan</td><td>nan</td><td>2</td><td>nan</td><td>2</td><td>nan</td><td>nan</td><td>1</td><td>6</td><td>6</td><td>nan</td><td>nan</td><td>nan</td><td>nan</td><td>3</td><td>nan</td><td>nan</td><td>nan</td><td>nan</td><td>nan</td><td>1</td><td>1983</td><td>nan</td></tr><tr><td style=\"border-right:1pt solid LightGray;\"><b>19902</b></td><td>1998-01-01T00:00:00.000000Z</td><td>1977-11-01T00:00:00.000000Z</td><td>10621</td><td>0</td><td>3</td><td>2</td><td>4</td><td>1</td><td>1</td><td>2</td><td>1</td><td>6</td><td>3</td><td>1</td><td>1</td><td>1</td><td>0</td><td>0</td><td>0</td><td>1</td><td>0</td><td>1</td><td>72</td><td>-1879</td><td>165</td><td>64</td><td>145</td><td>70</td><td>140</td><td>85</td><td>4</td><td>11</td><td>177</td><td>115</td><td>1</td><td>nan</td><td>nan</td><td>2</td><td>5</td><td>7</td><td>1</td><td>4</td><td>1</td><td>618</td><td>26</td><td>1977</td><td>11</td><td>nan</td><td>9</td><td>nan</td><td>11</td><td>nan</td><td>2</td><td>nan</td><td>1</td><td>6</td><td>5</td><td>2</td><td>nan</td><td>2</td><td>nan</td><td>nan</td><td>2</td><td>nan</td><td>nan</td><td>nan</td><td>20</td><td>nan</td><td>nan</td><td>nan</td><td>nan</td><td>nan</td><td>nan</td><td>nan</td><td>nan</td><td>1</td><td>1998</td><td>nan</td></tr></tbody></table><br>19903 rows x 78 columns<br>memory usage: 11.01 MB<br>name: population_train<br>type: getml.data.DataFrame<br>url: <a href=\"http://localhost:1709/getdataframe/population_train/\" target=\"_blank\">http://localhost:1709/getdataframe/population_train/</a>"
      ],
      "text/plain": [
       "Name                 REFERENCE_DATE                    ENTRY_DATE        ICO   \n",
       "Role                     time_stamp                    time_stamp   join_key   \n",
       "Unit    time stamp, comparison only   time stamp, comparison only              \n",
       "0       1989-01-01T00:00:00.000000Z   1977-02-01T00:00:00.000000Z   20343      \n",
       "1       1991-01-01T00:00:00.000000Z   1977-04-01T00:00:00.000000Z   10628      \n",
       "2       1994-01-01T00:00:00.000000Z   1977-04-01T00:00:00.000000Z   10039      \n",
       "3       1987-01-01T00:00:00.000000Z   1976-10-01T00:00:00.000000Z   20211      \n",
       "4       1987-01-01T00:00:00.000000Z   1977-09-01T00:00:00.000000Z   10952      \n",
       "        ...                           ...                           ...        \n",
       "19898   1980-01-01T00:00:00.000000Z   1977-04-01T00:00:00.000000Z   10047      \n",
       "19899   1981-01-01T00:00:00.000000Z   1977-03-01T00:00:00.000000Z   30037      \n",
       "19900   1990-01-01T00:00:00.000000Z   1976-11-01T00:00:00.000000Z   10830      \n",
       "19901   1983-01-01T00:00:00.000000Z   1978-05-01T00:00:00.000000Z   10645      \n",
       "19902   1998-01-01T00:00:00.000000Z   1977-11-01T00:00:00.000000Z   10621      \n",
       "\n",
       "\n",
       "\n",
       "Name    TARGET       KONSKUP          STAV   \n",
       "Role    target   categorical   categorical   \n",
       "Unit                                         \n",
       "0       0        6             1             \n",
       "1       0        3             1             \n",
       "2       0        4             1             \n",
       "3       0        6             1             \n",
       "4       0        3             1             \n",
       "        ...      ...           ...           \n",
       "19898   0        4             1             \n",
       "19899   0        5             1             \n",
       "19900   0        3             1             \n",
       "19901   0        3             1             \n",
       "19902   0        3             2             \n",
       "\n",
       "\n",
       "\n",
       "Name       VZDELANI        ZODPOV   ...   \n",
       "Role    categorical   categorical   ...   \n",
       "Unit                                ...   \n",
       "0       2             2             ...   \n",
       "1       4             3             ...   \n",
       "2       2             3             ...   \n",
       "3       3             3             ...   \n",
       "4       2             3             ...   \n",
       "        ...           ...           ...   \n",
       "19898   2             1             ...   \n",
       "19899   3             2             ...   \n",
       "19900   2             3             ...   \n",
       "19901   3             6             ...   \n",
       "19902   4             1             ...   \n",
       "\n",
       "19903 rows x 78 columns\n",
       "memory usage: 11.01 MB\n",
       "name: population_train\n",
       "type: getml.data.DataFrame\n",
       "url: http://localhost:1709/getdataframe/population_train/"
      ]
     },
     "execution_count": 132,
     "metadata": {},
     "output_type": "execute_result"
    }
   ],
   "source": [
    "# print getML DataFrame\n",
    "population_training"
   ]
  },
  {
   "cell_type": "markdown",
   "metadata": {},
   "source": [
    " "
   ]
  },
  {
   "cell_type": "markdown",
   "metadata": {},
   "source": [
    "__Contr:__ peripheral table\n",
    "\n",
    "* ...\n",
    "\n",
    "\n",
    "_preview of table omitted for brevity_"
   ]
  },
  {
   "cell_type": "code",
   "execution_count": 59,
   "metadata": {},
   "outputs": [
    {
     "data": {
      "text/html": [
       "<table class=\"dataframe\"><thead><tr style=\"border-bottom:1pt solid LightGray;\"><th style=\"text-align: left;border-right:1pt solid LightGray;\">Name </th><th style=\"text-align: right;\">CONTROL_DATE</th><th style=\"text-align: right;\">ICO</th><th style=\"text-align: right;\">ZMTELAKT</th><th style=\"text-align: right;\">AKTPOZAM</th><th style=\"text-align: right;\">ZMDIET</th><th style=\"text-align: right;\">LEKTLAK</th><th style=\"text-align: right;\">ZMKOUR</th><th style=\"text-align: right;\">POCCIG</th><th style=\"text-align: right;\">PRACNES</th><th style=\"text-align: right;\">JINAONE</th><th style=\"text-align: right;\">BOLHR</th><th style=\"text-align: right;\">BOLDK</th><th style=\"text-align: right;\">DUSN</th><th style=\"text-align: right;\">HODNSK</th><th style=\"text-align: right;\">HYPERD</th><th style=\"text-align: right;\">HYPCHL</th><th style=\"text-align: right;\">HYPTGL</th><th style=\"text-align: right;\">HMOT</th><th style=\"text-align: right;\">CHLST</th><th style=\"text-align: right;\">HDL</th><th style=\"text-align: right;\">HDLMG</th><th style=\"text-align: right;\">LDL</th><th style=\"text-align: right;\">Unnamed: 0</th><th style=\"text-align: right;\">ROKVYS</th><th style=\"text-align: right;\">MESVYS</th><th style=\"text-align: right;\">PORADK</th><th style=\"text-align: right;\">ZMCHARZA</th><th style=\"text-align: right;\">LEKCHOL</th><th style=\"text-align: right;\">SRDCE</th><th style=\"text-align: right;\">HYPERT</th><th style=\"text-align: right;\">CEVMOZ</th><th style=\"text-align: right;\">DIAB</th><th style=\"text-align: right;\">HODN0</th><th style=\"text-align: right;\">ROK0</th><th style=\"text-align: right;\">HODN1</th><th style=\"text-align: right;\">ROK1</th><th style=\"text-align: right;\">HODN2</th><th style=\"text-align: right;\">ROK2</th><th style=\"text-align: right;\">HODN3</th><th style=\"text-align: right;\">ROK3</th><th style=\"text-align: right;\">HODN4</th><th style=\"text-align: right;\">ROK4</th><th style=\"text-align: right;\">HODN11</th><th style=\"text-align: right;\">ROK11</th><th style=\"text-align: right;\">HODN12</th><th style=\"text-align: right;\">ROK12</th><th style=\"text-align: right;\">HODN13</th><th style=\"text-align: right;\">ROK13</th><th style=\"text-align: right;\">HODN14</th><th style=\"text-align: right;\">ROK14</th><th style=\"text-align: right;\">HODN15</th><th style=\"text-align: right;\">ROK15</th><th style=\"text-align: right;\">HODN21</th><th style=\"text-align: right;\">ROK21</th><th style=\"text-align: right;\">HODN23</th><th style=\"text-align: right;\">ROK23</th><th style=\"text-align: right;\">SYST</th><th style=\"text-align: right;\">DIAST</th><th style=\"text-align: right;\">TRIC</th><th style=\"text-align: right;\">SUBSC</th><th style=\"text-align: right;\">HYPERSD</th><th style=\"text-align: right;\">HYPERS</th><th style=\"text-align: right;\">CHLSTMG</th><th style=\"text-align: right;\">TRIGL</th><th style=\"text-align: right;\">TRIGLMG</th><th style=\"text-align: right;\">MOC</th><th style=\"text-align: right;\">GLYKEMIE</th><th style=\"text-align: right;\">KYSMOC</th></tr><tr><th style=\"text-align: left;border-right:1pt solid LightGray;\">Role </th><td style=\"text-align: right;\"><i>time_stamp</i></td><td style=\"text-align: right;\"><i>join_key</i></td><td style=\"text-align: right;\"><i>categorical</i></td><td style=\"text-align: right;\"><i>categorical</i></td><td style=\"text-align: right;\"><i>categorical</i></td><td style=\"text-align: right;\"><i>categorical</i></td><td style=\"text-align: right;\"><i>categorical</i></td><td style=\"text-align: right;\"><i>categorical</i></td><td style=\"text-align: right;\"><i>categorical</i></td><td style=\"text-align: right;\"><i>categorical</i></td><td style=\"text-align: right;\"><i>categorical</i></td><td style=\"text-align: right;\"><i>categorical</i></td><td style=\"text-align: right;\"><i>categorical</i></td><td style=\"text-align: right;\"><i>categorical</i></td><td style=\"text-align: right;\"><i>categorical</i></td><td style=\"text-align: right;\"><i>categorical</i></td><td style=\"text-align: right;\"><i>categorical</i></td><td style=\"text-align: right;\"><i>numerical</i></td><td style=\"text-align: right;\"><i>numerical</i></td><td style=\"text-align: right;\"><i>numerical</i></td><td style=\"text-align: right;\"><i>numerical</i></td><td style=\"text-align: right;\"><i>numerical</i></td><td style=\"text-align: right;\"><i>unused_float</i></td><td style=\"text-align: right;\"><i>unused_float</i></td><td style=\"text-align: right;\"><i>unused_float</i></td><td style=\"text-align: right;\"><i>unused_float</i></td><td style=\"text-align: right;\"><i>unused_float</i></td><td style=\"text-align: right;\"><i>unused_float</i></td><td style=\"text-align: right;\"><i>unused_float</i></td><td style=\"text-align: right;\"><i>unused_float</i></td><td style=\"text-align: right;\"><i>unused_float</i></td><td style=\"text-align: right;\"><i>unused_float</i></td><td style=\"text-align: right;\"><i>unused_float</i></td><td style=\"text-align: right;\"><i>unused_float</i></td><td style=\"text-align: right;\"><i>unused_float</i></td><td style=\"text-align: right;\"><i>unused_float</i></td><td style=\"text-align: right;\"><i>unused_float</i></td><td style=\"text-align: right;\"><i>unused_float</i></td><td style=\"text-align: right;\"><i>unused_float</i></td><td style=\"text-align: right;\"><i>unused_float</i></td><td style=\"text-align: right;\"><i>unused_float</i></td><td style=\"text-align: right;\"><i>unused_float</i></td><td style=\"text-align: right;\"><i>unused_float</i></td><td style=\"text-align: right;\"><i>unused_float</i></td><td style=\"text-align: right;\"><i>unused_float</i></td><td style=\"text-align: right;\"><i>unused_float</i></td><td style=\"text-align: right;\"><i>unused_float</i></td><td style=\"text-align: right;\"><i>unused_float</i></td><td style=\"text-align: right;\"><i>unused_float</i></td><td style=\"text-align: right;\"><i>unused_float</i></td><td style=\"text-align: right;\"><i>unused_float</i></td><td style=\"text-align: right;\"><i>unused_float</i></td><td style=\"text-align: right;\"><i>unused_float</i></td><td style=\"text-align: right;\"><i>unused_float</i></td><td style=\"text-align: right;\"><i>unused_float</i></td><td style=\"text-align: right;\"><i>unused_float</i></td><td style=\"text-align: right;\"><i>unused_float</i></td><td style=\"text-align: right;\"><i>unused_float</i></td><td style=\"text-align: right;\"><i>unused_float</i></td><td style=\"text-align: right;\"><i>unused_float</i></td><td style=\"text-align: right;\"><i>unused_float</i></td><td style=\"text-align: right;\"><i>unused_float</i></td><td style=\"text-align: right;\"><i>unused_float</i></td><td style=\"text-align: right;\"><i>unused_float</i></td><td style=\"text-align: right;\"><i>unused_float</i></td><td style=\"text-align: right;\"><i>unused_float</i></td><td style=\"text-align: right;\"><i>unused_float</i></td><td style=\"text-align: right;\"><i>unused_float</i></td></tr><tr><th style=\"text-align: left;border-right:1pt solid LightGray;\">Unit </th><td style=\"text-align: right;\"><i>time stamp, comparison only</i></td><td style=\"text-align: right;\"><i></i></td><td style=\"text-align: right;\"><i></i></td><td style=\"text-align: right;\"><i></i></td><td style=\"text-align: right;\"><i></i></td><td style=\"text-align: right;\"><i></i></td><td style=\"text-align: right;\"><i></i></td><td style=\"text-align: right;\"><i></i></td><td style=\"text-align: right;\"><i></i></td><td style=\"text-align: right;\"><i></i></td><td style=\"text-align: right;\"><i></i></td><td style=\"text-align: right;\"><i></i></td><td style=\"text-align: right;\"><i></i></td><td style=\"text-align: right;\"><i></i></td><td style=\"text-align: right;\"><i></i></td><td style=\"text-align: right;\"><i></i></td><td style=\"text-align: right;\"><i></i></td><td style=\"text-align: right;\"><i></i></td><td style=\"text-align: right;\"><i></i></td><td style=\"text-align: right;\"><i></i></td><td style=\"text-align: right;\"><i></i></td><td style=\"text-align: right;\"><i></i></td><td style=\"text-align: right;\"><i></i></td><td style=\"text-align: right;\"><i></i></td><td style=\"text-align: right;\"><i></i></td><td style=\"text-align: right;\"><i></i></td><td style=\"text-align: right;\"><i></i></td><td style=\"text-align: right;\"><i></i></td><td style=\"text-align: right;\"><i></i></td><td style=\"text-align: right;\"><i></i></td><td style=\"text-align: right;\"><i></i></td><td style=\"text-align: right;\"><i></i></td><td style=\"text-align: right;\"><i></i></td><td style=\"text-align: right;\"><i></i></td><td style=\"text-align: right;\"><i></i></td><td style=\"text-align: right;\"><i></i></td><td style=\"text-align: right;\"><i></i></td><td style=\"text-align: right;\"><i></i></td><td style=\"text-align: right;\"><i></i></td><td style=\"text-align: right;\"><i></i></td><td style=\"text-align: right;\"><i></i></td><td style=\"text-align: right;\"><i></i></td><td style=\"text-align: right;\"><i></i></td><td style=\"text-align: right;\"><i></i></td><td style=\"text-align: right;\"><i></i></td><td style=\"text-align: right;\"><i></i></td><td style=\"text-align: right;\"><i></i></td><td style=\"text-align: right;\"><i></i></td><td style=\"text-align: right;\"><i></i></td><td style=\"text-align: right;\"><i></i></td><td style=\"text-align: right;\"><i></i></td><td style=\"text-align: right;\"><i></i></td><td style=\"text-align: right;\"><i></i></td><td style=\"text-align: right;\"><i></i></td><td style=\"text-align: right;\"><i></i></td><td style=\"text-align: right;\"><i></i></td><td style=\"text-align: right;\"><i></i></td><td style=\"text-align: right;\"><i></i></td><td style=\"text-align: right;\"><i></i></td><td style=\"text-align: right;\"><i></i></td><td style=\"text-align: right;\"><i></i></td><td style=\"text-align: right;\"><i></i></td><td style=\"text-align: right;\"><i></i></td><td style=\"text-align: right;\"><i></i></td><td style=\"text-align: right;\"><i></i></td><td style=\"text-align: right;\"><i></i></td><td style=\"text-align: right;\"><i></i></td><td style=\"text-align: right;\"><i></i></td></tr></thead><tbody><tr style=\"border-top:1pt solid LightGray;\"><td style=\"border-right:1pt solid LightGray;\"><b>0</b></td><td>1977-09-01T00:00:00.000000Z</td><td>10001</td><td>3</td><td>2</td><td>1</td><td>2</td><td>2</td><td>0.0</td><td>1</td><td>2.0</td><td>1</td><td>1</td><td>1</td><td>2</td><td>2.0</td><td>2.0</td><td>2.0</td><td>71</td><td>5.61</td><td>nan</td><td>nan</td><td>nan</td><td>0</td><td>1977</td><td>9</td><td>1</td><td>20</td><td>nan</td><td>nan</td><td>nan</td><td>nan</td><td>nan</td><td>0</td><td>0</td><td>nan</td><td>nan</td><td>nan</td><td>nan</td><td>nan</td><td>nan</td><td>nan</td><td>nan</td><td>nan</td><td>nan</td><td>nan</td><td>nan</td><td>nan</td><td>nan</td><td>nan</td><td>nan</td><td>nan</td><td>nan</td><td>nan</td><td>nan</td><td>nan</td><td>nan</td><td>130</td><td>90</td><td>4</td><td>12</td><td>2</td><td>2</td><td>217</td><td>1.22</td><td>108</td><td>1</td><td>nan</td><td>nan</td></tr><tr><td style=\"border-right:1pt solid LightGray;\"><b>1</b></td><td>1979-01-01T00:00:00.000000Z</td><td>10001</td><td>1</td><td>1</td><td>1</td><td>2</td><td>1</td><td>0.0</td><td>2</td><td>NULL</td><td>1</td><td>2</td><td>1</td><td>2</td><td>2.0</td><td>2.0</td><td>2.0</td><td>72</td><td>6</td><td>nan</td><td>nan</td><td>nan</td><td>1</td><td>1979</td><td>1</td><td>2</td><td>20</td><td>nan</td><td>nan</td><td>nan</td><td>nan</td><td>nan</td><td>0</td><td>0</td><td>nan</td><td>nan</td><td>nan</td><td>nan</td><td>nan</td><td>nan</td><td>nan</td><td>nan</td><td>nan</td><td>nan</td><td>nan</td><td>nan</td><td>nan</td><td>nan</td><td>nan</td><td>nan</td><td>nan</td><td>nan</td><td>nan</td><td>nan</td><td>nan</td><td>nan</td><td>140</td><td>90</td><td>4</td><td>11</td><td>2</td><td>2</td><td>232</td><td>4.4</td><td>389</td><td>3</td><td>nan</td><td>nan</td></tr><tr><td style=\"border-right:1pt solid LightGray;\"><b>2</b></td><td>1980-04-01T00:00:00.000000Z</td><td>10001</td><td>2</td><td>1</td><td>1</td><td>2</td><td>1</td><td>0.0</td><td>2</td><td>NULL</td><td>2</td><td>1</td><td>1</td><td>2</td><td>2.0</td><td>2.0</td><td>2.0</td><td>71</td><td>6.23</td><td>nan</td><td>nan</td><td>nan</td><td>2</td><td>1980</td><td>4</td><td>3</td><td>20</td><td>nan</td><td>nan</td><td>nan</td><td>nan</td><td>nan</td><td>0</td><td>0</td><td>nan</td><td>nan</td><td>nan</td><td>nan</td><td>nan</td><td>nan</td><td>nan</td><td>nan</td><td>nan</td><td>nan</td><td>nan</td><td>nan</td><td>nan</td><td>nan</td><td>nan</td><td>nan</td><td>nan</td><td>nan</td><td>nan</td><td>nan</td><td>nan</td><td>nan</td><td>130</td><td>90</td><td>5</td><td>22</td><td>2</td><td>2</td><td>241</td><td>1.51</td><td>134</td><td>1</td><td>nan</td><td>nan</td></tr><tr><td style=\"border-right:1pt solid LightGray;\"><b>3</b></td><td>1982-01-01T00:00:00.000000Z</td><td>10001</td><td>2</td><td>1</td><td>1</td><td>2</td><td>1</td><td>0.0</td><td>1</td><td>2.0</td><td>1</td><td>1</td><td>1</td><td>2</td><td>2.0</td><td>2.0</td><td>2.0</td><td>74</td><td>5.2</td><td>nan</td><td>nan</td><td>nan</td><td>3</td><td>1982</td><td>1</td><td>4</td><td>20</td><td>nan</td><td>nan</td><td>nan</td><td>nan</td><td>nan</td><td>0</td><td>0</td><td>nan</td><td>nan</td><td>nan</td><td>nan</td><td>nan</td><td>nan</td><td>nan</td><td>nan</td><td>nan</td><td>nan</td><td>nan</td><td>nan</td><td>nan</td><td>nan</td><td>nan</td><td>nan</td><td>nan</td><td>nan</td><td>nan</td><td>nan</td><td>nan</td><td>nan</td><td>150</td><td>100</td><td>9</td><td>18</td><td>2</td><td>2</td><td>201</td><td>1.42</td><td>126</td><td>1</td><td>nan</td><td>nan</td></tr><tr><td style=\"border-right:1pt solid LightGray;\"><b>4</b></td><td>1983-02-01T00:00:00.000000Z</td><td>10001</td><td>2</td><td>2</td><td>1</td><td>2</td><td>1</td><td>0.0</td><td>2</td><td>NULL</td><td>1</td><td>2</td><td>1</td><td>2</td><td>2.0</td><td>2.0</td><td>2.0</td><td>73</td><td>6.08</td><td>1.47</td><td>57</td><td>4.15</td><td>4</td><td>1983</td><td>2</td><td>5</td><td>20</td><td>nan</td><td>nan</td><td>nan</td><td>nan</td><td>nan</td><td>0</td><td>0</td><td>nan</td><td>nan</td><td>nan</td><td>nan</td><td>nan</td><td>nan</td><td>nan</td><td>nan</td><td>nan</td><td>nan</td><td>nan</td><td>nan</td><td>nan</td><td>nan</td><td>nan</td><td>nan</td><td>nan</td><td>nan</td><td>nan</td><td>nan</td><td>nan</td><td>nan</td><td>165</td><td>105</td><td>7</td><td>15</td><td>2</td><td>2</td><td>235</td><td>0.99</td><td>88</td><td>1</td><td>nan</td><td>nan</td></tr><tr><td style=\"border-right:1pt solid LightGray;\"><b> </b></td><td>...</td><td>...</td><td>...</td><td>...</td><td>...</td><td>...</td><td>...</td><td>...</td><td>...</td><td>...</td><td>...</td><td>...</td><td>...</td><td>...</td><td>...</td><td>...</td><td>...</td><td>...</td><td>...</td><td>...</td><td>...</td><td>...</td><td>...</td><td>...</td><td>...</td><td>...</td><td>...</td><td>...</td><td>...</td><td>...</td><td>...</td><td>...</td><td>...</td><td>...</td><td>...</td><td>...</td><td>...</td><td>...</td><td>...</td><td>...</td><td>...</td><td>...</td><td>...</td><td>...</td><td>...</td><td>...</td><td>...</td><td>...</td><td>...</td><td>...</td><td>...</td><td>...</td><td>...</td><td>...</td><td>...</td><td>...</td><td>...</td><td>...</td><td>...</td><td>...</td><td>...</td><td>...</td><td>...</td><td>...</td><td>...</td><td>...</td><td>...</td><td>...</td></tr><tr><td style=\"border-right:1pt solid LightGray;\"><b>10567</b></td><td>1987-10-01T00:00:00.000000Z</td><td>20358</td><td>2</td><td>2</td><td>1</td><td>2</td><td>1</td><td>0.0</td><td>2</td><td>NULL</td><td>4</td><td>1</td><td>1</td><td>3</td><td>2.0</td><td>2.0</td><td>2.0</td><td>85</td><td>4.89</td><td>0.98</td><td>38</td><td>3.11</td><td>10567</td><td>1987</td><td>10</td><td>1</td><td>20</td><td>nan</td><td>nan</td><td>nan</td><td>nan</td><td>nan</td><td>0</td><td>0</td><td>nan</td><td>nan</td><td>nan</td><td>nan</td><td>nan</td><td>nan</td><td>nan</td><td>nan</td><td>nan</td><td>nan</td><td>nan</td><td>nan</td><td>nan</td><td>nan</td><td>nan</td><td>nan</td><td>nan</td><td>nan</td><td>nan</td><td>nan</td><td>nan</td><td>nan</td><td>120</td><td>80</td><td>nan</td><td>nan</td><td>2</td><td>2</td><td>189</td><td>1.74</td><td>154</td><td>1</td><td>nan</td><td>nan</td></tr><tr><td style=\"border-right:1pt solid LightGray;\"><b>10568</b></td><td>1987-11-01T00:00:00.000000Z</td><td>20359</td><td>2</td><td>2</td><td>1</td><td>2</td><td>1</td><td>14.0</td><td>2</td><td>NULL</td><td>1</td><td>1</td><td>1</td><td>3</td><td>2.0</td><td>2.0</td><td>2.0</td><td>80</td><td>4.5</td><td>0.98</td><td>38</td><td>3.16</td><td>10568</td><td>1987</td><td>11</td><td>1</td><td>20</td><td>nan</td><td>nan</td><td>nan</td><td>nan</td><td>nan</td><td>0</td><td>0</td><td>nan</td><td>nan</td><td>nan</td><td>nan</td><td>nan</td><td>nan</td><td>nan</td><td>nan</td><td>nan</td><td>nan</td><td>nan</td><td>nan</td><td>nan</td><td>nan</td><td>nan</td><td>nan</td><td>nan</td><td>nan</td><td>nan</td><td>nan</td><td>nan</td><td>nan</td><td>100</td><td>70</td><td>nan</td><td>nan</td><td>2</td><td>2</td><td>174</td><td>0.79</td><td>70</td><td>1</td><td>nan</td><td>nan</td></tr><tr><td style=\"border-right:1pt solid LightGray;\"><b>10569</b></td><td>1987-10-01T00:00:00.000000Z</td><td>20360</td><td>2</td><td>2</td><td>5</td><td>2</td><td>1</td><td>0.0</td><td>2</td><td>NULL</td><td>2</td><td>1</td><td>2</td><td>3</td><td>2.0</td><td>2.0</td><td>2.0</td><td>95</td><td>5.51</td><td>1.29</td><td>50</td><td>3.68</td><td>10569</td><td>1987</td><td>10</td><td>1</td><td>40</td><td>nan</td><td>nan</td><td>nan</td><td>nan</td><td>nan</td><td>0</td><td>0</td><td>nan</td><td>nan</td><td>nan</td><td>nan</td><td>nan</td><td>nan</td><td>nan</td><td>nan</td><td>nan</td><td>nan</td><td>nan</td><td>nan</td><td>nan</td><td>nan</td><td>nan</td><td>nan</td><td>nan</td><td>nan</td><td>nan</td><td>nan</td><td>nan</td><td>nan</td><td>120</td><td>80</td><td>nan</td><td>nan</td><td>2</td><td>2</td><td>213</td><td>1.18</td><td>104</td><td>1</td><td>nan</td><td>nan</td></tr><tr><td style=\"border-right:1pt solid LightGray;\"><b>10570</b></td><td>1987-10-01T00:00:00.000000Z</td><td>20362</td><td>1</td><td>2</td><td>1</td><td>2</td><td>1</td><td>0.0</td><td>2</td><td>NULL</td><td>6</td><td>4</td><td>1</td><td>3</td><td>2.0</td><td>2.0</td><td>2.0</td><td>56</td><td>4.89</td><td>3</td><td>116</td><td>1.51</td><td>10570</td><td>1987</td><td>10</td><td>1</td><td>40</td><td>nan</td><td>nan</td><td>nan</td><td>nan</td><td>nan</td><td>0</td><td>0</td><td>nan</td><td>nan</td><td>nan</td><td>nan</td><td>nan</td><td>nan</td><td>nan</td><td>nan</td><td>nan</td><td>nan</td><td>nan</td><td>nan</td><td>nan</td><td>nan</td><td>nan</td><td>nan</td><td>nan</td><td>nan</td><td>nan</td><td>nan</td><td>nan</td><td>nan</td><td>140</td><td>85</td><td>nan</td><td>nan</td><td>2</td><td>2</td><td>189</td><td>0.82</td><td>73</td><td>1</td><td>nan</td><td>nan</td></tr><tr><td style=\"border-right:1pt solid LightGray;\"><b>10571</b></td><td>1978-09-01T00:00:00.000000Z</td><td>30037</td><td>2</td><td>1</td><td>1</td><td>2</td><td>3</td><td>15.0</td><td>2</td><td>NULL</td><td>4</td><td>1</td><td>2</td><td>4</td><td>2.0</td><td>2.0</td><td>1.0</td><td>72</td><td>5.61</td><td>nan</td><td>nan</td><td>nan</td><td>10571</td><td>1978</td><td>9</td><td>1</td><td>20</td><td>nan</td><td>nan</td><td>nan</td><td>nan</td><td>nan</td><td>0</td><td>0</td><td>nan</td><td>nan</td><td>nan</td><td>nan</td><td>nan</td><td>nan</td><td>nan</td><td>nan</td><td>nan</td><td>nan</td><td>nan</td><td>nan</td><td>nan</td><td>nan</td><td>nan</td><td>nan</td><td>nan</td><td>nan</td><td>nan</td><td>nan</td><td>nan</td><td>nan</td><td>125</td><td>90</td><td>9</td><td>17</td><td>2</td><td>2</td><td>217</td><td>nan</td><td>nan</td><td>1</td><td>nan</td><td>nan</td></tr></tbody></table><br>10572 rows x 68 columns<br>memory usage: 5.07 MB<br>name: contr<br>type: getml.data.DataFrame<br>url: <a href=\"http://localhost:1709/getdataframe/contr/\" target=\"_blank\">http://localhost:1709/getdataframe/contr/</a>"
      ],
      "text/plain": [
       "Name                   CONTROL_DATE        ICO      ZMTELAKT   \n",
       "Role                     time_stamp   join_key   categorical   \n",
       "Unit    time stamp, comparison only                            \n",
       "0       1977-09-01T00:00:00.000000Z   10001      3             \n",
       "1       1979-01-01T00:00:00.000000Z   10001      1             \n",
       "2       1980-04-01T00:00:00.000000Z   10001      2             \n",
       "3       1982-01-01T00:00:00.000000Z   10001      2             \n",
       "4       1983-02-01T00:00:00.000000Z   10001      2             \n",
       "        ...                           ...        ...           \n",
       "10567   1987-10-01T00:00:00.000000Z   20358      2             \n",
       "10568   1987-11-01T00:00:00.000000Z   20359      2             \n",
       "10569   1987-10-01T00:00:00.000000Z   20360      2             \n",
       "10570   1987-10-01T00:00:00.000000Z   20362      1             \n",
       "10571   1978-09-01T00:00:00.000000Z   30037      2             \n",
       "\n",
       "\n",
       "\n",
       "Name       AKTPOZAM        ZMDIET       LEKTLAK   \n",
       "Role    categorical   categorical   categorical   \n",
       "Unit                                              \n",
       "0       2             1             2             \n",
       "1       1             1             2             \n",
       "2       1             1             2             \n",
       "3       1             1             2             \n",
       "4       2             1             2             \n",
       "        ...           ...           ...           \n",
       "10567   2             1             2             \n",
       "10568   2             1             2             \n",
       "10569   2             5             2             \n",
       "10570   2             1             2             \n",
       "10571   1             1             2             \n",
       "\n",
       "\n",
       "\n",
       "Name         ZMKOUR        POCCIG   ...   \n",
       "Role    categorical   categorical   ...   \n",
       "Unit                                ...   \n",
       "0       2             0.0           ...   \n",
       "1       1             0.0           ...   \n",
       "2       1             0.0           ...   \n",
       "3       1             0.0           ...   \n",
       "4       1             0.0           ...   \n",
       "        ...           ...           ...   \n",
       "10567   1             0.0           ...   \n",
       "10568   1             14.0          ...   \n",
       "10569   1             0.0           ...   \n",
       "10570   1             0.0           ...   \n",
       "10571   3             15.0          ...   \n",
       "\n",
       "10572 rows x 68 columns\n",
       "memory usage: 5.07 MB\n",
       "name: contr\n",
       "type: getml.data.DataFrame\n",
       "url: http://localhost:1709/getdataframe/contr/"
      ]
     },
     "execution_count": 59,
     "metadata": {},
     "output_type": "execute_result"
    }
   ],
   "source": [
    "# print getML DataFrame\n",
    "contr"
   ]
  },
  {
   "cell_type": "markdown",
   "metadata": {},
   "source": [
    " "
   ]
  },
  {
   "cell_type": "markdown",
   "metadata": {},
   "source": [
    "### 1.3 Define relational model\n",
    "\n",
    "To start with relational learning, we need to specify the data model. This is done abstractly using [Placeholders](https://docs.getml.com/latest/user_guide/data_model/data_model.html#placeholders):\n",
    "\n",
    "* Each table in the data model requires a placeholder\n",
    "* Placeholders are then joined together to define the abstract data model\n",
    "* getML pipeline requires abstract data model during initialization"
   ]
  },
  {
   "cell_type": "code",
   "execution_count": 72,
   "metadata": {},
   "outputs": [],
   "source": [
    "population_placeholder = getml.data.Placeholder(\"population\")\n",
    "\n",
    "contr_placeholder = getml.data.Placeholder(\"contr\")\n",
    "\n",
    "population_placeholder.join(\n",
    "    contr_placeholder,\n",
    "    join_key=\"ICO\",\n",
    "    time_stamp=\"REFERENCE_DATE\",\n",
    "    other_time_stamp=\"CONTROL_DATE\"\n",
    ")"
   ]
  },
  {
   "cell_type": "markdown",
   "metadata": {},
   "source": [
    " "
   ]
  },
  {
   "cell_type": "markdown",
   "metadata": {},
   "source": [
    "## 2.Predictive modelling\n",
    "\n",
    "We loaded the data, defined the roles, units and the abstract data model. Next, we create a getML pipeline for relational learning."
   ]
  },
  {
   "cell_type": "markdown",
   "metadata": {},
   "source": [
    "### 2.1 Test setup\n",
    "\n",
    "To illustrate the problem of computational complexity, we fit two getML pipelines using different feature learning algorithms:\n",
    "\n",
    "The __first pipeline__ uses `Multirel` and the __second pipeline__ uses `Relboost`.\n",
    "\n",
    "To demonstrate the power of feature ensembling, we build a __third pipeline__ that uses both algorithms.\n",
    "\n",
    "\n",
    "At the end, we compare the runtime and predictive accuracies of all three pipelines."
   ]
  },
  {
   "cell_type": "markdown",
   "metadata": {},
   "source": [
    " "
   ]
  },
  {
   "cell_type": "markdown",
   "metadata": {},
   "source": [
    "### 2.2 Relational learning using Multirel\n",
    "\n",
    "We begin with **MultirelModel**. Features generated by MultirelModel **suffer from quadratic complexity**. Luckily, the number of columns is not too high, so it is **still manageble**."
   ]
  },
  {
   "cell_type": "code",
   "execution_count": 73,
   "metadata": {},
   "outputs": [],
   "source": [
    "multirel = getml.feature_learning.MultirelModel(\n",
    "    num_features=30,\n",
    "    loss_function=getml.feature_learning.loss_functions.CrossEntropyLoss,\n",
    "    num_threads=1\n",
    ")\n",
    "\n",
    "xgboost = getml.predictors.XGBoostClassifier(\n",
    "    max_depth=5,\n",
    "    reg_lambda=100.0,\n",
    "    learning_rate=0.1\n",
    ")\n",
    "\n",
    "# Build the getML pipeline\n",
    "pipe_1 = getml.pipeline.Pipeline(\n",
    "    tags=[\"multirel only\"],\n",
    "    population=population_placeholder,\n",
    "    peripheral=[contr_placeholder],\n",
    "    feature_learners=multirel,\n",
    "    predictors=xgboost,\n",
    "    include_categorical=True\n",
    ")"
   ]
  },
  {
   "cell_type": "markdown",
   "metadata": {},
   "source": [
    "It always a good idea to check before fitting. There is one minor warning: This warning means that about 12% of patients never appear in **CONTR** (presumably because they never showed up to their health check-ups)."
   ]
  },
  {
   "cell_type": "code",
   "execution_count": 74,
   "metadata": {},
   "outputs": [
    {
     "name": "stderr",
     "output_type": "stream",
     "text": [
      "INFO [JOIN KEYS NOT FOUND]: When joining 'population' and 'contr' over 'ICO' and 'ICO', there are no corresponding entries for 12.365913% of entries in join key 'ICO' in 'population'. You might want to double-check your join keys.\n"
     ]
    },
    {
     "name": "stdout",
     "output_type": "stream",
     "text": [
      "Checking data model...\n"
     ]
    }
   ],
   "source": [
    "pipe_1.check(\n",
    "    population_table=population,\n",
    "    peripheral_tables=[contr]\n",
    ")"
   ]
  },
  {
   "cell_type": "markdown",
   "metadata": {},
   "source": [
    " "
   ]
  },
  {
   "cell_type": "markdown",
   "metadata": {},
   "source": [
    "We now **fit pipeline 1**."
   ]
  },
  {
   "cell_type": "code",
   "execution_count": 75,
   "metadata": {},
   "outputs": [
    {
     "name": "stderr",
     "output_type": "stream",
     "text": [
      "INFO [JOIN KEYS NOT FOUND]: When joining 'population_train' and 'contr' over 'ICO' and 'ICO', there are no corresponding entries for 12.254434% of entries in join key 'ICO' in 'population_train'. You might want to double-check your join keys.\n"
     ]
    },
    {
     "name": "stdout",
     "output_type": "stream",
     "text": [
      "Checking data model...\n",
      "\n",
      "MultirelModel: Training features...\n",
      "[========================================] 100%\n",
      "\n",
      "MultirelModel: Building features...\n",
      "[========================================] 100%\n",
      "\n",
      "XGBoost: Training as predictor...\n",
      "[========================================] 100%\n",
      "\n",
      "Trained pipeline.\n",
      "Time taken: 0h:1m:51.057709\n",
      "\n"
     ]
    },
    {
     "data": {
      "text/html": [
       "<pre>Pipeline(feature_learners=['MultirelModel'], feature_selectors=[], <br>         include_categorical=True, peripheral=['contr'], <br>         population='population', predictors=['XGBoostClassifier'], <br>         tags=['multirel only'], share_selected_features=0.5)</pre><br><pre>url: <a href=\"http://localhost:1709/getpipeline/Xv5NSI/0/\" target=\"_blank\">http://localhost:1709/getpipeline/Xv5NSI/0/</a></pre>"
      ],
      "text/plain": [
       "Pipeline(feature_learners=['MultirelModel'], feature_selectors=[], \n",
       "         include_categorical=True, peripheral=['contr'], \n",
       "         population='population', predictors=['XGBoostClassifier'], \n",
       "         tags=['multirel only'], share_selected_features=0.5)\n",
       "\n",
       "url: http://localhost:1709/getpipeline/Xv5NSI/0/"
      ]
     },
     "execution_count": 75,
     "metadata": {},
     "output_type": "execute_result"
    }
   ],
   "source": [
    "pipe_1.fit(\n",
    "    population_table=population_training,\n",
    "    peripheral_tables=[contr]\n",
    ")"
   ]
  },
  {
   "cell_type": "markdown",
   "metadata": {},
   "source": [
    "As we can see, this took **a couple of minutes**."
   ]
  },
  {
   "cell_type": "markdown",
   "metadata": {},
   "source": [
    " "
   ]
  },
  {
   "cell_type": "markdown",
   "metadata": {},
   "source": [
    "### 2.3 Relational learning using Relboost"
   ]
  },
  {
   "cell_type": "markdown",
   "metadata": {},
   "source": [
    "Let's see how well **Relboost** does. This algorithm has **linear complexity** in the number of columns."
   ]
  },
  {
   "cell_type": "code",
   "execution_count": 76,
   "metadata": {},
   "outputs": [],
   "source": [
    "relboost = getml.feature_learning.RelboostModel(\n",
    "    num_features=30,\n",
    "    loss_function=getml.feature_learning.loss_functions.CrossEntropyLoss,\n",
    "    min_num_samples=500,\n",
    "    max_depth=2,\n",
    "    num_threads=1\n",
    ")\n",
    "\n",
    "# We resuse the `xgboost` classifier from above\n",
    "\n",
    "# Build the getML pipeline\n",
    "pipe_2 = getml.pipeline.Pipeline(\n",
    "    tags=[\"relboost only\"],\n",
    "    population=population_placeholder,\n",
    "    peripheral=[contr_placeholder],\n",
    "    feature_learners=relboost,\n",
    "    predictors=xgboost,\n",
    "    include_categorical=True\n",
    ")\n",
    "\n"
   ]
  },
  {
   "cell_type": "markdown",
   "metadata": {},
   "source": [
    "We now **fit pipeline 2**."
   ]
  },
  {
   "cell_type": "code",
   "execution_count": 77,
   "metadata": {},
   "outputs": [
    {
     "name": "stderr",
     "output_type": "stream",
     "text": [
      "INFO [JOIN KEYS NOT FOUND]: When joining 'population_train' and 'contr' over 'ICO' and 'ICO', there are no corresponding entries for 12.254434% of entries in join key 'ICO' in 'population_train'. You might want to double-check your join keys.\n"
     ]
    },
    {
     "name": "stdout",
     "output_type": "stream",
     "text": [
      "Checking data model...\n",
      "\n",
      "RelboostModel: Training features...\n",
      "[========================================] 100%\n",
      "\n",
      "RelboostModel: Building features...\n",
      "[========================================] 100%\n",
      "\n",
      "XGBoost: Training as predictor...\n",
      "[========================================] 100%\n",
      "\n",
      "Trained pipeline.\n",
      "Time taken: 0h:0m:33.819963\n",
      "\n"
     ]
    },
    {
     "data": {
      "text/html": [
       "<pre>Pipeline(feature_learners=['RelboostModel'], feature_selectors=[], <br>         include_categorical=True, peripheral=['contr'], <br>         population='population', predictors=['XGBoostClassifier'], <br>         tags=['relboost only'], share_selected_features=0.5)</pre><br><pre>url: <a href=\"http://localhost:1709/getpipeline/zmJSV1/0/\" target=\"_blank\">http://localhost:1709/getpipeline/zmJSV1/0/</a></pre>"
      ],
      "text/plain": [
       "Pipeline(feature_learners=['RelboostModel'], feature_selectors=[], \n",
       "         include_categorical=True, peripheral=['contr'], \n",
       "         population='population', predictors=['XGBoostClassifier'], \n",
       "         tags=['relboost only'], share_selected_features=0.5)\n",
       "\n",
       "url: http://localhost:1709/getpipeline/zmJSV1/0/"
      ]
     },
     "execution_count": 77,
     "metadata": {},
     "output_type": "execute_result"
    }
   ],
   "source": [
    "pipe_2.fit(\n",
    "    population_table=population_training,\n",
    "    peripheral_tables=[contr]\n",
    ")"
   ]
  },
  {
   "cell_type": "markdown",
   "metadata": {},
   "source": [
    "Note that this runs through in **well under a minute**. This demonstrates the power of computational complexity theory. If we had more columns, the difference between these two algorithms would become even more noticable."
   ]
  },
  {
   "cell_type": "markdown",
   "metadata": {},
   "source": [
    " "
   ]
  },
  {
   "cell_type": "markdown",
   "metadata": {},
   "source": [
    "### 2.4 Relational learning using Multirel & Relboost\n",
    "\n",
    "As Multirel and Relboost have distinct benefits, we can use both algorithms to build a feature ensemble."
   ]
  },
  {
   "cell_type": "code",
   "execution_count": 104,
   "metadata": {},
   "outputs": [],
   "source": [
    "# We reuse `multirel`, `relboost` and `xgboost` from above:\n",
    "pipe_3 = getml.pipeline.Pipeline(\n",
    "    tags=[\"both multirel and relboost\"],\n",
    "    population=population_placeholder,\n",
    "    peripheral=[contr_placeholder],\n",
    "    feature_learners=[multirel, relboost],\n",
    "    predictors=xgboost,\n",
    "    include_categorical=True\n",
    ")"
   ]
  },
  {
   "cell_type": "markdown",
   "metadata": {},
   "source": [
    "We now **fit pipeline 3**."
   ]
  },
  {
   "cell_type": "code",
   "execution_count": 105,
   "metadata": {},
   "outputs": [
    {
     "name": "stderr",
     "output_type": "stream",
     "text": [
      "INFO [JOIN KEYS NOT FOUND]: When joining 'population_train' and 'contr' over 'ICO' and 'ICO', there are no corresponding entries for 12.254434% of entries in join key 'ICO' in 'population_train'. You might want to double-check your join keys.\n"
     ]
    },
    {
     "name": "stdout",
     "output_type": "stream",
     "text": [
      "Checking data model...\n",
      "\n",
      "MultirelModel: Training features...\n",
      "[========================================] 100%\n",
      "\n",
      "RelboostModel: Training features...\n",
      "[========================================] 100%\n",
      "\n",
      "MultirelModel: Building features...\n",
      "[========================================] 100%\n",
      "\n",
      "RelboostModel: Building features...\n",
      "[========================================] 100%\n",
      "\n",
      "XGBoost: Training as predictor...\n",
      "[========================================] 100%\n",
      "\n",
      "Trained pipeline.\n",
      "Time taken: 0h:2m:21.190049\n",
      "\n"
     ]
    },
    {
     "data": {
      "text/html": [
       "<pre>Pipeline(feature_learners=['MultirelModel', 'RelboostModel'], <br>         feature_selectors=[], include_categorical=True, peripheral=['contr'], <br>         population='population', predictors=['XGBoostClassifier'], <br>         tags=['both multirel and relboost'], share_selected_features=0.5)</pre><br><pre>url: <a href=\"http://localhost:1709/getpipeline/cC1deK/0/\" target=\"_blank\">http://localhost:1709/getpipeline/cC1deK/0/</a></pre>"
      ],
      "text/plain": [
       "Pipeline(feature_learners=['MultirelModel', 'RelboostModel'], \n",
       "         feature_selectors=[], include_categorical=True, peripheral=['contr'], \n",
       "         population='population', predictors=['XGBoostClassifier'], \n",
       "         tags=['both multirel and relboost'], share_selected_features=0.5)\n",
       "\n",
       "url: http://localhost:1709/getpipeline/cC1deK/0/"
      ]
     },
     "execution_count": 105,
     "metadata": {},
     "output_type": "execute_result"
    }
   ],
   "source": [
    "pipe_3.fit(\n",
    "    population_table=population_training,\n",
    "    peripheral_tables=[contr]\n",
    ")"
   ]
  },
  {
   "cell_type": "markdown",
   "metadata": {},
   "source": [
    " "
   ]
  },
  {
   "cell_type": "markdown",
   "metadata": {},
   "source": [
    "### 2.5 Model evaluation"
   ]
  },
  {
   "cell_type": "code",
   "execution_count": 126,
   "metadata": {},
   "outputs": [
    {
     "name": "stdout",
     "output_type": "stream",
     "text": [
      "Scoring: pipe_1 (Multirel)\n",
      "\n",
      "MultirelModel: Building features...\n",
      "[========================================] 100%\n",
      "\n",
      "\n",
      "MultirelModel: Building features...\n",
      "[========================================] 100%\n",
      "\n",
      "Scoring: pipe_2 (Relboost)\n",
      "\n",
      "RelboostModel: Building features...\n",
      "[========================================] 100%\n",
      "\n",
      "\n",
      "RelboostModel: Building features...\n",
      "[========================================] 100%\n",
      "\n",
      "Scoring: pipe_3 (Multirel+Relboost)\n",
      "\n",
      "MultirelModel: Building features...\n",
      "[========================================] 100%\n",
      "\n",
      "RelboostModel: Building features...\n",
      "[========================================] 100%\n",
      "\n",
      "\n",
      "MultirelModel: Building features...\n",
      "[========================================] 100%\n",
      "\n",
      "RelboostModel: Building features...\n",
      "[========================================] 100%\n",
      "\n",
      "\n",
      "\n",
      "| Feature learner | AUC (training) | AUC (testing) | Runtime  |\n",
      "| :--- | :--- | :--- | ---: |\n",
      "| Multirel | 0.8451 | 0.6950 | 0h:1m:51s |\n",
      "| Relboost | 0.8700 | 0.7180 | 0h:0m:34s |\n",
      "| Multirel + Relboost | 0.8779 | 0.7222 | 0h:2m:21s |\n",
      "\n",
      "_runtime measured on mybinder_\n",
      "\n"
     ]
    }
   ],
   "source": [
    "print(\"Scoring: pipe_1 (Multirel)\")\n",
    "score_1_train = pipe_1.score(\n",
    "    population_table=population_training,\n",
    "    peripheral_tables=[contr]\n",
    ")\n",
    "score_1_test = pipe_1.score(\n",
    "    population_table=population_testing,\n",
    "    peripheral_tables=[contr]\n",
    ")\n",
    "\n",
    "print(\"Scoring: pipe_2 (Relboost)\")\n",
    "score_2_train = pipe_2.score(\n",
    "    population_table=population_training,\n",
    "    peripheral_tables=[contr]\n",
    ")\n",
    "score_2_test = pipe_2.score(\n",
    "    population_table=population_testing,\n",
    "    peripheral_tables=[contr]\n",
    ")\n",
    "\n",
    "print(\"Scoring: pipe_3 (Multirel+Relboost)\")\n",
    "score_3_train = pipe_3.score(\n",
    "    population_table=population_training,\n",
    "    peripheral_tables=[contr]\n",
    ")\n",
    "score_3_test = pipe_3.score(\n",
    "    population_table=population_testing,\n",
    "    peripheral_tables=[contr]\n",
    ")\n",
    "\n",
    "print(f'''\n",
    "\n",
    "| Feature learner | AUC (training) | AUC (testing) | Runtime  |\n",
    "| :--- | :--- | :--- | ---: |\n",
    "| Multirel | {score_1_train['auc'][0]:.4f} | {score_1_test['auc'][0]:.4f} | 0h:1m:51s |\n",
    "| Relboost | {score_2_train['auc'][0]:.4f} | {score_2_test['auc'][0]:.4f} | 0h:0m:34s |\n",
    "| Multirel + Relboost | {score_3_train['auc'][0]:.4f} | {score_3_test['auc'][0]:.4f} | 0h:2m:21s |\n",
    "\n",
    "_performacne & runtime measured on mybinder cluster_\n",
    "''')\n"
   ]
  },
  {
   "cell_type": "markdown",
   "metadata": {},
   "source": [
    " "
   ]
  },
  {
   "cell_type": "markdown",
   "metadata": {},
   "source": [
    "### 2.6 Studying the features\n",
    "\n",
    "It is always a good idea to **study the features** generated by the algorithms."
   ]
  },
  {
   "cell_type": "code",
   "execution_count": 57,
   "metadata": {},
   "outputs": [
    {
     "data": {
      "image/png": "[encoded data removed]",
      "text/plain": [
       "<Figure size 1440x720 with 1 Axes>"
      ]
     },
     "metadata": {
      "needs_background": "light"
     },
     "output_type": "display_data"
    }
   ],
   "source": [
    "names, correlations = pipe.features.correlations()\n",
    "\n",
    "plt.subplots(figsize=(20, 10))\n",
    "\n",
    "plt.bar(names, correlations, color='#6829c2')\n",
    "\n",
    "plt.title(\"feature correlations\")\n",
    "plt.grid(True)\n",
    "plt.xlabel(\"features\")\n",
    "plt.ylabel(\"correlations\")\n",
    "plt.xticks(rotation='vertical')\n",
    "\n",
    "plt.show()"
   ]
  },
  {
   "cell_type": "code",
   "execution_count": 120,
   "metadata": {},
   "outputs": [
    {
     "data": {
      "image/png": "[encoded data removed]",
      "text/plain": [
       "<Figure size 1440x720 with 1 Axes>"
      ]
     },
     "metadata": {
      "needs_background": "light"
     },
     "output_type": "display_data"
    }
   ],
   "source": [
    "names, importances = pipe_3.features.importances()\n",
    "\n",
    "plt.subplots(figsize=(20, 10))\n",
    "\n",
    "plt.bar(names, importances, color='#6829c2')\n",
    "\n",
    "plt.title(\"feature importances\")\n",
    "plt.grid(True)\n",
    "plt.xlabel(\"features\")\n",
    "plt.ylabel(\"importances\")\n",
    "plt.xticks(rotation='vertical')\n",
    "\n",
    "\n",
    "plt.show()"
   ]
  },
  {
   "cell_type": "code",
   "execution_count": 22,
   "metadata": {},
   "outputs": [
    {
     "data": {
      "text/plain": [
       "'AGE'"
      ]
     },
     "execution_count": 22,
     "metadata": {},
     "output_type": "execute_result"
    }
   ],
   "source": [
    "names[0]"
   ]
  },
  {
   "cell_type": "markdown",
   "metadata": {},
   "source": [
    "As we can see from these figures **we need many features** to get a good result. No single feature is very correlated with the target and the feature importance is not concentrated on a small number of features (as is often the case with other data sets).\n",
    "\n",
    "This implies that **the many columns in the data set are actually needed**. The reason we emphasize that is that we sometimes see data sets with many columns, but after analyzing them we find and only a handful of these columns are actually needed. This is not one of these times."
   ]
  },
  {
   "cell_type": "markdown",
   "metadata": {},
   "source": [
    " "
   ]
  },
  {
   "cell_type": "markdown",
   "metadata": {},
   "source": [
    "__Multirel Feature:__"
   ]
  },
  {
   "cell_type": "code",
   "execution_count": 128,
   "metadata": {},
   "outputs": [
    {
     "data": {
      "text/markdown": [
       "```sql\n",
       "CREATE TABLE \"FEATURE_1_1\" AS\n",
       "SELECT MIN( t2.\"HMOT\" ) AS \"feature_1_1\",\n",
       "       t1.rowid AS \"rownum\"\n",
       "FROM \"population\" t1\n",
       "LEFT JOIN \"contr\" t2\n",
       "ON t1.\"ICO\" = t2.\"ICO\"\n",
       "WHERE (\n",
       "   ( ( t2.\"POCCIG\" IN ( '35.0', '13.0', '50.0' ) ) AND ( t1.\"ALKOHOL\" NOT IN ( '3' ) ) AND ( t2.\"HMOT\" > 103.000000 ) )\n",
       "OR ( ( t2.\"POCCIG\" IN ( '35.0', '13.0', '50.0' ) ) AND ( t1.\"ALKOHOL\" IN ( '3' ) ) AND ( t1.\"VZDELANI\" NOT IN ( '4', '2' ) ) )\n",
       ") AND datetime( t2.\"CONTROL_DATE\" ) <= datetime( t1.\"REFERENCE_DATE\" )\n",
       "GROUP BY t1.rowid;\n",
       "```"
      ],
      "text/plain": [
       "CREATE TABLE \"FEATURE_1_1\" AS\n",
       "SELECT MIN( t2.\"HMOT\" ) AS \"feature_1_1\",\n",
       "       t1.rowid AS \"rownum\"\n",
       "FROM \"population\" t1\n",
       "LEFT JOIN \"contr\" t2\n",
       "ON t1.\"ICO\" = t2.\"ICO\"\n",
       "WHERE (\n",
       "   ( ( t2.\"POCCIG\" IN ( '35.0', '13.0', '50.0' ) ) AND ( t1.\"ALKOHOL\" NOT IN ( '3' ) ) AND ( t2.\"HMOT\" > 103.000000 ) )\n",
       "OR ( ( t2.\"POCCIG\" IN ( '35.0', '13.0', '50.0' ) ) AND ( t1.\"ALKOHOL\" IN ( '3' ) ) AND ( t1.\"VZDELANI\" NOT IN ( '4', '2' ) ) )\n",
       ") AND datetime( t2.\"CONTROL_DATE\" ) <= datetime( t1.\"REFERENCE_DATE\" )\n",
       "GROUP BY t1.rowid;"
      ]
     },
     "execution_count": 128,
     "metadata": {},
     "output_type": "execute_result"
    }
   ],
   "source": [
    "pipe_3.features.to_sql()[\"feature_1_1\"]"
   ]
  },
  {
   "cell_type": "markdown",
   "metadata": {},
   "source": [
    " "
   ]
  },
  {
   "cell_type": "markdown",
   "metadata": {},
   "source": [
    "__Relboost Feature:__"
   ]
  },
  {
   "cell_type": "code",
   "execution_count": 129,
   "metadata": {},
   "outputs": [
    {
     "data": {
      "text/markdown": [
       "```sql\n",
       "CREATE TABLE \"FEATURE_2_1\" AS\n",
       "SELECT AVG( \n",
       "    CASE\n",
       "        WHEN ( datetime( t1.\"REFERENCE_DATE\" ) > datetime( t2.\"CONTROL_DATE\", '+4631.999651 days' ) ) AND ( t1.\"AGE\" > 66.000000 ) THEN 6.481613\n",
       "        WHEN ( datetime( t1.\"REFERENCE_DATE\" ) > datetime( t2.\"CONTROL_DATE\", '+4631.999651 days' ) ) AND ( t1.\"AGE\" <= 66.000000 OR t1.\"AGE\" IS NULL ) THEN 1.446688\n",
       "        WHEN ( datetime( t1.\"REFERENCE_DATE\" ) <= datetime( t2.\"CONTROL_DATE\", '+4631.999651 days' ) OR t1.\"REFERENCE_DATE\" IS NULL OR t2.\"CONTROL_DATE\" IS NULL ) AND ( t1.\"SYST2\" > 149.000000 ) THEN 1.545035\n",
       "        WHEN ( datetime( t1.\"REFERENCE_DATE\" ) <= datetime( t2.\"CONTROL_DATE\", '+4631.999651 days' ) OR t1.\"REFERENCE_DATE\" IS NULL OR t2.\"CONTROL_DATE\" IS NULL ) AND ( t1.\"SYST2\" <= 149.000000 OR t1.\"SYST2\" IS NULL ) THEN -0.125693\n",
       "        ELSE NULL\n",
       "    END\n",
       ") AS \"feature_2_1\",\n",
       "     t1.rowid AS \"rownum\"\n",
       "FROM \"population\" t1\n",
       "LEFT JOIN \"contr\" t2\n",
       "ON t1.\"ICO\" = t2.\"ICO\"\n",
       "WHERE datetime( t2.\"CONTROL_DATE\" ) <= datetime( t1.\"REFERENCE_DATE\" )\n",
       "GROUP BY t1.rowid;\n",
       "```"
      ],
      "text/plain": [
       "CREATE TABLE \"FEATURE_2_1\" AS\n",
       "SELECT AVG( \n",
       "    CASE\n",
       "        WHEN ( datetime( t1.\"REFERENCE_DATE\" ) > datetime( t2.\"CONTROL_DATE\", '+4631.999651 days' ) ) AND ( t1.\"AGE\" > 66.000000 ) THEN 6.481613\n",
       "        WHEN ( datetime( t1.\"REFERENCE_DATE\" ) > datetime( t2.\"CONTROL_DATE\", '+4631.999651 days' ) ) AND ( t1.\"AGE\" <= 66.000000 OR t1.\"AGE\" IS NULL ) THEN 1.446688\n",
       "        WHEN ( datetime( t1.\"REFERENCE_DATE\" ) <= datetime( t2.\"CONTROL_DATE\", '+4631.999651 days' ) OR t1.\"REFERENCE_DATE\" IS NULL OR t2.\"CONTROL_DATE\" IS NULL ) AND ( t1.\"SYST2\" > 149.000000 ) THEN 1.545035\n",
       "        WHEN ( datetime( t1.\"REFERENCE_DATE\" ) <= datetime( t2.\"CONTROL_DATE\", '+4631.999651 days' ) OR t1.\"REFERENCE_DATE\" IS NULL OR t2.\"CONTROL_DATE\" IS NULL ) AND ( t1.\"SYST2\" <= 149.000000 OR t1.\"SYST2\" IS NULL ) THEN -0.125693\n",
       "        ELSE NULL\n",
       "    END\n",
       ") AS \"feature_2_1\",\n",
       "     t1.rowid AS \"rownum\"\n",
       "FROM \"population\" t1\n",
       "LEFT JOIN \"contr\" t2\n",
       "ON t1.\"ICO\" = t2.\"ICO\"\n",
       "WHERE datetime( t2.\"CONTROL_DATE\" ) <= datetime( t1.\"REFERENCE_DATE\" )\n",
       "GROUP BY t1.rowid;"
      ]
     },
     "execution_count": 129,
     "metadata": {},
     "output_type": "execute_result"
    }
   ],
   "source": [
    "pipe_3.features.to_sql()[\"feature_2_1\"]"
   ]
  },
  {
   "cell_type": "markdown",
   "metadata": {},
   "source": [
    " "
   ]
  },
  {
   "cell_type": "markdown",
   "metadata": {},
   "source": [
    "## 3. Conclusion\n",
    "\n",
    "__Outcome:__\n",
    "\n",
    "| Feature learner | AUC (training) | AUC (testing) | Runtime  |\n",
    "| :--- | :--- | :--- | ---: |\n",
    "| Multirel | 0.8451 | 0.6950 | 0h:1m:51s |\n",
    "| Relboost | 0.8700 | 0.7180 | 0h:0m:34s |\n",
    "| Multirel + Relboost | 0.8779 | 0.7222 | 0h:2m:21s |\n",
    "\n",
    "_runtime measured on mybinder_\n",
    "\n",
    "<br>\n",
    "\n",
    "The runtime benchmark between Multirel & Relboost on the same dataset demonstrates the problem of computational complexity in pratice. We find:\n",
    "\n",
    "* Multirel takes about 3-4 times as long as Relboost to learn the same number of features.\n",
    "* Multirel and Relboost have individual advantages. It is always a good idea to try to combine them.\n",
    "* It is pure coincidence that Relboost outperforms Multirel. Changing the dataset or the hyperparameters will likely affect the ranking.\n",
    "* Note that the AUC differes significantly between training and testing. This is due to overfitting effects. In a real world application you will likely start tuning your hyperparameters to reduce overfitting.\n",
    "\n",
    "The purpose of this notebook has been to illustrate the problem of the **curse of dimensionality** when engineering features from datasets with many columns.\n",
    "\n",
    "The most important thing to remember is that this problem exists **regardless of whether you engineer your features manually or using algorithms**. Whether you like it or not: If you write your features in the traditional way, **your search space grows quadratically with the number of columns**."
   ]
  }
 ],
 "metadata": {
  "kernelspec": {
   "display_name": "Python 3",
   "language": "python",
   "name": "python3"
  },
  "language_info": {
   "codemirror_mode": {
    "name": "ipython",
    "version": 3
   },
   "file_extension": ".py",
   "mimetype": "text/x-python",
   "name": "python",
   "nbconvert_exporter": "python",
   "pygments_lexer": "ipython3",
   "version": "3.8.5"
  }
 },
 "nbformat": 4,
 "nbformat_minor": 4
}
