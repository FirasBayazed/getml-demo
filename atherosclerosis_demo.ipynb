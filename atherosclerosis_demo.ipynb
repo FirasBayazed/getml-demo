{
 "cells": [
  {
   "cell_type": "markdown",
   "metadata": {},
   "source": [
    "# Disease lethality prediction\n",
    "\n",
    "### Feature engineering and the curse of dimensionality\n",
    "\n",
    "With this notebook we give a brief introduction to feature engineering on relational data with *many columns.* We discuss why feature engineering on such data is *particularly challenging* and what we can do to overcome these problems.\n",
    "\n",
    "Summary:\n",
    "\n",
    "- Prediction type: __Binary classification__\n",
    "- Domain: __Health__\n",
    "- Prediction target: __Mortality within one year__ \n",
    "- Source data: __146 columns in 2 tables, 22 MB__\n",
    "- Population size: __28433__\n",
    "\n",
    "_Author: Dr. Patrick Urbanke_"
   ]
  },
  {
   "cell_type": "markdown",
   "metadata": {},
   "source": [
    " "
   ]
  },
  {
   "cell_type": "markdown",
   "metadata": {},
   "source": [
    "#### __The problem__\n",
    "\n",
    "To illustrate the point, we give a simplified example based on the real data used in the analysis below. When we engineer features from relational data, we usually write something like this:\n",
    "\n",
    "```sql\n",
    "SELECT AVG(t2.HDL)\n",
    "FROM population_training t1\n",
    "LEFT JOIN contr t2\n",
    "ON t1.ICO = t2.ICO\n",
    "WHERE t1.AGE >= 60 AND t1.ALOKOHOL IN ('1', '2')\n",
    "GROUP BY t1.ICO;\n",
    "```\n",
    "\n",
    "Think about that for a second. This feature aggregates high-density lipoprotein (HDL) cholesterol values recorded during control dates conditional on age and alcohol consumption. We arbitrarily chose both, the column to aggregate over *(HDL)*  and the set of columns to construct conditions on *(AGE* and *ALKOHOL)* out of a greater set of 146 columns.\n",
    "\n",
    "Every column that we have can either be aggregated (here *HDL)* or it can be used for our conditions (here *AGE* and *ALKOHOL)*. That means if we have *n* columns to aggregate, we can potentially build conditions for $n$ other columns. In other words, the computational complexity is $n^2$ in the number of columns.\n",
    "\n",
    "Note that this problem occurs regardless of whether you automate feature engineering or you do it by hand. The size of the search space is $n^2$ in the number of columns in either case, unless you can rule something out a-priori.\n",
    "\n",
    "\n"
   ]
  },
  {
   "cell_type": "markdown",
   "metadata": {},
   "source": [
    " "
   ]
  },
  {
   "cell_type": "markdown",
   "metadata": {},
   "source": [
    "#### __The solution__\n",
    "\n",
    "So when we have relational data sets with many columns, what do we do? The answer is to write different features. Specifically, suppose we had features like this:\n",
    "\n",
    "```sql\n",
    "SELECT AVG(\n",
    "    CASE WHEN t1.AGE >= THEN weight1\n",
    "    CASE WHEN t1.ALKOHOL IN ('1', '2') THEN weight2\n",
    "    END\n",
    ")\n",
    "FROM population_training t1\n",
    "LEFT JOIN contr t2\n",
    "ON t1.ICO = t2.ICO\n",
    "GROUP BY t1.ICO;\n",
    "```\n",
    "\n",
    "*weight1* and *weight2* are learnable weights. An algorithm that generates features like this can only use columns for conditions, it is not allowed to aggregate columns – and it doesn't need to do so.\n",
    "\n",
    "That means the computational complexity is linear instead of quadratic. For data sets with a large number of columns this can make all the difference in the world. For instance, if you have 100 columns the size of the search space of the second approach is only 1% of the size of the search space of the first one.\n",
    "\n"
   ]
  },
  {
   "cell_type": "markdown",
   "metadata": {},
   "source": [
    " "
   ]
  },
  {
   "cell_type": "markdown",
   "metadata": {},
   "source": [
    "# Background\n",
    "\n",
    "To illustrate the problem of dimensionality in predictive analytics on relational data, we use the STULONG 1 dataset. It is a longitudinal study of atherosclerosis patients.\n",
    "\n",
    "One of its defining features is that it contains many columns, which makes it a good candidate to illustrate the problem discussed in this notebook.\n",
    "\n",
    "The are some academic studies related to this dataset:\n",
    "\n",
    "* https://www.researchgate.net/publication/228572841_Mining_episode_rules_in_STULONG_dataset\n",
    "* http://citeseerx.ist.psu.edu/viewdoc/download?doi=10.1.1.83.4764&rep=rep1&type=pdf\n",
    "\n",
    "The way these studies handle the large number of columns in the data set is to divide the columns into subgroups and then handling each subgroup separately. Even though this is one way to overcome the curse of dimensionality, it is not a very satisfying approach. We would like to be able to handle a large number of columns at once.\n",
    "\n",
    "\n",
    "The analysis is based on the STULONG 1 dataset. It is publicly available and can be downloaded the [the CTU Prague Relational Learning Repository](https://relational.fit.cvut.cz/dataset/Atherosclerosis).\n",
    "\n"
   ]
  },
  {
   "cell_type": "markdown",
   "metadata": {},
   "source": [
    " "
   ]
  },
  {
   "cell_type": "markdown",
   "metadata": {},
   "source": [
    "### A web frontend for getML\n",
    "\n",
    "The getML monitor is a frontend built to support your work with getML. The getML monitor displays information such as the imported data frames, trained pipelines and allows easy data and feature exploration. You can launch the getML monitor [here](http://localhost:1709)."
   ]
  },
  {
   "cell_type": "markdown",
   "metadata": {},
   "source": [
    " "
   ]
  },
  {
   "cell_type": "markdown",
   "metadata": {},
   "source": [
    "### Where is this running?\n",
    "\n",
    "Your getML live session is running inside a docker container on [mybinder.org](https://mybinder.org/), a service built by the Jupyter community and funded by Google Cloud, OVH, GESIS Notebooks and the Turing Institute. As it is a free service, this session will shut down after 10 minutes of inactivity."
   ]
  },
  {
   "cell_type": "markdown",
   "metadata": {},
   "source": [
    " "
   ]
  },
  {
   "cell_type": "markdown",
   "metadata": {},
   "source": [
    "# Analysis"
   ]
  },
  {
   "cell_type": "markdown",
   "metadata": {},
   "source": [
    "Let's get started with the analysis and set up your session:"
   ]
  },
  {
   "cell_type": "code",
   "execution_count": 1,
   "metadata": {},
   "outputs": [
    {
     "name": "stdout",
     "output_type": "stream",
     "text": [
      "getML API version: 0.14.0\n",
      "\n",
      "\n",
      "Connected to project 'atherosclerosis'\n"
     ]
    }
   ],
   "source": [
    "import os\n",
    "import numpy as np\n",
    "import pandas as pd\n",
    "from IPython.display import Image, Markdown\n",
    "import matplotlib.pyplot as plt\n",
    "plt.style.use('seaborn')\n",
    "%matplotlib inline  \n",
    "\n",
    "import getml\n",
    "\n",
    "print(f\"getML API version: {getml.__version__}\\n\")\n",
    "\n",
    "getml.engine.set_project('atherosclerosis')"
   ]
  },
  {
   "cell_type": "markdown",
   "metadata": {},
   "source": [
    " "
   ]
  },
  {
   "cell_type": "markdown",
   "metadata": {},
   "source": [
    "## 1. Loading data\n"
   ]
  },
  {
   "cell_type": "markdown",
   "metadata": {},
   "source": [
    "### 1.1 Download from source\n",
    "\n",
    "Downloading the raw data and convert it into a prediction ready format takes time. To get to the getML model building as fast as possible, we prepared the data for you and excluded the code from this notebook. It is made available in the example notebook featuring the full analysis."
   ]
  },
  {
   "cell_type": "code",
   "execution_count": 2,
   "metadata": {},
   "outputs": [],
   "source": [
    "data = getml.datasets.load_atherosclerosis(roles=True)\n",
    "population_training, _, population_testing, contr = data.values()"
   ]
  },
  {
   "cell_type": "markdown",
   "metadata": {},
   "source": [
    " "
   ]
  },
  {
   "cell_type": "markdown",
   "metadata": {},
   "source": [
    "### 1.2 Prepare data for getML\n",
    "\n",
    "The `getml.datasets.load_atherosclerosis` method took care of the entire data lifting:\n",
    "* Downloads csv's from our servers in python\n",
    "* Converts csv's to getML [DataFrames]()\n",
    "* Sets [roles]() to columns inside getML DataFrames"
   ]
  },
  {
   "cell_type": "markdown",
   "metadata": {},
   "source": [
    " "
   ]
  },
  {
   "cell_type": "markdown",
   "metadata": {},
   "source": [
    "__Data visualization__\n",
    "\n",
    "The original data (image below) model is condensed into 2 tables: \n",
    "\n",
    "* A population table *population_{train/test/validate}*, based on `death` table\n",
    "* A peripheral table: `contr`."
   ]
  },
  {
   "cell_type": "markdown",
   "metadata": {},
   "source": [
    " "
   ]
  },
  {
   "cell_type": "markdown",
   "metadata": {},
   "source": [
    "__Death:__ population table\n",
    "\n",
    "* Reference Date: Period of time from 1976 to 1999\n",
    "* Target: If the patient dies within one year after each reference date\n"
   ]
  },
  {
   "cell_type": "code",
   "execution_count": 3,
   "metadata": {},
   "outputs": [
    {
     "data": {
      "text/html": [
       "<table class=\"dataframe\"><thead><tr style=\"border-bottom:1pt solid LightGray;\"><th style=\"text-align: left;border-right:1pt solid LightGray;\">Name </th><th style=\"text-align: right;\">REFERENCE_DATE</th><th style=\"text-align: right;\">ENTRY_DATE</th><th style=\"text-align: right;\">ICO</th><th style=\"text-align: right;\">TARGET</th><th style=\"text-align: right;\">KONSKUP</th><th style=\"text-align: right;\">STAV</th><th style=\"text-align: right;\">VZDELANI</th><th style=\"text-align: right;\">ZODPOV</th><th style=\"text-align: right;\">TELAKTZA</th><th style=\"text-align: right;\">AKTPOZAM</th><th style=\"text-align: right;\">DOPRAVA</th><th style=\"text-align: right;\">DOPRATRV</th><th style=\"text-align: right;\">ALKOHOL</th><th style=\"text-align: right;\">BOLHR</th><th style=\"text-align: right;\">BOLDK</th><th style=\"text-align: right;\">DUSNOST</th><th style=\"text-align: right;\">RARISK</th><th style=\"text-align: right;\">OBEZRISK</th><th style=\"text-align: right;\">KOURRISK</th><th style=\"text-align: right;\">HTRISK</th><th style=\"text-align: right;\">CHOLRISK</th><th style=\"text-align: right;\">MOC</th><th style=\"text-align: right;\">AGE</th><th style=\"text-align: right;\">PARTICIPATION</th><th style=\"text-align: right;\">VYSKA</th><th style=\"text-align: right;\">VAHA</th><th style=\"text-align: right;\">SYST1</th><th style=\"text-align: right;\">DIAST1</th><th style=\"text-align: right;\">SYST2</th><th style=\"text-align: right;\">DIAST2</th><th style=\"text-align: right;\">TRIC</th><th style=\"text-align: right;\">SUBSC</th><th style=\"text-align: right;\">CHLST</th><th style=\"text-align: right;\">TRIGL</th><th style=\"text-align: right;\">KOURENI</th><th style=\"text-align: right;\">DOBAKOUR</th><th style=\"text-align: right;\">BYVKURAK</th><th style=\"text-align: right;\">PIVOMN</th><th style=\"text-align: right;\">VINOMN</th><th style=\"text-align: right;\">LIHMN</th><th style=\"text-align: right;\">KAVA</th><th style=\"text-align: right;\">CAJ</th><th style=\"text-align: right;\">CUKR</th><th style=\"text-align: right;\">Unnamed: 0_x</th><th style=\"text-align: right;\">ROKNAR</th><th style=\"text-align: right;\">ROKVSTUP</th><th style=\"text-align: right;\">MESVSTUP</th><th style=\"text-align: right;\">PIVO7</th><th style=\"text-align: right;\">PIVO10</th><th style=\"text-align: right;\">PIVO12</th><th style=\"text-align: right;\">VINO</th><th style=\"text-align: right;\">LIHOV</th><th style=\"text-align: right;\">IM</th><th style=\"text-align: right;\">IML</th><th style=\"text-align: right;\">HT</th><th style=\"text-align: right;\">HTD</th><th style=\"text-align: right;\">HTL</th><th style=\"text-align: right;\">ICT</th><th style=\"text-align: right;\">ICTL</th><th style=\"text-align: right;\">DIABET</th><th style=\"text-align: right;\">DIABD</th><th style=\"text-align: right;\">DIABL</th><th style=\"text-align: right;\">HYPLIP</th><th style=\"text-align: right;\">HYPLD</th><th style=\"text-align: right;\">HYPLL</th><th style=\"text-align: right;\">IMTRV</th><th style=\"text-align: right;\">HTTRV</th><th style=\"text-align: right;\">ICTTRV</th><th style=\"text-align: right;\">DIABTRV</th><th style=\"text-align: right;\">HYPLTRV</th><th style=\"text-align: right;\">Unnamed: 0_y</th><th style=\"text-align: right;\">DENUMR</th><th style=\"text-align: right;\">MESUMR</th><th style=\"text-align: right;\">ROKUMR</th><th style=\"text-align: right;\">PRICUMR</th><th style=\"text-align: right;\">DUMMY</th><th style=\"text-align: right;\">YEAR</th><th style=\"text-align: right;\">DEATH_DATE</th></tr><tr><th style=\"text-align: left;border-right:1pt solid LightGray;\">Role </th><td style=\"text-align: right;\"><i>time_stamp</i></td><td style=\"text-align: right;\"><i>time_stamp</i></td><td style=\"text-align: right;\"><i>join_key</i></td><td style=\"text-align: right;\"><i>target</i></td><td style=\"text-align: right;\"><i>categorical</i></td><td style=\"text-align: right;\"><i>categorical</i></td><td style=\"text-align: right;\"><i>categorical</i></td><td style=\"text-align: right;\"><i>categorical</i></td><td style=\"text-align: right;\"><i>categorical</i></td><td style=\"text-align: right;\"><i>categorical</i></td><td style=\"text-align: right;\"><i>categorical</i></td><td style=\"text-align: right;\"><i>categorical</i></td><td style=\"text-align: right;\"><i>categorical</i></td><td style=\"text-align: right;\"><i>categorical</i></td><td style=\"text-align: right;\"><i>categorical</i></td><td style=\"text-align: right;\"><i>categorical</i></td><td style=\"text-align: right;\"><i>categorical</i></td><td style=\"text-align: right;\"><i>categorical</i></td><td style=\"text-align: right;\"><i>categorical</i></td><td style=\"text-align: right;\"><i>categorical</i></td><td style=\"text-align: right;\"><i>categorical</i></td><td style=\"text-align: right;\"><i>categorical</i></td><td style=\"text-align: right;\"><i>numerical</i></td><td style=\"text-align: right;\"><i>numerical</i></td><td style=\"text-align: right;\"><i>numerical</i></td><td style=\"text-align: right;\"><i>numerical</i></td><td style=\"text-align: right;\"><i>numerical</i></td><td style=\"text-align: right;\"><i>numerical</i></td><td style=\"text-align: right;\"><i>numerical</i></td><td style=\"text-align: right;\"><i>numerical</i></td><td style=\"text-align: right;\"><i>numerical</i></td><td style=\"text-align: right;\"><i>numerical</i></td><td style=\"text-align: right;\"><i>numerical</i></td><td style=\"text-align: right;\"><i>numerical</i></td><td style=\"text-align: right;\"><i>numerical</i></td><td style=\"text-align: right;\"><i>numerical</i></td><td style=\"text-align: right;\"><i>numerical</i></td><td style=\"text-align: right;\"><i>numerical</i></td><td style=\"text-align: right;\"><i>numerical</i></td><td style=\"text-align: right;\"><i>numerical</i></td><td style=\"text-align: right;\"><i>numerical</i></td><td style=\"text-align: right;\"><i>numerical</i></td><td style=\"text-align: right;\"><i>numerical</i></td><td style=\"text-align: right;\"><i>unused_float</i></td><td style=\"text-align: right;\"><i>unused_float</i></td><td style=\"text-align: right;\"><i>unused_float</i></td><td style=\"text-align: right;\"><i>unused_float</i></td><td style=\"text-align: right;\"><i>unused_float</i></td><td style=\"text-align: right;\"><i>unused_float</i></td><td style=\"text-align: right;\"><i>unused_float</i></td><td style=\"text-align: right;\"><i>unused_float</i></td><td style=\"text-align: right;\"><i>unused_float</i></td><td style=\"text-align: right;\"><i>unused_float</i></td><td style=\"text-align: right;\"><i>unused_float</i></td><td style=\"text-align: right;\"><i>unused_float</i></td><td style=\"text-align: right;\"><i>unused_float</i></td><td style=\"text-align: right;\"><i>unused_float</i></td><td style=\"text-align: right;\"><i>unused_float</i></td><td style=\"text-align: right;\"><i>unused_float</i></td><td style=\"text-align: right;\"><i>unused_float</i></td><td style=\"text-align: right;\"><i>unused_float</i></td><td style=\"text-align: right;\"><i>unused_float</i></td><td style=\"text-align: right;\"><i>unused_float</i></td><td style=\"text-align: right;\"><i>unused_float</i></td><td style=\"text-align: right;\"><i>unused_float</i></td><td style=\"text-align: right;\"><i>unused_float</i></td><td style=\"text-align: right;\"><i>unused_float</i></td><td style=\"text-align: right;\"><i>unused_float</i></td><td style=\"text-align: right;\"><i>unused_float</i></td><td style=\"text-align: right;\"><i>unused_float</i></td><td style=\"text-align: right;\"><i>unused_float</i></td><td style=\"text-align: right;\"><i>unused_float</i></td><td style=\"text-align: right;\"><i>unused_float</i></td><td style=\"text-align: right;\"><i>unused_float</i></td><td style=\"text-align: right;\"><i>unused_float</i></td><td style=\"text-align: right;\"><i>unused_float</i></td><td style=\"text-align: right;\"><i>unused_float</i></td><td style=\"text-align: right;\"><i>unused_string</i></td></tr><tr><th style=\"text-align: left;border-right:1pt solid LightGray;\">Unit </th><td style=\"text-align: right;\"><i>time stamp, comparison only</i></td><td style=\"text-align: right;\"><i>time stamp, comparison only</i></td><td style=\"text-align: right;\"><i></i></td><td style=\"text-align: right;\"><i></i></td><td style=\"text-align: right;\"><i></i></td><td style=\"text-align: right;\"><i></i></td><td style=\"text-align: right;\"><i></i></td><td style=\"text-align: right;\"><i></i></td><td style=\"text-align: right;\"><i></i></td><td style=\"text-align: right;\"><i></i></td><td style=\"text-align: right;\"><i></i></td><td style=\"text-align: right;\"><i></i></td><td style=\"text-align: right;\"><i></i></td><td style=\"text-align: right;\"><i></i></td><td style=\"text-align: right;\"><i></i></td><td style=\"text-align: right;\"><i></i></td><td style=\"text-align: right;\"><i></i></td><td style=\"text-align: right;\"><i></i></td><td style=\"text-align: right;\"><i></i></td><td style=\"text-align: right;\"><i></i></td><td style=\"text-align: right;\"><i></i></td><td style=\"text-align: right;\"><i></i></td><td style=\"text-align: right;\"><i></i></td><td style=\"text-align: right;\"><i></i></td><td style=\"text-align: right;\"><i></i></td><td style=\"text-align: right;\"><i></i></td><td style=\"text-align: right;\"><i></i></td><td style=\"text-align: right;\"><i></i></td><td style=\"text-align: right;\"><i></i></td><td style=\"text-align: right;\"><i></i></td><td style=\"text-align: right;\"><i></i></td><td style=\"text-align: right;\"><i></i></td><td style=\"text-align: right;\"><i></i></td><td style=\"text-align: right;\"><i></i></td><td style=\"text-align: right;\"><i></i></td><td style=\"text-align: right;\"><i></i></td><td style=\"text-align: right;\"><i></i></td><td style=\"text-align: right;\"><i></i></td><td style=\"text-align: right;\"><i></i></td><td style=\"text-align: right;\"><i></i></td><td style=\"text-align: right;\"><i></i></td><td style=\"text-align: right;\"><i></i></td><td style=\"text-align: right;\"><i></i></td><td style=\"text-align: right;\"><i></i></td><td style=\"text-align: right;\"><i></i></td><td style=\"text-align: right;\"><i></i></td><td style=\"text-align: right;\"><i></i></td><td style=\"text-align: right;\"><i></i></td><td style=\"text-align: right;\"><i></i></td><td style=\"text-align: right;\"><i></i></td><td style=\"text-align: right;\"><i></i></td><td style=\"text-align: right;\"><i></i></td><td style=\"text-align: right;\"><i></i></td><td style=\"text-align: right;\"><i></i></td><td style=\"text-align: right;\"><i></i></td><td style=\"text-align: right;\"><i></i></td><td style=\"text-align: right;\"><i></i></td><td style=\"text-align: right;\"><i></i></td><td style=\"text-align: right;\"><i></i></td><td style=\"text-align: right;\"><i></i></td><td style=\"text-align: right;\"><i></i></td><td style=\"text-align: right;\"><i></i></td><td style=\"text-align: right;\"><i></i></td><td style=\"text-align: right;\"><i></i></td><td style=\"text-align: right;\"><i></i></td><td style=\"text-align: right;\"><i></i></td><td style=\"text-align: right;\"><i></i></td><td style=\"text-align: right;\"><i></i></td><td style=\"text-align: right;\"><i></i></td><td style=\"text-align: right;\"><i></i></td><td style=\"text-align: right;\"><i></i></td><td style=\"text-align: right;\"><i></i></td><td style=\"text-align: right;\"><i></i></td><td style=\"text-align: right;\"><i></i></td><td style=\"text-align: right;\"><i></i></td><td style=\"text-align: right;\"><i></i></td><td style=\"text-align: right;\"><i></i></td><td style=\"text-align: right;\"><i></i></td></tr></thead><tbody><tr style=\"border-top:1pt solid LightGray;\"><td style=\"border-right:1pt solid LightGray;\"><b>0</b></td><td>1989-01-01T00:00:00.000000Z</td><td>1977-02-01T00:00:00.000000Z</td><td>20343</td><td>0</td><td>6</td><td>1</td><td>2</td><td>2</td><td>1</td><td>2</td><td>3</td><td>6</td><td>2</td><td>1</td><td>1</td><td>1</td><td>0</td><td>0</td><td>0</td><td>0</td><td>1</td><td>1</td><td>62</td><td>-1888</td><td>172</td><td>74</td><td>150</td><td>90</td><td>150</td><td>95</td><td>10</td><td>32</td><td>300</td><td>240</td><td>5</td><td>9</td><td>12</td><td>2</td><td>4</td><td>7</td><td>2</td><td>5</td><td>2</td><td>1335</td><td>27</td><td>1977</td><td>2</td><td>nan</td><td>9</td><td>nan</td><td>nan</td><td>nan</td><td>2</td><td>nan</td><td>2</td><td>nan</td><td>nan</td><td>2</td><td>nan</td><td>2</td><td>nan</td><td>nan</td><td>2</td><td>nan</td><td>nan</td><td>nan</td><td>nan</td><td>nan</td><td>nan</td><td>nan</td><td>nan</td><td>nan</td><td>nan</td><td>nan</td><td>nan</td><td>1</td><td>1989</td><td>nan</td></tr><tr><td style=\"border-right:1pt solid LightGray;\"><b>1</b></td><td>1991-01-01T00:00:00.000000Z</td><td>1977-04-01T00:00:00.000000Z</td><td>10628</td><td>0</td><td>3</td><td>1</td><td>4</td><td>3</td><td>1</td><td>2</td><td>9</td><td>9</td><td>2</td><td>2</td><td>1</td><td>1</td><td>0</td><td>0</td><td>0</td><td>1</td><td>1</td><td>1</td><td>63</td><td>-1886</td><td>180</td><td>84</td><td>160</td><td>95</td><td>160</td><td>95</td><td>8</td><td>21</td><td>374</td><td>155</td><td>2</td><td>7</td><td>12</td><td>2</td><td>5</td><td>8</td><td>2</td><td>5</td><td>3</td><td>625</td><td>28</td><td>1977</td><td>4</td><td>nan</td><td>9</td><td>nan</td><td>11</td><td>12</td><td>2</td><td>nan</td><td>2</td><td>nan</td><td>nan</td><td>2</td><td>nan</td><td>2</td><td>nan</td><td>nan</td><td>2</td><td>nan</td><td>nan</td><td>nan</td><td>nan</td><td>nan</td><td>nan</td><td>nan</td><td>nan</td><td>nan</td><td>nan</td><td>nan</td><td>nan</td><td>1</td><td>1991</td><td>nan</td></tr><tr><td style=\"border-right:1pt solid LightGray;\"><b>2</b></td><td>1994-01-01T00:00:00.000000Z</td><td>1977-04-01T00:00:00.000000Z</td><td>10039</td><td>0</td><td>4</td><td>1</td><td>2</td><td>3</td><td>4</td><td>1</td><td>3</td><td>5</td><td>2</td><td>2</td><td>1</td><td>1</td><td>1</td><td>1</td><td>0</td><td>0</td><td>1</td><td>1</td><td>60</td><td>-1883</td><td>180</td><td>92</td><td>120</td><td>80</td><td>120</td><td>75</td><td>9</td><td>26</td><td>280</td><td>143</td><td>3</td><td>7</td><td>12</td><td>2</td><td>5</td><td>7</td><td>2</td><td>5</td><td>3</td><td>38</td><td>34</td><td>1977</td><td>4</td><td>nan</td><td>9</td><td>nan</td><td>11</td><td>nan</td><td>2</td><td>nan</td><td>2</td><td>nan</td><td>nan</td><td>2</td><td>nan</td><td>2</td><td>nan</td><td>nan</td><td>6</td><td>nan</td><td>nan</td><td>nan</td><td>nan</td><td>nan</td><td>nan</td><td>nan</td><td>nan</td><td>nan</td><td>nan</td><td>nan</td><td>nan</td><td>1</td><td>1994</td><td>nan</td></tr><tr><td style=\"border-right:1pt solid LightGray;\"><b>3</b></td><td>1987-01-01T00:00:00.000000Z</td><td>1976-10-01T00:00:00.000000Z</td><td>20211</td><td>0</td><td>6</td><td>1</td><td>3</td><td>3</td><td>1</td><td>2</td><td>1</td><td>5</td><td>2</td><td>2</td><td>1</td><td>1</td><td>1</td><td>0</td><td>0</td><td>0</td><td>0</td><td>1</td><td>59</td><td>-1889</td><td>170</td><td>79</td><td>140</td><td>90</td><td>145</td><td>90</td><td>4</td><td>6</td><td>196</td><td>nan</td><td>1</td><td>nan</td><td>nan</td><td>2</td><td>5</td><td>8</td><td>2</td><td>4</td><td>1</td><td>1203</td><td>28</td><td>1976</td><td>10</td><td>nan</td><td>9</td><td>nan</td><td>11</td><td>12</td><td>2</td><td>nan</td><td>2</td><td>nan</td><td>nan</td><td>2</td><td>nan</td><td>2</td><td>nan</td><td>nan</td><td>2</td><td>nan</td><td>nan</td><td>nan</td><td>nan</td><td>nan</td><td>nan</td><td>nan</td><td>nan</td><td>nan</td><td>nan</td><td>nan</td><td>nan</td><td>1</td><td>1987</td><td>nan</td></tr><tr><td style=\"border-right:1pt solid LightGray;\"><b>4</b></td><td>1987-01-01T00:00:00.000000Z</td><td>1977-09-01T00:00:00.000000Z</td><td>10952</td><td>0</td><td>3</td><td>1</td><td>2</td><td>3</td><td>4</td><td>2</td><td>1</td><td>5</td><td>3</td><td>1</td><td>1</td><td>1</td><td>0</td><td>0</td><td>1</td><td>1</td><td>0</td><td>1</td><td>53</td><td>-1890</td><td>182</td><td>82</td><td>140</td><td>95</td><td>140</td><td>95</td><td>6</td><td>13</td><td>242</td><td>65</td><td>4</td><td>10</td><td>nan</td><td>2</td><td>4</td><td>8</td><td>2</td><td>4</td><td>1</td><td>948</td><td>34</td><td>1977</td><td>9</td><td>nan</td><td>9</td><td>nan</td><td>nan</td><td>12</td><td>2</td><td>nan</td><td>2</td><td>nan</td><td>nan</td><td>2</td><td>nan</td><td>2</td><td>nan</td><td>nan</td><td>6</td><td>nan</td><td>nan</td><td>nan</td><td>nan</td><td>nan</td><td>nan</td><td>nan</td><td>300</td><td>1</td><td>11</td><td>1996</td><td>5</td><td>1</td><td>1987</td><td>1996-11-01</td></tr><tr><td style=\"border-right:1pt solid LightGray;\"><b> </b></td><td>...</td><td>...</td><td>...</td><td>...</td><td>...</td><td>...</td><td>...</td><td>...</td><td>...</td><td>...</td><td>...</td><td>...</td><td>...</td><td>...</td><td>...</td><td>...</td><td>...</td><td>...</td><td>...</td><td>...</td><td>...</td><td>...</td><td>...</td><td>...</td><td>...</td><td>...</td><td>...</td><td>...</td><td>...</td><td>...</td><td>...</td><td>...</td><td>...</td><td>...</td><td>...</td><td>...</td><td>...</td><td>...</td><td>...</td><td>...</td><td>...</td><td>...</td><td>...</td><td>...</td><td>...</td><td>...</td><td>...</td><td>...</td><td>...</td><td>...</td><td>...</td><td>...</td><td>...</td><td>...</td><td>...</td><td>...</td><td>...</td><td>...</td><td>...</td><td>...</td><td>...</td><td>...</td><td>...</td><td>...</td><td>...</td><td>...</td><td>...</td><td>...</td><td>...</td><td>...</td><td>...</td><td>...</td><td>...</td><td>...</td><td>...</td><td>...</td><td>...</td><td>...</td></tr><tr><td style=\"border-right:1pt solid LightGray;\"><b>19898</b></td><td>1980-01-01T00:00:00.000000Z</td><td>1977-04-01T00:00:00.000000Z</td><td>10047</td><td>0</td><td>4</td><td>1</td><td>2</td><td>1</td><td>1</td><td>2</td><td>3</td><td>5</td><td>3</td><td>1</td><td>1</td><td>1</td><td>0</td><td>0</td><td>0</td><td>1</td><td>1</td><td>1</td><td>46</td><td>-1897</td><td>177</td><td>87</td><td>130</td><td>90</td><td>150</td><td>100</td><td>11</td><td>31</td><td>327</td><td>157</td><td>1</td><td>nan</td><td>nan</td><td>2</td><td>6</td><td>7</td><td>2</td><td>5</td><td>8</td><td>46</td><td>34</td><td>1977</td><td>4</td><td>nan</td><td>nan</td><td>10</td><td>11</td><td>nan</td><td>2</td><td>nan</td><td>2</td><td>nan</td><td>nan</td><td>2</td><td>nan</td><td>2</td><td>nan</td><td>nan</td><td>6</td><td>nan</td><td>nan</td><td>nan</td><td>nan</td><td>nan</td><td>nan</td><td>nan</td><td>nan</td><td>nan</td><td>nan</td><td>nan</td><td>nan</td><td>1</td><td>1980</td><td>nan</td></tr><tr><td style=\"border-right:1pt solid LightGray;\"><b>19899</b></td><td>1981-01-01T00:00:00.000000Z</td><td>1977-03-01T00:00:00.000000Z</td><td>30037</td><td>0</td><td>5</td><td>1</td><td>3</td><td>2</td><td>1</td><td>1</td><td>3</td><td>6</td><td>2</td><td>3</td><td>1</td><td>2</td><td>1</td><td>0</td><td>1</td><td>1</td><td>0</td><td>1</td><td>47</td><td>-1896</td><td>165</td><td>74</td><td>115</td><td>75</td><td>115</td><td>75</td><td>8</td><td>20</td><td>233</td><td>541</td><td>5</td><td>9</td><td>nan</td><td>1</td><td>4</td><td>9</td><td>2</td><td>4</td><td>8</td><td>1390</td><td>34</td><td>1977</td><td>3</td><td>nan</td><td>nan</td><td>nan</td><td>nan</td><td>12</td><td>2</td><td>nan</td><td>1</td><td>6</td><td>4</td><td>2</td><td>nan</td><td>2</td><td>nan</td><td>nan</td><td>6</td><td>nan</td><td>nan</td><td>nan</td><td>15</td><td>nan</td><td>nan</td><td>nan</td><td>nan</td><td>nan</td><td>nan</td><td>nan</td><td>nan</td><td>1</td><td>1981</td><td>nan</td></tr><tr><td style=\"border-right:1pt solid LightGray;\"><b>19900</b></td><td>1990-01-01T00:00:00.000000Z</td><td>1976-11-01T00:00:00.000000Z</td><td>10830</td><td>0</td><td>3</td><td>1</td><td>2</td><td>3</td><td>1</td><td>2</td><td>1</td><td>5</td><td>2</td><td>1</td><td>1</td><td>1</td><td>0</td><td>0</td><td>0</td><td>1</td><td>0</td><td>1</td><td>61</td><td>-1886</td><td>175</td><td>78</td><td>130</td><td>90</td><td>130</td><td>95</td><td>9</td><td>20</td><td>224</td><td>nan</td><td>1</td><td>nan</td><td>nan</td><td>2</td><td>5</td><td>7</td><td>1</td><td>6</td><td>0</td><td>826</td><td>29</td><td>1976</td><td>11</td><td>nan</td><td>9</td><td>nan</td><td>11</td><td>nan</td><td>2</td><td>nan</td><td>1</td><td>6</td><td>6</td><td>2</td><td>nan</td><td>2</td><td>nan</td><td>nan</td><td>2</td><td>nan</td><td>nan</td><td>nan</td><td>15</td><td>nan</td><td>nan</td><td>nan</td><td>nan</td><td>nan</td><td>nan</td><td>nan</td><td>nan</td><td>1</td><td>1990</td><td>nan</td></tr><tr><td style=\"border-right:1pt solid LightGray;\"><b>19901</b></td><td>1983-01-01T00:00:00.000000Z</td><td>1978-05-01T00:00:00.000000Z</td><td>10645</td><td>0</td><td>3</td><td>1</td><td>3</td><td>6</td><td>1</td><td>2</td><td>1</td><td>5</td><td>3</td><td>2</td><td>1</td><td>2</td><td>1</td><td>0</td><td>0</td><td>0</td><td>1</td><td>1</td><td>56</td><td>-1895</td><td>172</td><td>74</td><td>130</td><td>85</td><td>130</td><td>80</td><td>17</td><td>32</td><td>265</td><td>79</td><td>4</td><td>9</td><td>12</td><td>2</td><td>4</td><td>7</td><td>7</td><td>7</td><td>nan</td><td>642</td><td>27</td><td>1978</td><td>5</td><td>nan</td><td>9</td><td>nan</td><td>nan</td><td>nan</td><td>2</td><td>nan</td><td>2</td><td>nan</td><td>nan</td><td>2</td><td>nan</td><td>2</td><td>nan</td><td>nan</td><td>1</td><td>6</td><td>6</td><td>nan</td><td>nan</td><td>nan</td><td>nan</td><td>3</td><td>nan</td><td>nan</td><td>nan</td><td>nan</td><td>nan</td><td>1</td><td>1983</td><td>nan</td></tr><tr><td style=\"border-right:1pt solid LightGray;\"><b>19902</b></td><td>1998-01-01T00:00:00.000000Z</td><td>1977-11-01T00:00:00.000000Z</td><td>10621</td><td>0</td><td>3</td><td>2</td><td>4</td><td>1</td><td>1</td><td>2</td><td>1</td><td>6</td><td>3</td><td>1</td><td>1</td><td>1</td><td>0</td><td>0</td><td>0</td><td>1</td><td>0</td><td>1</td><td>72</td><td>-1879</td><td>165</td><td>64</td><td>145</td><td>70</td><td>140</td><td>85</td><td>4</td><td>11</td><td>177</td><td>115</td><td>1</td><td>nan</td><td>nan</td><td>2</td><td>5</td><td>7</td><td>1</td><td>4</td><td>1</td><td>618</td><td>26</td><td>1977</td><td>11</td><td>nan</td><td>9</td><td>nan</td><td>11</td><td>nan</td><td>2</td><td>nan</td><td>1</td><td>6</td><td>5</td><td>2</td><td>nan</td><td>2</td><td>nan</td><td>nan</td><td>2</td><td>nan</td><td>nan</td><td>nan</td><td>20</td><td>nan</td><td>nan</td><td>nan</td><td>nan</td><td>nan</td><td>nan</td><td>nan</td><td>nan</td><td>1</td><td>1998</td><td>nan</td></tr></tbody></table><br>19903 rows x 78 columns<br>memory usage: 11.01 MB<br>name: population_train<br>type: getml.data.DataFrame<br>url: <a href=\"http://localhost:1709/#/getdataframe/atherosclerosis/population_train/\" target=\"_blank\">http://localhost:1709/#/getdataframe/atherosclerosis/population_train/</a>"
      ],
      "text/plain": [
       "Name                 REFERENCE_DATE                    ENTRY_DATE        ICO       KONSKUP   ...        PRICUMR          DUMMY   \n",
       "Role                     time_stamp                    time_stamp   join_key   categorical   ...   unused_float   unused_float   \n",
       "Unit    time stamp, comparison only   time stamp, comparison only                            ...                                 \n",
       "0       1989-01-01T00:00:00.000000Z   1977-02-01T00:00:00.000000Z   20343      6             ...   nan            1              \n",
       "1       1991-01-01T00:00:00.000000Z   1977-04-01T00:00:00.000000Z   10628      3             ...   nan            1              \n",
       "2       1994-01-01T00:00:00.000000Z   1977-04-01T00:00:00.000000Z   10039      4             ...   nan            1              \n",
       "3       1987-01-01T00:00:00.000000Z   1976-10-01T00:00:00.000000Z   20211      6             ...   nan            1              \n",
       "4       1987-01-01T00:00:00.000000Z   1977-09-01T00:00:00.000000Z   10952      3             ...   5              1              \n",
       "        ...                           ...                           ...        ...           ...   ...            ...            \n",
       "19898   1980-01-01T00:00:00.000000Z   1977-04-01T00:00:00.000000Z   10047      4             ...   nan            1              \n",
       "19899   1981-01-01T00:00:00.000000Z   1977-03-01T00:00:00.000000Z   30037      5             ...   nan            1              \n",
       "19900   1990-01-01T00:00:00.000000Z   1976-11-01T00:00:00.000000Z   10830      3             ...   nan            1              \n",
       "19901   1983-01-01T00:00:00.000000Z   1978-05-01T00:00:00.000000Z   10645      3             ...   nan            1              \n",
       "19902   1998-01-01T00:00:00.000000Z   1977-11-01T00:00:00.000000Z   10621      3             ...   nan            1              \n",
       "\n",
       "\n",
       "\n",
       "Name            YEAR      DEATH_DATE   \n",
       "Role    unused_float   unused_string   \n",
       "Unit                                   \n",
       "0       1989           nan             \n",
       "1       1991           nan             \n",
       "2       1994           nan             \n",
       "3       1987           nan             \n",
       "4       1987           1996-11-01      \n",
       "        ...            ...             \n",
       "19898   1980           nan             \n",
       "19899   1981           nan             \n",
       "19900   1990           nan             \n",
       "19901   1983           nan             \n",
       "19902   1998           nan             \n",
       "\n",
       "19903 rows x 78 columns\n",
       "memory usage: 11.01 MB\n",
       "name: population_train\n",
       "type: getml.data.DataFrame\n",
       "url: http://localhost:1709/#/getdataframe/atherosclerosis/population_train/"
      ]
     },
     "execution_count": 3,
     "metadata": {},
     "output_type": "execute_result"
    }
   ],
   "source": [
    "population_training"
   ]
  },
  {
   "cell_type": "markdown",
   "metadata": {},
   "source": [
    " "
   ]
  },
  {
   "cell_type": "markdown",
   "metadata": {},
   "source": [
    "__Contr:__ peripheral table\n",
    "\n"
   ]
  },
  {
   "cell_type": "code",
   "execution_count": 4,
   "metadata": {},
   "outputs": [
    {
     "data": {
      "text/html": [
       "<table class=\"dataframe\"><thead><tr style=\"border-bottom:1pt solid LightGray;\"><th style=\"text-align: left;border-right:1pt solid LightGray;\">Name </th><th style=\"text-align: right;\">CONTROL_DATE</th><th style=\"text-align: right;\">ICO</th><th style=\"text-align: right;\">ZMTELAKT</th><th style=\"text-align: right;\">AKTPOZAM</th><th style=\"text-align: right;\">ZMDIET</th><th style=\"text-align: right;\">LEKTLAK</th><th style=\"text-align: right;\">ZMKOUR</th><th style=\"text-align: right;\">POCCIG</th><th style=\"text-align: right;\">PRACNES</th><th style=\"text-align: right;\">JINAONE</th><th style=\"text-align: right;\">BOLHR</th><th style=\"text-align: right;\">BOLDK</th><th style=\"text-align: right;\">DUSN</th><th style=\"text-align: right;\">HODNSK</th><th style=\"text-align: right;\">HYPERD</th><th style=\"text-align: right;\">HYPCHL</th><th style=\"text-align: right;\">HYPTGL</th><th style=\"text-align: right;\">HMOT</th><th style=\"text-align: right;\">CHLST</th><th style=\"text-align: right;\">HDL</th><th style=\"text-align: right;\">HDLMG</th><th style=\"text-align: right;\">LDL</th><th style=\"text-align: right;\">Unnamed: 0</th><th style=\"text-align: right;\">ROKVYS</th><th style=\"text-align: right;\">MESVYS</th><th style=\"text-align: right;\">PORADK</th><th style=\"text-align: right;\">ZMCHARZA</th><th style=\"text-align: right;\">LEKCHOL</th><th style=\"text-align: right;\">SRDCE</th><th style=\"text-align: right;\">HYPERT</th><th style=\"text-align: right;\">CEVMOZ</th><th style=\"text-align: right;\">DIAB</th><th style=\"text-align: right;\">HODN0</th><th style=\"text-align: right;\">ROK0</th><th style=\"text-align: right;\">HODN1</th><th style=\"text-align: right;\">ROK1</th><th style=\"text-align: right;\">HODN2</th><th style=\"text-align: right;\">ROK2</th><th style=\"text-align: right;\">HODN3</th><th style=\"text-align: right;\">ROK3</th><th style=\"text-align: right;\">HODN4</th><th style=\"text-align: right;\">ROK4</th><th style=\"text-align: right;\">HODN11</th><th style=\"text-align: right;\">ROK11</th><th style=\"text-align: right;\">HODN12</th><th style=\"text-align: right;\">ROK12</th><th style=\"text-align: right;\">HODN13</th><th style=\"text-align: right;\">ROK13</th><th style=\"text-align: right;\">HODN14</th><th style=\"text-align: right;\">ROK14</th><th style=\"text-align: right;\">HODN15</th><th style=\"text-align: right;\">ROK15</th><th style=\"text-align: right;\">HODN21</th><th style=\"text-align: right;\">ROK21</th><th style=\"text-align: right;\">HODN23</th><th style=\"text-align: right;\">ROK23</th><th style=\"text-align: right;\">SYST</th><th style=\"text-align: right;\">DIAST</th><th style=\"text-align: right;\">TRIC</th><th style=\"text-align: right;\">SUBSC</th><th style=\"text-align: right;\">HYPERSD</th><th style=\"text-align: right;\">HYPERS</th><th style=\"text-align: right;\">CHLSTMG</th><th style=\"text-align: right;\">TRIGL</th><th style=\"text-align: right;\">TRIGLMG</th><th style=\"text-align: right;\">MOC</th><th style=\"text-align: right;\">GLYKEMIE</th><th style=\"text-align: right;\">KYSMOC</th></tr><tr><th style=\"text-align: left;border-right:1pt solid LightGray;\">Role </th><td style=\"text-align: right;\"><i>time_stamp</i></td><td style=\"text-align: right;\"><i>join_key</i></td><td style=\"text-align: right;\"><i>categorical</i></td><td style=\"text-align: right;\"><i>categorical</i></td><td style=\"text-align: right;\"><i>categorical</i></td><td style=\"text-align: right;\"><i>categorical</i></td><td style=\"text-align: right;\"><i>categorical</i></td><td style=\"text-align: right;\"><i>categorical</i></td><td style=\"text-align: right;\"><i>categorical</i></td><td style=\"text-align: right;\"><i>categorical</i></td><td style=\"text-align: right;\"><i>categorical</i></td><td style=\"text-align: right;\"><i>categorical</i></td><td style=\"text-align: right;\"><i>categorical</i></td><td style=\"text-align: right;\"><i>categorical</i></td><td style=\"text-align: right;\"><i>categorical</i></td><td style=\"text-align: right;\"><i>categorical</i></td><td style=\"text-align: right;\"><i>categorical</i></td><td style=\"text-align: right;\"><i>numerical</i></td><td style=\"text-align: right;\"><i>numerical</i></td><td style=\"text-align: right;\"><i>numerical</i></td><td style=\"text-align: right;\"><i>numerical</i></td><td style=\"text-align: right;\"><i>numerical</i></td><td style=\"text-align: right;\"><i>unused_float</i></td><td style=\"text-align: right;\"><i>unused_float</i></td><td style=\"text-align: right;\"><i>unused_float</i></td><td style=\"text-align: right;\"><i>unused_float</i></td><td style=\"text-align: right;\"><i>unused_float</i></td><td style=\"text-align: right;\"><i>unused_float</i></td><td style=\"text-align: right;\"><i>unused_float</i></td><td style=\"text-align: right;\"><i>unused_float</i></td><td style=\"text-align: right;\"><i>unused_float</i></td><td style=\"text-align: right;\"><i>unused_float</i></td><td style=\"text-align: right;\"><i>unused_float</i></td><td style=\"text-align: right;\"><i>unused_float</i></td><td style=\"text-align: right;\"><i>unused_float</i></td><td style=\"text-align: right;\"><i>unused_float</i></td><td style=\"text-align: right;\"><i>unused_float</i></td><td style=\"text-align: right;\"><i>unused_float</i></td><td style=\"text-align: right;\"><i>unused_float</i></td><td style=\"text-align: right;\"><i>unused_float</i></td><td style=\"text-align: right;\"><i>unused_float</i></td><td style=\"text-align: right;\"><i>unused_float</i></td><td style=\"text-align: right;\"><i>unused_float</i></td><td style=\"text-align: right;\"><i>unused_float</i></td><td style=\"text-align: right;\"><i>unused_float</i></td><td style=\"text-align: right;\"><i>unused_float</i></td><td style=\"text-align: right;\"><i>unused_float</i></td><td style=\"text-align: right;\"><i>unused_float</i></td><td style=\"text-align: right;\"><i>unused_float</i></td><td style=\"text-align: right;\"><i>unused_float</i></td><td style=\"text-align: right;\"><i>unused_float</i></td><td style=\"text-align: right;\"><i>unused_float</i></td><td style=\"text-align: right;\"><i>unused_float</i></td><td style=\"text-align: right;\"><i>unused_float</i></td><td style=\"text-align: right;\"><i>unused_float</i></td><td style=\"text-align: right;\"><i>unused_float</i></td><td style=\"text-align: right;\"><i>unused_float</i></td><td style=\"text-align: right;\"><i>unused_float</i></td><td style=\"text-align: right;\"><i>unused_float</i></td><td style=\"text-align: right;\"><i>unused_float</i></td><td style=\"text-align: right;\"><i>unused_float</i></td><td style=\"text-align: right;\"><i>unused_float</i></td><td style=\"text-align: right;\"><i>unused_float</i></td><td style=\"text-align: right;\"><i>unused_float</i></td><td style=\"text-align: right;\"><i>unused_float</i></td><td style=\"text-align: right;\"><i>unused_float</i></td><td style=\"text-align: right;\"><i>unused_float</i></td><td style=\"text-align: right;\"><i>unused_float</i></td></tr><tr><th style=\"text-align: left;border-right:1pt solid LightGray;\">Unit </th><td style=\"text-align: right;\"><i>time stamp, comparison only</i></td><td style=\"text-align: right;\"><i></i></td><td style=\"text-align: right;\"><i></i></td><td style=\"text-align: right;\"><i></i></td><td style=\"text-align: right;\"><i></i></td><td style=\"text-align: right;\"><i></i></td><td style=\"text-align: right;\"><i></i></td><td style=\"text-align: right;\"><i></i></td><td style=\"text-align: right;\"><i></i></td><td style=\"text-align: right;\"><i></i></td><td style=\"text-align: right;\"><i></i></td><td style=\"text-align: right;\"><i></i></td><td style=\"text-align: right;\"><i></i></td><td style=\"text-align: right;\"><i></i></td><td style=\"text-align: right;\"><i></i></td><td style=\"text-align: right;\"><i></i></td><td style=\"text-align: right;\"><i></i></td><td style=\"text-align: right;\"><i></i></td><td style=\"text-align: right;\"><i></i></td><td style=\"text-align: right;\"><i></i></td><td style=\"text-align: right;\"><i></i></td><td style=\"text-align: right;\"><i></i></td><td style=\"text-align: right;\"><i></i></td><td style=\"text-align: right;\"><i></i></td><td style=\"text-align: right;\"><i></i></td><td style=\"text-align: right;\"><i></i></td><td style=\"text-align: right;\"><i></i></td><td style=\"text-align: right;\"><i></i></td><td style=\"text-align: right;\"><i></i></td><td style=\"text-align: right;\"><i></i></td><td style=\"text-align: right;\"><i></i></td><td style=\"text-align: right;\"><i></i></td><td style=\"text-align: right;\"><i></i></td><td style=\"text-align: right;\"><i></i></td><td style=\"text-align: right;\"><i></i></td><td style=\"text-align: right;\"><i></i></td><td style=\"text-align: right;\"><i></i></td><td style=\"text-align: right;\"><i></i></td><td style=\"text-align: right;\"><i></i></td><td style=\"text-align: right;\"><i></i></td><td style=\"text-align: right;\"><i></i></td><td style=\"text-align: right;\"><i></i></td><td style=\"text-align: right;\"><i></i></td><td style=\"text-align: right;\"><i></i></td><td style=\"text-align: right;\"><i></i></td><td style=\"text-align: right;\"><i></i></td><td style=\"text-align: right;\"><i></i></td><td style=\"text-align: right;\"><i></i></td><td style=\"text-align: right;\"><i></i></td><td style=\"text-align: right;\"><i></i></td><td style=\"text-align: right;\"><i></i></td><td style=\"text-align: right;\"><i></i></td><td style=\"text-align: right;\"><i></i></td><td style=\"text-align: right;\"><i></i></td><td style=\"text-align: right;\"><i></i></td><td style=\"text-align: right;\"><i></i></td><td style=\"text-align: right;\"><i></i></td><td style=\"text-align: right;\"><i></i></td><td style=\"text-align: right;\"><i></i></td><td style=\"text-align: right;\"><i></i></td><td style=\"text-align: right;\"><i></i></td><td style=\"text-align: right;\"><i></i></td><td style=\"text-align: right;\"><i></i></td><td style=\"text-align: right;\"><i></i></td><td style=\"text-align: right;\"><i></i></td><td style=\"text-align: right;\"><i></i></td><td style=\"text-align: right;\"><i></i></td><td style=\"text-align: right;\"><i></i></td></tr></thead><tbody><tr style=\"border-top:1pt solid LightGray;\"><td style=\"border-right:1pt solid LightGray;\"><b>0</b></td><td>1977-09-01T00:00:00.000000Z</td><td>10001</td><td>3</td><td>2</td><td>1</td><td>2</td><td>2</td><td>0.0</td><td>1</td><td>2.0</td><td>1</td><td>1</td><td>1</td><td>2</td><td>2.0</td><td>2.0</td><td>2.0</td><td>71</td><td>5.61</td><td>nan</td><td>nan</td><td>nan</td><td>0</td><td>1977</td><td>9</td><td>1</td><td>20</td><td>nan</td><td>nan</td><td>nan</td><td>nan</td><td>nan</td><td>0</td><td>0</td><td>nan</td><td>nan</td><td>nan</td><td>nan</td><td>nan</td><td>nan</td><td>nan</td><td>nan</td><td>nan</td><td>nan</td><td>nan</td><td>nan</td><td>nan</td><td>nan</td><td>nan</td><td>nan</td><td>nan</td><td>nan</td><td>nan</td><td>nan</td><td>nan</td><td>nan</td><td>130</td><td>90</td><td>4</td><td>12</td><td>2</td><td>2</td><td>217</td><td>1.22</td><td>108</td><td>1</td><td>nan</td><td>nan</td></tr><tr><td style=\"border-right:1pt solid LightGray;\"><b>1</b></td><td>1979-01-01T00:00:00.000000Z</td><td>10001</td><td>1</td><td>1</td><td>1</td><td>2</td><td>1</td><td>0.0</td><td>2</td><td>NULL</td><td>1</td><td>2</td><td>1</td><td>2</td><td>2.0</td><td>2.0</td><td>2.0</td><td>72</td><td>6</td><td>nan</td><td>nan</td><td>nan</td><td>1</td><td>1979</td><td>1</td><td>2</td><td>20</td><td>nan</td><td>nan</td><td>nan</td><td>nan</td><td>nan</td><td>0</td><td>0</td><td>nan</td><td>nan</td><td>nan</td><td>nan</td><td>nan</td><td>nan</td><td>nan</td><td>nan</td><td>nan</td><td>nan</td><td>nan</td><td>nan</td><td>nan</td><td>nan</td><td>nan</td><td>nan</td><td>nan</td><td>nan</td><td>nan</td><td>nan</td><td>nan</td><td>nan</td><td>140</td><td>90</td><td>4</td><td>11</td><td>2</td><td>2</td><td>232</td><td>4.4</td><td>389</td><td>3</td><td>nan</td><td>nan</td></tr><tr><td style=\"border-right:1pt solid LightGray;\"><b>2</b></td><td>1980-04-01T00:00:00.000000Z</td><td>10001</td><td>2</td><td>1</td><td>1</td><td>2</td><td>1</td><td>0.0</td><td>2</td><td>NULL</td><td>2</td><td>1</td><td>1</td><td>2</td><td>2.0</td><td>2.0</td><td>2.0</td><td>71</td><td>6.23</td><td>nan</td><td>nan</td><td>nan</td><td>2</td><td>1980</td><td>4</td><td>3</td><td>20</td><td>nan</td><td>nan</td><td>nan</td><td>nan</td><td>nan</td><td>0</td><td>0</td><td>nan</td><td>nan</td><td>nan</td><td>nan</td><td>nan</td><td>nan</td><td>nan</td><td>nan</td><td>nan</td><td>nan</td><td>nan</td><td>nan</td><td>nan</td><td>nan</td><td>nan</td><td>nan</td><td>nan</td><td>nan</td><td>nan</td><td>nan</td><td>nan</td><td>nan</td><td>130</td><td>90</td><td>5</td><td>22</td><td>2</td><td>2</td><td>241</td><td>1.51</td><td>134</td><td>1</td><td>nan</td><td>nan</td></tr><tr><td style=\"border-right:1pt solid LightGray;\"><b>3</b></td><td>1982-01-01T00:00:00.000000Z</td><td>10001</td><td>2</td><td>1</td><td>1</td><td>2</td><td>1</td><td>0.0</td><td>1</td><td>2.0</td><td>1</td><td>1</td><td>1</td><td>2</td><td>2.0</td><td>2.0</td><td>2.0</td><td>74</td><td>5.2</td><td>nan</td><td>nan</td><td>nan</td><td>3</td><td>1982</td><td>1</td><td>4</td><td>20</td><td>nan</td><td>nan</td><td>nan</td><td>nan</td><td>nan</td><td>0</td><td>0</td><td>nan</td><td>nan</td><td>nan</td><td>nan</td><td>nan</td><td>nan</td><td>nan</td><td>nan</td><td>nan</td><td>nan</td><td>nan</td><td>nan</td><td>nan</td><td>nan</td><td>nan</td><td>nan</td><td>nan</td><td>nan</td><td>nan</td><td>nan</td><td>nan</td><td>nan</td><td>150</td><td>100</td><td>9</td><td>18</td><td>2</td><td>2</td><td>201</td><td>1.42</td><td>126</td><td>1</td><td>nan</td><td>nan</td></tr><tr><td style=\"border-right:1pt solid LightGray;\"><b>4</b></td><td>1983-02-01T00:00:00.000000Z</td><td>10001</td><td>2</td><td>2</td><td>1</td><td>2</td><td>1</td><td>0.0</td><td>2</td><td>NULL</td><td>1</td><td>2</td><td>1</td><td>2</td><td>2.0</td><td>2.0</td><td>2.0</td><td>73</td><td>6.08</td><td>1.47</td><td>57</td><td>4.15</td><td>4</td><td>1983</td><td>2</td><td>5</td><td>20</td><td>nan</td><td>nan</td><td>nan</td><td>nan</td><td>nan</td><td>0</td><td>0</td><td>nan</td><td>nan</td><td>nan</td><td>nan</td><td>nan</td><td>nan</td><td>nan</td><td>nan</td><td>nan</td><td>nan</td><td>nan</td><td>nan</td><td>nan</td><td>nan</td><td>nan</td><td>nan</td><td>nan</td><td>nan</td><td>nan</td><td>nan</td><td>nan</td><td>nan</td><td>165</td><td>105</td><td>7</td><td>15</td><td>2</td><td>2</td><td>235</td><td>0.99</td><td>88</td><td>1</td><td>nan</td><td>nan</td></tr><tr><td style=\"border-right:1pt solid LightGray;\"><b> </b></td><td>...</td><td>...</td><td>...</td><td>...</td><td>...</td><td>...</td><td>...</td><td>...</td><td>...</td><td>...</td><td>...</td><td>...</td><td>...</td><td>...</td><td>...</td><td>...</td><td>...</td><td>...</td><td>...</td><td>...</td><td>...</td><td>...</td><td>...</td><td>...</td><td>...</td><td>...</td><td>...</td><td>...</td><td>...</td><td>...</td><td>...</td><td>...</td><td>...</td><td>...</td><td>...</td><td>...</td><td>...</td><td>...</td><td>...</td><td>...</td><td>...</td><td>...</td><td>...</td><td>...</td><td>...</td><td>...</td><td>...</td><td>...</td><td>...</td><td>...</td><td>...</td><td>...</td><td>...</td><td>...</td><td>...</td><td>...</td><td>...</td><td>...</td><td>...</td><td>...</td><td>...</td><td>...</td><td>...</td><td>...</td><td>...</td><td>...</td><td>...</td><td>...</td></tr><tr><td style=\"border-right:1pt solid LightGray;\"><b>10567</b></td><td>1987-10-01T00:00:00.000000Z</td><td>20358</td><td>2</td><td>2</td><td>1</td><td>2</td><td>1</td><td>0.0</td><td>2</td><td>NULL</td><td>4</td><td>1</td><td>1</td><td>3</td><td>2.0</td><td>2.0</td><td>2.0</td><td>85</td><td>4.89</td><td>0.98</td><td>38</td><td>3.11</td><td>10567</td><td>1987</td><td>10</td><td>1</td><td>20</td><td>nan</td><td>nan</td><td>nan</td><td>nan</td><td>nan</td><td>0</td><td>0</td><td>nan</td><td>nan</td><td>nan</td><td>nan</td><td>nan</td><td>nan</td><td>nan</td><td>nan</td><td>nan</td><td>nan</td><td>nan</td><td>nan</td><td>nan</td><td>nan</td><td>nan</td><td>nan</td><td>nan</td><td>nan</td><td>nan</td><td>nan</td><td>nan</td><td>nan</td><td>120</td><td>80</td><td>nan</td><td>nan</td><td>2</td><td>2</td><td>189</td><td>1.74</td><td>154</td><td>1</td><td>nan</td><td>nan</td></tr><tr><td style=\"border-right:1pt solid LightGray;\"><b>10568</b></td><td>1987-11-01T00:00:00.000000Z</td><td>20359</td><td>2</td><td>2</td><td>1</td><td>2</td><td>1</td><td>14.0</td><td>2</td><td>NULL</td><td>1</td><td>1</td><td>1</td><td>3</td><td>2.0</td><td>2.0</td><td>2.0</td><td>80</td><td>4.5</td><td>0.98</td><td>38</td><td>3.16</td><td>10568</td><td>1987</td><td>11</td><td>1</td><td>20</td><td>nan</td><td>nan</td><td>nan</td><td>nan</td><td>nan</td><td>0</td><td>0</td><td>nan</td><td>nan</td><td>nan</td><td>nan</td><td>nan</td><td>nan</td><td>nan</td><td>nan</td><td>nan</td><td>nan</td><td>nan</td><td>nan</td><td>nan</td><td>nan</td><td>nan</td><td>nan</td><td>nan</td><td>nan</td><td>nan</td><td>nan</td><td>nan</td><td>nan</td><td>100</td><td>70</td><td>nan</td><td>nan</td><td>2</td><td>2</td><td>174</td><td>0.79</td><td>70</td><td>1</td><td>nan</td><td>nan</td></tr><tr><td style=\"border-right:1pt solid LightGray;\"><b>10569</b></td><td>1987-10-01T00:00:00.000000Z</td><td>20360</td><td>2</td><td>2</td><td>5</td><td>2</td><td>1</td><td>0.0</td><td>2</td><td>NULL</td><td>2</td><td>1</td><td>2</td><td>3</td><td>2.0</td><td>2.0</td><td>2.0</td><td>95</td><td>5.51</td><td>1.29</td><td>50</td><td>3.68</td><td>10569</td><td>1987</td><td>10</td><td>1</td><td>40</td><td>nan</td><td>nan</td><td>nan</td><td>nan</td><td>nan</td><td>0</td><td>0</td><td>nan</td><td>nan</td><td>nan</td><td>nan</td><td>nan</td><td>nan</td><td>nan</td><td>nan</td><td>nan</td><td>nan</td><td>nan</td><td>nan</td><td>nan</td><td>nan</td><td>nan</td><td>nan</td><td>nan</td><td>nan</td><td>nan</td><td>nan</td><td>nan</td><td>nan</td><td>120</td><td>80</td><td>nan</td><td>nan</td><td>2</td><td>2</td><td>213</td><td>1.18</td><td>104</td><td>1</td><td>nan</td><td>nan</td></tr><tr><td style=\"border-right:1pt solid LightGray;\"><b>10570</b></td><td>1987-10-01T00:00:00.000000Z</td><td>20362</td><td>1</td><td>2</td><td>1</td><td>2</td><td>1</td><td>0.0</td><td>2</td><td>NULL</td><td>6</td><td>4</td><td>1</td><td>3</td><td>2.0</td><td>2.0</td><td>2.0</td><td>56</td><td>4.89</td><td>3</td><td>116</td><td>1.51</td><td>10570</td><td>1987</td><td>10</td><td>1</td><td>40</td><td>nan</td><td>nan</td><td>nan</td><td>nan</td><td>nan</td><td>0</td><td>0</td><td>nan</td><td>nan</td><td>nan</td><td>nan</td><td>nan</td><td>nan</td><td>nan</td><td>nan</td><td>nan</td><td>nan</td><td>nan</td><td>nan</td><td>nan</td><td>nan</td><td>nan</td><td>nan</td><td>nan</td><td>nan</td><td>nan</td><td>nan</td><td>nan</td><td>nan</td><td>140</td><td>85</td><td>nan</td><td>nan</td><td>2</td><td>2</td><td>189</td><td>0.82</td><td>73</td><td>1</td><td>nan</td><td>nan</td></tr><tr><td style=\"border-right:1pt solid LightGray;\"><b>10571</b></td><td>1978-09-01T00:00:00.000000Z</td><td>30037</td><td>2</td><td>1</td><td>1</td><td>2</td><td>3</td><td>15.0</td><td>2</td><td>NULL</td><td>4</td><td>1</td><td>2</td><td>4</td><td>2.0</td><td>2.0</td><td>1.0</td><td>72</td><td>5.61</td><td>nan</td><td>nan</td><td>nan</td><td>10571</td><td>1978</td><td>9</td><td>1</td><td>20</td><td>nan</td><td>nan</td><td>nan</td><td>nan</td><td>nan</td><td>0</td><td>0</td><td>nan</td><td>nan</td><td>nan</td><td>nan</td><td>nan</td><td>nan</td><td>nan</td><td>nan</td><td>nan</td><td>nan</td><td>nan</td><td>nan</td><td>nan</td><td>nan</td><td>nan</td><td>nan</td><td>nan</td><td>nan</td><td>nan</td><td>nan</td><td>nan</td><td>nan</td><td>125</td><td>90</td><td>9</td><td>17</td><td>2</td><td>2</td><td>217</td><td>nan</td><td>nan</td><td>1</td><td>nan</td><td>nan</td></tr></tbody></table><br>10572 rows x 68 columns<br>memory usage: 5.07 MB<br>name: contr<br>type: getml.data.DataFrame<br>url: <a href=\"http://localhost:1709/#/getdataframe/atherosclerosis/contr/\" target=\"_blank\">http://localhost:1709/#/getdataframe/atherosclerosis/contr/</a>"
      ],
      "text/plain": [
       "Name                   CONTROL_DATE        ICO      ZMTELAKT        ZMDIET   ...        TRIGLMG            MOC   \n",
       "Role                     time_stamp   join_key   categorical   categorical   ...   unused_float   unused_float   \n",
       "Unit    time stamp, comparison only                                          ...                                 \n",
       "0       1977-09-01T00:00:00.000000Z   10001      3             1             ...   108            1              \n",
       "1       1979-01-01T00:00:00.000000Z   10001      1             1             ...   389            3              \n",
       "2       1980-04-01T00:00:00.000000Z   10001      2             1             ...   134            1              \n",
       "3       1982-01-01T00:00:00.000000Z   10001      2             1             ...   126            1              \n",
       "4       1983-02-01T00:00:00.000000Z   10001      2             1             ...   88             1              \n",
       "        ...                           ...        ...           ...           ...   ...            ...            \n",
       "10567   1987-10-01T00:00:00.000000Z   20358      2             1             ...   154            1              \n",
       "10568   1987-11-01T00:00:00.000000Z   20359      2             1             ...   70             1              \n",
       "10569   1987-10-01T00:00:00.000000Z   20360      2             5             ...   104            1              \n",
       "10570   1987-10-01T00:00:00.000000Z   20362      1             1             ...   73             1              \n",
       "10571   1978-09-01T00:00:00.000000Z   30037      2             1             ...   nan            1              \n",
       "\n",
       "\n",
       "\n",
       "Name        GLYKEMIE         KYSMOC   \n",
       "Role    unused_float   unused_float   \n",
       "Unit                                  \n",
       "0       nan            nan            \n",
       "1       nan            nan            \n",
       "2       nan            nan            \n",
       "3       nan            nan            \n",
       "4       nan            nan            \n",
       "        ...            ...            \n",
       "10567   nan            nan            \n",
       "10568   nan            nan            \n",
       "10569   nan            nan            \n",
       "10570   nan            nan            \n",
       "10571   nan            nan            \n",
       "\n",
       "10572 rows x 68 columns\n",
       "memory usage: 5.07 MB\n",
       "name: contr\n",
       "type: getml.data.DataFrame\n",
       "url: http://localhost:1709/#/getdataframe/atherosclerosis/contr/"
      ]
     },
     "execution_count": 4,
     "metadata": {},
     "output_type": "execute_result"
    }
   ],
   "source": [
    "contr"
   ]
  },
  {
   "cell_type": "markdown",
   "metadata": {},
   "source": [
    " "
   ]
  },
  {
   "cell_type": "markdown",
   "metadata": {},
   "source": [
    "### 1.3 Define relational model\n",
    "\n",
    "To start with relational learning, we need to specify the data model. This is done abstractly using [Placeholders](https://docs.getml.com/latest/user_guide/data_model/data_model.html#placeholders):\n",
    "\n",
    "* Each table in the data model requires a placeholder\n",
    "* Placeholders are then joined together to define the abstract data model\n",
    "* getML pipeline requires abstract data model during initialization"
   ]
  },
  {
   "cell_type": "code",
   "execution_count": 5,
   "metadata": {},
   "outputs": [],
   "source": [
    "population_placeholder = getml.data.Placeholder(\"population\")\n",
    "\n",
    "contr_placeholder = getml.data.Placeholder(\"contr\")\n",
    "\n",
    "population_placeholder.join(\n",
    "    contr_placeholder,\n",
    "    join_key=\"ICO\",\n",
    "    time_stamp=\"REFERENCE_DATE\",\n",
    "    other_time_stamp=\"CONTROL_DATE\"\n",
    ")"
   ]
  },
  {
   "cell_type": "markdown",
   "metadata": {},
   "source": [
    " "
   ]
  },
  {
   "cell_type": "markdown",
   "metadata": {},
   "source": [
    "## 2. Predictive modelling\n",
    "\n",
    "We loaded the data, defined the roles, units and the abstract data model. Next, we create a getML pipeline for relational learning."
   ]
  },
  {
   "cell_type": "markdown",
   "metadata": {},
   "source": [
    "### 2.1 Test setup\n",
    "\n",
    "To illustrate the problem of computational complexity, we fit two getML pipelines using different feature learning algorithms:\n",
    "\n",
    "The __first pipeline__ uses `Multirel` and the __second pipeline__ uses `Relboost`.\n",
    "\n",
    "To demonstrate the power of feature ensembling, we build a __third pipeline__ that uses both algorithms.\n",
    "\n",
    "\n",
    "At the end, we compare the runtime and predictive accuracies of all three pipelines."
   ]
  },
  {
   "cell_type": "markdown",
   "metadata": {},
   "source": [
    " "
   ]
  },
  {
   "cell_type": "markdown",
   "metadata": {},
   "source": [
    "### 2.2 Relational learning using MultirelModel\n",
    "\n",
    "We begin with MultirelModel. Features generated by MultirelModel suffer from quadratic complexity. Luckily, the number of columns is not too high, so it is still manageble."
   ]
  },
  {
   "cell_type": "code",
   "execution_count": 6,
   "metadata": {},
   "outputs": [],
   "source": [
    "multirel = getml.feature_learning.MultirelModel(\n",
    "    num_features=30,\n",
    "    loss_function=getml.feature_learning.loss_functions.CrossEntropyLoss,\n",
    "    num_threads=1\n",
    ")\n",
    "\n",
    "feature_selector = getml.predictors.XGBoostClassifier()\n",
    "\n",
    "xgboost = getml.predictors.XGBoostClassifier(\n",
    "    max_depth=5,\n",
    "    reg_lambda=100.0,\n",
    "    learning_rate=0.1\n",
    ")\n",
    "\n",
    "pipe_1 = getml.pipeline.Pipeline(\n",
    "    tags=[\"multirel only\"],\n",
    "    population=population_placeholder,\n",
    "    peripheral=[contr_placeholder],\n",
    "    feature_learners=multirel,\n",
    "    feature_selectors=feature_selector,\n",
    "    share_selected_features=0.8,\n",
    "    predictors=xgboost,\n",
    "    include_categorical=True\n",
    ")"
   ]
  },
  {
   "cell_type": "markdown",
   "metadata": {},
   "source": [
    "It always a good idea to check before fitting. There is one minor warning: This warning means that about 12% of patients never appear in **CONTR** (presumably because they never showed up to their health check-ups)."
   ]
  },
  {
   "cell_type": "code",
   "execution_count": 7,
   "metadata": {},
   "outputs": [
    {
     "name": "stderr",
     "output_type": "stream",
     "text": [
      "INFO [JOIN KEYS NOT FOUND]: When joining  data frame 'population' and  data frame 'contr' over 'ICO' and 'ICO', there are no corresponding entries for 12.254434% of entries in 'ICO' in ' data frame 'population''. You might want to double-check your join keys.\n"
     ]
    },
    {
     "name": "stdout",
     "output_type": "stream",
     "text": [
      "Checking data model...\n"
     ]
    }
   ],
   "source": [
    "pipe_1.check(\n",
    "    population_table=population_training,\n",
    "    peripheral_tables=[contr]\n",
    ")"
   ]
  },
  {
   "cell_type": "markdown",
   "metadata": {},
   "source": [
    " "
   ]
  },
  {
   "cell_type": "markdown",
   "metadata": {},
   "source": [
    "We now **fit pipeline 1**."
   ]
  },
  {
   "cell_type": "code",
   "execution_count": 8,
   "metadata": {},
   "outputs": [
    {
     "name": "stderr",
     "output_type": "stream",
     "text": [
      "INFO [JOIN KEYS NOT FOUND]: When joining  data frame 'population' and  data frame 'contr' over 'ICO' and 'ICO', there are no corresponding entries for 12.254434% of entries in 'ICO' in ' data frame 'population''. You might want to double-check your join keys.\n"
     ]
    },
    {
     "name": "stdout",
     "output_type": "stream",
     "text": [
      "Checking data model...\n",
      "\n",
      "Multirel: Training features...\n",
      "[========================================] 100%\n",
      "\n",
      "Multirel: Building features...\n",
      "[========================================] 100%\n",
      "\n",
      "XGBoost: Training as feature selector...\n",
      "[========================================] 100%\n",
      "\n",
      "XGBoost: Training as predictor...\n",
      "[========================================] 100%\n",
      "\n",
      "Trained pipeline.\n",
      "Time taken: 0h:1m:13.470993\n",
      "\n"
     ]
    },
    {
     "data": {
      "text/html": [
       "<pre>Pipeline(preprocessors=[], feature_learners=['MultirelModel'], <br>         feature_selectors=['XGBoostClassifier'], include_categorical=True, <br>         peripheral=['contr'], population='population', <br>         predictors=['XGBoostClassifier'], tags=['multirel only'], <br>         share_selected_features=0.8)</pre><br><pre>url: <a href=\"http://localhost:1709/#/getpipeline/atherosclerosis/ShUYvf/0/\" target=\"_blank\">http://localhost:1709/#/getpipeline/atherosclerosis/ShUYvf/0/</a></pre>"
      ],
      "text/plain": [
       "Pipeline(preprocessors=[], feature_learners=['MultirelModel'], \n",
       "         feature_selectors=['XGBoostClassifier'], include_categorical=True, \n",
       "         peripheral=['contr'], population='population', \n",
       "         predictors=['XGBoostClassifier'], tags=['multirel only'], \n",
       "         share_selected_features=0.8)\n",
       "\n",
       "url: http://localhost:1709/#/getpipeline/atherosclerosis/ShUYvf/0/"
      ]
     },
     "execution_count": 8,
     "metadata": {},
     "output_type": "execute_result"
    }
   ],
   "source": [
    "pipe_1.fit(\n",
    "    population_table=population_training,\n",
    "    peripheral_tables=[contr]\n",
    ")"
   ]
  },
  {
   "cell_type": "markdown",
   "metadata": {},
   "source": [
    "As we can see, this takes around one minute."
   ]
  },
  {
   "cell_type": "markdown",
   "metadata": {},
   "source": [
    " "
   ]
  },
  {
   "cell_type": "markdown",
   "metadata": {},
   "source": [
    "### 2.3 Relational learning using RelboostModel"
   ]
  },
  {
   "cell_type": "markdown",
   "metadata": {},
   "source": [
    "Let's see how well Relboost does. This algorithm has linear complexity in the number of columns."
   ]
  },
  {
   "cell_type": "code",
   "execution_count": 9,
   "metadata": {},
   "outputs": [],
   "source": [
    "relboost = getml.feature_learning.RelboostModel(\n",
    "    num_features=30,\n",
    "    loss_function=getml.feature_learning.loss_functions.CrossEntropyLoss,\n",
    "    min_num_samples=500,\n",
    "    max_depth=2,\n",
    "    num_threads=1\n",
    ")\n",
    "\n",
    "# We reuse the `xgboost` classifier from above\n",
    "\n",
    "pipe_2 = getml.pipeline.Pipeline(\n",
    "    tags=[\"relboost only\"],\n",
    "    population=population_placeholder,\n",
    "    peripheral=[contr_placeholder],\n",
    "    feature_learners=relboost,\n",
    "    feature_selectors=feature_selector,\n",
    "    share_selected_features=0.8,    \n",
    "    predictors=xgboost,\n",
    "    include_categorical=True\n",
    ")\n",
    "\n"
   ]
  },
  {
   "cell_type": "markdown",
   "metadata": {},
   "source": [
    "We now fit pipeline 2."
   ]
  },
  {
   "cell_type": "code",
   "execution_count": 10,
   "metadata": {},
   "outputs": [
    {
     "name": "stderr",
     "output_type": "stream",
     "text": [
      "INFO [JOIN KEYS NOT FOUND]: When joining  data frame 'population' and  data frame 'contr' over 'ICO' and 'ICO', there are no corresponding entries for 12.254434% of entries in 'ICO' in ' data frame 'population''. You might want to double-check your join keys.\n"
     ]
    },
    {
     "name": "stdout",
     "output_type": "stream",
     "text": [
      "Checking data model...\n",
      "\n",
      "Relboost: Training features...\n",
      "[========================================] 100%\n",
      "\n",
      "Relboost: Building features...\n",
      "[========================================] 100%\n",
      "\n",
      "XGBoost: Training as feature selector...\n",
      "[========================================] 100%\n",
      "\n",
      "XGBoost: Training as predictor...\n",
      "[========================================] 100%\n",
      "\n",
      "Trained pipeline.\n",
      "Time taken: 0h:0m:48.634817\n",
      "\n"
     ]
    },
    {
     "data": {
      "text/html": [
       "<pre>Pipeline(preprocessors=[], feature_learners=['RelboostModel'], <br>         feature_selectors=['XGBoostClassifier'], include_categorical=True, <br>         peripheral=['contr'], population='population', <br>         predictors=['XGBoostClassifier'], tags=['relboost only'], <br>         share_selected_features=0.8)</pre><br><pre>url: <a href=\"http://localhost:1709/#/getpipeline/atherosclerosis/xoBg0O/0/\" target=\"_blank\">http://localhost:1709/#/getpipeline/atherosclerosis/xoBg0O/0/</a></pre>"
      ],
      "text/plain": [
       "Pipeline(preprocessors=[], feature_learners=['RelboostModel'], \n",
       "         feature_selectors=['XGBoostClassifier'], include_categorical=True, \n",
       "         peripheral=['contr'], population='population', \n",
       "         predictors=['XGBoostClassifier'], tags=['relboost only'], \n",
       "         share_selected_features=0.8)\n",
       "\n",
       "url: http://localhost:1709/#/getpipeline/atherosclerosis/xoBg0O/0/"
      ]
     },
     "execution_count": 10,
     "metadata": {},
     "output_type": "execute_result"
    }
   ],
   "source": [
    "pipe_2.fit(\n",
    "    population_table=population_training,\n",
    "    peripheral_tables=[contr]\n",
    ")"
   ]
  },
  {
   "cell_type": "markdown",
   "metadata": {},
   "source": [
    "Note that this runs through in well under a minute. This demonstrates the power of computational complexity theory. If we had more columns, the difference between these two algorithms would become even more noticable."
   ]
  },
  {
   "cell_type": "markdown",
   "metadata": {},
   "source": [
    " "
   ]
  },
  {
   "cell_type": "markdown",
   "metadata": {},
   "source": [
    "### 2.4 Relational learning using MultirelModel & RelboostModel\n",
    "\n",
    "As MultirelModel and RelboostModel have distinct benefits, we can use both algorithms to build a feature ensemble."
   ]
  },
  {
   "cell_type": "code",
   "execution_count": 11,
   "metadata": {},
   "outputs": [],
   "source": [
    "# We reuse `multirel`, `relboost` and `xgboost` from above:\n",
    "\n",
    "pipe_3 = getml.pipeline.Pipeline(\n",
    "    tags=[\"both multirel and relboost\"],\n",
    "    population=population_placeholder,\n",
    "    peripheral=[contr_placeholder],\n",
    "    feature_learners=[multirel, relboost],\n",
    "    feature_selectors=feature_selector,\n",
    "    share_selected_features=0.8,\n",
    "    predictors=xgboost,\n",
    "    include_categorical=True\n",
    ")"
   ]
  },
  {
   "cell_type": "markdown",
   "metadata": {},
   "source": [
    "We now fit pipeline 3."
   ]
  },
  {
   "cell_type": "code",
   "execution_count": 12,
   "metadata": {},
   "outputs": [
    {
     "name": "stderr",
     "output_type": "stream",
     "text": [
      "INFO [JOIN KEYS NOT FOUND]: When joining  data frame 'population' and  data frame 'contr' over 'ICO' and 'ICO', there are no corresponding entries for 12.254434% of entries in 'ICO' in ' data frame 'population''. You might want to double-check your join keys.\n"
     ]
    },
    {
     "name": "stdout",
     "output_type": "stream",
     "text": [
      "Checking data model...\n",
      "\n",
      "Retrieving features (because a similar feature learner has already been fitted)...\n",
      "[========================================] 100%\n",
      "\n",
      "Retrieving features (because a similar feature learner has already been fitted)...\n",
      "[========================================] 100%\n",
      "\n",
      "Multirel: Building features...\n",
      "[========================================] 100%\n",
      "\n",
      "Relboost: Building features...\n",
      "[========================================] 100%\n",
      "\n",
      "XGBoost: Training as feature selector...\n",
      "[========================================] 100%\n",
      "\n",
      "XGBoost: Training as predictor...\n",
      "[========================================] 100%\n",
      "\n",
      "Trained pipeline.\n",
      "Time taken: 0h:0m:10.322277\n",
      "\n"
     ]
    },
    {
     "data": {
      "text/html": [
       "<pre>Pipeline(preprocessors=[], feature_learners=['MultirelModel', 'RelboostModel'], <br>         feature_selectors=['XGBoostClassifier'], include_categorical=True, <br>         peripheral=['contr'], population='population', <br>         predictors=['XGBoostClassifier'], <br>         tags=['both multirel and relboost'], share_selected_features=0.8)</pre><br><pre>url: <a href=\"http://localhost:1709/#/getpipeline/atherosclerosis/QYxrBv/0/\" target=\"_blank\">http://localhost:1709/#/getpipeline/atherosclerosis/QYxrBv/0/</a></pre>"
      ],
      "text/plain": [
       "Pipeline(preprocessors=[], feature_learners=['MultirelModel', 'RelboostModel'], \n",
       "         feature_selectors=['XGBoostClassifier'], include_categorical=True, \n",
       "         peripheral=['contr'], population='population', \n",
       "         predictors=['XGBoostClassifier'], \n",
       "         tags=['both multirel and relboost'], share_selected_features=0.8)\n",
       "\n",
       "url: http://localhost:1709/#/getpipeline/atherosclerosis/QYxrBv/0/"
      ]
     },
     "execution_count": 12,
     "metadata": {},
     "output_type": "execute_result"
    }
   ],
   "source": [
    "pipe_3.fit(\n",
    "    population_table=population_training,\n",
    "    peripheral_tables=[contr]\n",
    ")"
   ]
  },
  {
   "cell_type": "markdown",
   "metadata": {},
   "source": [
    " "
   ]
  },
  {
   "cell_type": "markdown",
   "metadata": {},
   "source": [
    "### 2.5 Model evaluation"
   ]
  },
  {
   "cell_type": "code",
   "execution_count": 13,
   "metadata": {},
   "outputs": [
    {
     "name": "stdout",
     "output_type": "stream",
     "text": [
      "\n",
      "Multirel: Building features...\n",
      "[========================================] 100%\n",
      "\n",
      "\n",
      "Multirel: Building features...\n",
      "[========================================] 100%\n",
      "\n",
      "\n",
      "Relboost: Building features...\n",
      "[========================================] 100%\n",
      "\n",
      "\n",
      "Relboost: Building features...\n",
      "[========================================] 100%\n",
      "\n",
      "\n",
      "Multirel: Building features...\n",
      "[========================================] 100%\n",
      "\n",
      "Relboost: Building features...\n",
      "[========================================] 100%\n",
      "\n",
      "\n",
      "Multirel: Building features...\n",
      "[========================================] 100%\n",
      "\n",
      "Relboost: Building features...\n",
      "[========================================] 100%\n",
      "\n"
     ]
    }
   ],
   "source": [
    "score_1_train = pipe_1.score(\n",
    "    population_table=population_training,\n",
    "    peripheral_tables=[contr]\n",
    ")\n",
    "score_1_test = pipe_1.score(\n",
    "    population_table=population_testing,\n",
    "    peripheral_tables=[contr]\n",
    ")\n",
    "\n",
    "score_2_train = pipe_2.score(\n",
    "    population_table=population_training,\n",
    "    peripheral_tables=[contr]\n",
    ")\n",
    "score_2_test = pipe_2.score(\n",
    "    population_table=population_testing,\n",
    "    peripheral_tables=[contr]\n",
    ")\n",
    "\n",
    "score_3_train = pipe_3.score(\n",
    "    population_table=population_training,\n",
    "    peripheral_tables=[contr]\n",
    ")\n",
    "score_3_test = pipe_3.score(\n",
    "    population_table=population_testing,\n",
    "    peripheral_tables=[contr]\n",
    ")"
   ]
  },
  {
   "cell_type": "code",
   "execution_count": 14,
   "metadata": {},
   "outputs": [
    {
     "data": {
      "text/html": [
       "<table class=\"dataframe\"><thead><tr style=\"border-bottom:1pt solid LightGray;\"><th style=\"text-align: left;border-right:1pt solid LightGray;\"> </th><th style=\"text-align: right;\">date time          </th><th style=\"text-align: right;\">set used             </th><th style=\"text-align: right;\">target</th><th style=\"text-align: right;\">accuracy</th><th style=\"text-align: right;\">     auc</th><th style=\"text-align: right;\">cross entropy</th></tr></thead><tbody><tr style=\"border-top:1pt solid LightGray;\"><td style=\"border-right:1pt solid LightGray;\"><b>0</b></td><td>2020-12-31 10:00:49</td><td>population_train     </td><td>TARGET</td><td> 0.98729</td><td> 0.85056</td><td>      0.05793</td></tr><tr><td style=\"border-right:1pt solid LightGray;\"><b>1</b></td><td>2020-12-31 10:00:49</td><td>population_validation</td><td>TARGET</td><td> 0.98617</td><td> 0.67974</td><td>      0.07132</td></tr></tbody></table>"
      ],
      "text/plain": [
       "    date time             set used                target   accuracy        auc   cross entropy\n",
       "0   2020-12-31 10:00:49   population_train        TARGET    0.98729    0.85056         0.05793\n",
       "1   2020-12-31 10:00:49   population_validation   TARGET    0.98617    0.67974         0.07132"
      ]
     },
     "execution_count": 14,
     "metadata": {},
     "output_type": "execute_result"
    }
   ],
   "source": [
    "pipe_1.scores"
   ]
  },
  {
   "cell_type": "code",
   "execution_count": 15,
   "metadata": {},
   "outputs": [
    {
     "data": {
      "text/html": [
       "<table class=\"dataframe\"><thead><tr style=\"border-bottom:1pt solid LightGray;\"><th style=\"text-align: left;border-right:1pt solid LightGray;\"> </th><th style=\"text-align: right;\">date time          </th><th style=\"text-align: right;\">set used             </th><th style=\"text-align: right;\">target</th><th style=\"text-align: right;\">accuracy</th><th style=\"text-align: right;\">     auc</th><th style=\"text-align: right;\">cross entropy</th></tr></thead><tbody><tr style=\"border-top:1pt solid LightGray;\"><td style=\"border-right:1pt solid LightGray;\"><b>0</b></td><td>2020-12-31 10:00:49</td><td>population_train     </td><td>TARGET</td><td> 0.98714</td><td> 0.86785</td><td>      0.05605</td></tr><tr><td style=\"border-right:1pt solid LightGray;\"><b>1</b></td><td>2020-12-31 10:00:50</td><td>population_validation</td><td>TARGET</td><td> 0.98617</td><td> 0.74285</td><td>      0.06824</td></tr></tbody></table>"
      ],
      "text/plain": [
       "    date time             set used                target   accuracy        auc   cross entropy\n",
       "0   2020-12-31 10:00:49   population_train        TARGET    0.98714    0.86785         0.05605\n",
       "1   2020-12-31 10:00:50   population_validation   TARGET    0.98617    0.74285         0.06824"
      ]
     },
     "execution_count": 15,
     "metadata": {},
     "output_type": "execute_result"
    }
   ],
   "source": [
    "pipe_2.scores"
   ]
  },
  {
   "cell_type": "code",
   "execution_count": 16,
   "metadata": {},
   "outputs": [
    {
     "data": {
      "text/html": [
       "<table class=\"dataframe\"><thead><tr style=\"border-bottom:1pt solid LightGray;\"><th style=\"text-align: left;border-right:1pt solid LightGray;\"> </th><th style=\"text-align: right;\">date time          </th><th style=\"text-align: right;\">set used             </th><th style=\"text-align: right;\">target</th><th style=\"text-align: right;\">accuracy</th><th style=\"text-align: right;\">     auc</th><th style=\"text-align: right;\">cross entropy</th></tr></thead><tbody><tr style=\"border-top:1pt solid LightGray;\"><td style=\"border-right:1pt solid LightGray;\"><b>0</b></td><td>2020-12-31 10:00:51</td><td>population_train     </td><td>TARGET</td><td> 0.98744</td><td> 0.88063</td><td>      0.05454</td></tr><tr><td style=\"border-right:1pt solid LightGray;\"><b>1</b></td><td>2020-12-31 10:00:51</td><td>population_validation</td><td>TARGET</td><td> 0.98617</td><td> 0.74860</td><td>      0.06812</td></tr></tbody></table>"
      ],
      "text/plain": [
       "    date time             set used                target   accuracy        auc   cross entropy\n",
       "0   2020-12-31 10:00:51   population_train        TARGET    0.98744    0.88063         0.05454\n",
       "1   2020-12-31 10:00:51   population_validation   TARGET    0.98617    0.74860         0.06812"
      ]
     },
     "execution_count": 16,
     "metadata": {},
     "output_type": "execute_result"
    }
   ],
   "source": [
    "pipe_3.scores"
   ]
  },
  {
   "cell_type": "markdown",
   "metadata": {},
   "source": [
    " "
   ]
  },
  {
   "cell_type": "markdown",
   "metadata": {},
   "source": [
    "### 2.6 Studying the features\n",
    "\n",
    "It is always a good idea to study the features generated by the algorithms."
   ]
  },
  {
   "cell_type": "code",
   "execution_count": 17,
   "metadata": {},
   "outputs": [
    {
     "data": {
      "image/png": "[encoded data removed]",
      "text/plain": [
       "<Figure size 1440x720 with 1 Axes>"
      ]
     },
     "metadata": {
      "needs_background": "light"
     },
     "output_type": "display_data"
    }
   ],
   "source": [
    "names, correlations = pipe_3.features.correlations()\n",
    "\n",
    "plt.subplots(figsize=(20, 10))\n",
    "\n",
    "plt.bar(names, correlations, color='#6829c2')\n",
    "\n",
    "plt.title(\"feature correlations\")\n",
    "plt.grid(True)\n",
    "plt.xlabel(\"features\")\n",
    "plt.ylabel(\"correlations\")\n",
    "plt.xticks(rotation='vertical')\n",
    "\n",
    "plt.show()"
   ]
  },
  {
   "cell_type": "code",
   "execution_count": 18,
   "metadata": {},
   "outputs": [
    {
     "data": {
      "image/png": "[encoded data removed]",
      "text/plain": [
       "<Figure size 1440x720 with 1 Axes>"
      ]
     },
     "metadata": {
      "needs_background": "light"
     },
     "output_type": "display_data"
    }
   ],
   "source": [
    "names, importances = pipe_3.features.importances()\n",
    "\n",
    "plt.subplots(figsize=(20, 10))\n",
    "\n",
    "plt.bar(names, importances, color='#6829c2')\n",
    "\n",
    "plt.title(\"feature importances\")\n",
    "plt.grid(True)\n",
    "plt.xlabel(\"features\")\n",
    "plt.ylabel(\"importances\")\n",
    "plt.xticks(rotation='vertical')\n",
    "\n",
    "\n",
    "plt.show()"
   ]
  },
  {
   "cell_type": "code",
   "execution_count": 19,
   "metadata": {},
   "outputs": [],
   "source": [
    "names_multirel = [name for name in names if name.startswith(\"feature_1_\")]\n",
    "names_relboost = [name for name in names if name.startswith(\"feature_2_\")]"
   ]
  },
  {
   "cell_type": "markdown",
   "metadata": {},
   "source": [
    "As we can see from these figures we need many features to get a good result. No single feature is very correlated with the target and the feature importance is not concentrated on a small number of features (as is often the case with other data sets).\n",
    "\n",
    "This implies that the many columns in the data set are actually needed. The reason we emphasize that is that we sometimes see data sets with many columns, but after analyzing them we find and only a handful of these columns are actually needed. This is not one of these times."
   ]
  },
  {
   "cell_type": "markdown",
   "metadata": {},
   "source": [
    " "
   ]
  },
  {
   "cell_type": "markdown",
   "metadata": {},
   "source": [
    "__Multirel Feature:__"
   ]
  },
  {
   "cell_type": "code",
   "execution_count": 20,
   "metadata": {},
   "outputs": [
    {
     "data": {
      "text/markdown": [
       "```sql\n",
       "DROP TABLE IF EXISTS \"FEATURE_1_26\";\n",
       "\n",
       "CREATE TABLE \"FEATURE_1_26\" AS\n",
       "SELECT MIN( ( julianday( t1.\"ENTRY_DATE\" ) - julianday( t2.\"CONTROL_DATE\" ) ) * 86400.0 ) AS \"feature_1_26\",\n",
       "       t1.rowid AS \"rownum\"\n",
       "FROM \"population\" t1\n",
       "LEFT JOIN \"contr\" t2\n",
       "ON t1.\"ICO\" = t2.\"ICO\"\n",
       "WHERE ( julianday( t2.\"CONTROL_DATE\" ) <= julianday( t1.\"REFERENCE_DATE\" )\n",
       ") AND (\n",
       "   ( ( t2.\"POCCIG\" NOT IN ( '12.0', '8.0', '18.0' ) ) AND ( t1.\"DIAST2\" <= 56.000000 ) AND ( t2.\"ZMKOUR\" IN ( '7' ) ) )\n",
       "OR ( ( t2.\"POCCIG\" IN ( '12.0', '8.0', '18.0' ) ) AND ( t1.\"ZODPOV\" IN ( '3' ) ) AND ( t2.\"HYPCHL\" NOT IN ( '1.0' ) ) AND ( t2.\"HMOT\" <= 84.000000 ) )\n",
       "OR ( ( t2.\"POCCIG\" IN ( '12.0', '8.0', '18.0' ) ) AND ( t1.\"ZODPOV\" IN ( '3' ) ) AND ( t2.\"HYPCHL\" IN ( '1.0' ) ) AND ( t2.\"ZMKOUR\" IN ( '1' ) ) )\n",
       ")\n",
       "GROUP BY t1.rowid;\n",
       "```"
      ],
      "text/plain": [
       "DROP TABLE IF EXISTS \"FEATURE_1_26\";\n",
       "\n",
       "CREATE TABLE \"FEATURE_1_26\" AS\n",
       "SELECT MIN( ( julianday( t1.\"ENTRY_DATE\" ) - julianday( t2.\"CONTROL_DATE\" ) ) * 86400.0 ) AS \"feature_1_26\",\n",
       "       t1.rowid AS \"rownum\"\n",
       "FROM \"population\" t1\n",
       "LEFT JOIN \"contr\" t2\n",
       "ON t1.\"ICO\" = t2.\"ICO\"\n",
       "WHERE ( julianday( t2.\"CONTROL_DATE\" ) <= julianday( t1.\"REFERENCE_DATE\" )\n",
       ") AND (\n",
       "   ( ( t2.\"POCCIG\" NOT IN ( '12.0', '8.0', '18.0' ) ) AND ( t1.\"DIAST2\" <= 56.000000 ) AND ( t2.\"ZMKOUR\" IN ( '7' ) ) )\n",
       "OR ( ( t2.\"POCCIG\" IN ( '12.0', '8.0', '18.0' ) ) AND ( t1.\"ZODPOV\" IN ( '3' ) ) AND ( t2.\"HYPCHL\" NOT IN ( '1.0' ) ) AND ( t2.\"HMOT\" <= 84.000000 ) )\n",
       "OR ( ( t2.\"POCCIG\" IN ( '12.0', '8.0', '18.0' ) ) AND ( t1.\"ZODPOV\" IN ( '3' ) ) AND ( t2.\"HYPCHL\" IN ( '1.0' ) ) AND ( t2.\"ZMKOUR\" IN ( '1' ) ) )\n",
       ")\n",
       "GROUP BY t1.rowid;"
      ]
     },
     "execution_count": 20,
     "metadata": {},
     "output_type": "execute_result"
    }
   ],
   "source": [
    "pipe_3.features.to_sql()[names_multirel[0]]"
   ]
  },
  {
   "cell_type": "markdown",
   "metadata": {},
   "source": [
    " "
   ]
  },
  {
   "cell_type": "markdown",
   "metadata": {},
   "source": [
    "__Relboost Feature:__"
   ]
  },
  {
   "cell_type": "code",
   "execution_count": 21,
   "metadata": {},
   "outputs": [
    {
     "data": {
      "text/markdown": [
       "```sql\n",
       "DROP TABLE IF EXISTS \"FEATURE_2_3\";\n",
       "\n",
       "CREATE TABLE \"FEATURE_2_3\" AS\n",
       "SELECT SUM( \n",
       "    CASE\n",
       "        WHEN ( t2.\"ZMKOUR\" IN ( '4', '1', '2', '8' ) ) AND ( julianday( t1.\"REFERENCE_DATE\" ) > julianday( t2.\"CONTROL_DATE\", '+1091.572011 days' ) ) THEN 0.05909859792580215\n",
       "        WHEN ( t2.\"ZMKOUR\" IN ( '4', '1', '2', '8' ) ) AND ( julianday( t1.\"REFERENCE_DATE\" ) <= julianday( t2.\"CONTROL_DATE\", '+1091.572011 days' ) OR julianday( t1.\"REFERENCE_DATE\" ) IS NULL OR julianday( t2.\"CONTROL_DATE\", '+1091.572011 days' ) IS NULL ) THEN -0.4291925543884076\n",
       "        WHEN ( t2.\"ZMKOUR\" NOT IN ( '4', '1', '2', '8' ) ) AND ( t2.\"PRACNES\" IN ( '2' ) ) THEN 0.08544758135270356\n",
       "        WHEN ( t2.\"ZMKOUR\" NOT IN ( '4', '1', '2', '8' ) ) AND ( t2.\"PRACNES\" NOT IN ( '2' ) ) THEN 1.681952470461793\n",
       "        ELSE NULL\n",
       "    END\n",
       ") AS \"feature_2_3\",\n",
       "     t1.rowid AS \"rownum\"\n",
       "FROM \"population\" t1\n",
       "LEFT JOIN \"contr\" t2\n",
       "ON t1.\"ICO\" = t2.\"ICO\"\n",
       "WHERE julianday( t2.\"CONTROL_DATE\" ) <= julianday( t1.\"REFERENCE_DATE\" )\n",
       "GROUP BY t1.rowid;\n",
       "```"
      ],
      "text/plain": [
       "DROP TABLE IF EXISTS \"FEATURE_2_3\";\n",
       "\n",
       "CREATE TABLE \"FEATURE_2_3\" AS\n",
       "SELECT SUM( \n",
       "    CASE\n",
       "        WHEN ( t2.\"ZMKOUR\" IN ( '4', '1', '2', '8' ) ) AND ( julianday( t1.\"REFERENCE_DATE\" ) > julianday( t2.\"CONTROL_DATE\", '+1091.572011 days' ) ) THEN 0.05909859792580215\n",
       "        WHEN ( t2.\"ZMKOUR\" IN ( '4', '1', '2', '8' ) ) AND ( julianday( t1.\"REFERENCE_DATE\" ) <= julianday( t2.\"CONTROL_DATE\", '+1091.572011 days' ) OR julianday( t1.\"REFERENCE_DATE\" ) IS NULL OR julianday( t2.\"CONTROL_DATE\", '+1091.572011 days' ) IS NULL ) THEN -0.4291925543884076\n",
       "        WHEN ( t2.\"ZMKOUR\" NOT IN ( '4', '1', '2', '8' ) ) AND ( t2.\"PRACNES\" IN ( '2' ) ) THEN 0.08544758135270356\n",
       "        WHEN ( t2.\"ZMKOUR\" NOT IN ( '4', '1', '2', '8' ) ) AND ( t2.\"PRACNES\" NOT IN ( '2' ) ) THEN 1.681952470461793\n",
       "        ELSE NULL\n",
       "    END\n",
       ") AS \"feature_2_3\",\n",
       "     t1.rowid AS \"rownum\"\n",
       "FROM \"population\" t1\n",
       "LEFT JOIN \"contr\" t2\n",
       "ON t1.\"ICO\" = t2.\"ICO\"\n",
       "WHERE julianday( t2.\"CONTROL_DATE\" ) <= julianday( t1.\"REFERENCE_DATE\" )\n",
       "GROUP BY t1.rowid;"
      ]
     },
     "execution_count": 21,
     "metadata": {},
     "output_type": "execute_result"
    }
   ],
   "source": [
    "pipe_3.features.to_sql()[names_relboost[0]]"
   ]
  },
  {
   "cell_type": "markdown",
   "metadata": {},
   "source": [
    " "
   ]
  },
  {
   "cell_type": "markdown",
   "metadata": {},
   "source": [
    "## 3. Conclusion\n",
    "\n",
    "__Outcome:__\n",
    "\n",
    "| Feature learner | AUC (training) | AUC (testing) | Runtime  |\n",
    "| :--- | :--- | :--- | ---: |\n",
    "| Multirel | 0.8506 | 0.6797 | 0h:1m:07s |\n",
    "| Relboost | 0.8679 | 0.7429 | 0h:0m:43s |\n",
    "| Multirel + Relboost | 0.8806 | 0.7486 | 0h:1m:41s |\n",
    "\n",
    "_performance & runtime measured on mybinder cluster_\n",
    "<br>\n",
    "\n",
    "The runtime benchmark between Multirel & Relboost on the same dataset demonstrates the problem of computational complexity in practice. We find:\n",
    "\n",
    "* Multirel takes about 3-4 times as long as Relboost to learn the same number of features.\n",
    "* Multirel and Relboost have unique advantages. It is always a good idea to try to combine them.\n",
    "* It is pure coincidence that Relboost outperforms Multirel. Changing the dataset or the hyperparameters will likely affect the ranking.\n",
    "* Note that the AUC differs significantly between training and testing. This is due to overfitting effects. In a real-world application, you will likely start tuning your hyperparameters to reduce overfitting.\n",
    "\n",
    "The purpose of this notebook has been to illustrate the problem of the curse of dimensionality when engineering features from datasets with many columns.\n",
    "\n",
    "The most important thing to remember is that this problem exists regardless of whether you engineer your features manually or using algorithms. Whether you like it or not: If you write your features in the traditional way, your search space grows quadratically with the number of columns."
   ]
  },
  {
   "cell_type": "markdown",
   "metadata": {},
   "source": [
    " "
   ]
  },
  {
   "cell_type": "markdown",
   "metadata": {},
   "source": [
    "# Next Steps\n",
    "\n",
    "This tutorial went through the basics of the feature learning algorithms Multirel and Relboost. If you want to learn more about getML, here are some additional tutorials and articles that will help you:\n",
    "\n",
    "__Tutorials:__\n",
    "* [Loan default prediction: Introduction to relational learning](loans_demo.ipynb)\n",
    "* [Occupancy detection: A multivariate time series example](occupancy_demo.ipynb)  \n",
    "* [Expenditure categorization: Why relational learning matters](consumer_expenditures_demo.ipynb)\n",
    "* [Disease lethality prediction: Feature engineering and the curse of dimensionality](atherosclerosis_demo.ipynb)\n",
    "* [Traffic volume prediction: Feature engineering on multivariate time series](interstate94_demo.ipynb)\n",
    "* [Air pollution prediction: Why feature learning outperforms brute-force approaches](air_pollution_demo.ipynb) \n",
    "\n",
    "__User Guides__ (from our [documentation](https://docs.getml.com/latest/)):\n",
    "* [Feature learning with Multirel](https://docs.getml.com/latest/user_guide/feature_engineering/feature_engineering.html#multirel)\n",
    "* [Feature learning with Relboost](https://docs.getml.com/latest/user_guide/feature_engineering/feature_engineering.html#relboost)\n",
    "\n",
    "While this tutorial focuses on the new aspects when working with getML, some more steps were required to prepare the raw data in its relational format. You will find the full analysis on Github in our [getml-examples](https://github.com/getml/getml-examples) repository.\n"
   ]
  },
  {
   "cell_type": "markdown",
   "metadata": {},
   "source": [
    " "
   ]
  },
  {
   "cell_type": "markdown",
   "metadata": {},
   "source": [
    "# Get in contact\n",
    "\n",
    "If you have any question schedule a [call with Alex](https://go.getml.com/meetings/alexander-uhlig/getml-demo), the co-founder of getML, or write us an [email](team@getml.com). Prefer a private demo of getML? Just contact us to make an appointment."
   ]
  },
  {
   "cell_type": "markdown",
   "metadata": {},
   "source": [
    " "
   ]
  }
 ],
 "metadata": {
  "kernelspec": {
   "display_name": "Python 3",
   "language": "python",
   "name": "python3"
  },
  "language_info": {
   "codemirror_mode": {
    "name": "ipython",
    "version": 3
   },
   "file_extension": ".py",
   "mimetype": "text/x-python",
   "name": "python",
   "nbconvert_exporter": "python",
   "pygments_lexer": "ipython3",
   "version": "3.8.5"
  }
 },
 "nbformat": 4,
 "nbformat_minor": 4
}
